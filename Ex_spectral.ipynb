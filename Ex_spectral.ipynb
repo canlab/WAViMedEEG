{
 "cells": [
  {
   "cell_type": "code",
   "execution_count": 6,
   "metadata": {},
   "outputs": [],
   "source": [
    "import Prep, os"
   ]
  },
  {
   "cell_type": "code",
   "execution_count": 7,
   "metadata": {},
   "outputs": [],
   "source": [
    "from tqdm import tqdm"
   ]
  },
  {
   "cell_type": "code",
   "execution_count": 8,
   "metadata": {},
   "outputs": [],
   "source": [
    "parentFolder = \"/wavi/EEGstudies\""
   ]
  },
  {
   "cell_type": "code",
   "execution_count": 9,
   "metadata": {},
   "outputs": [
    {
     "name": "stderr",
     "output_type": "stream",
     "text": [
      "  0%|          | 23/4615 [00:00<00:20, 227.79it/s]"
     ]
    },
    {
     "name": "stdout",
     "output_type": "stream",
     "text": [
      "Processing: ref 81+\n",
      "Fourier Transforming Data:\n",
      "====================\n"
     ]
    },
    {
     "name": "stderr",
     "output_type": "stream",
     "text": [
      "100%|██████████| 4615/4615 [00:18<00:00, 243.82it/s]\n",
      "  3%|▎         | 130/4615 [00:00<00:03, 1291.89it/s]"
     ]
    },
    {
     "name": "stdout",
     "output_type": "stream",
     "text": [
      "Writing Spectra:\n",
      "====================\n"
     ]
    },
    {
     "name": "stderr",
     "output_type": "stream",
     "text": [
      "100%|██████████| 4615/4615 [00:03<00:00, 1271.62it/s]\n",
      "  0%|          | 0/94527 [00:00<?, ?it/s]"
     ]
    },
    {
     "name": "stdout",
     "output_type": "stream",
     "text": [
      "Processing: ref 41-50\n",
      "Fourier Transforming Data:\n",
      "====================\n"
     ]
    },
    {
     "name": "stderr",
     "output_type": "stream",
     "text": [
      " 64%|██████▍   | 60691/94527 [04:16<02:30, 224.65it/s]"
     ]
    },
    {
     "name": "stdout",
     "output_type": "stream",
     "text": [
      "Something went wrong processing the following contig:\n",
      "1326 61377 None\n"
     ]
    },
    {
     "name": "stderr",
     "output_type": "stream",
     "text": [
      " 75%|███████▌  | 71263/94527 [05:02<01:36, 241.16it/s]"
     ]
    },
    {
     "name": "stdout",
     "output_type": "stream",
     "text": [
      "Something went wrong processing the following contig:\n",
      "1361 16500 None\n"
     ]
    },
    {
     "name": "stderr",
     "output_type": "stream",
     "text": [
      "100%|██████████| 94527/94527 [06:41<00:00, 235.19it/s]\n",
      "  0%|          | 126/94525 [00:00<01:15, 1253.16it/s]"
     ]
    },
    {
     "name": "stdout",
     "output_type": "stream",
     "text": [
      "Writing Spectra:\n",
      "====================\n"
     ]
    },
    {
     "name": "stderr",
     "output_type": "stream",
     "text": [
      "100%|██████████| 94525/94525 [01:17<00:00, 1222.73it/s]\n",
      "  0%|          | 25/26645 [00:00<01:49, 243.83it/s]"
     ]
    },
    {
     "name": "stdout",
     "output_type": "stream",
     "text": [
      "Processing: ref 31-40\n",
      "Fourier Transforming Data:\n",
      "====================\n"
     ]
    },
    {
     "name": "stderr",
     "output_type": "stream",
     "text": [
      "100%|██████████| 26645/26645 [01:53<00:00, 235.09it/s]\n",
      "  0%|          | 126/26645 [00:00<00:21, 1250.33it/s]"
     ]
    },
    {
     "name": "stdout",
     "output_type": "stream",
     "text": [
      "Writing Spectra:\n",
      "====================\n"
     ]
    },
    {
     "name": "stderr",
     "output_type": "stream",
     "text": [
      "100%|██████████| 26645/26645 [00:21<00:00, 1231.12it/s]\n",
      "  0%|          | 24/28528 [00:00<02:01, 235.26it/s]"
     ]
    },
    {
     "name": "stdout",
     "output_type": "stream",
     "text": [
      "Processing: ref 61-70\n",
      "Fourier Transforming Data:\n",
      "====================\n"
     ]
    },
    {
     "name": "stderr",
     "output_type": "stream",
     "text": [
      "100%|██████████| 28528/28528 [02:01<00:00, 234.06it/s]\n",
      "  0%|          | 126/28528 [00:00<00:22, 1252.99it/s]"
     ]
    },
    {
     "name": "stdout",
     "output_type": "stream",
     "text": [
      "Writing Spectra:\n",
      "====================\n"
     ]
    },
    {
     "name": "stderr",
     "output_type": "stream",
     "text": [
      "100%|██████████| 28528/28528 [00:23<00:00, 1222.57it/s]\n",
      "  0%|          | 21/43072 [00:00<03:27, 207.19it/s]"
     ]
    },
    {
     "name": "stdout",
     "output_type": "stream",
     "text": [
      "Processing: ref 24-30\n",
      "Fourier Transforming Data:\n",
      "====================\n"
     ]
    },
    {
     "name": "stderr",
     "output_type": "stream",
     "text": [
      " 89%|████████▉ | 38316/43072 [02:44<00:19, 244.28it/s]"
     ]
    },
    {
     "name": "stdout",
     "output_type": "stream",
     "text": [
      "Something went wrong processing the following contig:\n",
      "1249 61377 None\n"
     ]
    },
    {
     "name": "stderr",
     "output_type": "stream",
     "text": [
      "100%|██████████| 43072/43072 [03:04<00:00, 233.00it/s]\n",
      "  0%|          | 122/43071 [00:00<00:35, 1211.18it/s]"
     ]
    },
    {
     "name": "stdout",
     "output_type": "stream",
     "text": [
      "Writing Spectra:\n",
      "====================\n"
     ]
    },
    {
     "name": "stderr",
     "output_type": "stream",
     "text": [
      "100%|██████████| 43071/43071 [00:35<00:00, 1221.88it/s]\n",
      "  0%|          | 0/70756 [00:00<?, ?it/s]"
     ]
    },
    {
     "name": "stdout",
     "output_type": "stream",
     "text": [
      "Processing: ref 51-60\n",
      "Fourier Transforming Data:\n",
      "====================\n"
     ]
    },
    {
     "name": "stderr",
     "output_type": "stream",
     "text": [
      "100%|██████████| 70756/70756 [05:05<00:00, 231.78it/s]\n",
      "  0%|          | 120/70756 [00:00<00:58, 1198.16it/s]"
     ]
    },
    {
     "name": "stdout",
     "output_type": "stream",
     "text": [
      "Writing Spectra:\n",
      "====================\n"
     ]
    },
    {
     "name": "stderr",
     "output_type": "stream",
     "text": [
      "100%|██████████| 70756/70756 [00:57<00:00, 1225.43it/s]\n",
      "  0%|          | 20/10496 [00:00<00:54, 192.72it/s]"
     ]
    },
    {
     "name": "stdout",
     "output_type": "stream",
     "text": [
      "Processing: ref 71-80\n",
      "Fourier Transforming Data:\n",
      "====================\n"
     ]
    },
    {
     "name": "stderr",
     "output_type": "stream",
     "text": [
      "100%|██████████| 10496/10496 [00:44<00:00, 233.62it/s]\n",
      "  1%|          | 125/10496 [00:00<00:08, 1240.83it/s]"
     ]
    },
    {
     "name": "stdout",
     "output_type": "stream",
     "text": [
      "Writing Spectra:\n",
      "====================\n"
     ]
    },
    {
     "name": "stderr",
     "output_type": "stream",
     "text": [
      "100%|██████████| 10496/10496 [00:08<00:00, 1223.82it/s]\n",
      "  0%|          | 25/31791 [00:00<02:09, 244.57it/s]"
     ]
    },
    {
     "name": "stdout",
     "output_type": "stream",
     "text": [
      "Processing: ref pain\n",
      "Fourier Transforming Data:\n",
      "====================\n"
     ]
    },
    {
     "name": "stderr",
     "output_type": "stream",
     "text": [
      "100%|██████████| 31791/31791 [02:20<00:00, 226.22it/s]\n",
      "  0%|          | 122/31791 [00:00<00:26, 1214.78it/s]"
     ]
    },
    {
     "name": "stdout",
     "output_type": "stream",
     "text": [
      "Writing Spectra:\n",
      "====================\n"
     ]
    },
    {
     "name": "stderr",
     "output_type": "stream",
     "text": [
      "100%|██████████| 31791/31791 [00:27<00:00, 1167.10it/s]\n"
     ]
    }
   ],
   "source": [
    "for studyFolder in os.listdir(parentFolder):\n",
    "    if \"CANlab\" not in studyFolder:\n",
    "        print(\"Processing:\", studyFolder)\n",
    "        myp300 = Prep.TaskData(parentFolder+\"/\"+studyFolder+\"/\"+\"P300\")\n",
    "        myp300.gen_spectra(250, artDegree=1, erp=True, erpDegree=1)\n",
    "        myp300.write_spectra()"
   ]
  },
  {
   "cell_type": "code",
   "execution_count": null,
   "metadata": {},
   "outputs": [],
   "source": []
  }
 ],
 "metadata": {
  "kernelspec": {
   "display_name": "Python 3",
   "language": "python",
   "name": "python3"
  },
  "language_info": {
   "codemirror_mode": {
    "name": "ipython",
    "version": 3
   },
   "file_extension": ".py",
   "mimetype": "text/x-python",
   "name": "python",
   "nbconvert_exporter": "python",
   "pygments_lexer": "ipython3",
   "version": "3.8.5"
  }
 },
 "nbformat": 4,
 "nbformat_minor": 4
}
