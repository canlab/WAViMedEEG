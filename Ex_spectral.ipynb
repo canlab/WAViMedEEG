{
 "cells": [
  {
   "cell_type": "code",
   "execution_count": 1,
   "metadata": {},
   "outputs": [],
   "source": [
    "import Prep, os"
   ]
  },
  {
   "cell_type": "code",
   "execution_count": 2,
   "metadata": {},
   "outputs": [],
   "source": [
    "from tqdm import tqdm"
   ]
  },
  {
   "cell_type": "code",
   "execution_count": 3,
   "metadata": {},
   "outputs": [],
   "source": [
    "parentFolder = \"/wavi/EEGstudies\""
   ]
  },
  {
   "cell_type": "code",
   "execution_count": 4,
   "metadata": {},
   "outputs": [
    {
     "name": "stderr",
     "output_type": "stream",
     "text": [
      "  0%|          | 9/2220 [00:00<00:25, 86.73it/s]"
     ]
    },
    {
     "name": "stdout",
     "output_type": "stream",
     "text": [
      "Processing: ref 81+\n",
      "Couldn't create the specified spectra folder.\n",
      "\n",
      "Fourier Transforming Data:\n",
      "====================\n"
     ]
    },
    {
     "name": "stderr",
     "output_type": "stream",
     "text": [
      "100%|██████████| 2220/2220 [00:23<00:00, 93.52it/s]\n",
      "  1%|▏         | 28/2220 [00:00<00:07, 279.44it/s]"
     ]
    },
    {
     "name": "stdout",
     "output_type": "stream",
     "text": [
      "Writing Spectra:\n",
      "====================\n"
     ]
    },
    {
     "name": "stderr",
     "output_type": "stream",
     "text": [
      "100%|██████████| 2220/2220 [00:07<00:00, 298.79it/s]\n",
      "  0%|          | 10/17785 [00:00<03:04, 96.24it/s]"
     ]
    },
    {
     "name": "stdout",
     "output_type": "stream",
     "text": [
      "Processing: ref 41-50\n",
      "Couldn't create the specified spectra folder.\n",
      "\n",
      "Fourier Transforming Data:\n",
      "====================\n"
     ]
    },
    {
     "name": "stderr",
     "output_type": "stream",
     "text": [
      "100%|██████████| 17785/17785 [03:09<00:00, 94.03it/s]\n",
      "  0%|          | 29/17785 [00:00<01:01, 287.18it/s]"
     ]
    },
    {
     "name": "stdout",
     "output_type": "stream",
     "text": [
      "Writing Spectra:\n",
      "====================\n"
     ]
    },
    {
     "name": "stderr",
     "output_type": "stream",
     "text": [
      "100%|██████████| 17785/17785 [00:59<00:00, 297.53it/s]\n",
      "  0%|          | 10/9593 [00:00<01:40, 95.83it/s]"
     ]
    },
    {
     "name": "stdout",
     "output_type": "stream",
     "text": [
      "Processing: ref 31-40\n",
      "Couldn't create the specified spectra folder.\n",
      "\n",
      "Fourier Transforming Data:\n",
      "====================\n"
     ]
    },
    {
     "name": "stderr",
     "output_type": "stream",
     "text": [
      "100%|██████████| 9593/9593 [01:42<00:00, 93.85it/s]\n",
      "  0%|          | 30/9593 [00:00<00:31, 299.38it/s]"
     ]
    },
    {
     "name": "stdout",
     "output_type": "stream",
     "text": [
      "Writing Spectra:\n",
      "====================\n"
     ]
    },
    {
     "name": "stderr",
     "output_type": "stream",
     "text": [
      "100%|██████████| 9593/9593 [00:32<00:00, 298.32it/s]\n",
      "  0%|          | 10/11131 [00:00<02:01, 91.42it/s]"
     ]
    },
    {
     "name": "stdout",
     "output_type": "stream",
     "text": [
      "Processing: ref 61-70\n",
      "Couldn't create the specified spectra folder.\n",
      "\n",
      "Fourier Transforming Data:\n",
      "====================\n"
     ]
    },
    {
     "name": "stderr",
     "output_type": "stream",
     "text": [
      "100%|██████████| 11131/11131 [01:57<00:00, 94.65it/s]\n",
      "  0%|          | 30/11131 [00:00<00:37, 298.90it/s]"
     ]
    },
    {
     "name": "stdout",
     "output_type": "stream",
     "text": [
      "Writing Spectra:\n",
      "====================\n"
     ]
    },
    {
     "name": "stderr",
     "output_type": "stream",
     "text": [
      "100%|██████████| 11131/11131 [00:37<00:00, 298.21it/s]\n",
      "  0%|          | 9/13066 [00:00<02:26, 89.10it/s]"
     ]
    },
    {
     "name": "stdout",
     "output_type": "stream",
     "text": [
      "Processing: ref 24-30\n",
      "Couldn't create the specified spectra folder.\n",
      "\n",
      "Fourier Transforming Data:\n",
      "====================\n"
     ]
    },
    {
     "name": "stderr",
     "output_type": "stream",
     "text": [
      "100%|██████████| 13066/13066 [02:17<00:00, 94.69it/s]\n",
      "  0%|          | 29/13066 [00:00<00:45, 284.95it/s]"
     ]
    },
    {
     "name": "stdout",
     "output_type": "stream",
     "text": [
      "Writing Spectra:\n",
      "====================\n"
     ]
    },
    {
     "name": "stderr",
     "output_type": "stream",
     "text": [
      "100%|██████████| 13066/13066 [00:43<00:00, 298.77it/s]\n",
      "  0%|          | 10/23945 [00:00<04:12, 94.97it/s]"
     ]
    },
    {
     "name": "stdout",
     "output_type": "stream",
     "text": [
      "Processing: ref 51-60\n",
      "Couldn't create the specified spectra folder.\n",
      "\n",
      "Fourier Transforming Data:\n",
      "====================\n"
     ]
    },
    {
     "name": "stderr",
     "output_type": "stream",
     "text": [
      "100%|██████████| 23945/23945 [04:13<00:00, 94.33it/s]\n",
      "  0%|          | 30/23945 [00:00<01:20, 297.91it/s]"
     ]
    },
    {
     "name": "stdout",
     "output_type": "stream",
     "text": [
      "Writing Spectra:\n",
      "====================\n"
     ]
    },
    {
     "name": "stderr",
     "output_type": "stream",
     "text": [
      "100%|██████████| 23945/23945 [01:20<00:00, 296.27it/s]\n",
      "  0%|          | 10/4447 [00:00<00:48, 91.29it/s]"
     ]
    },
    {
     "name": "stdout",
     "output_type": "stream",
     "text": [
      "Processing: ref 71-80\n",
      "Couldn't create the specified spectra folder.\n",
      "\n",
      "Fourier Transforming Data:\n",
      "====================\n"
     ]
    },
    {
     "name": "stderr",
     "output_type": "stream",
     "text": [
      "100%|██████████| 4447/4447 [00:47<00:00, 93.54it/s]\n",
      "  1%|          | 30/4447 [00:00<00:14, 297.53it/s]"
     ]
    },
    {
     "name": "stdout",
     "output_type": "stream",
     "text": [
      "Writing Spectra:\n",
      "====================\n"
     ]
    },
    {
     "name": "stderr",
     "output_type": "stream",
     "text": [
      "100%|██████████| 4447/4447 [00:14<00:00, 297.46it/s]\n",
      "  1%|          | 10/1209 [00:00<00:12, 95.43it/s]"
     ]
    },
    {
     "name": "stdout",
     "output_type": "stream",
     "text": [
      "Processing: CANlab\n",
      "Couldn't create the specified spectra folder.\n",
      "\n",
      "Fourier Transforming Data:\n",
      "====================\n"
     ]
    },
    {
     "name": "stderr",
     "output_type": "stream",
     "text": [
      "100%|██████████| 1209/1209 [00:12<00:00, 94.54it/s]\n",
      "  2%|▏         | 30/1209 [00:00<00:03, 299.98it/s]"
     ]
    },
    {
     "name": "stdout",
     "output_type": "stream",
     "text": [
      "Writing Spectra:\n",
      "====================\n"
     ]
    },
    {
     "name": "stderr",
     "output_type": "stream",
     "text": [
      "100%|██████████| 1209/1209 [00:04<00:00, 297.81it/s]\n",
      "  0%|          | 10/17597 [00:00<03:10, 92.47it/s]"
     ]
    },
    {
     "name": "stdout",
     "output_type": "stream",
     "text": [
      "Processing: ref pain\n",
      "Couldn't create the specified spectra folder.\n",
      "\n",
      "Fourier Transforming Data:\n",
      "====================\n"
     ]
    },
    {
     "name": "stderr",
     "output_type": "stream",
     "text": [
      "100%|██████████| 17597/17597 [03:06<00:00, 94.25it/s]\n",
      "  0%|          | 28/17597 [00:00<01:03, 276.94it/s]"
     ]
    },
    {
     "name": "stdout",
     "output_type": "stream",
     "text": [
      "Writing Spectra:\n",
      "====================\n"
     ]
    },
    {
     "name": "stderr",
     "output_type": "stream",
     "text": [
      "100%|██████████| 17597/17597 [00:59<00:00, 295.09it/s]\n"
     ]
    }
   ],
   "source": [
    "for studyFolder in os.listdir(parentFolder):\n",
    "    print(\"Processing:\", studyFolder)\n",
    "    myp300 = Prep.TaskData(parentFolder+\"/\"+studyFolder+\"/\"+\"P300\")\n",
    "    myp300.gen_spectra(1250, artDegree=2, erp=False)\n",
    "    myp300.write_spectra()"
   ]
  },
  {
   "cell_type": "code",
   "execution_count": null,
   "metadata": {},
   "outputs": [],
   "source": []
  }
 ],
 "metadata": {
  "kernelspec": {
   "display_name": "Python 3",
   "language": "python",
   "name": "python3"
  },
  "language_info": {
   "codemirror_mode": {
    "name": "ipython",
    "version": 3
   },
   "file_extension": ".py",
   "mimetype": "text/x-python",
   "name": "python",
   "nbconvert_exporter": "python",
   "pygments_lexer": "ipython3",
   "version": "3.8.5"
  }
 },
 "nbformat": 4,
 "nbformat_minor": 4
}
