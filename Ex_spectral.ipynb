{
 "cells": [
  {
   "cell_type": "code",
   "execution_count": 1,
   "metadata": {},
   "outputs": [],
   "source": [
    "import Prep, os"
   ]
  },
  {
   "cell_type": "code",
   "execution_count": 2,
   "metadata": {},
   "outputs": [],
   "source": [
    "from tqdm import tqdm"
   ]
  },
  {
   "cell_type": "code",
   "execution_count": 3,
   "metadata": {},
   "outputs": [],
   "source": [
    "parentFolder = \"/wavi/EEGstudiesBackup\""
   ]
  },
  {
   "cell_type": "code",
   "execution_count": 4,
   "metadata": {},
   "outputs": [
    {
     "name": "stderr",
     "output_type": "stream",
     "text": [
      "  0%|          | 18/5552 [00:00<00:31, 176.77it/s]"
     ]
    },
    {
     "name": "stdout",
     "output_type": "stream",
     "text": [
      "Couldn't create the specified spectra folder.\n",
      "\n",
      "Fourier Transforming Data:\n",
      "====================\n"
     ]
    },
    {
     "name": "stderr",
     "output_type": "stream",
     "text": [
      "100%|██████████| 5552/5552 [00:30<00:00, 180.88it/s]\n",
      "  1%|▏         | 71/5552 [00:00<00:07, 707.12it/s]"
     ]
    },
    {
     "name": "stdout",
     "output_type": "stream",
     "text": [
      "Writing Spectra:\n",
      "====================\n"
     ]
    },
    {
     "name": "stderr",
     "output_type": "stream",
     "text": [
      "100%|██████████| 5552/5552 [00:07<00:00, 711.72it/s]\n",
      "  0%|          | 19/44411 [00:00<03:59, 185.05it/s]"
     ]
    },
    {
     "name": "stdout",
     "output_type": "stream",
     "text": [
      "Fourier Transforming Data:\n",
      "====================\n"
     ]
    },
    {
     "name": "stderr",
     "output_type": "stream",
     "text": [
      "100%|██████████| 44411/44411 [04:02<00:00, 183.05it/s]\n",
      "  0%|          | 70/44411 [00:00<01:03, 695.24it/s]"
     ]
    },
    {
     "name": "stdout",
     "output_type": "stream",
     "text": [
      "Writing Spectra:\n",
      "====================\n"
     ]
    },
    {
     "name": "stderr",
     "output_type": "stream",
     "text": [
      "100%|██████████| 44411/44411 [01:04<00:00, 693.56it/s]\n",
      "  0%|          | 18/23962 [00:00<02:18, 173.50it/s]"
     ]
    },
    {
     "name": "stdout",
     "output_type": "stream",
     "text": [
      "Fourier Transforming Data:\n",
      "====================\n"
     ]
    },
    {
     "name": "stderr",
     "output_type": "stream",
     "text": [
      "100%|██████████| 23962/23962 [02:18<00:00, 173.43it/s]\n",
      "  0%|          | 69/23962 [00:00<00:34, 686.77it/s]"
     ]
    },
    {
     "name": "stdout",
     "output_type": "stream",
     "text": [
      "Writing Spectra:\n",
      "====================\n"
     ]
    },
    {
     "name": "stderr",
     "output_type": "stream",
     "text": [
      "100%|██████████| 23962/23962 [00:34<00:00, 693.81it/s]\n",
      "  0%|          | 15/27802 [00:00<03:12, 144.31it/s]"
     ]
    },
    {
     "name": "stdout",
     "output_type": "stream",
     "text": [
      "Fourier Transforming Data:\n",
      "====================\n"
     ]
    },
    {
     "name": "stderr",
     "output_type": "stream",
     "text": [
      "100%|██████████| 27802/27802 [02:39<00:00, 174.06it/s]\n",
      "  0%|          | 70/27802 [00:00<00:39, 698.37it/s]"
     ]
    },
    {
     "name": "stdout",
     "output_type": "stream",
     "text": [
      "Writing Spectra:\n",
      "====================\n"
     ]
    },
    {
     "name": "stderr",
     "output_type": "stream",
     "text": [
      "100%|██████████| 27802/27802 [00:39<00:00, 698.33it/s]\n",
      "  0%|          | 16/32606 [00:00<03:27, 156.86it/s]"
     ]
    },
    {
     "name": "stdout",
     "output_type": "stream",
     "text": [
      "Fourier Transforming Data:\n",
      "====================\n"
     ]
    },
    {
     "name": "stderr",
     "output_type": "stream",
     "text": [
      "100%|██████████| 32606/32606 [03:07<00:00, 173.79it/s]\n",
      "  0%|          | 69/32606 [00:00<00:47, 686.69it/s]"
     ]
    },
    {
     "name": "stdout",
     "output_type": "stream",
     "text": [
      "Writing Spectra:\n",
      "====================\n"
     ]
    },
    {
     "name": "stderr",
     "output_type": "stream",
     "text": [
      "100%|██████████| 32606/32606 [00:46<00:00, 698.04it/s]\n",
      "  0%|          | 0/59779 [00:00<?, ?it/s]"
     ]
    },
    {
     "name": "stdout",
     "output_type": "stream",
     "text": [
      "Fourier Transforming Data:\n",
      "====================\n"
     ]
    },
    {
     "name": "stderr",
     "output_type": "stream",
     "text": [
      "100%|██████████| 59779/59779 [05:45<00:00, 173.20it/s]\n",
      "  0%|          | 70/59779 [00:00<01:25, 697.33it/s]"
     ]
    },
    {
     "name": "stdout",
     "output_type": "stream",
     "text": [
      "Writing Spectra:\n",
      "====================\n"
     ]
    },
    {
     "name": "stderr",
     "output_type": "stream",
     "text": [
      "100%|██████████| 59779/59779 [01:25<00:00, 698.04it/s]\n",
      "  0%|          | 16/11113 [00:00<01:09, 158.78it/s]"
     ]
    },
    {
     "name": "stdout",
     "output_type": "stream",
     "text": [
      "Fourier Transforming Data:\n",
      "====================\n"
     ]
    },
    {
     "name": "stderr",
     "output_type": "stream",
     "text": [
      "100%|██████████| 11113/11113 [01:04<00:00, 172.95it/s]\n",
      "  1%|          | 71/11113 [00:00<00:15, 705.49it/s]"
     ]
    },
    {
     "name": "stdout",
     "output_type": "stream",
     "text": [
      "Writing Spectra:\n",
      "====================\n"
     ]
    },
    {
     "name": "stderr",
     "output_type": "stream",
     "text": [
      "100%|██████████| 11113/11113 [00:15<00:00, 698.49it/s]\n",
      "  0%|          | 0/43891 [00:00<?, ?it/s]"
     ]
    },
    {
     "name": "stdout",
     "output_type": "stream",
     "text": [
      "Fourier Transforming Data:\n",
      "====================\n"
     ]
    },
    {
     "name": "stderr",
     "output_type": "stream",
     "text": [
      "100%|██████████| 43891/43891 [04:13<00:00, 172.85it/s]\n",
      "  0%|          | 71/43891 [00:00<01:02, 704.84it/s]"
     ]
    },
    {
     "name": "stdout",
     "output_type": "stream",
     "text": [
      "Writing Spectra:\n",
      "====================\n"
     ]
    },
    {
     "name": "stderr",
     "output_type": "stream",
     "text": [
      "100%|██████████| 43891/43891 [01:03<00:00, 695.35it/s]\n"
     ]
    }
   ],
   "source": [
    "for studyFolder in os.listdir(parentFolder):\n",
    "    myp300 = Prep.Trials(parentFolder+\"/\"+studyFolder+\"/\"+\"P300\")\n",
    "    myp300.gen_spectra(500)\n",
    "    myp300.write_spectra()"
   ]
  },
  {
   "cell_type": "code",
   "execution_count": null,
   "metadata": {},
   "outputs": [],
   "source": []
  }
 ],
 "metadata": {
  "kernelspec": {
   "display_name": "Python 3",
   "language": "python",
   "name": "python3"
  },
  "language_info": {
   "codemirror_mode": {
    "name": "ipython",
    "version": 3
   },
   "file_extension": ".py",
   "mimetype": "text/x-python",
   "name": "python",
   "nbconvert_exporter": "python",
   "pygments_lexer": "ipython3",
   "version": "3.8.2"
  }
 },
 "nbformat": 4,
 "nbformat_minor": 4
}
