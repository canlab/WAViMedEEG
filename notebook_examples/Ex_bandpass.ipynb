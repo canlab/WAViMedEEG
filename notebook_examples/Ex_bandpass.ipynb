{
 "cells": [
  {
   "cell_type": "markdown",
   "metadata": {},
   "source": [
    "<h1> Example Frequency Band Filter </h1>\n",
    "<p> First, we'll import the 'Prep' module, to use its 'Trials' class, os\n",
    "\n",
    "</p>\n",
    "<p> and TQDM, which is a handy pip-installable package that gives us nice loading bars. </p>"
   ]
  },
  {
   "cell_type": "code",
   "execution_count": 9,
   "metadata": {},
   "outputs": [],
   "source": [
    "import Prep, os\n",
    "import Standard\n",
    "from tqdm import tqdm"
   ]
  },
  {
   "cell_type": "markdown",
   "metadata": {},
   "source": [
    "<h2> Set your paths! </h2>\n",
    "<p> 'parentpath' points to a directory where your study folders are stored, and we'll generate new contigs for a trial if it's found in any of these folders </p>"
   ]
  },
  {
   "cell_type": "code",
   "execution_count": 10,
   "metadata": {},
   "outputs": [],
   "source": [
    "parentpath = \"/wavi/EEGstudies\"\n",
    "studyFolder = \"CANlab\""
   ]
  },
  {
   "cell_type": "markdown",
   "metadata": {},
   "source": [
    "<h3> Set your task! </h3>\n",
    "<p> 'taskname' is one of the tasks supported via config.py </p>"
   ]
  },
  {
   "cell_type": "code",
   "execution_count": 11,
   "metadata": {},
   "outputs": [],
   "source": [
    "taskname = \"P300\""
   ]
  },
  {
   "cell_type": "markdown",
   "metadata": {},
   "source": []
  },
  {
   "cell_type": "code",
   "execution_count": 12,
   "metadata": {},
   "outputs": [
    {
     "name": "stderr",
     "output_type": "stream",
     "text": [
      "  0%|          | 0/44 [00:00<?, ?it/s]"
     ]
    },
    {
     "name": "stdout",
     "output_type": "stream",
     "text": [
      "Processing: ref 81+\n"
     ]
    },
    {
     "name": "stderr",
     "output_type": "stream",
     "text": [
      "100%|██████████| 44/44 [00:24<00:00,  1.82it/s]\n",
      "100%|██████████| 44/44 [00:14<00:00,  3.00it/s]\n",
      "  0%|          | 0/367 [00:00<?, ?it/s]"
     ]
    },
    {
     "name": "stdout",
     "output_type": "stream",
     "text": [
      "Processing: ref 41-50\n"
     ]
    },
    {
     "name": "stderr",
     "output_type": "stream",
     "text": [
      "100%|██████████| 367/367 [03:09<00:00,  1.93it/s]\n",
      "100%|██████████| 367/367 [01:46<00:00,  3.45it/s]\n",
      "  0%|          | 0/198 [00:00<?, ?it/s]"
     ]
    },
    {
     "name": "stdout",
     "output_type": "stream",
     "text": [
      "Processing: ref 31-40\n"
     ]
    },
    {
     "name": "stderr",
     "output_type": "stream",
     "text": [
      "100%|██████████| 198/198 [01:42<00:00,  1.92it/s]\n",
      "100%|██████████| 198/198 [00:59<00:00,  3.35it/s]\n",
      "  0%|          | 0/225 [00:00<?, ?it/s]"
     ]
    },
    {
     "name": "stdout",
     "output_type": "stream",
     "text": [
      "Processing: ref 61-70\n"
     ]
    },
    {
     "name": "stderr",
     "output_type": "stream",
     "text": [
      "100%|██████████| 225/225 [01:58<00:00,  1.89it/s]\n",
      "100%|██████████| 225/225 [01:07<00:00,  3.33it/s]\n",
      "  0%|          | 0/275 [00:00<?, ?it/s]"
     ]
    },
    {
     "name": "stdout",
     "output_type": "stream",
     "text": [
      "Processing: ref 24-30\n"
     ]
    },
    {
     "name": "stderr",
     "output_type": "stream",
     "text": [
      "100%|██████████| 275/275 [02:19<00:00,  1.98it/s]\n",
      "100%|██████████| 275/275 [01:19<00:00,  3.45it/s]\n",
      "  0%|          | 0/479 [00:00<?, ?it/s]"
     ]
    },
    {
     "name": "stdout",
     "output_type": "stream",
     "text": [
      "Processing: ref 51-60\n"
     ]
    },
    {
     "name": "stderr",
     "output_type": "stream",
     "text": [
      "100%|██████████| 479/479 [04:12<00:00,  1.89it/s]\n",
      "100%|██████████| 479/479 [02:21<00:00,  3.39it/s]\n",
      "  0%|          | 0/89 [00:00<?, ?it/s]"
     ]
    },
    {
     "name": "stdout",
     "output_type": "stream",
     "text": [
      "Processing: ref 71-80\n"
     ]
    },
    {
     "name": "stderr",
     "output_type": "stream",
     "text": [
      "100%|██████████| 89/89 [00:47<00:00,  1.87it/s]\n",
      "100%|██████████| 89/89 [00:28<00:00,  3.16it/s]\n",
      "  0%|          | 0/358 [00:00<?, ?it/s]"
     ]
    },
    {
     "name": "stdout",
     "output_type": "stream",
     "text": [
      "Processing: ref pain\n"
     ]
    },
    {
     "name": "stderr",
     "output_type": "stream",
     "text": [
      "100%|██████████| 358/358 [03:08<00:00,  1.90it/s]\n",
      "100%|██████████| 358/358 [01:46<00:00,  3.35it/s]\n"
     ]
    }
   ],
   "source": [
    "studyfolders = [folder for folder in os.listdir(parentpath)]\n",
    "for studyfolder in studyfolders:\n",
    "    if studyfolder != \"CANlab\":\n",
    "        print(\"Processing:\", studyfolder)\n",
    "        myp300 = Standard.BandFilter(parentpath+\"/\"+studyfolder, taskname, type=\"lowpass\")\n",
    "        myp300.gen_taskdata(\"alpha\")\n",
    "        myp300.write_taskdata()"
   ]
  },
  {
   "cell_type": "code",
   "execution_count": null,
   "metadata": {},
   "outputs": [],
   "source": []
  }
 ],
 "metadata": {
  "kernelspec": {
   "display_name": "Python 3",
   "language": "python",
   "name": "python3"
  },
  "language_info": {
   "codemirror_mode": {
    "name": "ipython",
    "version": 3
   },
   "file_extension": ".py",
   "mimetype": "text/x-python",
   "name": "python",
   "nbconvert_exporter": "python",
   "pygments_lexer": "ipython3",
   "version": "3.7.3"
  }
 },
 "nbformat": 4,
 "nbformat_minor": 4
}
