{
 "cells": [
  {
   "cell_type": "markdown",
   "metadata": {},
   "source": [
    "<h1> Example LDA </h1>\n",
    "<p> First, we'll import the 'ML' module, to use its 'Classifier' class, os, </p>\n",
    "<p> and TQDM, which is a handy pip-installable package that gives us nice loading bars. </p>"
   ]
  },
  {
   "cell_type": "code",
   "execution_count": 1,
   "metadata": {},
   "outputs": [],
   "source": [
    "import ML, os\n",
    "from tqdm import tqdm"
   ]
  },
  {
   "cell_type": "markdown",
   "metadata": {},
   "source": [
    "<h2> Set your paths! </h2>\n",
    "<p> 'patient_path' points to our 'condition-positive' dataset; in this example it points to spectral data in the 'ref pain' study folder, using the P300 task data, with 500-sample-long contig windows and all channels </p>\n",
    "<p> 'reference_path' points to a folder containing healthy control data study folders </p>"
   ]
  },
  {
   "cell_type": "code",
   "execution_count": 2,
   "metadata": {},
   "outputs": [],
   "source": [
    "patient_path = \"/wavi/EEGstudies/CANlab/spectra/P300_500_1111111111111111111_0\"\n",
    "reference_path = \"/wavi/EEGstudies\""
   ]
  },
  {
   "cell_type": "markdown",
   "metadata": {},
   "source": [
    "<h3> Instantiate a 'Classifier' Object </h3>\n",
    "<p> 'Classifier' takes one positional argument, currently either \"spectra\" or \"contigs\" </p>"
   ]
  },
  {
   "cell_type": "code",
   "execution_count": 3,
   "metadata": {},
   "outputs": [],
   "source": [
    "myclf = ML.Classifier(\"spectra\")"
   ]
  },
  {
   "cell_type": "markdown",
   "metadata": {},
   "source": [
    "<h3> Load Patient (Condition-Positive) Data </h3>"
   ]
  },
  {
   "cell_type": "code",
   "execution_count": 4,
   "metadata": {},
   "outputs": [
    {
     "name": "stderr",
     "output_type": "stream",
     "text": [
      "100%|██████████| 207/207 [00:00<00:00, 282.42it/s]\n"
     ]
    }
   ],
   "source": [
    "for fname in tqdm(os.listdir(patient_path)):\n",
    "    myclf.LoadData(patient_path+\"/\"+fname)"
   ]
  },
  {
   "cell_type": "markdown",
   "metadata": {},
   "source": [
    "<h3> Load Control (Condition-Negative) Data </h3>\n",
    "<p> using the 'Balance' method of 'Classifier', the dataset will automatically add healthy control data found in the reference folders </p>\n",
    "<p> *note* there are currently few scans in 81+ so it won't balance completely, and will not finish the loop. it's balanced within 1% or so </p> "
   ]
  },
  {
   "cell_type": "code",
   "execution_count": 5,
   "metadata": {},
   "outputs": [
    {
     "name": "stderr",
     "output_type": "stream",
     "text": [
      "100%|██████████| 7/7 [00:00<00:00,  9.14it/s]\n"
     ]
    }
   ],
   "source": [
    "myclf.Balance(reference_path)"
   ]
  },
  {
   "cell_type": "markdown",
   "metadata": {},
   "source": [
    "<h2> Run 'LDA' method of 'Classifier' </h2>\n",
    "<p> This method will structure the input classes (in this case, 'Spectra' objects) </p>\n",
    "<p> Optional parameters include:\n",
    "    <br>- tt_split: (float) default 0.33, ratio of test samples to train samples\n",
    "    <br>- lowbound: (int) default 3, in Hz, lowest frequency included in the model\n",
    "    <br>- highbound: (int) default 20, in Hz, highest frequency included in the model\n",
    "</p>"
   ]
  },
  {
   "cell_type": "code",
   "execution_count": 6,
   "metadata": {},
   "outputs": [
    {
     "name": "stdout",
     "output_type": "stream",
     "text": [
      "Number of negative outcomes: 210\n",
      "Number of positive outcomes: 207\n",
      "Classification accuracy on validation data: 0.610\n"
     ]
    }
   ],
   "source": [
    "myclf.LDA(normalize='standard')"
   ]
  },
  {
   "cell_type": "code",
   "execution_count": null,
   "metadata": {},
   "outputs": [],
   "source": []
  }
 ],
 "metadata": {
  "kernelspec": {
   "display_name": "Python 3",
   "language": "python",
   "name": "python3"
  },
  "language_info": {
   "codemirror_mode": {
    "name": "ipython",
    "version": 3
   },
   "file_extension": ".py",
   "mimetype": "text/x-python",
   "name": "python",
   "nbconvert_exporter": "python",
   "pygments_lexer": "ipython3",
   "version": "3.8.2"
  }
 },
 "nbformat": 4,
 "nbformat_minor": 4
}
