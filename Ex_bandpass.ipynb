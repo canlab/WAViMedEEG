{
 "cells": [
  {
   "cell_type": "markdown",
   "metadata": {},
   "source": [
    "<h1> Example Frequency Band Filter </h1>\n",
    "<p> First, we'll import the 'Prep' module, to use its 'Trials' class, os\n",
    "\n",
    "</p>\n",
    "<p> and TQDM, which is a handy pip-installable package that gives us nice loading bars. </p>"
   ]
  },
  {
   "cell_type": "code",
   "execution_count": 1,
   "metadata": {},
   "outputs": [],
   "source": [
    "import Prep, os\n",
    "import Standard\n",
    "from tqdm import tqdm"
   ]
  },
  {
   "cell_type": "markdown",
   "metadata": {},
   "source": [
    "<h2> Set your paths! </h2>\n",
    "<p> 'parentpath' points to a directory where your study folders are stored, and we'll generate new contigs for a trial if it's found in any of these folders </p>"
   ]
  },
  {
   "cell_type": "code",
   "execution_count": 2,
   "metadata": {},
   "outputs": [],
   "source": [
    "parentpath = \"/wavi/EEGstudies\"\n",
    "studyFolder = \"CANlab\""
   ]
  },
  {
   "cell_type": "markdown",
   "metadata": {},
   "source": [
    "<h3> Set your task! </h3>\n",
    "<p> 'taskname' is one of the tasks supported via config.py </p>"
   ]
  },
  {
   "cell_type": "code",
   "execution_count": 3,
   "metadata": {},
   "outputs": [],
   "source": [
    "taskname = \"P300\""
   ]
  },
  {
   "cell_type": "markdown",
   "metadata": {},
   "source": []
  },
  {
   "cell_type": "code",
   "execution_count": null,
   "metadata": {},
   "outputs": [
    {
     "name": "stderr",
     "output_type": "stream",
     "text": [
      "  5%|▍         | 2/44 [00:00<00:05,  7.79it/s]"
     ]
    },
    {
     "name": "stdout",
     "output_type": "stream",
     "text": [
      "Failed: 1040_P300_nofilter.eeg\n",
      "Failed: 1014_P300_nofilter.eeg\n"
     ]
    },
    {
     "name": "stderr",
     "output_type": "stream",
     "text": [
      "  9%|▉         | 4/44 [00:00<00:04,  8.54it/s]"
     ]
    },
    {
     "name": "stdout",
     "output_type": "stream",
     "text": [
      "Failed: 1015_P300_nofilter.eeg\n",
      "Failed: 1022_P300_nofilter.eeg\n"
     ]
    },
    {
     "name": "stderr",
     "output_type": "stream",
     "text": [
      " 14%|█▎        | 6/44 [00:00<00:04,  9.02it/s]"
     ]
    },
    {
     "name": "stdout",
     "output_type": "stream",
     "text": [
      "Failed: 1041_P300_nofilter.eeg\n",
      "Failed: 1030_P300_nofilter.eeg\n"
     ]
    },
    {
     "name": "stderr",
     "output_type": "stream",
     "text": [
      " 18%|█▊        | 8/44 [00:00<00:03,  9.30it/s]"
     ]
    },
    {
     "name": "stdout",
     "output_type": "stream",
     "text": [
      "Failed: 1006_P300_nofilter.eeg\n",
      "Failed: 1024_P300_nofilter.eeg\n"
     ]
    },
    {
     "name": "stderr",
     "output_type": "stream",
     "text": [
      " 23%|██▎       | 10/44 [00:01<00:03,  9.43it/s]"
     ]
    },
    {
     "name": "stdout",
     "output_type": "stream",
     "text": [
      "Failed: 1016_P300_nofilter.eeg\n",
      "Failed: 1034_P300_nofilter.eeg\n"
     ]
    },
    {
     "name": "stderr",
     "output_type": "stream",
     "text": [
      " 27%|██▋       | 12/44 [00:01<00:03,  9.51it/s]"
     ]
    },
    {
     "name": "stdout",
     "output_type": "stream",
     "text": [
      "Failed: 1010_P300_nofilter.eeg\n",
      "Failed: 1003_P300_nofilter.eeg\n"
     ]
    },
    {
     "name": "stderr",
     "output_type": "stream",
     "text": [
      " 32%|███▏      | 14/44 [00:01<00:03,  9.51it/s]"
     ]
    },
    {
     "name": "stdout",
     "output_type": "stream",
     "text": [
      "Failed: 1028_P300_nofilter.eeg\n",
      "Failed: 1039_P300_nofilter.eeg\n"
     ]
    },
    {
     "name": "stderr",
     "output_type": "stream",
     "text": [
      " 34%|███▍      | 15/44 [00:01<00:03,  9.55it/s]"
     ]
    },
    {
     "name": "stdout",
     "output_type": "stream",
     "text": [
      "Failed: 1032_P300_nofilter.eeg\n",
      "Failed: 1000_P300_nofilter.eeg\n"
     ]
    },
    {
     "name": "stderr",
     "output_type": "stream",
     "text": [
      " 41%|████      | 18/44 [00:01<00:02,  9.47it/s]"
     ]
    },
    {
     "name": "stdout",
     "output_type": "stream",
     "text": [
      "Failed: 1043_P300_nofilter.eeg\n",
      "Failed: 1031_P300_nofilter.eeg\n"
     ]
    },
    {
     "name": "stderr",
     "output_type": "stream",
     "text": [
      " 45%|████▌     | 20/44 [00:02<00:02,  9.58it/s]"
     ]
    },
    {
     "name": "stdout",
     "output_type": "stream",
     "text": [
      "Failed: 1012_P300_nofilter.eeg\n",
      "Failed: 1017_P300_nofilter.eeg\n",
      "Failed: 1036_P300_nofilter.eeg\n"
     ]
    },
    {
     "name": "stderr",
     "output_type": "stream",
     "text": [
      " 52%|█████▏    | 23/44 [00:02<00:02,  9.53it/s]"
     ]
    },
    {
     "name": "stdout",
     "output_type": "stream",
     "text": [
      "Failed: 1029_P300_nofilter.eeg\n",
      "Failed: 1020_P300_nofilter.eeg\n"
     ]
    },
    {
     "name": "stderr",
     "output_type": "stream",
     "text": [
      " 57%|█████▋    | 25/44 [00:02<00:02,  9.50it/s]"
     ]
    },
    {
     "name": "stdout",
     "output_type": "stream",
     "text": [
      "Failed: 1025_P300_nofilter.eeg\n",
      "Failed: 1023_P300_nofilter.eeg\n"
     ]
    },
    {
     "name": "stderr",
     "output_type": "stream",
     "text": [
      " 61%|██████▏   | 27/44 [00:02<00:01,  9.50it/s]"
     ]
    },
    {
     "name": "stdout",
     "output_type": "stream",
     "text": [
      "Failed: 1021_P300_nofilter.eeg\n",
      "Failed: 1018_P300_nofilter.eeg\n"
     ]
    },
    {
     "name": "stderr",
     "output_type": "stream",
     "text": [
      " 68%|██████▊   | 30/44 [00:03<00:01, 10.37it/s]"
     ]
    },
    {
     "name": "stdout",
     "output_type": "stream",
     "text": [
      "Failed: 1042_P300_nofilter.eeg\n",
      "Failed: 1037_P300_nofilter.eeg\n",
      "Failed: 1007_P300_nofilter.eeg\n"
     ]
    },
    {
     "name": "stderr",
     "output_type": "stream",
     "text": [
      " 73%|███████▎  | 32/44 [00:03<00:01, 10.26it/s]"
     ]
    },
    {
     "name": "stdout",
     "output_type": "stream",
     "text": [
      "Failed: 1004_P300_nofilter.eeg\n",
      "Failed: 1013_P300_nofilter.eeg\n"
     ]
    },
    {
     "name": "stderr",
     "output_type": "stream",
     "text": [
      " 77%|███████▋  | 34/44 [00:03<00:01,  8.99it/s]"
     ]
    },
    {
     "name": "stdout",
     "output_type": "stream",
     "text": [
      "Failed: 1009_P300_nofilter.eeg\n",
      "Failed: 1027_P300_nofilter.eeg\n"
     ]
    },
    {
     "name": "stderr",
     "output_type": "stream",
     "text": [
      " 82%|████████▏ | 36/44 [00:03<00:00,  9.22it/s]"
     ]
    },
    {
     "name": "stdout",
     "output_type": "stream",
     "text": [
      "Failed: 1002_P300_nofilter.eeg\n",
      "Failed: 1005_P300_nofilter.eeg\n"
     ]
    },
    {
     "name": "stderr",
     "output_type": "stream",
     "text": [
      " 86%|████████▋ | 38/44 [00:04<00:00,  9.27it/s]"
     ]
    },
    {
     "name": "stdout",
     "output_type": "stream",
     "text": [
      "Failed: 1001_P300_nofilter.eeg\n",
      "Failed: 1008_P300_nofilter.eeg\n"
     ]
    },
    {
     "name": "stderr",
     "output_type": "stream",
     "text": [
      " 91%|█████████ | 40/44 [00:04<00:00,  9.47it/s]"
     ]
    },
    {
     "name": "stdout",
     "output_type": "stream",
     "text": [
      "Failed: 1038_P300_nofilter.eeg\n",
      "Failed: 1019_P300_nofilter.eeg\n"
     ]
    },
    {
     "name": "stderr",
     "output_type": "stream",
     "text": [
      " 95%|█████████▌| 42/44 [00:04<00:00,  9.05it/s]"
     ]
    },
    {
     "name": "stdout",
     "output_type": "stream",
     "text": [
      "Failed: 1033_P300_nofilter.eeg\n",
      "Failed: 1035_P300_nofilter.eeg\n"
     ]
    },
    {
     "name": "stderr",
     "output_type": "stream",
     "text": [
      "100%|██████████| 44/44 [00:04<00:00,  9.37it/s]\n",
      "  0%|          | 0/367 [00:00<?, ?it/s]"
     ]
    },
    {
     "name": "stdout",
     "output_type": "stream",
     "text": [
      "Failed: 1011_P300_nofilter.eeg\n",
      "Failed: 1026_P300_nofilter.eeg\n"
     ]
    },
    {
     "name": "stderr",
     "output_type": "stream",
     "text": [
      "  1%|          | 2/367 [00:00<00:39,  9.24it/s]"
     ]
    },
    {
     "name": "stdout",
     "output_type": "stream",
     "text": [
      "Failed: 1047_P300_nofilter.eeg\n",
      "Failed: 1239_P300_nofilter.eeg\n",
      "Failed: 1178_P300_nofilter.eeg\n"
     ]
    },
    {
     "name": "stderr",
     "output_type": "stream",
     "text": [
      "  1%|▏         | 5/367 [00:00<00:35, 10.16it/s]"
     ]
    },
    {
     "name": "stdout",
     "output_type": "stream",
     "text": [
      "Failed: 1351_P300_nofilter.eeg\n",
      "Failed: 1272_P300_nofilter.eeg\n"
     ]
    },
    {
     "name": "stderr",
     "output_type": "stream",
     "text": [
      "  2%|▏         | 7/367 [00:00<00:38,  9.29it/s]"
     ]
    },
    {
     "name": "stdout",
     "output_type": "stream",
     "text": [
      "Failed: 1040_P300_nofilter.eeg\n",
      "Failed: 1150_P300_nofilter.eeg\n"
     ]
    },
    {
     "name": "stderr",
     "output_type": "stream",
     "text": [
      "  2%|▏         | 9/367 [00:00<00:37,  9.45it/s]"
     ]
    },
    {
     "name": "stdout",
     "output_type": "stream",
     "text": [
      "Failed: 1341_P300_nofilter.eeg\n",
      "Failed: 1087_P300_nofilter.eeg\n"
     ]
    },
    {
     "name": "stderr",
     "output_type": "stream",
     "text": [
      "  3%|▎         | 11/367 [00:01<00:37,  9.46it/s]"
     ]
    },
    {
     "name": "stdout",
     "output_type": "stream",
     "text": [
      "Failed: 1120_P300_nofilter.eeg\n",
      "Failed: 1014_P300_nofilter.eeg\n"
     ]
    },
    {
     "name": "stderr",
     "output_type": "stream",
     "text": [
      "  4%|▎         | 13/367 [00:01<00:37,  9.49it/s]"
     ]
    },
    {
     "name": "stdout",
     "output_type": "stream",
     "text": [
      "Failed: 1346_P300_nofilter.eeg\n",
      "Failed: 1015_P300_nofilter.eeg\n"
     ]
    },
    {
     "name": "stderr",
     "output_type": "stream",
     "text": [
      "  4%|▍         | 15/367 [00:01<00:36,  9.64it/s]"
     ]
    },
    {
     "name": "stdout",
     "output_type": "stream",
     "text": [
      "Failed: 1352_P300_nofilter.eeg\n",
      "Failed: 1045_P300_nofilter.eeg\n"
     ]
    },
    {
     "name": "stderr",
     "output_type": "stream",
     "text": [
      "  5%|▍         | 17/367 [00:01<00:36,  9.68it/s]"
     ]
    },
    {
     "name": "stdout",
     "output_type": "stream",
     "text": [
      "Failed: 1138_P300_nofilter.eeg\n",
      "Failed: 1140_P300_nofilter.eeg\n"
     ]
    },
    {
     "name": "stderr",
     "output_type": "stream",
     "text": [
      "  5%|▌         | 19/367 [00:01<00:38,  9.12it/s]"
     ]
    },
    {
     "name": "stdout",
     "output_type": "stream",
     "text": [
      "Failed: 1137_P300_nofilter.eeg\n",
      "Failed: 1273_P300_nofilter.eeg\n"
     ]
    },
    {
     "name": "stderr",
     "output_type": "stream",
     "text": [
      "  6%|▌         | 21/367 [00:02<00:37,  9.32it/s]"
     ]
    },
    {
     "name": "stdout",
     "output_type": "stream",
     "text": [
      "Failed: 1125_P300_nofilter.eeg\n",
      "Failed: 1242_P300_nofilter.eeg\n"
     ]
    },
    {
     "name": "stderr",
     "output_type": "stream",
     "text": [
      "  6%|▋         | 23/367 [00:02<00:36,  9.48it/s]"
     ]
    },
    {
     "name": "stdout",
     "output_type": "stream",
     "text": [
      "Failed: 1280_P300_nofilter.eeg\n",
      "Failed: 1360_P300_nofilter.eeg\n"
     ]
    },
    {
     "name": "stderr",
     "output_type": "stream",
     "text": [
      "  7%|▋         | 26/367 [00:02<00:34,  9.77it/s]"
     ]
    },
    {
     "name": "stdout",
     "output_type": "stream",
     "text": [
      "Failed: 1022_P300_nofilter.eeg\n",
      "Failed: 1070_P300_nofilter.eeg\n",
      "Failed: 1088_P300_nofilter.eeg\n",
      "Failed: 1190_P300_nofilter.eeg\n"
     ]
    },
    {
     "name": "stderr",
     "output_type": "stream",
     "text": [
      "/wavi/wavimedical/wavimedical/Standard.py:107: UserWarning: genfromtxt: Empty input file: \"/wavi/EEGstudies/ref 41-50/P300/1190_P300_nofilter.eeg\"\n",
      "  arr = np.genfromtxt(self.study_folder+\"/\"+self.task+\"/\"+fname, delimiter=\",\")\n",
      "  8%|▊         | 28/367 [00:02<00:29, 11.47it/s]"
     ]
    },
    {
     "name": "stdout",
     "output_type": "stream",
     "text": [
      "Failed: 1284_P300_nofilter.eeg\n",
      "Failed: 1317_P300_nofilter.eeg\n"
     ]
    },
    {
     "name": "stderr",
     "output_type": "stream",
     "text": [
      "  8%|▊         | 30/367 [00:02<00:30, 10.93it/s]"
     ]
    },
    {
     "name": "stdout",
     "output_type": "stream",
     "text": [
      "Failed: 1041_P300_nofilter.eeg\n",
      "Failed: 1097_P300_nofilter.eeg\n"
     ]
    },
    {
     "name": "stderr",
     "output_type": "stream",
     "text": [
      "  9%|▊         | 32/367 [00:03<00:31, 10.50it/s]"
     ]
    },
    {
     "name": "stdout",
     "output_type": "stream",
     "text": [
      "Failed: 1060_P300_nofilter.eeg\n",
      "Failed: 1320_P300_nofilter.eeg\n"
     ]
    },
    {
     "name": "stderr",
     "output_type": "stream",
     "text": [
      " 10%|▉         | 36/367 [00:03<00:28, 11.70it/s]"
     ]
    },
    {
     "name": "stdout",
     "output_type": "stream",
     "text": [
      "Failed: 1161_P300_nofilter.eeg\n",
      "Failed: 1307_P300_nofilter.eeg\n",
      "Failed: 1214_P300_nofilter.eeg\n"
     ]
    },
    {
     "name": "stderr",
     "output_type": "stream",
     "text": [
      " 10%|█         | 38/367 [00:03<00:29, 11.01it/s]"
     ]
    },
    {
     "name": "stdout",
     "output_type": "stream",
     "text": [
      "Failed: 1068_P300_nofilter.eeg\n",
      "Failed: 1136_P300_nofilter.eeg\n"
     ]
    },
    {
     "name": "stderr",
     "output_type": "stream",
     "text": [
      " 11%|█         | 40/367 [00:03<00:30, 10.56it/s]"
     ]
    },
    {
     "name": "stdout",
     "output_type": "stream",
     "text": [
      "Failed: 1099_P300_nofilter.eeg\n",
      "Failed: 1225_P300_nofilter.eeg\n"
     ]
    },
    {
     "name": "stderr",
     "output_type": "stream",
     "text": [
      " 11%|█▏        | 42/367 [00:04<00:31, 10.31it/s]"
     ]
    },
    {
     "name": "stdout",
     "output_type": "stream",
     "text": [
      "Failed: 1254_P300_nofilter.eeg\n",
      "Failed: 1291_P300_nofilter.eeg\n"
     ]
    },
    {
     "name": "stderr",
     "output_type": "stream",
     "text": [
      " 12%|█▏        | 44/367 [00:04<00:32,  9.97it/s]"
     ]
    },
    {
     "name": "stdout",
     "output_type": "stream",
     "text": [
      "Failed: 1105_P300_nofilter.eeg\n",
      "Failed: 1077_P300_nofilter.eeg\n"
     ]
    },
    {
     "name": "stderr",
     "output_type": "stream",
     "text": [
      " 13%|█▎        | 46/367 [00:04<00:33,  9.46it/s]"
     ]
    },
    {
     "name": "stdout",
     "output_type": "stream",
     "text": [
      "Failed: 1122_P300_nofilter.eeg\n",
      "Failed: 1278_P300_nofilter.eeg\n"
     ]
    },
    {
     "name": "stderr",
     "output_type": "stream",
     "text": [
      " 13%|█▎        | 48/367 [00:04<00:33,  9.58it/s]"
     ]
    },
    {
     "name": "stdout",
     "output_type": "stream",
     "text": [
      "Failed: 1212_P300_nofilter.eeg\n",
      "Failed: 1157_P300_nofilter.eeg\n"
     ]
    },
    {
     "name": "stderr",
     "output_type": "stream",
     "text": [
      " 14%|█▎        | 50/367 [00:05<00:33,  9.37it/s]"
     ]
    },
    {
     "name": "stdout",
     "output_type": "stream",
     "text": [
      "Failed: 1237_P300_nofilter.eeg\n",
      "Failed: 1217_P300_nofilter.eeg\n"
     ]
    },
    {
     "name": "stderr",
     "output_type": "stream",
     "text": [
      " 14%|█▍        | 52/367 [00:05<00:32,  9.60it/s]"
     ]
    },
    {
     "name": "stdout",
     "output_type": "stream",
     "text": [
      "Failed: 1235_P300_nofilter.eeg\n",
      "Failed: 1030_P300_nofilter.eeg\n"
     ]
    },
    {
     "name": "stderr",
     "output_type": "stream",
     "text": [
      " 15%|█▍        | 54/367 [00:05<00:37,  8.37it/s]"
     ]
    },
    {
     "name": "stdout",
     "output_type": "stream",
     "text": [
      "Failed: 1326_P300_nofilter.eeg\n",
      "Failed: 1074_P300_nofilter.eeg\n"
     ]
    },
    {
     "name": "stderr",
     "output_type": "stream",
     "text": [
      " 15%|█▌        | 56/367 [00:05<00:34,  8.92it/s]"
     ]
    },
    {
     "name": "stdout",
     "output_type": "stream",
     "text": [
      "Failed: 1115_P300_nofilter.eeg\n",
      "Failed: 1109_P300_nofilter.eeg\n"
     ]
    },
    {
     "name": "stderr",
     "output_type": "stream",
     "text": [
      " 16%|█▌        | 58/367 [00:05<00:36,  8.40it/s]"
     ]
    },
    {
     "name": "stdout",
     "output_type": "stream",
     "text": [
      "Failed: 1191_P300_nofilter.eeg\n",
      "Failed: 1218_P300_nofilter.eeg\n"
     ]
    },
    {
     "name": "stderr",
     "output_type": "stream",
     "text": [
      " 16%|█▋        | 60/367 [00:06<00:33,  9.03it/s]"
     ]
    },
    {
     "name": "stdout",
     "output_type": "stream",
     "text": [
      "Failed: 1325_P300_nofilter.eeg\n",
      "Failed: 1208_P300_nofilter.eeg\n"
     ]
    },
    {
     "name": "stderr",
     "output_type": "stream",
     "text": [
      " 17%|█▋        | 62/367 [00:06<00:34,  8.89it/s]"
     ]
    },
    {
     "name": "stdout",
     "output_type": "stream",
     "text": [
      "Failed: 1301_P300_nofilter.eeg\n",
      "Failed: 1243_P300_nofilter.eeg\n"
     ]
    },
    {
     "name": "stderr",
     "output_type": "stream",
     "text": [
      " 17%|█▋        | 63/367 [00:06<00:33,  8.94it/s]"
     ]
    },
    {
     "name": "stdout",
     "output_type": "stream",
     "text": [
      "Failed: 1365_P300_nofilter.eeg\n",
      "Failed: 1175_P300_nofilter.eeg\n"
     ]
    },
    {
     "name": "stderr",
     "output_type": "stream",
     "text": [
      " 18%|█▊        | 66/367 [00:06<00:33,  8.88it/s]"
     ]
    },
    {
     "name": "stdout",
     "output_type": "stream",
     "text": [
      "Failed: 1354_P300_nofilter.eeg\n",
      "Failed: 1226_P300_nofilter.eeg\n",
      "Failed: 1114_P300_nofilter.eeg\n",
      "Failed: 1006_P300_nofilter.eeg\n"
     ]
    },
    {
     "name": "stderr",
     "output_type": "stream",
     "text": [
      " 19%|█▉        | 71/367 [00:07<00:28, 10.40it/s]"
     ]
    },
    {
     "name": "stdout",
     "output_type": "stream",
     "text": [
      "Failed: 1145_P300_nofilter.eeg\n",
      "Failed: 1162_P300_nofilter.eeg\n",
      "Failed: 1292_P300_nofilter.eeg\n"
     ]
    },
    {
     "name": "stderr",
     "output_type": "stream",
     "text": [
      " 20%|█▉        | 73/367 [00:07<00:28, 10.18it/s]"
     ]
    },
    {
     "name": "stdout",
     "output_type": "stream",
     "text": [
      "Failed: 1051_P300_nofilter.eeg\n",
      "Failed: 1089_P300_nofilter.eeg\n"
     ]
    },
    {
     "name": "stderr",
     "output_type": "stream",
     "text": [
      " 20%|██        | 75/367 [00:07<00:30,  9.68it/s]"
     ]
    },
    {
     "name": "stdout",
     "output_type": "stream",
     "text": [
      "Failed: 1304_P300_nofilter.eeg\n",
      "Failed: 1253_P300_nofilter.eeg\n"
     ]
    },
    {
     "name": "stderr",
     "output_type": "stream",
     "text": [
      " 21%|██        | 77/367 [00:07<00:30,  9.62it/s]"
     ]
    },
    {
     "name": "stdout",
     "output_type": "stream",
     "text": [
      "Failed: 1332_P300_nofilter.eeg\n",
      "Failed: 1101_P300_nofilter.eeg\n"
     ]
    },
    {
     "name": "stderr",
     "output_type": "stream",
     "text": [
      " 22%|██▏       | 79/367 [00:08<00:29,  9.61it/s]"
     ]
    },
    {
     "name": "stdout",
     "output_type": "stream",
     "text": [
      "Failed: 1309_P300_nofilter.eeg\n",
      "Failed: 1202_P300_nofilter.eeg\n"
     ]
    },
    {
     "name": "stderr",
     "output_type": "stream",
     "text": [
      " 22%|██▏       | 81/367 [00:08<00:30,  9.31it/s]"
     ]
    }
   ],
   "source": [
    "studyfolders = [folder for folder in os.listdir(parentpath)]\n",
    "for studyfolder in studyfolders:\n",
    "    myp300 = Standard.BandFilter(parentpath+\"/\"+studyfolder, taskname, type=\"bandstop\")\n",
    "    myp300.gen_taskdata(\"alpha\")\n",
    "    myp300.write_taskdata()"
   ]
  },
  {
   "cell_type": "code",
   "execution_count": null,
   "metadata": {},
   "outputs": [],
   "source": []
  }
 ],
 "metadata": {
  "kernelspec": {
   "display_name": "Python 3",
   "language": "python",
   "name": "python3"
  },
  "language_info": {
   "codemirror_mode": {
    "name": "ipython",
    "version": 3
   },
   "file_extension": ".py",
   "mimetype": "text/x-python",
   "name": "python",
   "nbconvert_exporter": "python",
   "pygments_lexer": "ipython3",
   "version": "3.8.5"
  }
 },
 "nbformat": 4,
 "nbformat_minor": 4
}
