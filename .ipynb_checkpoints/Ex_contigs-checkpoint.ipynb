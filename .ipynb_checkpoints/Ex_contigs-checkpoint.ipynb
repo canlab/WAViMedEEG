{
 "cells": [
  {
   "cell_type": "markdown",
   "metadata": {},
   "source": [
    "<h1> Example Contig Generation </h1>\n",
    "<p> First, we'll import the 'Prep' module, to use its 'Trials' class, os\n",
    "\n",
    "</p>\n",
    "<p> and TQDM, which is a handy pip-installable package that gives us nice loading bars. </p>"
   ]
  },
  {
   "cell_type": "code",
   "execution_count": 1,
   "metadata": {},
   "outputs": [],
   "source": [
    "import Prep, os\n",
    "from tqdm import tqdm"
   ]
  },
  {
   "cell_type": "markdown",
   "metadata": {},
   "source": [
    "<h2> Set your paths! </h2>\n",
    "<p> 'parentpath' points to a directory where your study folders are stored, and we'll generate new contigs for a trial if it's found in any of these folders </p>"
   ]
  },
  {
   "cell_type": "code",
   "execution_count": 2,
   "metadata": {},
   "outputs": [],
   "source": [
    "parentpath = \"/wavi/EEGstudies\"\n",
    "studyFolder = \"CANlab\""
   ]
  },
  {
   "cell_type": "markdown",
   "metadata": {},
   "source": [
    "<h3> Set your task! </h3>\n",
    "<p> 'taskname' is one of the tasks supported via config.py </p>"
   ]
  },
  {
   "cell_type": "code",
   "execution_count": 3,
   "metadata": {},
   "outputs": [],
   "source": [
    "taskname = \"P300\""
   ]
  },
  {
   "cell_type": "markdown",
   "metadata": {},
   "source": [
    "<h3> Instantiate a 'Trials' Object </h3>\n",
    "<p> 'Trials' takes one positional argument, the path of the task folder to be loaded in and processed </p>\n",
    "<p> We'll instantiate this object for each of our study folders that contains this task, and operate on it to create contigs, and spectra. </p>\n",
    "<h4> gen_contigs() </h4>\n",
    "<p> Takes one positional argument: the length of the contig in samples, @ 250 Hz\n",
    "<br> and has the following optional arguments: \n",
    "<br> - network_channels: (string) binary list of channels in order found in config.py, helper function Prep.BinarizeChannels() can provide string\n",
    "<br> - artDegree: (int) corresponds to degree of artifact applied, from that found in wavi-output .art files, default 2=none\n",
    "    \n",
    "<h4> write_contigs() </h4>\n",
    "<p> Writes contigs to files </p>\n",
    "    \n",
    "<h4> gen_spectra() </h4>\n",
    "<p> Takes the same positional argument, and same optional arguments </p>\n",
    "\n",
    "<h4> write_spectra() </h4>\n",
    "<p> Writes spectra to files </p>"
   ]
  },
  {
   "cell_type": "code",
   "execution_count": 4,
   "metadata": {},
   "outputs": [
    {
     "name": "stderr",
     "output_type": "stream",
     "text": [
      "  0%|          | 0/44 [00:00<?, ?it/s]"
     ]
    },
    {
     "name": "stdout",
     "output_type": "stream",
     "text": [
      "Contigifying Data:\n",
      "====================\n"
     ]
    },
    {
     "name": "stderr",
     "output_type": "stream",
     "text": [
      "100%|██████████| 44/44 [00:45<00:00,  1.04s/it]\n",
      "  1%|▏         | 72/5166 [00:00<00:07, 716.34it/s]"
     ]
    },
    {
     "name": "stdout",
     "output_type": "stream",
     "text": [
      "Writing Contigs:\n",
      "====================\n"
     ]
    },
    {
     "name": "stderr",
     "output_type": "stream",
     "text": [
      "100%|██████████| 5166/5166 [00:06<00:00, 766.18it/s]\n",
      "  0%|          | 25/5166 [00:00<00:20, 247.78it/s]"
     ]
    },
    {
     "name": "stdout",
     "output_type": "stream",
     "text": [
      "Fourier Transforming Data:\n",
      "====================\n"
     ]
    },
    {
     "name": "stderr",
     "output_type": "stream",
     "text": [
      "100%|██████████| 5166/5166 [00:19<00:00, 266.68it/s]\n",
      "  2%|▏         | 127/5166 [00:00<00:03, 1263.77it/s]"
     ]
    },
    {
     "name": "stdout",
     "output_type": "stream",
     "text": [
      "Writing Spectra:\n",
      "====================\n"
     ]
    },
    {
     "name": "stderr",
     "output_type": "stream",
     "text": [
      "100%|██████████| 5166/5166 [00:03<00:00, 1299.67it/s]\n",
      "  0%|          | 0/367 [00:00<?, ?it/s]"
     ]
    },
    {
     "name": "stdout",
     "output_type": "stream",
     "text": [
      "Contigifying Data:\n",
      "====================\n"
     ]
    },
    {
     "name": "stderr",
     "output_type": "stream",
     "text": [
      " 25%|██▌       | 92/367 [01:28<04:11,  1.09it/s]/wavi/wavimedical/wavimedical/Prep.py:284: UserWarning: genfromtxt: Empty input file: \"/wavi/EEGstudies/ref 41-50/P300/1192_P300_nofilter.art\"\n",
      "  artifact = np.genfromtxt(\n"
     ]
    },
    {
     "name": "stdout",
     "output_type": "stream",
     "text": [
      "Most likely an empty text file was encountered.                    Skipping: 1192_P300_nofilter.art\n"
     ]
    },
    {
     "name": "stderr",
     "output_type": "stream",
     "text": [
      " 33%|███▎      | 120/367 [01:54<03:51,  1.07it/s]/wavi/wavimedical/wavimedical/Prep.py:284: UserWarning: genfromtxt: Empty input file: \"/wavi/EEGstudies/ref 41-50/P300/1190_P300_nofilter.art\"\n",
      "  artifact = np.genfromtxt(\n"
     ]
    },
    {
     "name": "stdout",
     "output_type": "stream",
     "text": [
      "Most likely an empty text file was encountered.                    Skipping: 1190_P300_nofilter.art\n"
     ]
    },
    {
     "name": "stderr",
     "output_type": "stream",
     "text": [
      " 38%|███▊      | 140/367 [02:10<03:17,  1.15it/s]/wavi/wavimedical/wavimedical/Prep.py:284: UserWarning: genfromtxt: Empty input file: \"/wavi/EEGstudies/ref 41-50/P300/1056_P300_nofilter.art\"\n",
      "  artifact = np.genfromtxt(\n"
     ]
    },
    {
     "name": "stdout",
     "output_type": "stream",
     "text": [
      "Most likely an empty text file was encountered.                    Skipping: 1056_P300_nofilter.art\n"
     ]
    },
    {
     "name": "stderr",
     "output_type": "stream",
     "text": [
      " 97%|█████████▋| 356/367 [05:39<00:13,  1.20s/it]/wavi/wavimedical/wavimedical/Prep.py:284: UserWarning: genfromtxt: Empty input file: \"/wavi/EEGstudies/ref 41-50/P300/1314_P300_nofilter.art\"\n",
      "  artifact = np.genfromtxt(\n"
     ]
    },
    {
     "name": "stdout",
     "output_type": "stream",
     "text": [
      "Most likely an empty text file was encountered.                    Skipping: 1314_P300_nofilter.art\n"
     ]
    },
    {
     "name": "stderr",
     "output_type": "stream",
     "text": [
      "100%|██████████| 367/367 [05:49<00:00,  1.05it/s]\n",
      "  0%|          | 81/51745 [00:00<01:04, 806.37it/s]"
     ]
    },
    {
     "name": "stdout",
     "output_type": "stream",
     "text": [
      "Writing Contigs:\n",
      "====================\n"
     ]
    },
    {
     "name": "stderr",
     "output_type": "stream",
     "text": [
      "100%|██████████| 51745/51745 [01:05<00:00, 784.96it/s]\n",
      "  0%|          | 27/51745 [00:00<03:15, 264.67it/s]"
     ]
    },
    {
     "name": "stdout",
     "output_type": "stream",
     "text": [
      "Fourier Transforming Data:\n",
      "====================\n"
     ]
    },
    {
     "name": "stderr",
     "output_type": "stream",
     "text": [
      "100%|██████████| 51745/51745 [03:13<00:00, 267.37it/s]\n",
      "  0%|          | 128/51745 [00:00<00:40, 1272.93it/s]"
     ]
    },
    {
     "name": "stdout",
     "output_type": "stream",
     "text": [
      "Writing Spectra:\n",
      "====================\n"
     ]
    },
    {
     "name": "stderr",
     "output_type": "stream",
     "text": [
      "100%|██████████| 51745/51745 [00:40<00:00, 1284.49it/s]\n",
      "  0%|          | 0/198 [00:00<?, ?it/s]"
     ]
    },
    {
     "name": "stdout",
     "output_type": "stream",
     "text": [
      "Contigifying Data:\n",
      "====================\n"
     ]
    },
    {
     "name": "stderr",
     "output_type": "stream",
     "text": [
      " 55%|█████▌    | 109/198 [01:43<01:27,  1.01it/s]/wavi/wavimedical/wavimedical/Prep.py:284: UserWarning: genfromtxt: Empty input file: \"/wavi/EEGstudies/ref 31-40/P300/1057_P300_nofilter.art\"\n",
      "  artifact = np.genfromtxt(\n"
     ]
    },
    {
     "name": "stdout",
     "output_type": "stream",
     "text": [
      "Most likely an empty text file was encountered.                    Skipping: 1057_P300_nofilter.art\n"
     ]
    },
    {
     "name": "stderr",
     "output_type": "stream",
     "text": [
      " 72%|███████▏  | 143/198 [02:15<00:51,  1.07it/s]/wavi/wavimedical/wavimedical/Prep.py:284: UserWarning: genfromtxt: Empty input file: \"/wavi/EEGstudies/ref 31-40/P300/1170_P300_nofilter.art\"\n",
      "  artifact = np.genfromtxt(\n"
     ]
    },
    {
     "name": "stdout",
     "output_type": "stream",
     "text": [
      "Most likely an empty text file was encountered.                    Skipping: 1170_P300_nofilter.art\n"
     ]
    },
    {
     "name": "stderr",
     "output_type": "stream",
     "text": [
      "100%|██████████| 198/198 [03:08<00:00,  1.05it/s]\n",
      "  0%|          | 78/29532 [00:00<00:37, 775.86it/s]"
     ]
    },
    {
     "name": "stdout",
     "output_type": "stream",
     "text": [
      "Writing Contigs:\n",
      "====================\n"
     ]
    },
    {
     "name": "stderr",
     "output_type": "stream",
     "text": [
      "100%|██████████| 29532/29532 [00:37<00:00, 782.55it/s]\n",
      "  0%|          | 27/29532 [00:00<01:51, 265.63it/s]"
     ]
    },
    {
     "name": "stdout",
     "output_type": "stream",
     "text": [
      "Fourier Transforming Data:\n",
      "====================\n"
     ]
    },
    {
     "name": "stderr",
     "output_type": "stream",
     "text": [
      "100%|██████████| 29532/29532 [01:50<00:00, 268.04it/s]\n",
      "  0%|          | 128/29532 [00:00<00:23, 1271.75it/s]"
     ]
    },
    {
     "name": "stdout",
     "output_type": "stream",
     "text": [
      "Writing Spectra:\n",
      "====================\n"
     ]
    },
    {
     "name": "stderr",
     "output_type": "stream",
     "text": [
      "100%|██████████| 29532/29532 [00:22<00:00, 1285.26it/s]\n",
      "  0%|          | 0/225 [00:00<?, ?it/s]"
     ]
    },
    {
     "name": "stdout",
     "output_type": "stream",
     "text": [
      "Contigifying Data:\n",
      "====================\n"
     ]
    },
    {
     "name": "stderr",
     "output_type": "stream",
     "text": [
      "100%|██████████| 225/225 [03:40<00:00,  1.02it/s]\n",
      "  0%|          | 78/31729 [00:00<00:41, 771.79it/s]"
     ]
    },
    {
     "name": "stdout",
     "output_type": "stream",
     "text": [
      "Writing Contigs:\n",
      "====================\n"
     ]
    },
    {
     "name": "stderr",
     "output_type": "stream",
     "text": [
      "100%|██████████| 31729/31729 [00:40<00:00, 783.37it/s]\n",
      "  0%|          | 27/31729 [00:00<02:01, 260.23it/s]"
     ]
    },
    {
     "name": "stdout",
     "output_type": "stream",
     "text": [
      "Fourier Transforming Data:\n",
      "====================\n"
     ]
    },
    {
     "name": "stderr",
     "output_type": "stream",
     "text": [
      "100%|██████████| 31729/31729 [01:58<00:00, 268.36it/s]\n",
      "  0%|          | 128/31729 [00:00<00:24, 1271.98it/s]"
     ]
    },
    {
     "name": "stdout",
     "output_type": "stream",
     "text": [
      "Writing Spectra:\n",
      "====================\n"
     ]
    },
    {
     "name": "stderr",
     "output_type": "stream",
     "text": [
      "100%|██████████| 31729/31729 [00:24<00:00, 1282.41it/s]\n",
      "  0%|          | 0/275 [00:00<?, ?it/s]"
     ]
    },
    {
     "name": "stdout",
     "output_type": "stream",
     "text": [
      "Contigifying Data:\n",
      "====================\n"
     ]
    },
    {
     "name": "stderr",
     "output_type": "stream",
     "text": [
      " 27%|██▋       | 74/275 [01:08<03:08,  1.07it/s]/wavi/wavimedical/wavimedical/Prep.py:284: UserWarning: genfromtxt: Empty input file: \"/wavi/EEGstudies/ref 24-30/P300/1064_P300_nofilter.art\"\n",
      "  artifact = np.genfromtxt(\n"
     ]
    },
    {
     "name": "stdout",
     "output_type": "stream",
     "text": [
      "Most likely an empty text file was encountered.                    Skipping: 1064_P300_nofilter.art\n"
     ]
    },
    {
     "name": "stderr",
     "output_type": "stream",
     "text": [
      "100%|██████████| 275/275 [04:13<00:00,  1.08it/s]\n",
      "  0%|          | 77/40850 [00:00<00:53, 762.95it/s]"
     ]
    },
    {
     "name": "stdout",
     "output_type": "stream",
     "text": [
      "Writing Contigs:\n",
      "====================\n"
     ]
    },
    {
     "name": "stderr",
     "output_type": "stream",
     "text": [
      "100%|██████████| 40850/40850 [00:52<00:00, 774.69it/s]\n",
      "  0%|          | 27/40850 [00:00<02:36, 260.98it/s]"
     ]
    },
    {
     "name": "stdout",
     "output_type": "stream",
     "text": [
      "Fourier Transforming Data:\n",
      "====================\n"
     ]
    },
    {
     "name": "stderr",
     "output_type": "stream",
     "text": [
      "100%|██████████| 40850/40850 [02:36<00:00, 260.56it/s]\n",
      "  0%|          | 127/40850 [00:00<00:32, 1267.90it/s]"
     ]
    },
    {
     "name": "stdout",
     "output_type": "stream",
     "text": [
      "Writing Spectra:\n",
      "====================\n"
     ]
    },
    {
     "name": "stderr",
     "output_type": "stream",
     "text": [
      "100%|██████████| 40850/40850 [00:32<00:00, 1272.01it/s]\n",
      "  0%|          | 0/479 [00:00<?, ?it/s]"
     ]
    },
    {
     "name": "stdout",
     "output_type": "stream",
     "text": [
      "Contigifying Data:\n",
      "====================\n"
     ]
    },
    {
     "name": "stderr",
     "output_type": "stream",
     "text": [
      "100%|██████████| 479/479 [07:41<00:00,  1.04it/s]\n",
      "  0%|          | 78/76808 [00:00<01:38, 775.57it/s]"
     ]
    },
    {
     "name": "stdout",
     "output_type": "stream",
     "text": [
      "Writing Contigs:\n",
      "====================\n"
     ]
    },
    {
     "name": "stderr",
     "output_type": "stream",
     "text": [
      "100%|██████████| 76808/76808 [01:37<00:00, 786.64it/s]\n",
      "  0%|          | 27/76808 [00:00<04:53, 262.01it/s]"
     ]
    },
    {
     "name": "stdout",
     "output_type": "stream",
     "text": [
      "Fourier Transforming Data:\n",
      "====================\n"
     ]
    },
    {
     "name": "stderr",
     "output_type": "stream",
     "text": [
      "100%|██████████| 76808/76808 [04:46<00:00, 267.63it/s]\n",
      "  0%|          | 130/76808 [00:00<00:59, 1292.68it/s]"
     ]
    },
    {
     "name": "stdout",
     "output_type": "stream",
     "text": [
      "Writing Spectra:\n",
      "====================\n"
     ]
    },
    {
     "name": "stderr",
     "output_type": "stream",
     "text": [
      "100%|██████████| 76808/76808 [01:00<00:00, 1277.62it/s]\n",
      "  0%|          | 0/89 [00:00<?, ?it/s]"
     ]
    },
    {
     "name": "stdout",
     "output_type": "stream",
     "text": [
      "Contigifying Data:\n",
      "====================\n"
     ]
    },
    {
     "name": "stderr",
     "output_type": "stream",
     "text": [
      "100%|██████████| 89/89 [01:29<00:00,  1.00s/it]\n",
      "  1%|          | 77/11720 [00:00<00:15, 769.62it/s]"
     ]
    },
    {
     "name": "stdout",
     "output_type": "stream",
     "text": [
      "Writing Contigs:\n",
      "====================\n"
     ]
    },
    {
     "name": "stderr",
     "output_type": "stream",
     "text": [
      "100%|██████████| 11720/11720 [00:14<00:00, 793.46it/s]\n",
      "  0%|          | 27/11720 [00:00<00:44, 264.84it/s]"
     ]
    },
    {
     "name": "stdout",
     "output_type": "stream",
     "text": [
      "Fourier Transforming Data:\n",
      "====================\n"
     ]
    },
    {
     "name": "stderr",
     "output_type": "stream",
     "text": [
      "100%|██████████| 11720/11720 [00:43<00:00, 268.88it/s]\n",
      "  2%|▏         | 259/11720 [00:00<00:08, 1291.39it/s]"
     ]
    },
    {
     "name": "stdout",
     "output_type": "stream",
     "text": [
      "Writing Spectra:\n",
      "====================\n"
     ]
    },
    {
     "name": "stderr",
     "output_type": "stream",
     "text": [
      "100%|██████████| 11720/11720 [00:09<00:00, 1289.64it/s]\n",
      "  0%|          | 0/358 [00:00<?, ?it/s]"
     ]
    },
    {
     "name": "stdout",
     "output_type": "stream",
     "text": [
      "Contigifying Data:\n",
      "====================\n"
     ]
    },
    {
     "name": "stderr",
     "output_type": "stream",
     "text": [
      "100%|██████████| 358/358 [06:01<00:00,  1.01s/it]\n",
      "  0%|          | 80/37204 [00:00<00:46, 796.37it/s]"
     ]
    },
    {
     "name": "stdout",
     "output_type": "stream",
     "text": [
      "Writing Contigs:\n",
      "====================\n"
     ]
    },
    {
     "name": "stderr",
     "output_type": "stream",
     "text": [
      "100%|██████████| 37204/37204 [00:47<00:00, 789.73it/s]\n",
      "  0%|          | 26/37204 [00:00<02:27, 252.07it/s]"
     ]
    },
    {
     "name": "stdout",
     "output_type": "stream",
     "text": [
      "Fourier Transforming Data:\n",
      "====================\n"
     ]
    },
    {
     "name": "stderr",
     "output_type": "stream",
     "text": [
      "100%|██████████| 37204/37204 [02:21<00:00, 263.64it/s]\n",
      "  0%|          | 125/37204 [00:00<00:29, 1247.85it/s]"
     ]
    },
    {
     "name": "stdout",
     "output_type": "stream",
     "text": [
      "Writing Spectra:\n",
      "====================\n"
     ]
    },
    {
     "name": "stderr",
     "output_type": "stream",
     "text": [
      "100%|██████████| 37204/37204 [00:28<00:00, 1297.08it/s]\n"
     ]
    }
   ],
   "source": [
    "studyfolders = [folder for folder in os.listdir(parentpath) if \"CANlab\" not in folder]\n",
    "for studyfolder in studyfolders:\n",
    "    myp300 = Prep.Trials(parentpath+\"/\"+studyfolder+\"/\"+taskname)\n",
    "    myp300.gen_contigs(250, artDegree=0)\n",
    "    myp300.write_contigs()\n",
    "    myp300.gen_spectra(250, artDegree=0)\n",
    "    myp300.write_spectra()"
   ]
  },
  {
   "cell_type": "code",
   "execution_count": 5,
   "metadata": {},
   "outputs": [
    {
     "name": "stderr",
     "output_type": "stream",
     "text": [
      "  0%|          | 0/20 [00:00<?, ?it/s]"
     ]
    },
    {
     "name": "stdout",
     "output_type": "stream",
     "text": [
      "Contigifying Data:\n",
      "====================\n"
     ]
    },
    {
     "name": "stderr",
     "output_type": "stream",
     "text": [
      "100%|██████████| 20/20 [00:16<00:00,  1.20it/s]\n",
      "  2%|▏         | 38/2410 [00:00<00:06, 379.24it/s]"
     ]
    },
    {
     "name": "stdout",
     "output_type": "stream",
     "text": [
      "Writing Contigs:\n",
      "====================\n"
     ]
    },
    {
     "name": "stderr",
     "output_type": "stream",
     "text": [
      "100%|██████████| 2410/2410 [00:06<00:00, 400.47it/s]\n",
      "  1%|          | 18/2410 [00:00<00:13, 176.29it/s]"
     ]
    },
    {
     "name": "stdout",
     "output_type": "stream",
     "text": [
      "Fourier Transforming Data:\n",
      "====================\n"
     ]
    },
    {
     "name": "stderr",
     "output_type": "stream",
     "text": [
      "100%|██████████| 2410/2410 [00:12<00:00, 185.87it/s]\n",
      "  3%|▎         | 69/2410 [00:00<00:03, 683.88it/s]"
     ]
    },
    {
     "name": "stdout",
     "output_type": "stream",
     "text": [
      "Writing Spectra:\n",
      "====================\n"
     ]
    },
    {
     "name": "stderr",
     "output_type": "stream",
     "text": [
      "100%|██████████| 2410/2410 [00:03<00:00, 689.20it/s]\n"
     ]
    }
   ],
   "source": [
    "# myp300 = Prep.Trials(parentpath+\"/\"+studyFolder+\"/\"+taskname)\n",
    "\n",
    "# # myp300.no_filter_rename()\n",
    "\n",
    "# myp300.gen_contigs(500, artDegree=2)\n",
    "# myp300.write_contigs()\n",
    "\n",
    "# myp300.gen_spectra(500, artDegree=2)\n",
    "# myp300.write_spectra()"
   ]
  },
  {
   "cell_type": "code",
   "execution_count": null,
   "metadata": {},
   "outputs": [],
   "source": []
  }
 ],
 "metadata": {
  "kernelspec": {
   "display_name": "Python 3",
   "language": "python",
   "name": "python3"
  },
  "language_info": {
   "codemirror_mode": {
    "name": "ipython",
    "version": 3
   },
   "file_extension": ".py",
   "mimetype": "text/x-python",
   "name": "python",
   "nbconvert_exporter": "python",
   "pygments_lexer": "ipython3",
   "version": "3.8.5"
  }
 },
 "nbformat": 4,
 "nbformat_minor": 4
}
