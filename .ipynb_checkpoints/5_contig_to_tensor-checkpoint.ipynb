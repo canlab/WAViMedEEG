{
 "cells": [
  {
   "cell_type": "code",
   "execution_count": null,
   "metadata": {},
   "outputs": [],
   "source": [
    "from __future__ import absolute_import, division, print_function, unicode_literals\n",
    "\n",
    "import tensorflow as tf\n",
    "from tensorflow import keras\n",
    "import matplotlib.pyplot as plot\n",
    "import numpy as np\n",
    "from numpy import genfromtxt\n",
    "import csv\n",
    "import sys, os, re\n",
    "import pathlib\n",
    "\n",
    "print(tf.__version__)"
   ]
  },
  {
   "cell_type": "code",
   "execution_count": 2,
   "metadata": {},
   "outputs": [],
   "source": [
    "# The CANlab/WAVi Pain Study is Pre-Formatted to resemble BIDS neuroimaging formatting\n",
    "# If your study does not abide to the following structure, please revisit previous scripts\n",
    "# .../StudyRepo\n",
    "# -------------> /raw\n",
    "# -------------------> /*.art\n",
    "# -------------------> /*.eeg\n",
    "# -------------------> /*.evt\n",
    "# -------------> /contigs\n",
    "# -------------------> /train          2:1 train:test\n",
    "# -------------------> /test"
   ]
  },
  {
   "cell_type": "code",
   "execution_count": 3,
   "metadata": {},
   "outputs": [
    {
     "name": "stdout",
     "output_type": "stream",
     "text": [
      "Please give the full path of the contigs folder: /home/clayton/science/CANlab/WAViMedEEG/CANlabStudy/contigs\n"
     ]
    }
   ],
   "source": [
    "directory = input(\"Please give the full path of the contigs folder: \")\n",
    "os.chdir(directory)"
   ]
  },
  {
   "cell_type": "code",
   "execution_count": 4,
   "metadata": {},
   "outputs": [],
   "source": [
    "train_path = pathlib.Path('train/')\n",
    "test_path = pathlib.Path('test/')"
   ]
  },
  {
   "cell_type": "code",
   "execution_count": 5,
   "metadata": {},
   "outputs": [
    {
     "name": "stdout",
     "output_type": "stream",
     "text": [
      "You have 114 training images.\n",
      "You have 57 testing images.\n"
     ]
    }
   ],
   "source": [
    "# load in image paths for training set\n",
    "\n",
    "import random\n",
    "train_image_paths = list(train_path.glob('*/*'))\n",
    "train_image_paths = [str(path) for path in train_image_paths]\n",
    "random.shuffle(train_image_paths)\n",
    "\n",
    "train_count = len(train_image_paths)\n",
    "print(\"You have\", train_count, \"training images.\")\n",
    "\n",
    "# load in image paths for testing set?\n",
    "\n",
    "test_image_paths = list(test_path.glob('*/*'))\n",
    "test_image_paths = [str(path) for path in test_image_paths]\n",
    "random.shuffle(test_image_paths)\n",
    "\n",
    "test_count = len(test_image_paths)\n",
    "print(\"You have\", test_count, \"testing images.\")"
   ]
  },
  {
   "cell_type": "code",
   "execution_count": 6,
   "metadata": {},
   "outputs": [
    {
     "name": "stdout",
     "output_type": "stream",
     "text": [
      "Labels discovered: ['chronic', 'p300']\n"
     ]
    }
   ],
   "source": [
    "#list the available labels\n",
    "label_names = sorted(item.name for item in train_path.glob('*/') if item.is_dir())\n",
    "print(\"Labels discovered:\", label_names)"
   ]
  },
  {
   "cell_type": "code",
   "execution_count": 7,
   "metadata": {},
   "outputs": [
    {
     "name": "stdout",
     "output_type": "stream",
     "text": [
      "Label indices: {'chronic': 0, 'p300': 1}\n"
     ]
    }
   ],
   "source": [
    "#assign an index to each label\n",
    "label_to_index = dict((name, index) for index, name in enumerate(label_names))\n",
    "print(\"Label indices:\", label_to_index)"
   ]
  },
  {
   "cell_type": "code",
   "execution_count": 18,
   "metadata": {},
   "outputs": [],
   "source": [
    "#create a list of every file and its index label\n",
    "train_image_labels = [label_to_index[pathlib.Path(path).parent.name]\n",
    "                     for path in train_image_paths]\n",
    "\n",
    "test_image_labels = [label_to_index[pathlib.Path(path).parent.name]\n",
    "                    for path in test_image_paths]"
   ]
  },
  {
   "cell_type": "code",
   "execution_count": 19,
   "metadata": {},
   "outputs": [],
   "source": [
    "def load_numpy_stack(paths):\n",
    "    numpy_stack = []\n",
    "    for path in paths:\n",
    "        numpy_stack.append(genfromtxt(path, delimiter=\",\"))\n",
    "    return(numpy_stack)"
   ]
  },
  {
   "cell_type": "code",
   "execution_count": 20,
   "metadata": {},
   "outputs": [],
   "source": [
    "train_arrays = load_numpy_stack(train_image_paths)\n",
    "test_arrays = load_numpy_stack(test_image_paths)"
   ]
  },
  {
   "cell_type": "code",
   "execution_count": 21,
   "metadata": {},
   "outputs": [],
   "source": [
    "train_dataset = tf.data.Dataset.from_tensor_slices((train_arrays, train_image_labels))\n",
    "test_dataset = tf.data.Dataset.from_tensor_slices((test_arrays, test_image_labels))"
   ]
  },
  {
   "cell_type": "code",
   "execution_count": 22,
   "metadata": {},
   "outputs": [],
   "source": [
    "BATCH_SIZE = 64\n",
    "SHUFFLE_BUFFER_SIZE = 100\n",
    "\n",
    "train_dataset = train_dataset.shuffle(SHUFFLE_BUFFER_SIZE).batch(BATCH_SIZE)\n",
    "test_dataset = test_dataset.batch(BATCH_SIZE)"
   ]
  },
  {
   "cell_type": "code",
   "execution_count": 41,
   "metadata": {},
   "outputs": [],
   "source": [
    "def kerasModel(learn):\n",
    "    model = tf.keras.Sequential([\n",
    "        tf.keras.layers.Flatten(input_shape=(750, 19)),\n",
    "        tf.keras.layers.Dense(128, activation='relu'),\n",
    "        tf.keras.layers.Dense(10, activation='softmax')\n",
    "    ])\n",
    "\n",
    "    model.compile(optimizer=tf.keras.optimizers.RMSprop(learning_rate=learn),\n",
    "                 loss = tf.keras.losses.SparseCategoricalCrossentropy(),\n",
    "                 metrics = [tf.keras.metrics.SparseCategoricalAccuracy()])"
   ]
  },
  {
   "cell_type": "code",
   "execution_count": 42,
   "metadata": {},
   "outputs": [],
   "source": [
    "def fitModel():\n",
    "    model.fit(train_dataset, epochs=10)"
   ]
  },
  {
   "cell_type": "code",
   "execution_count": 43,
   "metadata": {},
   "outputs": [],
   "source": [
    "def testModel():\n",
    "    metrics = model.evaluate(test_dataset)\n",
    "    return(metrics)"
   ]
  },
  {
   "cell_type": "code",
   "execution_count": null,
   "metadata": {},
   "outputs": [
    {
     "name": "stdout",
     "output_type": "stream",
     "text": [
      "Epoch 1/10\n",
      "2/2 [==============================] - 0s 31ms/step - loss: 0.0000e+00 - sparse_categorical_accuracy: 1.0000\n",
      "Epoch 2/10\n",
      "2/2 [==============================] - 0s 32ms/step - loss: 0.0000e+00 - sparse_categorical_accuracy: 1.0000\n",
      "Epoch 3/10\n",
      "2/2 [==============================] - 0s 34ms/step - loss: 0.0000e+00 - sparse_categorical_accuracy: 1.0000\n",
      "Epoch 4/10\n",
      "2/2 [==============================] - 0s 33ms/step - loss: 0.0000e+00 - sparse_categorical_accuracy: 1.0000\n",
      "Epoch 5/10\n",
      "2/2 [==============================] - 0s 30ms/step - loss: 0.0000e+00 - sparse_categorical_accuracy: 1.0000\n",
      "Epoch 6/10\n",
      "2/2 [==============================] - 0s 32ms/step - loss: 0.0000e+00 - sparse_categorical_accuracy: 1.0000\n",
      "Epoch 7/10\n",
      "2/2 [==============================] - 0s 33ms/step - loss: 0.0000e+00 - sparse_categorical_accuracy: 1.0000\n",
      "Epoch 8/10\n",
      "2/2 [==============================] - 0s 32ms/step - loss: 0.0000e+00 - sparse_categorical_accuracy: 1.0000\n",
      "Epoch 9/10\n",
      "2/2 [==============================] - 0s 33ms/step - loss: 0.0000e+00 - sparse_categorical_accuracy: 1.0000\n",
      "Epoch 10/10\n",
      "2/2 [==============================] - 0s 31ms/step - loss: 0.0000e+00 - sparse_categorical_accuracy: 1.0000\n",
      "1/1 [==============================] - 0s 10ms/step - loss: 63.9748 - sparse_categorical_accuracy: 0.4211\n",
      "Epoch 1/10\n",
      "2/2 [==============================] - 0s 31ms/step - loss: 0.0000e+00 - sparse_categorical_accuracy: 1.0000\n",
      "Epoch 2/10\n",
      "2/2 [==============================] - 0s 31ms/step - loss: 0.0000e+00 - sparse_categorical_accuracy: 1.0000\n",
      "Epoch 3/10\n",
      "2/2 [==============================] - 0s 34ms/step - loss: 0.0000e+00 - sparse_categorical_accuracy: 1.0000\n",
      "Epoch 4/10\n",
      "2/2 [==============================] - 0s 33ms/step - loss: 0.0000e+00 - sparse_categorical_accuracy: 1.0000\n",
      "Epoch 5/10\n",
      "2/2 [==============================] - 0s 33ms/step - loss: 0.0000e+00 - sparse_categorical_accuracy: 1.0000\n",
      "Epoch 6/10\n",
      "2/2 [==============================] - 0s 31ms/step - loss: 0.0000e+00 - sparse_categorical_accuracy: 1.0000\n",
      "Epoch 7/10\n",
      "2/2 [==============================] - 0s 32ms/step - loss: 0.0000e+00 - sparse_categorical_accuracy: 1.0000\n",
      "Epoch 8/10\n",
      "2/2 [==============================] - 0s 32ms/step - loss: 0.0000e+00 - sparse_categorical_accuracy: 1.0000\n",
      "Epoch 9/10\n",
      "2/2 [==============================] - 0s 35ms/step - loss: 0.0000e+00 - sparse_categorical_accuracy: 1.0000\n",
      "Epoch 10/10\n",
      "2/2 [==============================] - 0s 33ms/step - loss: 0.0000e+00 - sparse_categorical_accuracy: 1.0000\n",
      "1/1 [==============================] - 0s 11ms/step - loss: 63.9749 - sparse_categorical_accuracy: 0.4211\n",
      "Epoch 1/10\n",
      "2/2 [==============================] - 0s 29ms/step - loss: 0.0000e+00 - sparse_categorical_accuracy: 1.0000\n",
      "Epoch 2/10\n",
      "2/2 [==============================] - 0s 32ms/step - loss: 0.0000e+00 - sparse_categorical_accuracy: 1.0000\n",
      "Epoch 3/10\n",
      "2/2 [==============================] - 0s 32ms/step - loss: 0.0000e+00 - sparse_categorical_accuracy: 1.0000\n",
      "Epoch 4/10\n",
      "2/2 [==============================] - 0s 31ms/step - loss: 0.0000e+00 - sparse_categorical_accuracy: 1.0000\n",
      "Epoch 5/10\n",
      "2/2 [==============================] - 0s 34ms/step - loss: 0.0000e+00 - sparse_categorical_accuracy: 1.0000\n",
      "Epoch 6/10\n",
      "2/2 [==============================] - 0s 32ms/step - loss: 0.0000e+00 - sparse_categorical_accuracy: 1.0000\n",
      "Epoch 7/10\n",
      "2/2 [==============================] - 0s 32ms/step - loss: 0.0000e+00 - sparse_categorical_accuracy: 1.0000\n",
      "Epoch 8/10\n",
      "2/2 [==============================] - 0s 33ms/step - loss: 0.0000e+00 - sparse_categorical_accuracy: 1.0000\n",
      "Epoch 9/10\n",
      "2/2 [==============================] - 0s 33ms/step - loss: 0.0000e+00 - sparse_categorical_accuracy: 1.0000\n",
      "Epoch 10/10\n",
      "2/2 [==============================] - 0s 32ms/step - loss: 0.0000e+00 - sparse_categorical_accuracy: 1.0000\n",
      "1/1 [==============================] - 0s 9ms/step - loss: 63.9751 - sparse_categorical_accuracy: 0.4211\n",
      "Epoch 1/10\n",
      "2/2 [==============================] - 0s 29ms/step - loss: 0.0000e+00 - sparse_categorical_accuracy: 1.0000\n",
      "Epoch 2/10\n",
      "2/2 [==============================] - 0s 30ms/step - loss: 0.0000e+00 - sparse_categorical_accuracy: 1.0000\n",
      "Epoch 3/10\n",
      "2/2 [==============================] - 0s 32ms/step - loss: 0.0000e+00 - sparse_categorical_accuracy: 1.0000\n",
      "Epoch 4/10\n",
      "2/2 [==============================] - 0s 31ms/step - loss: 0.0000e+00 - sparse_categorical_accuracy: 1.0000\n",
      "Epoch 5/10\n",
      "2/2 [==============================] - 0s 32ms/step - loss: 0.0000e+00 - sparse_categorical_accuracy: 1.0000\n",
      "Epoch 6/10\n",
      "2/2 [==============================] - 0s 30ms/step - loss: 0.0000e+00 - sparse_categorical_accuracy: 1.0000\n",
      "Epoch 7/10\n",
      "2/2 [==============================] - 0s 30ms/step - loss: 0.0000e+00 - sparse_categorical_accuracy: 1.0000\n",
      "Epoch 8/10\n",
      "2/2 [==============================] - 0s 31ms/step - loss: 0.0000e+00 - sparse_categorical_accuracy: 1.0000\n",
      "Epoch 9/10\n",
      "2/2 [==============================] - 0s 33ms/step - loss: 0.0000e+00 - sparse_categorical_accuracy: 1.0000\n",
      "Epoch 10/10\n",
      "2/2 [==============================] - 0s 32ms/step - loss: 0.0000e+00 - sparse_categorical_accuracy: 1.0000\n",
      "1/1 [==============================] - 0s 10ms/step - loss: 63.9753 - sparse_categorical_accuracy: 0.4211\n",
      "Epoch 1/10\n",
      "2/2 [==============================] - 0s 28ms/step - loss: 0.0000e+00 - sparse_categorical_accuracy: 1.0000\n",
      "Epoch 2/10\n",
      "2/2 [==============================] - 0s 36ms/step - loss: 0.0000e+00 - sparse_categorical_accuracy: 1.0000\n",
      "Epoch 3/10\n",
      "2/2 [==============================] - 0s 29ms/step - loss: 0.0000e+00 - sparse_categorical_accuracy: 1.0000\n",
      "Epoch 4/10\n",
      "2/2 [==============================] - 0s 33ms/step - loss: 0.0000e+00 - sparse_categorical_accuracy: 1.0000\n",
      "Epoch 5/10\n",
      "2/2 [==============================] - 0s 32ms/step - loss: 0.0000e+00 - sparse_categorical_accuracy: 1.0000\n",
      "Epoch 6/10\n",
      "2/2 [==============================] - 0s 31ms/step - loss: 0.0000e+00 - sparse_categorical_accuracy: 1.0000\n",
      "Epoch 7/10\n",
      "2/2 [==============================] - 0s 34ms/step - loss: 0.0000e+00 - sparse_categorical_accuracy: 1.0000\n",
      "Epoch 8/10\n",
      "2/2 [==============================] - 0s 30ms/step - loss: 0.0000e+00 - sparse_categorical_accuracy: 1.0000\n",
      "Epoch 9/10\n",
      "2/2 [==============================] - 0s 31ms/step - loss: 0.0000e+00 - sparse_categorical_accuracy: 1.0000\n",
      "Epoch 10/10\n",
      "2/2 [==============================] - 0s 29ms/step - loss: 0.0000e+00 - sparse_categorical_accuracy: 1.0000\n",
      "1/1 [==============================] - 0s 11ms/step - loss: 63.9756 - sparse_categorical_accuracy: 0.4211\n",
      "Epoch 1/10\n",
      "2/2 [==============================] - 0s 28ms/step - loss: 0.0000e+00 - sparse_categorical_accuracy: 1.0000\n",
      "Epoch 2/10\n",
      "2/2 [==============================] - 0s 33ms/step - loss: 0.0000e+00 - sparse_categorical_accuracy: 1.0000\n",
      "Epoch 3/10\n",
      "2/2 [==============================] - 0s 30ms/step - loss: 0.0000e+00 - sparse_categorical_accuracy: 1.0000\n",
      "Epoch 4/10\n",
      "2/2 [==============================] - 0s 37ms/step - loss: 0.0000e+00 - sparse_categorical_accuracy: 1.0000\n",
      "Epoch 5/10\n",
      "2/2 [==============================] - 0s 35ms/step - loss: 0.0000e+00 - sparse_categorical_accuracy: 1.0000\n",
      "Epoch 6/10\n",
      "2/2 [==============================] - 0s 35ms/step - loss: 0.0000e+00 - sparse_categorical_accuracy: 1.0000\n",
      "Epoch 7/10\n",
      "2/2 [==============================] - 0s 33ms/step - loss: 0.0000e+00 - sparse_categorical_accuracy: 1.0000\n",
      "Epoch 8/10\n",
      "2/2 [==============================] - 0s 31ms/step - loss: 0.0000e+00 - sparse_categorical_accuracy: 1.0000\n",
      "Epoch 9/10\n",
      "2/2 [==============================] - 0s 30ms/step - loss: 0.0000e+00 - sparse_categorical_accuracy: 1.0000\n",
      "Epoch 10/10\n",
      "2/2 [==============================] - 0s 31ms/step - loss: 0.0000e+00 - sparse_categorical_accuracy: 1.0000\n",
      "1/1 [==============================] - 0s 13ms/step - loss: 63.9760 - sparse_categorical_accuracy: 0.4211\n"
     ]
    }
   ],
   "source": [
    "bestrates = []\n",
    "rates = np.arange(0.01, 0.1, 0.01)\n",
    "for rate in rates:\n",
    "    kerasModel(rate)\n",
    "    fitModel()\n",
    "    bestrates.append(testModel())"
   ]
  },
  {
   "cell_type": "code",
   "execution_count": 49,
   "metadata": {},
   "outputs": [
    {
     "data": {
      "text/plain": [
       "[]"
      ]
     },
     "execution_count": 49,
     "metadata": {},
     "output_type": "execute_result"
    }
   ],
   "source": [
    "bestrates"
   ]
  },
  {
   "cell_type": "code",
   "execution_count": null,
   "metadata": {},
   "outputs": [],
   "source": []
  }
 ],
 "metadata": {
  "kernelspec": {
   "display_name": "Python 3",
   "language": "python",
   "name": "python3"
  },
  "language_info": {
   "codemirror_mode": {
    "name": "ipython",
    "version": 3
   },
   "file_extension": ".py",
   "mimetype": "text/x-python",
   "name": "python",
   "nbconvert_exporter": "python",
   "pygments_lexer": "ipython3",
   "version": "3.7.3"
  }
 },
 "nbformat": 4,
 "nbformat_minor": 2
}
