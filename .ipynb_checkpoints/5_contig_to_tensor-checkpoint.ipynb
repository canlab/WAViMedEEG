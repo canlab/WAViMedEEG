{
 "cells": [
  {
   "cell_type": "code",
   "execution_count": 1,
   "metadata": {},
   "outputs": [
    {
     "name": "stdout",
     "output_type": "stream",
     "text": [
      "2.0.0\n"
     ]
    }
   ],
   "source": [
    "from __future__ import absolute_import, division, print_function, unicode_literals\n",
    "\n",
    "import tensorflow as tf\n",
    "from tensorflow import keras\n",
    "import matplotlib.pyplot as plot\n",
    "import numpy as np\n",
    "from numpy import genfromtxt\n",
    "import csv\n",
    "import sys, os, re\n",
    "import pathlib\n",
    "\n",
    "print(tf.__version__)"
   ]
  },
  {
   "cell_type": "code",
   "execution_count": 2,
   "metadata": {},
   "outputs": [],
   "source": [
    "# The CANlab/WAVi Pain Study is Pre-Formatted to resemble BIDS neuroimaging formatting\n",
    "# If your study does not abide to the following structure, please revisit previous scripts\n",
    "# .../StudyRepo\n",
    "# -------------> /raw\n",
    "# -------------------> /*.art\n",
    "# -------------------> /*.eeg\n",
    "# -------------------> /*.evt\n",
    "# -------------> /contigs\n",
    "# -------------------> /train          2:1 train:test\n",
    "# -------------------> /test"
   ]
  },
  {
   "cell_type": "code",
   "execution_count": null,
   "metadata": {},
   "outputs": [
    {
     "name": "stdout",
     "output_type": "stream",
     "text": [
      "I couldn't find the contigs folder.\n",
      "\n"
     ]
    }
   ],
   "source": [
    "try:\n",
    "    os.chdir(\"CANlabStudy/contigs/p300\")\n",
    "    directory=os.getcwd()\n",
    "except:\n",
    "    print(\"I couldn't find the contigs folder.\\n\")\n",
    "    directory = input(\"Please give the full path of the contigs folder: \")\n",
    "    os.chdir(directory)"
   ]
  },
  {
   "cell_type": "code",
   "execution_count": 4,
   "metadata": {},
   "outputs": [],
   "source": [
    "train_path = pathlib.Path('train/')\n",
    "test_path = pathlib.Path('test/')"
   ]
  },
  {
   "cell_type": "code",
   "execution_count": 5,
   "metadata": {},
   "outputs": [
    {
     "name": "stdout",
     "output_type": "stream",
     "text": [
      "You have 1683 training images.\n",
      "You have 843 testing images.\n"
     ]
    }
   ],
   "source": [
    "# load in image paths for training set\n",
    "\n",
    "import random\n",
    "train_image_paths = list(train_path.glob('*/*'))\n",
    "train_image_paths = [str(path) for path in train_image_paths]\n",
    "random.shuffle(train_image_paths)\n",
    "\n",
    "train_count = len(train_image_paths)\n",
    "print(\"You have\", train_count, \"training images.\")\n",
    "\n",
    "# load in image paths for testing set?\n",
    "\n",
    "test_image_paths = list(test_path.glob('*/*'))\n",
    "test_image_paths = [str(path) for path in test_image_paths]\n",
    "random.shuffle(test_image_paths)\n",
    "\n",
    "test_count = len(test_image_paths)\n",
    "print(\"You have\", test_count, \"testing images.\")"
   ]
  },
  {
   "cell_type": "code",
   "execution_count": 6,
   "metadata": {},
   "outputs": [
    {
     "name": "stdout",
     "output_type": "stream",
     "text": [
      "Labels discovered: ['chronic', 'p300']\n"
     ]
    }
   ],
   "source": [
    "#list the available labels\n",
    "label_names = sorted(item.name for item in train_path.glob('*/') if item.is_dir())\n",
    "print(\"Labels discovered:\", label_names)"
   ]
  },
  {
   "cell_type": "code",
   "execution_count": 7,
   "metadata": {},
   "outputs": [
    {
     "name": "stdout",
     "output_type": "stream",
     "text": [
      "Label indices: {'chronic': 0, 'p300': 1}\n"
     ]
    }
   ],
   "source": [
    "#assign an index to each label\n",
    "label_to_index = dict((name, index) for index, name in enumerate(label_names))\n",
    "print(\"Label indices:\", label_to_index)"
   ]
  },
  {
   "cell_type": "code",
   "execution_count": 8,
   "metadata": {},
   "outputs": [],
   "source": [
    "#create a list of every file and its index label\n",
    "train_image_labels = [label_to_index[pathlib.Path(path).parent.name]\n",
    "                     for path in train_image_paths]\n",
    "\n",
    "test_image_labels = [label_to_index[pathlib.Path(path).parent.name]\n",
    "                    for path in test_image_paths]"
   ]
  },
  {
   "cell_type": "code",
   "execution_count": 9,
   "metadata": {},
   "outputs": [],
   "source": [
    "def load_numpy_stack(paths):\n",
    "    numpy_stack = []\n",
    "    for path in paths:\n",
    "        array = genfromtxt(path, delimiter=\",\")\n",
    "        array = array.reshape(array.shape +(1,))\n",
    "        numpy_stack.append(array)\n",
    "    return(numpy_stack)"
   ]
  },
  {
   "cell_type": "code",
   "execution_count": 10,
   "metadata": {},
   "outputs": [],
   "source": [
    "train_arrays = load_numpy_stack(train_image_paths)\n",
    "test_arrays = load_numpy_stack(test_image_paths)"
   ]
  },
  {
   "cell_type": "code",
   "execution_count": 11,
   "metadata": {},
   "outputs": [],
   "source": [
    "train_dataset = tf.data.Dataset.from_tensor_slices((train_arrays, train_image_labels))\n",
    "test_dataset = tf.data.Dataset.from_tensor_slices((test_arrays, test_image_labels))"
   ]
  },
  {
   "cell_type": "code",
   "execution_count": 12,
   "metadata": {},
   "outputs": [],
   "source": [
    "BATCH_SIZE = 64\n",
    "SHUFFLE_BUFFER_SIZE = 100\n",
    "\n",
    "train_dataset = train_dataset.shuffle(SHUFFLE_BUFFER_SIZE).batch(BATCH_SIZE)\n",
    "test_dataset = test_dataset.batch(BATCH_SIZE)"
   ]
  },
  {
   "cell_type": "code",
   "execution_count": 13,
   "metadata": {},
   "outputs": [],
   "source": [
    "def kerasModel(learn, beta1, beta2):\n",
    "    model = tf.keras.Sequential([\n",
    "        tf.keras.layers.Convolution2D(64, kernel_size=3, strides=3, padding=\"same\", dilation_rate=1, activation=\"relu\", data_format=\"channels_last\", use_bias=False, input_shape=(1250, 19, 1)),\n",
    "        #tf.keras.layers.MaxPooling2D(pool_size=(2,2), strides=None, padding=\"same\"),\n",
    "        tf.keras.layers.Flatten(input_shape=(1250, 19, 1), data_format=\"channels_last\"),\n",
    "        tf.keras.layers.Dense(128, activation='relu'),\n",
    "        tf.keras.layers.Dense(2, activation='softmax')\n",
    "    ])\n",
    "\n",
    "    model.compile(optimizer=tf.keras.optimizers.Adam(learning_rate=learn, beta_1=beta1, beta_2=beta2),\n",
    "                 loss = tf.losses.SparseCategoricalCrossentropy(),\n",
    "                 metrics = [tf.metrics.SparseCategoricalAccuracy()])\n",
    "    return(model)"
   ]
  },
  {
   "cell_type": "code",
   "execution_count": 14,
   "metadata": {},
   "outputs": [],
   "source": [
    "def fitModel(model, epoch):\n",
    "    model.fit(train_dataset, epochs=epoch)\n",
    "    return(model)"
   ]
  },
  {
   "cell_type": "code",
   "execution_count": 15,
   "metadata": {},
   "outputs": [],
   "source": [
    "def testModel(model):\n",
    "    metrics = model.evaluate(test_dataset)\n",
    "    return(metrics)"
   ]
  },
  {
   "cell_type": "code",
   "execution_count": 18,
   "metadata": {},
   "outputs": [
    {
     "name": "stdout",
     "output_type": "stream",
     "text": [
      "How many epochs? 20\n",
      "What's my learning rate? 0.005\n",
      "What's my beta1? 0.91\n",
      "What's my beta2? 0.997\n",
      "Epoch 1/20\n",
      "27/27 [==============================] - 9s 316ms/step - loss: 65.5858 - sparse_categorical_accuracy: 0.6554\n",
      "Epoch 2/20\n",
      "27/27 [==============================] - 8s 300ms/step - loss: 2.8850 - sparse_categorical_accuracy: 0.7617\n",
      "Epoch 3/20\n",
      "27/27 [==============================] - 8s 295ms/step - loss: 0.6428 - sparse_categorical_accuracy: 0.8752\n",
      "Epoch 4/20\n",
      "27/27 [==============================] - 8s 295ms/step - loss: 0.1505 - sparse_categorical_accuracy: 0.9412\n",
      "Epoch 5/20\n",
      "27/27 [==============================] - 11s 423ms/step - loss: 0.1058 - sparse_categorical_accuracy: 0.9596\n",
      "Epoch 6/20\n",
      "27/27 [==============================] - 11s 411ms/step - loss: 0.1415 - sparse_categorical_accuracy: 0.9352\n",
      "Epoch 7/20\n",
      "27/27 [==============================] - 10s 380ms/step - loss: 0.1226 - sparse_categorical_accuracy: 0.9513\n",
      "Epoch 8/20\n",
      "27/27 [==============================] - 11s 391ms/step - loss: 0.1416 - sparse_categorical_accuracy: 0.9483\n",
      "Epoch 9/20\n",
      "27/27 [==============================] - 10s 380ms/step - loss: 0.3249 - sparse_categorical_accuracy: 0.9026\n",
      "Epoch 10/20\n",
      "27/27 [==============================] - 10s 379ms/step - loss: 0.1228 - sparse_categorical_accuracy: 0.9554\n",
      "Epoch 11/20\n",
      "27/27 [==============================] - 10s 377ms/step - loss: 0.1788 - sparse_categorical_accuracy: 0.9352\n",
      "Epoch 12/20\n",
      "27/27 [==============================] - 10s 374ms/step - loss: 0.2003 - sparse_categorical_accuracy: 0.9317\n",
      "Epoch 13/20\n",
      "27/27 [==============================] - 10s 381ms/step - loss: 0.1957 - sparse_categorical_accuracy: 0.9424\n",
      "Epoch 14/20\n",
      "27/27 [==============================] - 10s 381ms/step - loss: 0.2248 - sparse_categorical_accuracy: 0.9358\n",
      "Epoch 15/20\n",
      "27/27 [==============================] - 10s 382ms/step - loss: 0.2150 - sparse_categorical_accuracy: 0.9376\n",
      "Epoch 16/20\n",
      "27/27 [==============================] - 10s 380ms/step - loss: 0.1853 - sparse_categorical_accuracy: 0.9465\n",
      "Epoch 17/20\n",
      "27/27 [==============================] - 10s 378ms/step - loss: 0.1918 - sparse_categorical_accuracy: 0.9424\n",
      "Epoch 18/20\n",
      "27/27 [==============================] - 10s 379ms/step - loss: 0.3001 - sparse_categorical_accuracy: 0.9317\n",
      "Epoch 19/20\n",
      "27/27 [==============================] - 10s 372ms/step - loss: 0.2532 - sparse_categorical_accuracy: 0.9424\n",
      "Epoch 20/20\n",
      "27/27 [==============================] - 10s 386ms/step - loss: 0.2470 - sparse_categorical_accuracy: 0.9465\n",
      "14/14 [==============================] - 2s 125ms/step - loss: 2.3113 - sparse_categorical_accuracy: 0.7628\n"
     ]
    }
   ],
   "source": [
    "rates = np.arange(0.01, 0.1, 0.01)\n",
    "beta1s = np.arange(0.9, 0.99, 0.01)\n",
    "beta2s = np.arange(0.99, 0.999, 0.001)\n",
    "\n",
    "# learning rate does well around 0.01 or 0.02\n",
    "# recently tried 0.005\n",
    "# beta1 does well around 0.91\n",
    "# beta2 does well around 0.997\n",
    "\n",
    "# convergent to 1.0 at epoch 10 of\n",
    "# 20e, 0.005lr, 0.91, 0.997\n",
    "\n",
    "epochs = int(input(\"How many epochs? \"))\n",
    "rate = float(input(\"What's my learning rate? \"))\n",
    "beta1 = float(input(\"What's my beta1? \"))\n",
    "beta2 = float(input(\"What's my beta2? \"))\n",
    "\n",
    "myresults=[]\n",
    "\n",
    "compiled = kerasModel(rate, beta1, beta2)\n",
    "fitted = fitModel(compiled, epochs)\n",
    "results = testModel(fitted)"
   ]
  },
  {
   "cell_type": "code",
   "execution_count": null,
   "metadata": {},
   "outputs": [],
   "source": [
    "print(\"Loss: \", results[0], \"\\nAccuracy: \", results[1])"
   ]
  },
  {
   "cell_type": "code",
   "execution_count": null,
   "metadata": {},
   "outputs": [],
   "source": []
  }
 ],
 "metadata": {
  "kernelspec": {
   "display_name": "Python 3",
   "language": "python",
   "name": "python3"
  },
  "language_info": {
   "codemirror_mode": {
    "name": "ipython",
    "version": 3
   },
   "file_extension": ".py",
   "mimetype": "text/x-python",
   "name": "python",
   "nbconvert_exporter": "python",
   "pygments_lexer": "ipython3",
   "version": "3.7.3"
  }
 },
 "nbformat": 4,
 "nbformat_minor": 2
}
