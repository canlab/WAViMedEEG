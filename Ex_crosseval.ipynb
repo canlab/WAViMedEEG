{
 "cells": [
  {
   "cell_type": "markdown",
   "metadata": {},
   "source": [
    "<h1> Example K-Fold Cross-Eval Models </h1>\n",
    "<p> First, we'll import the 'ML' module, to use its 'Classifier' class, os, </p>\n",
    "<p> and TQDM, which is a handy pip-installable package that gives us nice loading bars. </p>"
   ]
  },
  {
   "cell_type": "code",
   "execution_count": 1,
   "metadata": {},
   "outputs": [],
   "source": [
    "import ML, os\n",
    "from tqdm import tqdm\n",
    "import glob"
   ]
  },
  {
   "cell_type": "markdown",
   "metadata": {},
   "source": [
    "<h2> Set your paths! </h2>\n",
    "<p> 'patient_path' points to our 'condition-positive' dataset; in this example it points to spectral data in the 'ref pain' study folder, using the P300 task data, with 500-sample-long contig windows and all channels </p>\n",
    "<p> 'reference_path' points to a folder containing healthy control data study folders </p>"
   ]
  },
  {
   "cell_type": "code",
   "execution_count": 2,
   "metadata": {},
   "outputs": [],
   "source": [
    "folders = [\n",
    "#     \"/wavi/EEGstudies/CANlab/erps/P300_250_1111111111111111111_0_1\",\n",
    "#     \"/wavi/EEGstudies/CANlab/erps/P300_250_1111111111111111111_1_1\",\n",
    "#     \"/wavi/EEGstudies/CANlab/erps/P300_250_1111111111111111111_2_1\",\n",
    "    \"/wavi/EEGstudies/CANlab/spectra/P300_250_1111111111111111111_0_1\",\n",
    "#     \"/wavi/EEGstudies/CANlab/spectra/P300_250_1111111111111111111_1_1\",\n",
    "#     \"/wavi/EEGstudies/CANlab/spectra/P300_250_1111111111111111111_2_1\",\n",
    "#     \"/wavi/EEGstudies/CANlab/contigs/P300_250_1111111111111111111_0\",\n",
    "#     \"/wavi/EEGstudies/CANlab/contigs/P300_250_1111111111111111111_1\",\n",
    "#     \"/wavi/EEGstudies/CANlab/contigs/P300_250_1111111111111111111_2\",\n",
    "#     \"/wavi/EEGstudies/CANlab/contigs/P300_750_1111111111111111111_0\",\n",
    "#     \"/wavi/EEGstudies/CANlab/contigs/P300_750_1111111111111111111_1\",\n",
    "#     \"/wavi/EEGstudies/CANlab/contigs/P300_750_1111111111111111111_2\",\n",
    "#     \"/wavi/EEGstudies/CANlab/contigs/P300_1250_1111111111111111111_0\",\n",
    "#     \"/wavi/EEGstudies/CANlab/contigs/P300_1250_1111111111111111111_1\",\n",
    "#     \"/wavi/EEGstudies/CANlab/contigs/P300_1250_1111111111111111111_2\",\n",
    "#     \"/wavi/EEGstudies/CANlab/spectra/P300_250_1111111111111111111_0\",\n",
    "#     \"/wavi/EEGstudies/CANlab/spectra/P300_250_1111111111111111111_1\",\n",
    "#     \"/wavi/EEGstudies/CANlab/spectra/P300_250_1111111111111111111_2\",\n",
    "#     \"/wavi/EEGstudies/CANlab/spectra/P300_750_1111111111111111111_0\",\n",
    "#     \"/wavi/EEGstudies/CANlab/spectra/P300_750_1111111111111111111_1\",\n",
    "#     \"/wavi/EEGstudies/CANlab/spectra/P300_750_1111111111111111111_2\",\n",
    "#     \"/wavi/EEGstudies/CANlab/spectra/P300_1250_1111111111111111111_0\",\n",
    "#     \"/wavi/EEGstudies/CANlab/spectra/P300_1250_1111111111111111111_1\",\n",
    "#     \"/wavi/EEGstudies/CANlab/spectra/P300_1250_1111111111111111111_2\"\n",
    "]\n",
    "\n",
    "reference_path = \"/wavi/EEGstudies\""
   ]
  },
  {
   "cell_type": "markdown",
   "metadata": {},
   "source": [
    "<h3> Instantiate a 'Classifier' Object </h3>\n",
    "<p> 'Classifier' takes one positional argument, currently either \"spectra\", \"contigs\", or \"erps\" </p>"
   ]
  },
  {
   "cell_type": "code",
   "execution_count": 3,
   "metadata": {},
   "outputs": [
    {
     "name": "stderr",
     "output_type": "stream",
     "text": [
      " 20%|██        | 1/5 [00:00<00:00,  9.80it/s]"
     ]
    },
    {
     "name": "stdout",
     "output_type": "stream",
     "text": [
      "Number of negative outcomes: 445\n",
      "Number of positive outcomes: 630\n",
      "Classification accuracy on validation data: 0.589\n",
      "Number of negative outcomes: 445\n",
      "Number of positive outcomes: 630\n"
     ]
    },
    {
     "name": "stderr",
     "output_type": "stream",
     "text": [
      " 40%|████      | 2/5 [00:00<00:00,  9.56it/s]"
     ]
    },
    {
     "name": "stdout",
     "output_type": "stream",
     "text": [
      "Classification accuracy on validation data: 0.663\n",
      "Number of negative outcomes: 445\n",
      "Number of positive outcomes: 630\n"
     ]
    },
    {
     "name": "stderr",
     "output_type": "stream",
     "text": [
      " 60%|██████    | 3/5 [00:00<00:00,  7.01it/s]"
     ]
    },
    {
     "name": "stdout",
     "output_type": "stream",
     "text": [
      "Classification accuracy on validation data: 0.508\n",
      "Number of negative outcomes: 445\n",
      "Number of positive outcomes: 630\n"
     ]
    },
    {
     "name": "stderr",
     "output_type": "stream",
     "text": [
      " 80%|████████  | 4/5 [00:00<00:00,  4.59it/s]"
     ]
    },
    {
     "name": "stdout",
     "output_type": "stream",
     "text": [
      "Classification accuracy on validation data: 0.612\n",
      "Number of negative outcomes: 445\n",
      "Number of positive outcomes: 630\n"
     ]
    },
    {
     "name": "stderr",
     "output_type": "stream",
     "text": [
      "100%|██████████| 5/5 [00:01<00:00,  4.04it/s]"
     ]
    },
    {
     "name": "stdout",
     "output_type": "stream",
     "text": [
      "Classification accuracy on validation data: 0.605\n"
     ]
    },
    {
     "name": "stderr",
     "output_type": "stream",
     "text": [
      "\n"
     ]
    },
    {
     "data": {
      "image/png": "[encoded data removed]",
      "text/plain": [
       "<Figure size 432x288 with 1 Axes>"
      ]
     },
     "metadata": {
      "needs_background": "light"
     },
     "output_type": "display_data"
    },
    {
     "name": "stdout",
     "output_type": "stream",
     "text": [
      "[0.6284824647656506, 0.6650292172349579, 0.5196540880503144, 0.640139751552795, 0.5167009326301362]\n"
     ]
    }
   ],
   "source": [
    "for folder in folders:\n",
    "    myclf = ML.Classifier(os.path.basename(os.path.dirname(folder)))\n",
    "    myclf.KfoldCrossVal(folder, reference_path, filter_band=\"nofilter\", model_type='LDA')"
   ]
  },
  {
   "cell_type": "code",
   "execution_count": null,
   "metadata": {},
   "outputs": [],
   "source": []
  }
 ],
 "metadata": {
  "kernelspec": {
   "display_name": "Python 3",
   "language": "python",
   "name": "python3"
  },
  "language_info": {
   "codemirror_mode": {
    "name": "ipython",
    "version": 3
   },
   "file_extension": ".py",
   "mimetype": "text/x-python",
   "name": "python",
   "nbconvert_exporter": "python",
   "pygments_lexer": "ipython3",
   "version": "3.8.5"
  }
 },
 "nbformat": 4,
 "nbformat_minor": 4
}
