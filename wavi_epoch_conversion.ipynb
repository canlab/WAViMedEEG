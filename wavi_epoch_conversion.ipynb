{
 "cells": [
  {
   "cell_type": "code",
   "execution_count": 22,
   "metadata": {},
   "outputs": [],
   "source": [
    "import os\n",
    "import numpy as np\n",
    "from numpy import array, ma, genfromtxt\n",
    "import pandas as pd"
   ]
  },
  {
   "cell_type": "code",
   "execution_count": 23,
   "metadata": {},
   "outputs": [],
   "source": [
    "# The CANlab/WAVi Pain Study is Pre-Formatted to resemble BIDS neuroimaging formatting\n",
    "# If your study does not abide to the following structure, please revisit previous scripts\n",
    "# .../StudyRepo\n",
    "# -------------> /raw\n",
    "# -------------------> /*.art\n",
    "# -------------------> /*.eeg\n",
    "# -------------------> /*.evt\n",
    "# -------------> /task1\n",
    "# -------------------> /group1\n",
    "# ------------------------> /sub1_ftype1.csv\n",
    "# ------------------------> /sub1_ftype2.csv\n",
    "# ------------------------> /...\n",
    "# ------------------------> /subn_ftypen.csv\n",
    "# -------------------> /...\n",
    "# -------------------> /groupn\n",
    "# -------------> /...\n",
    "# -------------> /taskn"
   ]
  },
  {
   "cell_type": "code",
   "execution_count": 24,
   "metadata": {},
   "outputs": [],
   "source": [
    "# Before running this script, you should already have \n",
    "# converted your raw data into CSV formats as shown above"
   ]
  },
  {
   "cell_type": "code",
   "execution_count": 25,
   "metadata": {},
   "outputs": [
    {
     "name": "stdout",
     "output_type": "stream",
     "text": [
      "Please enter the full path of the study repository:\n",
      "/home/clayton/science/CANlab/WAViMedEEG/CANlabStudy\n"
     ]
    }
   ],
   "source": [
    "print(\"Please enter the full path of the study repository:\")\n",
    "directory = input()\n",
    "\n",
    "while(not os.path.exists(directory)):\n",
    "    print(\"\\n\")\n",
    "    print(\"The directory you supplied could not be found.\")\n",
    "    print(\"Please enter the full path of the study directory containing EEG, ART, EVT files:\")\n",
    "    directory = input()\n",
    "    \n",
    "os.chdir(directory)"
   ]
  },
  {
   "cell_type": "code",
   "execution_count": 26,
   "metadata": {},
   "outputs": [
    {
     "name": "stdout",
     "output_type": "stream",
     "text": [
      "Which task would you like to load? \n",
      " p300? \n",
      " flanker? \n",
      " chronic? \n",
      " rest?\n",
      "p300\n"
     ]
    }
   ],
   "source": [
    "print(\"Which task would you like to load? \\n p300? \\n flanker? \\n chronic? \\n rest?\")\n",
    "task = \"\"\n",
    "while(task == \"\"):\n",
    "    task = input() \n",
    "os.chdir(task)"
   ]
  },
  {
   "cell_type": "code",
   "execution_count": 27,
   "metadata": {},
   "outputs": [],
   "source": [
    "if(os.getcwd() is not (directory+\"/\"+task)):\n",
    "    os.chdir(directory+\"/\"+task)\n",
    "\n",
    "class taskInfo():\n",
    "    pain_fnames = os.listdir(\"1\")\n",
    "    ctrl_fnames = os.listdir(\"2\")\n",
    "    pain_subs = []\n",
    "    ctrl_subs = []\n",
    "    for fname in pain_fnames:\n",
    "        if(fname[:3] not in pain_subs):\n",
    "            pain_subs.append(fname[:3])\n",
    "    for fname in ctrl_fnames:\n",
    "        if(fname[:3] not in ctrl_subs):\n",
    "            ctrl_subs.append(fname[:3])\n",
    "    \n",
    "def load_csv(sub):\n",
    "    eeg = genfromtxt(sub+\"_eeg.csv\", delimiter=\",\")\n",
    "    art = genfromtxt(sub+\"_art.csv\", delimiter=\",\")\n",
    "    return(eeg, art)\n",
    "\n",
    "def apply_art_mask(data, artifact):\n",
    "    mx = ma.masked_array(data, mask=artifact)\n",
    "    mx = ma.filled(mx.astype(float), np.nan)\n",
    "    return(mx)\n",
    "\n",
    "#provide length as num of cycles, 250 Hz freq\n",
    "def find_contigs(min_length):\n",
    "    return(null)\n",
    "    \n",
    "def load_p300():\n",
    "    p300_pain = []\n",
    "    p300_ctrl = []\n",
    "    info = taskInfo()\n",
    "    os.chdir(\"1\")\n",
    "    for sub in info.pain_subs:\n",
    "        eeg, art = load_csv(sub)\n",
    "        p300_pain.append(apply_art_mask(eeg, art))\n",
    "    os.chdir(\"..\")\n",
    "    os.chdir(\"2\")\n",
    "    for sub in info.ctrl_subs:\n",
    "        eeg, art = load_csv(sub)\n",
    "        p300_ctrl.append(apply_art_mask(eeg, art))\n",
    "    os.chdir(\"..\")\n",
    "    return(p300_pain, p300_ctrl)\n",
    "\n",
    "def load_flanker():\n",
    "    flanker_pain = []\n",
    "    flanker_ctrl = []\n",
    "    info = taskInfo()\n",
    "    os.chdir(\"1\")\n",
    "    for sub in info.pain_subs:\n",
    "        eeg, art = load_csv(sub)\n",
    "        flanker_pain.append(apply_art_mask(eeg, art))\n",
    "    os.chdir(\"..\")\n",
    "    os.chdir(\"2\")\n",
    "    for sub in info.ctrl_subs:\n",
    "        eeg, art = load_csv(sub)\n",
    "        flanker_ctrl.append(apply_art_mask(eeg, art))\n",
    "    os.chdir(\"..\")\n",
    "    return(flanker_pain, flanker_ctrl)\n",
    "    \n",
    "def load_chronic():\n",
    "    p300_pain = []\n",
    "    p300_ctrl = []\n",
    "    info = taskInfo()\n",
    "    os.chdir(\"1\")\n",
    "    for sub in info.pain_subs:\n",
    "        eeg, art = load_csv(sub)\n",
    "        chronic_pain.append(apply_art_mask(eeg, art))\n",
    "    os.chdir(\"..\")\n",
    "    os.chdir(\"2\")\n",
    "    for sub in info.ctrl_subs:\n",
    "        eeg, art = load_csv(sub)\n",
    "        chronic_ctrl.append(apply_art_mask(eeg, art))\n",
    "    os.chdir(\"..\")\n",
    "    return(chronic_pain, chronic_ctrl)\n",
    "    \n",
    "def load_rest():\n",
    "    rest_pain = []\n",
    "    rest_ctrl = []\n",
    "    info = taskInfo()\n",
    "    os.chdir(\"1\")\n",
    "    for sub in info.pain_subs:\n",
    "        eeg, art = load_csv(sub)\n",
    "        rest_pain.append(apply_art_mask(eeg, art))\n",
    "    os.chdir(\"..\")\n",
    "    os.chdir(\"2\")\n",
    "    for sub in info.ctrl_subs:\n",
    "        eeg, art = load_csv(sub)\n",
    "        rest_ctrl.append(apply_art_mask(eeg, art))\n",
    "    os.chdir(\"..\")\n",
    "    return(rest_pain, rest_ctrl)\n",
    "    \n",
    "pain, control = load_p300()\n",
    "# You will now have 2 stacks of full-length masked eeg data\n",
    "# One for patients, one for controls"
   ]
  },
  {
   "cell_type": "code",
   "execution_count": 28,
   "metadata": {},
   "outputs": [
    {
     "name": "stdout",
     "output_type": "stream",
     "text": [
      "Number of patients: 9\n",
      "Number of controls: 5\n",
      "Total N: 14\n",
      " \n",
      "That's not a lot! Let's get more by arranging the data into contigs of some desired length.\n"
     ]
    }
   ],
   "source": [
    "print(\"Number of patients: \" + str(len(pain)))\n",
    "print(\"Number of controls: \" + str(len(control)))\n",
    "print(\"Total N: \" + str(len(pain)+len(control)))\n",
    "print(\" \\nThat's not a lot! Let's get more by arranging the data into contigs of some desired length.\")"
   ]
  },
  {
   "cell_type": "code",
   "execution_count": 29,
   "metadata": {},
   "outputs": [],
   "source": [
    "def sec_to_cyc(seconds):\n",
    "    return(seconds * 250)\n",
    "        \n",
    "def generate_contigs(run, length):\n",
    "    i = 0\n",
    "    contigs = []\n",
    "    startindexes = []\n",
    "    while i < run.shape[0]-length:\n",
    "        stk = run[i:(i+length),:]\n",
    "        if not np.any(np.isnan(stk)):\n",
    "            contigs.append(stk)\n",
    "            startindexes.append(i)\n",
    "            i += length\n",
    "        else:\n",
    "            i+=1\n",
    "    return contigs, startindexes"
   ]
  },
  {
   "cell_type": "code",
   "execution_count": 32,
   "metadata": {},
   "outputs": [],
   "source": [
    "def get_contigs_from_trials(trials):\n",
    "    all_contigs = []\n",
    "    print(\"How many seconds long should each contig be?\")\n",
    "    cycles = sec_to_cyc(int(input()))\n",
    "    for run in trials:\n",
    "        all_contigs.append(generate_contigs(run, cycles))\n",
    "    return(all_contigs)"
   ]
  },
  {
   "cell_type": "code",
   "execution_count": 42,
   "metadata": {},
   "outputs": [
    {
     "name": "stdout",
     "output_type": "stream",
     "text": [
      "How many seconds long should each contig be?\n",
      "3\n"
     ]
    }
   ],
   "source": [
    "pain_contigs = get_contigs_from_trials(pain)"
   ]
  },
  {
   "cell_type": "code",
   "execution_count": 41,
   "metadata": {},
   "outputs": [
    {
     "data": {
      "text/plain": [
       "([array([[  1.,  -9.,  -4., ...,   1.,  -3.,  -6.],\n",
       "         [  4.,  -7.,  -1., ...,   3.,   0.,  -2.],\n",
       "         [  6.,  -5.,   0., ...,   4.,   3.,   1.],\n",
       "         ...,\n",
       "         [  0.,   4.,   0., ...,   0.,  -3., -17.],\n",
       "         [  0.,   5.,   0., ...,   0.,  -5., -18.],\n",
       "         [  1.,   6.,   0., ...,   1.,  -6., -19.]])], [48992])"
      ]
     },
     "execution_count": 41,
     "metadata": {},
     "output_type": "execute_result"
    }
   ],
   "source": [
    "pain_contigs[1]"
   ]
  },
  {
   "cell_type": "code",
   "execution_count": null,
   "metadata": {},
   "outputs": [],
   "source": [
    "# def load_per_task(task):\n",
    "#     switcher = {\n",
    "#         p300: load_p300,\n",
    "#         flanker: load_flanker,\n",
    "#         chronic: load_chronic,\n",
    "#         rest: load_rest\n",
    "#     }\n",
    "#     func = switcher.get(argument, lambda: \"Invalid task\")"
   ]
  },
  {
   "cell_type": "code",
   "execution_count": null,
   "metadata": {},
   "outputs": [],
   "source": []
  }
 ],
 "metadata": {
  "kernelspec": {
   "display_name": "Python 3",
   "language": "python",
   "name": "python3"
  },
  "language_info": {
   "codemirror_mode": {
    "name": "ipython",
    "version": 3
   },
   "file_extension": ".py",
   "mimetype": "text/x-python",
   "name": "python",
   "nbconvert_exporter": "python",
   "pygments_lexer": "ipython3",
   "version": "3.7.3"
  }
 },
 "nbformat": 4,
 "nbformat_minor": 2
}
