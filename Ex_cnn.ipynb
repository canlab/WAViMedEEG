{
 "cells": [
  {
   "cell_type": "markdown",
   "metadata": {},
   "source": [
    "<h1> Example CNN </h1>\n",
    "<p> First, we'll import the 'ML' module, to use its 'Classifier' class, os, </p>\n",
    "<p> and TQDM, which is a handy pip-installable package that gives us nice loading bars. </p>"
   ]
  },
  {
   "cell_type": "code",
   "execution_count": 1,
   "metadata": {},
   "outputs": [],
   "source": [
    "import ML, os\n",
    "from tqdm import tqdm"
   ]
  },
  {
   "cell_type": "markdown",
   "metadata": {},
   "source": [
    "<h2> Set your paths! </h2>\n",
    "<p> 'patient_path' points to our 'condition-positive' dataset; in this example it points to spectral data in the 'ref pain' study folder, using the P300 task data, with 500-sample-long contig windows and all channels </p>\n",
    "<p> 'reference_path' points to a folder containing healthy control data study folders </p>"
   ]
  },
  {
   "cell_type": "code",
   "execution_count": 2,
   "metadata": {},
   "outputs": [],
   "source": [
    "patient_path = \"/wavi/EEGstudies/CANlab/contigs/P300_1250_1111111111111111111_1\"\n",
    "reference_path = \"/wavi/EEGstudies\""
   ]
  },
  {
   "cell_type": "markdown",
   "metadata": {},
   "source": [
    "<h3> Instantiate a 'Classifier' Object </h3>\n",
    "<p> 'Classifier' takes one positional argument, currently either \"spectra\" or \"contigs\" </p>"
   ]
  },
  {
   "cell_type": "code",
   "execution_count": 3,
   "metadata": {},
   "outputs": [],
   "source": [
    "myclf = ML.Classifier(\"contigs\")"
   ]
  },
  {
   "cell_type": "markdown",
   "metadata": {},
   "source": [
    "<h3> Load Patient (Condition-Positive) Data </h3>"
   ]
  },
  {
   "cell_type": "code",
   "execution_count": 4,
   "metadata": {},
   "outputs": [
    {
     "name": "stderr",
     "output_type": "stream",
     "text": [
      "100%|██████████| 355/355 [00:02<00:00, 123.63it/s]\n"
     ]
    }
   ],
   "source": [
    "for fname in tqdm(os.listdir(patient_path)):\n",
    "    myclf.LoadData(patient_path+\"/\"+fname)"
   ]
  },
  {
   "cell_type": "markdown",
   "metadata": {},
   "source": [
    "<h3> Load Control (Condition-Negative) Data </h3>\n",
    "<p> using the 'Balance' method of 'Classifier', the dataset will automatically add healthy control data found in the reference folders </p>\n",
    "<p> *note* there are currently few scans in 81+ so it won't balance completely, and will not finish the loop. it's balanced within 1% or so </p> "
   ]
  },
  {
   "cell_type": "code",
   "execution_count": 5,
   "metadata": {},
   "outputs": [
    {
     "name": "stderr",
     "output_type": "stream",
     "text": [
      "100%|██████████| 7/7 [00:01<00:00,  4.45it/s]\n"
     ]
    }
   ],
   "source": [
    "myclf.Balance(reference_path)"
   ]
  },
  {
   "cell_type": "markdown",
   "metadata": {},
   "source": [
    "<h2> Run 'CNN' method of 'Classifier' </h2>\n",
    "<p> This method will structure the input classes (in this case, 'Spectra' objects) </p>\n",
    "<p> Optional parameters include:\n",
    "    <br>- epochs: (int) default 100, number of training iterations to be run\n",
    "    <br>- normalize: (None, 'standard', 'minmax') default None, z-score normalize input data (features)\n",
    "    <br>- plot_ROC: (bool) default 'False', plot sensitivity-specificity curve on validation dataset\n",
    "    <br>- tt_split: (float) default 0.33, ratio of test samples to train samples\n",
    "    <br>- learning_rate: (float) default 0.01\n",
    "    <br>- lr_decay: (bool) default True, whether or not the learning rate should decay adhering to a 0.96 decay rate schedule\n",
    "    <br>- beta1: (float) default 0.9, beta1 parameter\n",
    "    <br>- beta2: (float) default 0.999, beta2 parameter\n",
    "</p>"
   ]
  },
  {
   "cell_type": "code",
   "execution_count": null,
   "metadata": {},
   "outputs": [
    {
     "name": "stdout",
     "output_type": "stream",
     "text": [
      "Number of negative outcomes: 262\n",
      "Number of positive outcomes: 261\n",
      "Number of samples in train: 304\n",
      "Number of samples in test: 219\n",
      "Model: \"sequential\"\n",
      "_________________________________________________________________\n",
      "Layer (type)                 Output Shape              Param #   \n",
      "=================================================================\n",
      "conv2d (Conv2D)              multiple                  510       \n",
      "_________________________________________________________________\n",
      "conv2d_1 (Conv2D)            multiple                  2510      \n",
      "_________________________________________________________________\n",
      "conv2d_2 (Conv2D)            multiple                  455       \n",
      "_________________________________________________________________\n",
      "max_pooling2d (MaxPooling2D) multiple                  0         \n",
      "_________________________________________________________________\n",
      "dropout (Dropout)            multiple                  0         \n",
      "_________________________________________________________________\n",
      "flatten (Flatten)            multiple                  0         \n",
      "_________________________________________________________________\n",
      "dense (Dense)                multiple                  29192     \n",
      "=================================================================\n",
      "Total params: 32,667\n",
      "Trainable params: 32,667\n",
      "Non-trainable params: 0\n",
      "_________________________________________________________________\n",
      "Input shape: (304, 1250, 19, 1)\n",
      "Epoch 1/100\n",
      "10/10 [==============================] - 5s 533ms/step - loss: 7.0042 - accuracy: 0.4704 - val_loss: 0.7036 - val_accuracy: 0.5205\n",
      "Epoch 2/100\n",
      "10/10 [==============================] - 6s 600ms/step - loss: 0.7231 - accuracy: 0.5395 - val_loss: 0.7097 - val_accuracy: 0.4658\n",
      "Epoch 3/100\n",
      "10/10 [==============================] - 6s 595ms/step - loss: 0.7026 - accuracy: 0.5164 - val_loss: 0.7139 - val_accuracy: 0.5160\n",
      "Epoch 4/100\n",
      "10/10 [==============================] - 6s 597ms/step - loss: 0.7132 - accuracy: 0.5033 - val_loss: 0.7176 - val_accuracy: 0.4886\n",
      "Epoch 5/100\n",
      "10/10 [==============================] - 6s 598ms/step - loss: 0.7101 - accuracy: 0.4803 - val_loss: 0.7166 - val_accuracy: 0.5114\n",
      "Epoch 6/100\n",
      "10/10 [==============================] - 6s 597ms/step - loss: 0.7147 - accuracy: 0.4901 - val_loss: 0.7145 - val_accuracy: 0.4932\n",
      "Epoch 7/100\n",
      "10/10 [==============================] - 6s 604ms/step - loss: 0.7091 - accuracy: 0.5033 - val_loss: 0.7149 - val_accuracy: 0.4886\n",
      "Epoch 8/100\n",
      "10/10 [==============================] - 6s 605ms/step - loss: 0.7204 - accuracy: 0.4967 - val_loss: 0.7159 - val_accuracy: 0.4840\n",
      "Epoch 9/100\n",
      "10/10 [==============================] - 6s 595ms/step - loss: 0.7099 - accuracy: 0.4770 - val_loss: 0.7137 - val_accuracy: 0.5114\n",
      "Epoch 10/100\n",
      "10/10 [==============================] - 6s 590ms/step - loss: 0.7141 - accuracy: 0.4638 - val_loss: 0.7138 - val_accuracy: 0.4886\n",
      "Epoch 11/100\n",
      "10/10 [==============================] - 6s 593ms/step - loss: 0.7139 - accuracy: 0.4704 - val_loss: 0.7137 - val_accuracy: 0.4886\n",
      "Epoch 12/100\n",
      "10/10 [==============================] - 6s 592ms/step - loss: 0.7138 - accuracy: 0.5099 - val_loss: 0.7138 - val_accuracy: 0.4886\n",
      "Epoch 13/100\n",
      "10/10 [==============================] - 6s 601ms/step - loss: 0.7138 - accuracy: 0.5099 - val_loss: 0.7142 - val_accuracy: 0.4886\n",
      "Epoch 14/100\n",
      "10/10 [==============================] - 6s 610ms/step - loss: 0.7135 - accuracy: 0.5099 - val_loss: 0.7139 - val_accuracy: 0.4886\n",
      "Epoch 15/100\n",
      "10/10 [==============================] - 6s 595ms/step - loss: 0.7135 - accuracy: 0.5099 - val_loss: 0.7142 - val_accuracy: 0.4886\n",
      "Epoch 16/100\n",
      "10/10 [==============================] - 6s 612ms/step - loss: 0.7136 - accuracy: 0.5099 - val_loss: 0.7137 - val_accuracy: 0.4886\n",
      "Epoch 17/100\n",
      "10/10 [==============================] - 6s 621ms/step - loss: 0.7133 - accuracy: 0.5099 - val_loss: 0.7138 - val_accuracy: 0.4886\n",
      "Epoch 18/100\n",
      "10/10 [==============================] - 6s 623ms/step - loss: 0.7132 - accuracy: 0.5099 - val_loss: 0.7141 - val_accuracy: 0.4886\n",
      "Epoch 19/100\n",
      "10/10 [==============================] - 6s 608ms/step - loss: 0.7133 - accuracy: 0.5099 - val_loss: 0.7141 - val_accuracy: 0.4886\n",
      "Epoch 20/100\n",
      "10/10 [==============================] - 6s 605ms/step - loss: 0.7132 - accuracy: 0.5099 - val_loss: 0.7140 - val_accuracy: 0.4886\n",
      "Epoch 21/100\n",
      "10/10 [==============================] - 6s 597ms/step - loss: 0.7134 - accuracy: 0.5099 - val_loss: 0.7140 - val_accuracy: 0.4886\n",
      "Epoch 22/100\n",
      "10/10 [==============================] - 6s 604ms/step - loss: 0.7129 - accuracy: 0.5099 - val_loss: 0.7134 - val_accuracy: 0.4886\n",
      "Epoch 23/100\n",
      "10/10 [==============================] - 6s 602ms/step - loss: 0.7129 - accuracy: 0.5099 - val_loss: 0.7133 - val_accuracy: 0.4886\n",
      "Epoch 24/100\n",
      "10/10 [==============================] - 6s 598ms/step - loss: 0.7131 - accuracy: 0.5099 - val_loss: 0.7136 - val_accuracy: 0.4886\n",
      "Epoch 25/100\n",
      "10/10 [==============================] - 6s 597ms/step - loss: 0.7130 - accuracy: 0.5099 - val_loss: 0.7138 - val_accuracy: 0.4886\n",
      "Epoch 26/100\n",
      "10/10 [==============================] - 6s 608ms/step - loss: 0.7127 - accuracy: 0.5099 - val_loss: 0.7135 - val_accuracy: 0.4886\n",
      "Epoch 27/100\n",
      "10/10 [==============================] - 6s 605ms/step - loss: 0.7127 - accuracy: 0.5099 - val_loss: 0.7135 - val_accuracy: 0.4886\n",
      "Epoch 28/100\n",
      "10/10 [==============================] - 6s 616ms/step - loss: 0.7125 - accuracy: 0.5099 - val_loss: 0.7131 - val_accuracy: 0.4886\n",
      "Epoch 29/100\n",
      "10/10 [==============================] - 6s 630ms/step - loss: 0.7126 - accuracy: 0.5099 - val_loss: 0.7129 - val_accuracy: 0.4886\n",
      "Epoch 30/100\n",
      "10/10 [==============================] - 6s 635ms/step - loss: 0.7126 - accuracy: 0.5099 - val_loss: 0.7131 - val_accuracy: 0.4886\n",
      "Epoch 31/100\n",
      "10/10 [==============================] - 6s 634ms/step - loss: 0.7123 - accuracy: 0.5099 - val_loss: 0.7128 - val_accuracy: 0.4886\n",
      "Epoch 32/100\n",
      "10/10 [==============================] - 6s 607ms/step - loss: 0.7124 - accuracy: 0.5099 - val_loss: 0.7127 - val_accuracy: 0.4886\n",
      "Epoch 33/100\n",
      "10/10 [==============================] - 6s 613ms/step - loss: 0.7121 - accuracy: 0.5099 - val_loss: 0.7123 - val_accuracy: 0.4886\n",
      "Epoch 34/100\n",
      "10/10 [==============================] - 6s 622ms/step - loss: 0.7121 - accuracy: 0.5099 - val_loss: 0.7122 - val_accuracy: 0.4886\n",
      "Epoch 35/100\n",
      "10/10 [==============================] - 6s 618ms/step - loss: 0.7120 - accuracy: 0.5099 - val_loss: 0.7125 - val_accuracy: 0.4886\n",
      "Epoch 36/100\n",
      "10/10 [==============================] - 6s 597ms/step - loss: 0.7118 - accuracy: 0.5099 - val_loss: 0.7128 - val_accuracy: 0.4886\n",
      "Epoch 37/100\n",
      "10/10 [==============================] - 6s 605ms/step - loss: 0.7122 - accuracy: 0.5099 - val_loss: 0.7124 - val_accuracy: 0.4886\n",
      "Epoch 38/100\n",
      "10/10 [==============================] - 6s 614ms/step - loss: 0.7117 - accuracy: 0.5099 - val_loss: 0.7124 - val_accuracy: 0.4886\n",
      "Epoch 39/100\n",
      "10/10 [==============================] - 6s 634ms/step - loss: 0.7119 - accuracy: 0.5099 - val_loss: 0.7121 - val_accuracy: 0.4886\n",
      "Epoch 40/100\n",
      "10/10 [==============================] - 6s 634ms/step - loss: 0.7115 - accuracy: 0.5099 - val_loss: 0.7122 - val_accuracy: 0.4886\n",
      "Epoch 41/100\n",
      "10/10 [==============================] - 7s 656ms/step - loss: 0.7115 - accuracy: 0.5099 - val_loss: 0.7125 - val_accuracy: 0.4886\n",
      "Epoch 42/100\n",
      "10/10 [==============================] - 6s 606ms/step - loss: 0.7114 - accuracy: 0.5099 - val_loss: 0.7123 - val_accuracy: 0.4886\n",
      "Epoch 43/100\n",
      "10/10 [==============================] - 6s 620ms/step - loss: 0.7115 - accuracy: 0.5099 - val_loss: 0.7116 - val_accuracy: 0.4886\n",
      "Epoch 44/100\n",
      "10/10 [==============================] - 6s 619ms/step - loss: 0.7113 - accuracy: 0.5099 - val_loss: 0.7117 - val_accuracy: 0.4886\n",
      "Epoch 45/100\n",
      "10/10 [==============================] - 6s 590ms/step - loss: 0.7113 - accuracy: 0.5099 - val_loss: 0.7120 - val_accuracy: 0.4886\n",
      "Epoch 46/100\n",
      "10/10 [==============================] - 6s 593ms/step - loss: 0.7111 - accuracy: 0.5099 - val_loss: 0.7117 - val_accuracy: 0.4886\n",
      "Epoch 47/100\n",
      "10/10 [==============================] - 6s 588ms/step - loss: 0.7111 - accuracy: 0.5099 - val_loss: 0.7118 - val_accuracy: 0.4886\n",
      "Epoch 48/100\n",
      "10/10 [==============================] - 5s 511ms/step - loss: 0.7108 - accuracy: 0.5099 - val_loss: 0.7116 - val_accuracy: 0.4886\n",
      "Epoch 49/100\n",
      "10/10 [==============================] - 5s 496ms/step - loss: 0.7108 - accuracy: 0.5099 - val_loss: 0.7117 - val_accuracy: 0.4886\n",
      "Epoch 50/100\n",
      "10/10 [==============================] - 5s 495ms/step - loss: 0.7106 - accuracy: 0.5099 - val_loss: 0.7114 - val_accuracy: 0.4886\n"
     ]
    }
   ],
   "source": [
    "myclf.CNN(lr_decay=False, learning_rate=0.01)"
   ]
  },
  {
   "cell_type": "code",
   "execution_count": 10,
   "metadata": {},
   "outputs": [
    {
     "data": {
      "text/plain": [
       "2"
      ]
     },
     "execution_count": 10,
     "metadata": {},
     "output_type": "execute_result"
    }
   ],
   "source": [
    "myclf.data[0].group"
   ]
  },
  {
   "cell_type": "code",
   "execution_count": 16,
   "metadata": {},
   "outputs": [],
   "source": [
    "healthy = 0\n",
    "pain = 0\n",
    "\n",
    "for contig in myclf.data:\n",
    "    if contig.group == 1:\n",
    "        healthy += 1\n",
    "    elif contig.group == 2:\n",
    "        pain += 1"
   ]
  },
  {
   "cell_type": "code",
   "execution_count": 17,
   "metadata": {},
   "outputs": [
    {
     "data": {
      "text/plain": [
       "262"
      ]
     },
     "execution_count": 17,
     "metadata": {},
     "output_type": "execute_result"
    }
   ],
   "source": [
    "healthy"
   ]
  },
  {
   "cell_type": "code",
   "execution_count": 18,
   "metadata": {},
   "outputs": [
    {
     "data": {
      "text/plain": [
       "261"
      ]
     },
     "execution_count": 18,
     "metadata": {},
     "output_type": "execute_result"
    }
   ],
   "source": [
    "pain"
   ]
  },
  {
   "cell_type": "code",
   "execution_count": null,
   "metadata": {},
   "outputs": [],
   "source": []
  }
 ],
 "metadata": {
  "kernelspec": {
   "display_name": "Python 3",
   "language": "python",
   "name": "python3"
  },
  "language_info": {
   "codemirror_mode": {
    "name": "ipython",
    "version": 3
   },
   "file_extension": ".py",
   "mimetype": "text/x-python",
   "name": "python",
   "nbconvert_exporter": "python",
   "pygments_lexer": "ipython3",
   "version": "3.8.5"
  }
 },
 "nbformat": 4,
 "nbformat_minor": 4
}
