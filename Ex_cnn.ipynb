{
 "cells": [
  {
   "cell_type": "markdown",
   "metadata": {},
   "source": [
    "<h1> Example CNN </h1>\n",
    "<p> First, we'll import the 'ML' module, to use its 'Classifier' class, os, </p>\n",
    "<p> and TQDM, which is a handy pip-installable package that gives us nice loading bars. </p>"
   ]
  },
  {
   "cell_type": "code",
   "execution_count": 32,
   "metadata": {},
   "outputs": [],
   "source": [
    "import ML, os\n",
    "from tqdm import tqdm"
   ]
  },
  {
   "cell_type": "markdown",
   "metadata": {},
   "source": [
    "<h2> Set your paths! </h2>\n",
    "<p> 'patient_path' points to our 'condition-positive' dataset; in this example it points to spectral data in the 'ref pain' study folder, using the P300 task data, with 500-sample-long contig windows and all channels </p>\n",
    "<p> 'reference_path' points to a folder containing healthy control data study folders </p>"
   ]
  },
  {
   "cell_type": "code",
   "execution_count": 38,
   "metadata": {},
   "outputs": [],
   "source": [
    "patient_path = \"/wavi/EEGstudies/CANlab/contigs/P300_250_1111111111111111111_2\"\n",
    "reference_path = \"/wavi/EEGstudies\""
   ]
  },
  {
   "cell_type": "markdown",
   "metadata": {},
   "source": [
    "<h3> Instantiate a 'Classifier' Object </h3>\n",
    "<p> 'Classifier' takes one positional argument, currently either \"spectra\", \"contigs\", or \"erps\" </p>"
   ]
  },
  {
   "cell_type": "code",
   "execution_count": 39,
   "metadata": {},
   "outputs": [],
   "source": [
    "myclf = ML.Classifier(\"erps\")"
   ]
  },
  {
   "cell_type": "markdown",
   "metadata": {},
   "source": [
    "<h3> Load Patient (Condition-Positive) Data </h3>"
   ]
  },
  {
   "cell_type": "code",
   "execution_count": 40,
   "metadata": {},
   "outputs": [
    {
     "name": "stderr",
     "output_type": "stream",
     "text": [
      "100%|██████████| 6060/6060 [00:09<00:00, 630.33it/s]\n"
     ]
    }
   ],
   "source": [
    "for fname in tqdm(os.listdir(patient_path)):\n",
    "    myclf.LoadData(patient_path+\"/\"+fname)"
   ]
  },
  {
   "cell_type": "markdown",
   "metadata": {},
   "source": [
    "<h3> Load Control (Condition-Negative) Data </h3>\n",
    "<p> using the 'Balance' method of 'Classifier', the dataset will automatically add healthy control data found in the reference folders </p> "
   ]
  },
  {
   "cell_type": "code",
   "execution_count": 41,
   "metadata": {},
   "outputs": [],
   "source": [
    "myclf.Balance(reference_path)"
   ]
  },
  {
   "cell_type": "markdown",
   "metadata": {},
   "source": [
    "<h2> Run 'CNN' method of 'Classifier' </h2>\n",
    "<p> This method will structure the input classes (in this case, 'Spectra' objects) </p>\n",
    "<p> Optional parameters include:\n",
    "    <br>- epochs: (int) default 100, number of training iterations to be run\n",
    "    <br>- normalize: (None, 'standard', 'minmax') default None, z-score normalize input data (features)\n",
    "    <br>- plot_ROC: (bool) default 'False', plot sensitivity-specificity curve on validation dataset\n",
    "    <br>- tt_split: (float) default 0.33, ratio of test samples to train samples\n",
    "    <br>- learning_rate: (float) default 0.01\n",
    "    <br>- lr_decay: (bool) default False, whether or not the learning rate should decay adhering to a 0.96 decay rate schedule\n",
    "</p>"
   ]
  },
  {
   "cell_type": "code",
   "execution_count": 42,
   "metadata": {},
   "outputs": [
    {
     "name": "stdout",
     "output_type": "stream",
     "text": [
      "Number of negative outcomes: 3406\n",
      "Number of positive outcomes: 3389\n",
      "Total number of subjects: 28\n",
      "% Positive in all subjects: 0.5\n",
      "% Negative in all subjects: 0.5\n",
      "Number of samples in train: 4852\n",
      "Number of samples in test: 1943\n",
      "% Positive samples in train: 0.5\n",
      "% Positive samples in test: 0.49562532166752443\n",
      "Model: \"sequential_6\"\n",
      "_________________________________________________________________\n",
      "Layer (type)                 Output Shape              Param #   \n",
      "=================================================================\n",
      "batch_normalization_30 (Batc multiple                  4         \n",
      "_________________________________________________________________\n",
      "conv2d_30 (Conv2D)           multiple                  50        \n",
      "_________________________________________________________________\n",
      "max_pooling2d_30 (MaxPooling multiple                  0         \n",
      "_________________________________________________________________\n",
      "batch_normalization_31 (Batc multiple                  20        \n",
      "_________________________________________________________________\n",
      "conv2d_31 (Conv2D)           multiple                  230       \n",
      "_________________________________________________________________\n",
      "max_pooling2d_31 (MaxPooling multiple                  0         \n",
      "_________________________________________________________________\n",
      "batch_normalization_32 (Batc multiple                  20        \n",
      "_________________________________________________________________\n",
      "conv2d_32 (Conv2D)           multiple                  230       \n",
      "_________________________________________________________________\n",
      "max_pooling2d_32 (MaxPooling multiple                  0         \n",
      "_________________________________________________________________\n",
      "batch_normalization_33 (Batc multiple                  20        \n",
      "_________________________________________________________________\n",
      "conv2d_33 (Conv2D)           multiple                  230       \n",
      "_________________________________________________________________\n",
      "max_pooling2d_33 (MaxPooling multiple                  0         \n",
      "_________________________________________________________________\n",
      "batch_normalization_34 (Batc multiple                  20        \n",
      "_________________________________________________________________\n",
      "conv2d_34 (Conv2D)           multiple                  230       \n",
      "_________________________________________________________________\n",
      "max_pooling2d_34 (MaxPooling multiple                  0         \n",
      "_________________________________________________________________\n",
      "flatten_6 (Flatten)          multiple                  0         \n",
      "_________________________________________________________________\n",
      "dense_12 (Dense)             multiple                  35110     \n",
      "_________________________________________________________________\n",
      "dense_13 (Dense)             multiple                  22        \n",
      "=================================================================\n",
      "Total params: 36,186\n",
      "Trainable params: 36,144\n",
      "Non-trainable params: 42\n",
      "_________________________________________________________________\n",
      "Input shape: (4852, 250, 19, 1)\n",
      "Epoch 1/100\n",
      "152/152 [==============================] - 13s 87ms/step - loss: 0.6430 - accuracy: 0.6249 - val_loss: 0.7075 - val_accuracy: 0.4915\n",
      "Epoch 2/100\n",
      "152/152 [==============================] - 13s 84ms/step - loss: 0.6280 - accuracy: 0.6478 - val_loss: 0.7846 - val_accuracy: 0.4910\n",
      "Epoch 3/100\n",
      "152/152 [==============================] - 13s 84ms/step - loss: 0.6175 - accuracy: 0.6585 - val_loss: 0.7925 - val_accuracy: 0.4920\n",
      "Epoch 4/100\n",
      "152/152 [==============================] - 13s 85ms/step - loss: 0.6002 - accuracy: 0.6746 - val_loss: 0.7947 - val_accuracy: 0.4915\n",
      "Epoch 5/100\n",
      "152/152 [==============================] - 13s 85ms/step - loss: 0.5954 - accuracy: 0.6727 - val_loss: 0.7718 - val_accuracy: 0.4931\n",
      "Epoch 6/100\n",
      "152/152 [==============================] - 13s 85ms/step - loss: 0.5890 - accuracy: 0.6838 - val_loss: 0.8025 - val_accuracy: 0.4915\n",
      "Epoch 7/100\n",
      "152/152 [==============================] - 13s 85ms/step - loss: 0.5708 - accuracy: 0.6950 - val_loss: 0.7168 - val_accuracy: 0.3922\n",
      "Epoch 8/100\n",
      "152/152 [==============================] - 13s 85ms/step - loss: 0.5700 - accuracy: 0.7016 - val_loss: 0.7344 - val_accuracy: 0.3093\n",
      "Epoch 9/100\n",
      "152/152 [==============================] - 13s 85ms/step - loss: 0.5535 - accuracy: 0.7141 - val_loss: 0.7102 - val_accuracy: 0.4843\n",
      "Epoch 10/100\n",
      "152/152 [==============================] - 13s 85ms/step - loss: 0.5430 - accuracy: 0.7294 - val_loss: 0.7576 - val_accuracy: 0.5069\n",
      "Epoch 11/100\n",
      "152/152 [==============================] - 13s 85ms/step - loss: 0.5395 - accuracy: 0.7249 - val_loss: 0.7403 - val_accuracy: 0.5023\n",
      "Epoch 12/100\n",
      "152/152 [==============================] - 13s 85ms/step - loss: 0.5244 - accuracy: 0.7492 - val_loss: 0.7379 - val_accuracy: 0.5147\n",
      "Epoch 13/100\n",
      "152/152 [==============================] - 13s 85ms/step - loss: 0.5219 - accuracy: 0.7469 - val_loss: 0.8804 - val_accuracy: 0.4858\n",
      "Epoch 14/100\n",
      "152/152 [==============================] - 13s 85ms/step - loss: 0.5103 - accuracy: 0.7589 - val_loss: 0.7463 - val_accuracy: 0.5095\n",
      "Epoch 15/100\n",
      "152/152 [==============================] - 13s 86ms/step - loss: 0.5048 - accuracy: 0.7644 - val_loss: 0.7401 - val_accuracy: 0.5183\n",
      "Epoch 16/100\n",
      "152/152 [==============================] - 13s 85ms/step - loss: 0.4940 - accuracy: 0.7729 - val_loss: 0.7486 - val_accuracy: 0.5219\n",
      "Epoch 17/100\n",
      "152/152 [==============================] - 13s 85ms/step - loss: 0.4889 - accuracy: 0.7764 - val_loss: 0.7343 - val_accuracy: 0.5229\n",
      "Epoch 18/100\n",
      "152/152 [==============================] - 13s 85ms/step - loss: 0.4812 - accuracy: 0.7871 - val_loss: 0.7430 - val_accuracy: 0.5337\n",
      "Epoch 19/100\n",
      "152/152 [==============================] - 13s 85ms/step - loss: 0.4794 - accuracy: 0.7813 - val_loss: 0.7538 - val_accuracy: 0.4792\n",
      "Epoch 20/100\n",
      "152/152 [==============================] - 13s 85ms/step - loss: 0.4706 - accuracy: 0.7890 - val_loss: 0.9252 - val_accuracy: 0.4792\n",
      "Epoch 21/100\n",
      "152/152 [==============================] - 13s 85ms/step - loss: 0.4690 - accuracy: 0.7912 - val_loss: 0.7950 - val_accuracy: 0.3479\n",
      "Epoch 22/100\n",
      "152/152 [==============================] - 13s 85ms/step - loss: 0.4636 - accuracy: 0.7939 - val_loss: 0.9038 - val_accuracy: 0.4642\n",
      "Epoch 23/100\n",
      "152/152 [==============================] - 13s 85ms/step - loss: 0.4539 - accuracy: 0.8019 - val_loss: 0.8563 - val_accuracy: 0.4411\n",
      "Epoch 24/100\n",
      "152/152 [==============================] - 13s 85ms/step - loss: 0.4544 - accuracy: 0.7978 - val_loss: 0.9100 - val_accuracy: 0.4740\n",
      "Epoch 25/100\n",
      "152/152 [==============================] - 13s 85ms/step - loss: 0.4438 - accuracy: 0.8122 - val_loss: 0.7775 - val_accuracy: 0.4683\n",
      "Epoch 26/100\n",
      "152/152 [==============================] - 13s 86ms/step - loss: 0.4434 - accuracy: 0.8065 - val_loss: 0.9341 - val_accuracy: 0.4781\n",
      "Epoch 27/100\n",
      "152/152 [==============================] - 13s 87ms/step - loss: 0.4430 - accuracy: 0.8063 - val_loss: 0.8446 - val_accuracy: 0.3181\n",
      "Epoch 28/100\n",
      "152/152 [==============================] - 13s 86ms/step - loss: 0.4396 - accuracy: 0.8069 - val_loss: 0.8688 - val_accuracy: 0.3119\n",
      "Epoch 29/100\n",
      "152/152 [==============================] - 13s 86ms/step - loss: 0.4312 - accuracy: 0.8157 - val_loss: 0.9697 - val_accuracy: 0.4812\n",
      "Epoch 30/100\n",
      "152/152 [==============================] - 13s 86ms/step - loss: 0.4257 - accuracy: 0.8188 - val_loss: 0.7821 - val_accuracy: 0.5049\n",
      "Epoch 31/100\n",
      "152/152 [==============================] - 13s 87ms/step - loss: 0.4217 - accuracy: 0.8207 - val_loss: 0.8638 - val_accuracy: 0.3577\n",
      "Epoch 32/100\n",
      "152/152 [==============================] - 13s 86ms/step - loss: 0.4110 - accuracy: 0.8281 - val_loss: 0.8580 - val_accuracy: 0.3263\n",
      "Epoch 33/100\n",
      "152/152 [==============================] - 13s 88ms/step - loss: 0.4094 - accuracy: 0.8263 - val_loss: 1.0131 - val_accuracy: 0.4853\n",
      "Epoch 34/100\n",
      "152/152 [==============================] - 13s 86ms/step - loss: 0.4041 - accuracy: 0.8322 - val_loss: 0.9644 - val_accuracy: 0.4740\n",
      "Epoch 35/100\n",
      "152/152 [==============================] - 13s 86ms/step - loss: 0.4030 - accuracy: 0.8304 - val_loss: 0.9599 - val_accuracy: 0.4560\n",
      "Epoch 36/100\n",
      "152/152 [==============================] - 13s 86ms/step - loss: 0.4025 - accuracy: 0.8291 - val_loss: 0.9704 - val_accuracy: 0.4570\n",
      "Epoch 37/100\n",
      "152/152 [==============================] - 13s 86ms/step - loss: 0.4051 - accuracy: 0.8246 - val_loss: 0.9286 - val_accuracy: 0.3345\n",
      "Epoch 38/100\n",
      "152/152 [==============================] - 13s 86ms/step - loss: 0.3951 - accuracy: 0.8362 - val_loss: 0.9990 - val_accuracy: 0.4781\n",
      "Epoch 39/100\n",
      "152/152 [==============================] - 13s 86ms/step - loss: 0.3852 - accuracy: 0.8450 - val_loss: 0.8962 - val_accuracy: 0.3505\n",
      "Epoch 40/100\n",
      "152/152 [==============================] - 13s 86ms/step - loss: 0.3904 - accuracy: 0.8349 - val_loss: 0.9613 - val_accuracy: 0.2954\n",
      "Epoch 41/100\n",
      "152/152 [==============================] - 13s 87ms/step - loss: 0.3852 - accuracy: 0.8413 - val_loss: 1.0155 - val_accuracy: 0.4297\n",
      "Epoch 42/100\n",
      "152/152 [==============================] - 13s 88ms/step - loss: 0.3786 - accuracy: 0.8456 - val_loss: 1.0351 - val_accuracy: 0.4689\n",
      "Epoch 43/100\n",
      "152/152 [==============================] - 13s 86ms/step - loss: 0.3725 - accuracy: 0.8473 - val_loss: 0.9592 - val_accuracy: 0.3314\n",
      "Epoch 44/100\n",
      "152/152 [==============================] - 13s 86ms/step - loss: 0.3704 - accuracy: 0.8512 - val_loss: 0.9597 - val_accuracy: 0.3258\n",
      "Epoch 45/100\n",
      "152/152 [==============================] - 13s 86ms/step - loss: 0.3729 - accuracy: 0.8547 - val_loss: 0.9823 - val_accuracy: 0.3356\n",
      "Epoch 46/100\n",
      "152/152 [==============================] - 13s 86ms/step - loss: 0.3657 - accuracy: 0.8531 - val_loss: 0.9936 - val_accuracy: 0.3453\n",
      "Epoch 47/100\n",
      "152/152 [==============================] - 13s 86ms/step - loss: 0.3676 - accuracy: 0.8516 - val_loss: 1.0811 - val_accuracy: 0.4776\n",
      "Epoch 48/100\n",
      "152/152 [==============================] - 13s 86ms/step - loss: 0.3620 - accuracy: 0.8559 - val_loss: 1.1315 - val_accuracy: 0.4941\n",
      "Epoch 49/100\n",
      "152/152 [==============================] - 13s 88ms/step - loss: 0.3623 - accuracy: 0.8508 - val_loss: 0.9043 - val_accuracy: 0.3752\n",
      "Epoch 50/100\n",
      "152/152 [==============================] - 13s 86ms/step - loss: 0.3570 - accuracy: 0.8638 - val_loss: 1.0208 - val_accuracy: 0.3659\n",
      "Epoch 51/100\n",
      "152/152 [==============================] - 13s 86ms/step - loss: 0.3534 - accuracy: 0.8636 - val_loss: 0.9552 - val_accuracy: 0.3340\n",
      "Epoch 52/100\n",
      "152/152 [==============================] - 13s 86ms/step - loss: 0.3501 - accuracy: 0.8646 - val_loss: 1.0007 - val_accuracy: 0.4297\n",
      "Epoch 53/100\n",
      "152/152 [==============================] - 14s 89ms/step - loss: 0.3490 - accuracy: 0.8648 - val_loss: 1.0630 - val_accuracy: 0.4519\n",
      "Epoch 54/100\n",
      "152/152 [==============================] - 13s 86ms/step - loss: 0.3408 - accuracy: 0.8673 - val_loss: 1.0874 - val_accuracy: 0.4575\n",
      "Epoch 55/100\n",
      "152/152 [==============================] - 13s 86ms/step - loss: 0.3429 - accuracy: 0.8679 - val_loss: 0.9905 - val_accuracy: 0.3356\n",
      "Epoch 56/100\n",
      "152/152 [==============================] - 13s 86ms/step - loss: 0.3462 - accuracy: 0.8636 - val_loss: 0.9822 - val_accuracy: 0.3186\n",
      "Epoch 57/100\n",
      "152/152 [==============================] - 13s 86ms/step - loss: 0.3383 - accuracy: 0.8700 - val_loss: 1.0248 - val_accuracy: 0.4297\n",
      "Epoch 58/100\n",
      "152/152 [==============================] - 13s 85ms/step - loss: 0.3330 - accuracy: 0.8706 - val_loss: 1.0424 - val_accuracy: 0.3773\n",
      "Epoch 59/100\n",
      "152/152 [==============================] - 13s 85ms/step - loss: 0.3321 - accuracy: 0.8726 - val_loss: 0.9382 - val_accuracy: 0.4061\n",
      "Epoch 60/100\n",
      "152/152 [==============================] - 13s 86ms/step - loss: 0.3347 - accuracy: 0.8720 - val_loss: 1.1476 - val_accuracy: 0.4905\n",
      "Epoch 61/100\n",
      "152/152 [==============================] - 13s 86ms/step - loss: 0.3301 - accuracy: 0.8737 - val_loss: 1.1097 - val_accuracy: 0.4756\n",
      "Epoch 62/100\n",
      "152/152 [==============================] - 13s 86ms/step - loss: 0.3336 - accuracy: 0.8695 - val_loss: 1.0182 - val_accuracy: 0.3459\n",
      "Epoch 63/100\n",
      "152/152 [==============================] - 13s 86ms/step - loss: 0.3256 - accuracy: 0.8747 - val_loss: 1.0795 - val_accuracy: 0.4874\n",
      "Epoch 64/100\n",
      "152/152 [==============================] - 13s 86ms/step - loss: 0.3225 - accuracy: 0.8776 - val_loss: 0.9538 - val_accuracy: 0.4961\n",
      "Epoch 65/100\n",
      "152/152 [==============================] - 13s 86ms/step - loss: 0.3308 - accuracy: 0.8714 - val_loss: 1.0122 - val_accuracy: 0.4442\n",
      "Epoch 66/100\n",
      "152/152 [==============================] - 13s 86ms/step - loss: 0.3238 - accuracy: 0.8759 - val_loss: 1.0281 - val_accuracy: 0.3680\n",
      "Epoch 67/100\n",
      "152/152 [==============================] - 13s 86ms/step - loss: 0.3187 - accuracy: 0.8768 - val_loss: 1.1093 - val_accuracy: 0.4884\n",
      "Epoch 68/100\n",
      "152/152 [==============================] - 13s 86ms/step - loss: 0.3192 - accuracy: 0.8778 - val_loss: 1.0667 - val_accuracy: 0.4797\n",
      "Epoch 69/100\n",
      "152/152 [==============================] - 13s 86ms/step - loss: 0.3140 - accuracy: 0.8823 - val_loss: 1.0528 - val_accuracy: 0.4467\n",
      "Epoch 70/100\n",
      "152/152 [==============================] - 13s 85ms/step - loss: 0.3110 - accuracy: 0.8836 - val_loss: 0.9317 - val_accuracy: 0.3865\n",
      "Epoch 71/100\n",
      "152/152 [==============================] - 13s 86ms/step - loss: 0.3109 - accuracy: 0.8838 - val_loss: 0.9643 - val_accuracy: 0.3721\n",
      "Epoch 72/100\n",
      "152/152 [==============================] - 13s 86ms/step - loss: 0.3055 - accuracy: 0.8877 - val_loss: 1.0725 - val_accuracy: 0.3989\n",
      "Epoch 73/100\n",
      "152/152 [==============================] - 13s 86ms/step - loss: 0.2965 - accuracy: 0.8961 - val_loss: 1.1364 - val_accuracy: 0.4776\n",
      "Epoch 74/100\n",
      "152/152 [==============================] - 13s 86ms/step - loss: 0.3106 - accuracy: 0.8782 - val_loss: 1.0166 - val_accuracy: 0.3459\n",
      "Epoch 75/100\n",
      "152/152 [==============================] - 13s 88ms/step - loss: 0.2996 - accuracy: 0.8920 - val_loss: 1.0569 - val_accuracy: 0.3562\n",
      "Epoch 76/100\n",
      "152/152 [==============================] - 13s 88ms/step - loss: 0.3036 - accuracy: 0.8873 - val_loss: 0.9492 - val_accuracy: 0.3793\n",
      "Epoch 77/100\n",
      "152/152 [==============================] - 13s 88ms/step - loss: 0.2961 - accuracy: 0.8908 - val_loss: 1.0147 - val_accuracy: 0.3752\n",
      "Epoch 78/100\n",
      "152/152 [==============================] - 13s 87ms/step - loss: 0.2970 - accuracy: 0.8887 - val_loss: 0.9950 - val_accuracy: 0.3500\n",
      "Epoch 79/100\n",
      "152/152 [==============================] - 13s 87ms/step - loss: 0.3034 - accuracy: 0.8848 - val_loss: 1.1000 - val_accuracy: 0.4601\n",
      "Epoch 80/100\n",
      "152/152 [==============================] - 13s 88ms/step - loss: 0.2897 - accuracy: 0.8939 - val_loss: 1.0511 - val_accuracy: 0.4112\n",
      "Epoch 81/100\n",
      "152/152 [==============================] - 13s 87ms/step - loss: 0.2891 - accuracy: 0.8978 - val_loss: 0.9707 - val_accuracy: 0.4627\n",
      "Epoch 82/100\n",
      "152/152 [==============================] - 13s 86ms/step - loss: 0.2873 - accuracy: 0.8934 - val_loss: 1.1590 - val_accuracy: 0.4668\n",
      "Epoch 83/100\n",
      "152/152 [==============================] - 13s 87ms/step - loss: 0.2824 - accuracy: 0.9000 - val_loss: 1.1121 - val_accuracy: 0.4668\n",
      "Epoch 84/100\n",
      "152/152 [==============================] - 13s 88ms/step - loss: 0.2821 - accuracy: 0.8961 - val_loss: 1.0177 - val_accuracy: 0.3870\n",
      "Epoch 85/100\n",
      "152/152 [==============================] - 13s 88ms/step - loss: 0.2744 - accuracy: 0.9005 - val_loss: 0.9411 - val_accuracy: 0.4380\n",
      "Epoch 86/100\n",
      "152/152 [==============================] - 13s 86ms/step - loss: 0.2706 - accuracy: 0.9054 - val_loss: 0.9961 - val_accuracy: 0.3654\n",
      "Epoch 87/100\n",
      "152/152 [==============================] - 13s 86ms/step - loss: 0.2746 - accuracy: 0.9011 - val_loss: 1.0699 - val_accuracy: 0.4575\n",
      "Epoch 88/100\n",
      "152/152 [==============================] - 13s 89ms/step - loss: 0.2755 - accuracy: 0.9031 - val_loss: 1.0359 - val_accuracy: 0.3572\n",
      "Epoch 89/100\n",
      "152/152 [==============================] - 13s 87ms/step - loss: 0.2706 - accuracy: 0.9044 - val_loss: 1.0839 - val_accuracy: 0.4014\n",
      "Epoch 90/100\n",
      "152/152 [==============================] - 13s 87ms/step - loss: 0.2823 - accuracy: 0.8980 - val_loss: 1.0723 - val_accuracy: 0.3515\n",
      "Epoch 91/100\n",
      "152/152 [==============================] - 13s 87ms/step - loss: 0.2701 - accuracy: 0.9023 - val_loss: 1.1694 - val_accuracy: 0.4673\n",
      "Epoch 92/100\n",
      "152/152 [==============================] - 13s 88ms/step - loss: 0.2715 - accuracy: 0.9007 - val_loss: 1.0337 - val_accuracy: 0.3639\n",
      "Epoch 93/100\n",
      "152/152 [==============================] - 13s 88ms/step - loss: 0.2716 - accuracy: 0.9011 - val_loss: 1.1248 - val_accuracy: 0.4195\n",
      "Epoch 94/100\n",
      "152/152 [==============================] - 14s 90ms/step - loss: 0.2746 - accuracy: 0.8988 - val_loss: 1.1464 - val_accuracy: 0.3875\n",
      "Epoch 95/100\n",
      "152/152 [==============================] - 13s 86ms/step - loss: 0.2709 - accuracy: 0.9038 - val_loss: 1.1255 - val_accuracy: 0.4148\n",
      "Epoch 96/100\n",
      "152/152 [==============================] - 13s 86ms/step - loss: 0.2604 - accuracy: 0.9089 - val_loss: 1.0832 - val_accuracy: 0.3536\n",
      "Epoch 97/100\n",
      "152/152 [==============================] - 14s 90ms/step - loss: 0.2622 - accuracy: 0.9077 - val_loss: 1.0615 - val_accuracy: 0.3829\n",
      "Epoch 98/100\n",
      "152/152 [==============================] - 14s 89ms/step - loss: 0.2608 - accuracy: 0.9073 - val_loss: 0.9966 - val_accuracy: 0.3968\n",
      "Epoch 99/100\n",
      "152/152 [==============================] - 13s 87ms/step - loss: 0.2674 - accuracy: 0.9009 - val_loss: 1.0584 - val_accuracy: 0.4169\n",
      "Epoch 100/100\n",
      "152/152 [==============================] - 13s 86ms/step - loss: 0.2538 - accuracy: 0.9143 - val_loss: 0.9992 - val_accuracy: 0.3891\n"
     ]
    },
    {
     "data": {
      "image/png": "[encoded data removed]",
      "text/plain": [
       "<Figure size 432x288 with 1 Axes>"
      ]
     },
     "metadata": {
      "needs_background": "light"
     },
     "output_type": "display_data"
    },
    {
     "data": {
      "text/plain": [
       "(<tensorflow.python.keras.callbacks.History at 0x7ff178580430>,\n",
       " <tensorflow.python.keras.engine.sequential.Sequential at 0x7ff17820b3a0>)"
      ]
     },
     "execution_count": 42,
     "metadata": {},
     "output_type": "execute_result"
    }
   ],
   "source": [
    "myclf.CNN(learning_rate=0.01, plot_ROC=True)"
   ]
  },
  {
   "cell_type": "code",
   "execution_count": null,
   "metadata": {},
   "outputs": [],
   "source": []
  }
 ],
 "metadata": {
  "kernelspec": {
   "display_name": "Python 3",
   "language": "python",
   "name": "python3"
  },
  "language_info": {
   "codemirror_mode": {
    "name": "ipython",
    "version": 3
   },
   "file_extension": ".py",
   "mimetype": "text/x-python",
   "name": "python",
   "nbconvert_exporter": "python",
   "pygments_lexer": "ipython3",
   "version": "3.8.5"
  }
 },
 "nbformat": 4,
 "nbformat_minor": 4
}
