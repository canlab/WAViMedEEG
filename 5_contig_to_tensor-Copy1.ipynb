{
 "cells": [
  {
   "cell_type": "code",
   "execution_count": 1,
   "metadata": {},
   "outputs": [
    {
     "name": "stdout",
     "output_type": "stream",
     "text": [
      "2.0.0\n"
     ]
    }
   ],
   "source": [
    "from __future__ import absolute_import, division, print_function, unicode_literals\n",
    "\n",
    "import tensorflow as tf\n",
    "from tensorflow.keras.layers import Dense, Flatten, Conv2D\n",
    "from tensorflow.keras import Model\n",
    "\n",
    "import matplotlib.pyplot as plot\n",
    "import numpy as np\n",
    "from numpy import genfromtxt\n",
    "import csv\n",
    "import sys, os, re\n",
    "import pathlib\n",
    "\n",
    "print(tf.__version__)"
   ]
  },
  {
   "cell_type": "code",
   "execution_count": 2,
   "metadata": {},
   "outputs": [],
   "source": [
    "# The CANlab/WAVi Pain Study is Pre-Formatted to resemble BIDS neuroimaging formatting\n",
    "# If your study does not abide to the following structure, please revisit previous scripts\n",
    "# .../StudyRepo\n",
    "# -------------> /raw\n",
    "# -------------------> /*.art\n",
    "# -------------------> /*.eeg\n",
    "# -------------------> /*.evt\n",
    "# -------------> /contigs\n",
    "# -------------------> /train          2:1 train:test\n",
    "# -------------------> /test"
   ]
  },
  {
   "cell_type": "code",
   "execution_count": 3,
   "metadata": {},
   "outputs": [],
   "source": [
    "if \"contigs\" not in os.getcwd():\n",
    "    try:\n",
    "        os.chdir(\"CANlabStudy/contigs\")\n",
    "        directory=os.getcwd()\n",
    "    except:\n",
    "        print(\"I couldn't find the contigs folder.\\n\")\n",
    "        directory = input(\"Please give the full path of the contigs folder: \")\n",
    "        os.chdir(directory)"
   ]
  },
  {
   "cell_type": "code",
   "execution_count": 4,
   "metadata": {},
   "outputs": [],
   "source": [
    "#train_path = pathlib.Path('train/p300/')\n",
    "train_path = pathlib.Path('train/chronic/')\n",
    "#train_path = pathlib.Path('train/')\n",
    "\n",
    "# test_path = pathlib.Path('test/p300/')\n",
    "test_path = pathlib.Path('test/chronic/')\n",
    "#test_path = pathlib.Path('test/')"
   ]
  },
  {
   "cell_type": "code",
   "execution_count": 5,
   "metadata": {},
   "outputs": [
    {
     "name": "stdout",
     "output_type": "stream",
     "text": [
      "You have 2580 training images.\n",
      "You have 515 testing images.\n"
     ]
    }
   ],
   "source": [
    "# load in image paths for training set\n",
    "\n",
    "import random\n",
    "\n",
    "train_image_paths = os.listdir(train_path)\n",
    "#train_image_paths = list(train_path.glob('*/*'))\n",
    "train_image_paths = [str(path) for path in train_image_paths]\n",
    "random.shuffle(train_image_paths)\n",
    "\n",
    "train_count = len(train_image_paths)\n",
    "print(\"You have\", train_count, \"training images.\")\n",
    "\n",
    "# load in image paths for testing set?\n",
    "\n",
    "test_image_paths = os.listdir(test_path)\n",
    "#test_image_paths = list(test_path.glob('*/*'))\n",
    "test_image_paths = [str(path) for path in test_image_paths if \"ctrl\" in path]\n",
    "random.shuffle(test_image_paths)\n",
    "\n",
    "test_count = len(test_image_paths)\n",
    "print(\"You have\", test_count, \"testing images.\")"
   ]
  },
  {
   "cell_type": "code",
   "execution_count": 6,
   "metadata": {},
   "outputs": [
    {
     "name": "stdout",
     "output_type": "stream",
     "text": [
      "Labels discovered: ['ctrl', 'pain']\n"
     ]
    }
   ],
   "source": [
    "#list the available labels\n",
    "label_names = ['ctrl', 'pain']\n",
    "#label_names = sorted(item.name for item in train_path.glob('*/') if item.is_dir())\n",
    "print(\"Labels discovered:\", label_names)"
   ]
  },
  {
   "cell_type": "code",
   "execution_count": 7,
   "metadata": {},
   "outputs": [
    {
     "name": "stdout",
     "output_type": "stream",
     "text": [
      "Label indices: {'ctrl': 0, 'pain': 1}\n"
     ]
    }
   ],
   "source": [
    "#assign an index to each label\n",
    "label_to_index = dict((name, index) for index, name in enumerate(label_names))\n",
    "print(\"Label indices:\", label_to_index)"
   ]
  },
  {
   "cell_type": "code",
   "execution_count": 8,
   "metadata": {},
   "outputs": [],
   "source": [
    "#create a list of every file and its index label\n",
    "\n",
    "train_image_labels = [label_to_index[path[:4]] for path in train_image_paths]\n",
    "#train_image_labels = [label_to_index[pathlib.Path(path).parent.name]\n",
    " #                   for path in train_image_paths]\n",
    "# force list of strings to numpy array\n",
    "train_image_labels = np.array(train_image_labels)\n",
    "    \n",
    "    \n",
    "test_image_labels = [label_to_index[path[:4]] for path in test_image_paths]    \n",
    "#test_image_labels = [label_to_index[pathlib.Path(path).parent.name]\n",
    " #                   for path in test_image_paths]\n",
    "# force list of strings to numpy array\n",
    "test_image_labels = np.array(test_image_labels)"
   ]
  },
  {
   "cell_type": "code",
   "execution_count": 9,
   "metadata": {},
   "outputs": [],
   "source": [
    "def norm_array(array):\n",
    "    return((array - np.min(array)) / np.ptp(array))"
   ]
  },
  {
   "cell_type": "code",
   "execution_count": 10,
   "metadata": {},
   "outputs": [],
   "source": [
    "def load_numpy_stack(lead, paths):\n",
    "    numpy_stack = []\n",
    "    for path in paths:\n",
    "        path = lead+path\n",
    "        array = genfromtxt(path, delimiter=\",\")\n",
    "        #row_sums = array.sum(axis=0, keepdims=True)\n",
    "        #norm_array = array / row_sums\n",
    "        #array = norm_array(array)\n",
    "        array = array.reshape(array.shape +(1,))\n",
    "        numpy_stack.append(array)\n",
    "    numpy_dataset = np.rollaxis(np.block(numpy_stack), 2, 0)\n",
    "    numpy_dataset = numpy_dataset.reshape(numpy_dataset.shape+(1,))\n",
    "    return(numpy_dataset)"
   ]
  },
  {
   "cell_type": "code",
   "execution_count": 11,
   "metadata": {},
   "outputs": [],
   "source": [
    "train_arrays = load_numpy_stack('train/chronic/', train_image_paths)\n",
    "#train_arrays = load_numpy_stack('', train_image_paths)\n",
    "\n",
    "test_arrays = load_numpy_stack('test/chronic/', test_image_paths)\n",
    "#test_arrays = load_numpy_stack('', test_image_paths)"
   ]
  },
  {
   "cell_type": "code",
   "execution_count": 22,
   "metadata": {},
   "outputs": [],
   "source": [
    "def createModel(learn, num_epochs, betaOne, betaTwo):\n",
    "    # Introduce sequential Set\n",
    "    model = tf.keras.models.Sequential()\n",
    "    \n",
    "    # Create a convolutional base\n",
    "    model.add(tf.keras.layers.Conv2D(5, kernel_size=6, strides=6, padding='same', activation='relu', data_format='channels_last', use_bias=False))    \n",
    "    model.add(tf.keras.layers.Conv2D(5, kernel_size=6, strides=6, padding='same', activation='relu', data_format='channels_last', use_bias=False))\n",
    "    model.add(tf.keras.layers.MaxPooling2D(pool_size=(2,2), strides=None, padding='same', data_format=None))\n",
    "    model.add(tf.keras.layers.Dropout(0.2))\n",
    "    \n",
    "    model.add(tf.keras.layers.Conv2D(5, kernel_size=6, strides=6, padding='same', activation='relu', data_format='channels_last', use_bias=False))\n",
    "    model.add(tf.keras.layers.Conv2D(5, kernel_size=6, strides=6, padding='same', activation='relu', data_format='channels_last', use_bias=False))\n",
    "    #model.add(tf.keras.layers.Conv2D(5, kernel_size=5, strides=5, padding='same', activation='relu', data_format='channels_last', use_bias=False))\n",
    "    model.add(tf.keras.layers.BatchNormalization(axis=-1, momentum=0.99, epsilon=0.001, center=True, scale=True, beta_initializer='zeros', gamma_initializer='ones', moving_mean_initializer='zeros', moving_variance_initializer='ones', beta_regularizer=None, gamma_regularizer=None, beta_constraint=None, gamma_constraint=None))\n",
    "    \n",
    "    # Layers\n",
    "    #model.add(tf.keras.layers.Dropout(0.5))\n",
    "    model.add(tf.keras.layers.MaxPooling2D(pool_size=(2,2), strides=None, padding='same', data_format=None))\n",
    "    model.add(tf.keras.layers.Flatten(data_format=\"channels_last\"))   \n",
    "    \n",
    "    # Hidden layers\n",
    "    model.add(tf.keras.layers.Dense(2, activation='softmax'))\n",
    "    \n",
    "    model.build(train_arrays.shape)\n",
    "    model.summary()\n",
    "    \n",
    "    # Model compilation\n",
    "    model.compile(optimizer=tf.keras.optimizers.Adam(learning_rate=learn, beta_1=betaOne, beta_2=betaTwo),\n",
    "                 loss='sparse_categorical_crossentropy',\n",
    "                 metrics=['accuracy'])\n",
    "    \n",
    "    history = model.fit(train_arrays, train_image_labels, epochs=num_epochs,\n",
    "                       validation_data=(test_arrays, test_image_labels))\n",
    "    \n",
    "    return(history)"
   ]
  },
  {
   "cell_type": "code",
   "execution_count": 27,
   "metadata": {
    "scrolled": false
   },
   "outputs": [
    {
     "name": "stdout",
     "output_type": "stream",
     "text": [
      "What's my learning rate? 0.001\n",
      "What's my beta1? 0\n",
      "What's my beta2? 0.999\n",
      "How many epochs? 100\n",
      "Model: \"sequential_6\"\n",
      "_________________________________________________________________\n",
      "Layer (type)                 Output Shape              Param #   \n",
      "=================================================================\n",
      "conv2d_24 (Conv2D)           multiple                  180       \n",
      "_________________________________________________________________\n",
      "conv2d_25 (Conv2D)           multiple                  900       \n",
      "_________________________________________________________________\n",
      "max_pooling2d_12 (MaxPooling multiple                  0         \n",
      "_________________________________________________________________\n",
      "dropout_6 (Dropout)          multiple                  0         \n",
      "_________________________________________________________________\n",
      "conv2d_26 (Conv2D)           multiple                  900       \n",
      "_________________________________________________________________\n",
      "conv2d_27 (Conv2D)           multiple                  900       \n",
      "_________________________________________________________________\n",
      "batch_normalization_6 (Batch multiple                  20        \n",
      "_________________________________________________________________\n",
      "max_pooling2d_13 (MaxPooling multiple                  0         \n",
      "_________________________________________________________________\n",
      "flatten_6 (Flatten)          multiple                  0         \n",
      "_________________________________________________________________\n",
      "dense_6 (Dense)              multiple                  12        \n",
      "=================================================================\n",
      "Total params: 2,912\n",
      "Trainable params: 2,902\n",
      "Non-trainable params: 10\n",
      "_________________________________________________________________\n",
      "Train on 2580 samples, validate on 515 samples\n",
      "Epoch 1/100\n",
      "2580/2580 [==============================] - 3s 1ms/sample - loss: 0.7849 - accuracy: 0.5713 - val_loss: 0.8293 - val_accuracy: 0.0019\n",
      "Epoch 2/100\n",
      "2580/2580 [==============================] - 2s 768us/sample - loss: 0.6738 - accuracy: 0.6047 - val_loss: 0.8933 - val_accuracy: 0.0000e+00\n",
      "Epoch 3/100\n",
      "2580/2580 [==============================] - 2s 842us/sample - loss: 0.6676 - accuracy: 0.6039 - val_loss: 0.9088 - val_accuracy: 0.0000e+00\n",
      "Epoch 4/100\n",
      "2580/2580 [==============================] - 2s 887us/sample - loss: 0.6663 - accuracy: 0.6078 - val_loss: 0.9393 - val_accuracy: 0.0000e+00\n",
      "Epoch 5/100\n",
      "2580/2580 [==============================] - 2s 874us/sample - loss: 0.6621 - accuracy: 0.6143 - val_loss: 0.9814 - val_accuracy: 0.0117\n",
      "Epoch 6/100\n",
      "2580/2580 [==============================] - 2s 828us/sample - loss: 0.6522 - accuracy: 0.6275 - val_loss: 0.8538 - val_accuracy: 0.1398\n",
      "Epoch 7/100\n",
      "2580/2580 [==============================] - 2s 817us/sample - loss: 0.6477 - accuracy: 0.6287 - val_loss: 0.8025 - val_accuracy: 0.2350\n",
      "Epoch 8/100\n",
      "2580/2580 [==============================] - 2s 930us/sample - loss: 0.6262 - accuracy: 0.6492 - val_loss: 0.9068 - val_accuracy: 0.2641\n",
      "Epoch 9/100\n",
      "2580/2580 [==============================] - 2s 937us/sample - loss: 0.6146 - accuracy: 0.6597 - val_loss: 0.9639 - val_accuracy: 0.2233\n",
      "Epoch 10/100\n",
      "2580/2580 [==============================] - 2s 951us/sample - loss: 0.5864 - accuracy: 0.6841 - val_loss: 0.6682 - val_accuracy: 0.6019\n",
      "Epoch 11/100\n",
      "2580/2580 [==============================] - 2s 837us/sample - loss: 0.5578 - accuracy: 0.7120 - val_loss: 0.6906 - val_accuracy: 0.6058\n",
      "Epoch 12/100\n",
      "2580/2580 [==============================] - 2s 861us/sample - loss: 0.5387 - accuracy: 0.7384 - val_loss: 0.4594 - val_accuracy: 0.8680\n",
      "Epoch 13/100\n",
      "2580/2580 [==============================] - 2s 916us/sample - loss: 0.5081 - accuracy: 0.7519 - val_loss: 1.0007 - val_accuracy: 0.3845\n",
      "Epoch 14/100\n",
      "2580/2580 [==============================] - 2s 871us/sample - loss: 0.5046 - accuracy: 0.7558 - val_loss: 0.7819 - val_accuracy: 0.5553\n",
      "Epoch 15/100\n",
      "2580/2580 [==============================] - 2s 958us/sample - loss: 0.4808 - accuracy: 0.7771 - val_loss: 1.1924 - val_accuracy: 0.2641\n",
      "Epoch 16/100\n",
      "2580/2580 [==============================] - 2s 899us/sample - loss: 0.4735 - accuracy: 0.7729 - val_loss: 0.6791 - val_accuracy: 0.6194\n",
      "Epoch 17/100\n",
      "2580/2580 [==============================] - 2s 845us/sample - loss: 0.4703 - accuracy: 0.7783 - val_loss: 0.7495 - val_accuracy: 0.5689\n",
      "Epoch 18/100\n",
      "2580/2580 [==============================] - 2s 861us/sample - loss: 0.4533 - accuracy: 0.7969 - val_loss: 0.7817 - val_accuracy: 0.5417\n",
      "Epoch 19/100\n",
      "2580/2580 [==============================] - 2s 901us/sample - loss: 0.4398 - accuracy: 0.7984 - val_loss: 0.3880 - val_accuracy: 0.8388\n",
      "Epoch 20/100\n",
      "2580/2580 [==============================] - 2s 890us/sample - loss: 0.4384 - accuracy: 0.7965 - val_loss: 0.3943 - val_accuracy: 0.8641\n",
      "Epoch 21/100\n",
      "2580/2580 [==============================] - 2s 850us/sample - loss: 0.4229 - accuracy: 0.8074 - val_loss: 0.6847 - val_accuracy: 0.6563\n",
      "Epoch 22/100\n",
      "2580/2580 [==============================] - 2s 855us/sample - loss: 0.4330 - accuracy: 0.8112 - val_loss: 0.4259 - val_accuracy: 0.8408\n",
      "Epoch 23/100\n",
      "2580/2580 [==============================] - 2s 847us/sample - loss: 0.4102 - accuracy: 0.8171 - val_loss: 0.3617 - val_accuracy: 0.8835\n",
      "Epoch 24/100\n",
      "2580/2580 [==============================] - 2s 825us/sample - loss: 0.4061 - accuracy: 0.8202 - val_loss: 0.7720 - val_accuracy: 0.5942\n",
      "Epoch 25/100\n",
      "2580/2580 [==============================] - 2s 859us/sample - loss: 0.3965 - accuracy: 0.8271 - val_loss: 0.3494 - val_accuracy: 0.8835\n",
      "Epoch 26/100\n",
      "2580/2580 [==============================] - 2s 852us/sample - loss: 0.3866 - accuracy: 0.8310 - val_loss: 0.5963 - val_accuracy: 0.7184\n",
      "Epoch 27/100\n",
      "2580/2580 [==============================] - 2s 869us/sample - loss: 0.3910 - accuracy: 0.8295 - val_loss: 0.9244 - val_accuracy: 0.5262\n",
      "Epoch 28/100\n",
      "2580/2580 [==============================] - 2s 826us/sample - loss: 0.3873 - accuracy: 0.8306 - val_loss: 0.6595 - val_accuracy: 0.6777\n",
      "Epoch 29/100\n",
      "2580/2580 [==============================] - 2s 899us/sample - loss: 0.3650 - accuracy: 0.8391 - val_loss: 0.7276 - val_accuracy: 0.6524\n",
      "Epoch 30/100\n",
      "2580/2580 [==============================] - 2s 884us/sample - loss: 0.3769 - accuracy: 0.8364 - val_loss: 0.3644 - val_accuracy: 0.8718\n",
      "Epoch 31/100\n",
      "2580/2580 [==============================] - 2s 813us/sample - loss: 0.3755 - accuracy: 0.8341 - val_loss: 0.3981 - val_accuracy: 0.8660\n",
      "Epoch 32/100\n",
      "2580/2580 [==============================] - 2s 833us/sample - loss: 0.3533 - accuracy: 0.8481 - val_loss: 0.7855 - val_accuracy: 0.6214\n",
      "Epoch 33/100\n",
      "2580/2580 [==============================] - 2s 845us/sample - loss: 0.3515 - accuracy: 0.8500 - val_loss: 0.4974 - val_accuracy: 0.7922\n",
      "Epoch 34/100\n",
      "2580/2580 [==============================] - 2s 811us/sample - loss: 0.3543 - accuracy: 0.8484 - val_loss: 0.6190 - val_accuracy: 0.7301\n",
      "Epoch 35/100\n",
      "2580/2580 [==============================] - 2s 844us/sample - loss: 0.3453 - accuracy: 0.8535 - val_loss: 0.5403 - val_accuracy: 0.7534\n",
      "Epoch 36/100\n",
      "2580/2580 [==============================] - 2s 848us/sample - loss: 0.3458 - accuracy: 0.8488 - val_loss: 0.8755 - val_accuracy: 0.5689\n",
      "Epoch 37/100\n",
      "2580/2580 [==============================] - 2s 830us/sample - loss: 0.3523 - accuracy: 0.8430 - val_loss: 1.4044 - val_accuracy: 0.2971\n",
      "Epoch 38/100\n",
      "2580/2580 [==============================] - 3s 989us/sample - loss: 0.3312 - accuracy: 0.8578 - val_loss: 0.3502 - val_accuracy: 0.8641\n",
      "Epoch 39/100\n",
      "2580/2580 [==============================] - 2s 923us/sample - loss: 0.3367 - accuracy: 0.8531 - val_loss: 0.4377 - val_accuracy: 0.8252\n",
      "Epoch 40/100\n",
      "2580/2580 [==============================] - 2s 942us/sample - loss: 0.3344 - accuracy: 0.8547 - val_loss: 0.3663 - val_accuracy: 0.8680\n",
      "Epoch 41/100\n",
      "2580/2580 [==============================] - 2s 881us/sample - loss: 0.3232 - accuracy: 0.8504 - val_loss: 0.4095 - val_accuracy: 0.8388\n",
      "Epoch 42/100\n",
      "2580/2580 [==============================] - 3s 995us/sample - loss: 0.3278 - accuracy: 0.8609 - val_loss: 0.4173 - val_accuracy: 0.8175\n",
      "Epoch 43/100\n"
     ]
    },
    {
     "name": "stdout",
     "output_type": "stream",
     "text": [
      "2580/2580 [==============================] - 2s 908us/sample - loss: 0.3069 - accuracy: 0.8705 - val_loss: 0.7578 - val_accuracy: 0.6175\n",
      "Epoch 44/100\n",
      "2580/2580 [==============================] - 2s 847us/sample - loss: 0.3123 - accuracy: 0.8651 - val_loss: 0.9992 - val_accuracy: 0.5340\n",
      "Epoch 45/100\n",
      "2580/2580 [==============================] - 2s 867us/sample - loss: 0.3175 - accuracy: 0.8643 - val_loss: 0.6160 - val_accuracy: 0.7165\n",
      "Epoch 46/100\n",
      "2580/2580 [==============================] - 2s 897us/sample - loss: 0.3175 - accuracy: 0.8609 - val_loss: 0.3621 - val_accuracy: 0.8583\n",
      "Epoch 47/100\n",
      "2580/2580 [==============================] - 2s 815us/sample - loss: 0.3165 - accuracy: 0.8624 - val_loss: 0.8159 - val_accuracy: 0.6350\n",
      "Epoch 48/100\n",
      "2580/2580 [==============================] - 2s 804us/sample - loss: 0.3181 - accuracy: 0.8616 - val_loss: 0.3026 - val_accuracy: 0.8777\n",
      "Epoch 49/100\n",
      "2580/2580 [==============================] - 2s 755us/sample - loss: 0.3140 - accuracy: 0.8624 - val_loss: 0.4398 - val_accuracy: 0.7981\n",
      "Epoch 50/100\n",
      "2580/2580 [==============================] - 2s 778us/sample - loss: 0.3007 - accuracy: 0.8709 - val_loss: 0.4928 - val_accuracy: 0.7942\n",
      "Epoch 51/100\n",
      "2580/2580 [==============================] - 2s 741us/sample - loss: 0.3074 - accuracy: 0.8733 - val_loss: 0.5617 - val_accuracy: 0.7670\n",
      "Epoch 52/100\n",
      "2580/2580 [==============================] - 2s 759us/sample - loss: 0.2980 - accuracy: 0.8702 - val_loss: 0.5445 - val_accuracy: 0.7534\n",
      "Epoch 53/100\n",
      "2580/2580 [==============================] - 2s 754us/sample - loss: 0.3109 - accuracy: 0.8609 - val_loss: 0.3796 - val_accuracy: 0.8408\n",
      "Epoch 54/100\n",
      "2580/2580 [==============================] - 2s 814us/sample - loss: 0.2986 - accuracy: 0.8764 - val_loss: 0.6003 - val_accuracy: 0.7456\n",
      "Epoch 55/100\n",
      "2580/2580 [==============================] - 2s 813us/sample - loss: 0.3091 - accuracy: 0.8705 - val_loss: 0.5577 - val_accuracy: 0.7553\n",
      "Epoch 56/100\n",
      "2580/2580 [==============================] - 2s 822us/sample - loss: 0.2990 - accuracy: 0.8733 - val_loss: 0.6018 - val_accuracy: 0.7437\n",
      "Epoch 57/100\n",
      "2580/2580 [==============================] - 2s 854us/sample - loss: 0.3029 - accuracy: 0.8748 - val_loss: 0.4443 - val_accuracy: 0.8039\n",
      "Epoch 58/100\n",
      "2580/2580 [==============================] - 2s 895us/sample - loss: 0.2874 - accuracy: 0.8767 - val_loss: 0.3118 - val_accuracy: 0.8796\n",
      "Epoch 59/100\n",
      "2580/2580 [==============================] - 2s 924us/sample - loss: 0.2800 - accuracy: 0.8818 - val_loss: 0.4227 - val_accuracy: 0.8272\n",
      "Epoch 60/100\n",
      "2580/2580 [==============================] - 2s 953us/sample - loss: 0.2835 - accuracy: 0.8833 - val_loss: 0.4481 - val_accuracy: 0.8078\n",
      "Epoch 61/100\n",
      "2580/2580 [==============================] - 2s 898us/sample - loss: 0.2831 - accuracy: 0.8829 - val_loss: 0.4436 - val_accuracy: 0.7942\n",
      "Epoch 62/100\n",
      "2580/2580 [==============================] - 2s 879us/sample - loss: 0.2877 - accuracy: 0.8806 - val_loss: 0.3305 - val_accuracy: 0.8680\n",
      "Epoch 63/100\n",
      "2580/2580 [==============================] - 2s 930us/sample - loss: 0.2846 - accuracy: 0.8740 - val_loss: 0.3963 - val_accuracy: 0.8194\n",
      "Epoch 64/100\n",
      "2580/2580 [==============================] - 2s 747us/sample - loss: 0.2693 - accuracy: 0.8934 - val_loss: 0.3933 - val_accuracy: 0.8272\n",
      "Epoch 65/100\n",
      "2580/2580 [==============================] - 2s 776us/sample - loss: 0.2757 - accuracy: 0.8860 - val_loss: 0.3777 - val_accuracy: 0.8291\n",
      "Epoch 66/100\n",
      "2580/2580 [==============================] - 2s 755us/sample - loss: 0.2706 - accuracy: 0.8829 - val_loss: 0.4546 - val_accuracy: 0.7961\n",
      "Epoch 67/100\n",
      "2580/2580 [==============================] - 2s 825us/sample - loss: 0.2827 - accuracy: 0.8818 - val_loss: 1.0080 - val_accuracy: 0.5398\n",
      "Epoch 68/100\n",
      "2580/2580 [==============================] - 2s 802us/sample - loss: 0.2763 - accuracy: 0.8860 - val_loss: 0.1008 - val_accuracy: 0.9748\n",
      "Epoch 69/100\n",
      "2580/2580 [==============================] - 2s 826us/sample - loss: 0.2872 - accuracy: 0.8899 - val_loss: 0.9579 - val_accuracy: 0.6485\n",
      "Epoch 70/100\n",
      "2580/2580 [==============================] - 2s 844us/sample - loss: 0.2698 - accuracy: 0.8880 - val_loss: 0.8488 - val_accuracy: 0.6408\n",
      "Epoch 71/100\n",
      "2580/2580 [==============================] - 2s 915us/sample - loss: 0.2820 - accuracy: 0.8810 - val_loss: 0.4922 - val_accuracy: 0.7845\n",
      "Epoch 72/100\n",
      "2580/2580 [==============================] - 3s 1ms/sample - loss: 0.2712 - accuracy: 0.8857 - val_loss: 0.1759 - val_accuracy: 0.9437\n",
      "Epoch 73/100\n",
      "2580/2580 [==============================] - 2s 825us/sample - loss: 0.2681 - accuracy: 0.8899 - val_loss: 0.3350 - val_accuracy: 0.8641\n",
      "Epoch 74/100\n",
      "2580/2580 [==============================] - 2s 845us/sample - loss: 0.2559 - accuracy: 0.8895 - val_loss: 0.7026 - val_accuracy: 0.6874\n",
      "Epoch 75/100\n",
      "2580/2580 [==============================] - 2s 925us/sample - loss: 0.2656 - accuracy: 0.8926 - val_loss: 0.6560 - val_accuracy: 0.7184\n",
      "Epoch 76/100\n",
      "2580/2580 [==============================] - 2s 837us/sample - loss: 0.2868 - accuracy: 0.8822 - val_loss: 0.7550 - val_accuracy: 0.6544\n",
      "Epoch 77/100\n",
      "2580/2580 [==============================] - 2s 792us/sample - loss: 0.2451 - accuracy: 0.9012 - val_loss: 0.5650 - val_accuracy: 0.7456\n",
      "Epoch 78/100\n",
      "2580/2580 [==============================] - 2s 853us/sample - loss: 0.2588 - accuracy: 0.8942 - val_loss: 0.4491 - val_accuracy: 0.8019\n",
      "Epoch 79/100\n",
      "2580/2580 [==============================] - 2s 817us/sample - loss: 0.2626 - accuracy: 0.8899 - val_loss: 0.1887 - val_accuracy: 0.9359\n",
      "Epoch 80/100\n",
      "2580/2580 [==============================] - 2s 830us/sample - loss: 0.2511 - accuracy: 0.8934 - val_loss: 0.4197 - val_accuracy: 0.8117\n",
      "Epoch 81/100\n",
      "2580/2580 [==============================] - 2s 816us/sample - loss: 0.2578 - accuracy: 0.8973 - val_loss: 0.4414 - val_accuracy: 0.8078\n",
      "Epoch 82/100\n",
      "2580/2580 [==============================] - 2s 929us/sample - loss: 0.2665 - accuracy: 0.8891 - val_loss: 0.4883 - val_accuracy: 0.7903\n",
      "Epoch 83/100\n",
      "2580/2580 [==============================] - 2s 882us/sample - loss: 0.2512 - accuracy: 0.9023 - val_loss: 1.4614 - val_accuracy: 0.4408\n",
      "Epoch 84/100\n",
      "2580/2580 [==============================] - 2s 894us/sample - loss: 0.2689 - accuracy: 0.8895 - val_loss: 0.4522 - val_accuracy: 0.7767\n",
      "Epoch 85/100\n",
      "2580/2580 [==============================] - 2s 812us/sample - loss: 0.2605 - accuracy: 0.8903 - val_loss: 0.3755 - val_accuracy: 0.8369\n",
      "Epoch 86/100\n",
      "2580/2580 [==============================] - 2s 823us/sample - loss: 0.2681 - accuracy: 0.8810 - val_loss: 0.3992 - val_accuracy: 0.8155\n",
      "Epoch 87/100\n",
      "2580/2580 [==============================] - 2s 887us/sample - loss: 0.2629 - accuracy: 0.8938 - val_loss: 0.6519 - val_accuracy: 0.7146\n",
      "Epoch 88/100\n",
      "2580/2580 [==============================] - 2s 874us/sample - loss: 0.2609 - accuracy: 0.8946 - val_loss: 0.6638 - val_accuracy: 0.6854\n",
      "Epoch 89/100\n",
      "2580/2580 [==============================] - 2s 935us/sample - loss: 0.2633 - accuracy: 0.8884 - val_loss: 0.4941 - val_accuracy: 0.7748\n",
      "Epoch 90/100\n",
      "2580/2580 [==============================] - 2s 944us/sample - loss: 0.2761 - accuracy: 0.8884 - val_loss: 0.4677 - val_accuracy: 0.7786\n",
      "Epoch 91/100\n",
      "2580/2580 [==============================] - 2s 902us/sample - loss: 0.2455 - accuracy: 0.9035 - val_loss: 0.5574 - val_accuracy: 0.7573\n",
      "Epoch 92/100\n",
      "2580/2580 [==============================] - 2s 868us/sample - loss: 0.2617 - accuracy: 0.8946 - val_loss: 0.3952 - val_accuracy: 0.8350\n",
      "Epoch 93/100\n",
      "2580/2580 [==============================] - 3s 986us/sample - loss: 0.2446 - accuracy: 0.9004 - val_loss: 0.4900 - val_accuracy: 0.7883\n",
      "Epoch 94/100\n",
      "2580/2580 [==============================] - 2s 854us/sample - loss: 0.2411 - accuracy: 0.9031 - val_loss: 0.5888 - val_accuracy: 0.7340\n",
      "Epoch 95/100\n",
      "2580/2580 [==============================] - 2s 846us/sample - loss: 0.2415 - accuracy: 0.9035 - val_loss: 0.4280 - val_accuracy: 0.8097\n",
      "Epoch 96/100\n",
      "2580/2580 [==============================] - 2s 881us/sample - loss: 0.2609 - accuracy: 0.8895 - val_loss: 0.7708 - val_accuracy: 0.6544\n",
      "Epoch 97/100\n",
      "2580/2580 [==============================] - 2s 875us/sample - loss: 0.2576 - accuracy: 0.8915 - val_loss: 0.4584 - val_accuracy: 0.8000\n"
     ]
    },
    {
     "name": "stdout",
     "output_type": "stream",
     "text": [
      "Epoch 98/100\n",
      "2580/2580 [==============================] - 2s 889us/sample - loss: 0.2518 - accuracy: 0.8957 - val_loss: 0.4789 - val_accuracy: 0.7942\n",
      "Epoch 99/100\n",
      "2580/2580 [==============================] - 2s 825us/sample - loss: 0.2535 - accuracy: 0.9023 - val_loss: 0.5629 - val_accuracy: 0.7456\n",
      "Epoch 100/100\n",
      "2580/2580 [==============================] - 2s 762us/sample - loss: 0.2452 - accuracy: 0.8977 - val_loss: 0.5753 - val_accuracy: 0.7320\n"
     ]
    },
    {
     "data": {
      "image/png": "[encoded data removed]",
      "text/plain": [
       "<Figure size 432x288 with 1 Axes>"
      ]
     },
     "metadata": {
      "needs_background": "light"
     },
     "output_type": "display_data"
    }
   ],
   "source": [
    "rates = np.arange(0.01, 0.1, 0.01)\n",
    "beta1s = np.arange(0.9, 0.99, 0.01)\n",
    "beta2s = np.arange(0.99, 0.999, 0.001)\n",
    "\n",
    "rate = float(input(\"What's my learning rate? \"))\n",
    "beta1 = float(input(\"What's my beta1? \"))\n",
    "beta2 = float(input(\"What's my beta2? \"))\n",
    "epochs = int(input(\"How many epochs? \"))\n",
    "\n",
    "# compiled = kerasModel(rate)\n",
    "# fitted = fitModel(compiled, epochs)\n",
    "fitted = createModel(rate, epochs, beta1, beta2)\n",
    "\n",
    "import matplotlib.pyplot as plt\n",
    "\n",
    "# Plot training & validation accuracy values\n",
    "plt.plot(fitted.history['accuracy'])\n",
    "plt.plot(fitted.history['val_accuracy'])\n",
    "plt.title('Model_accuracy')\n",
    "plt.ylabel('Accuracy')\n",
    "plt.xlabel('Epoch')\n",
    "plt.legend(['Train', 'Test'], loc='upper left')\n",
    "plt.show()\n",
    "\n",
    "#results = testModel(fitted)\n",
    "#myresults.append(results)"
   ]
  },
  {
   "cell_type": "code",
   "execution_count": 117,
   "metadata": {},
   "outputs": [
    {
     "data": {
      "text/plain": [
       "[[0.22637348339475435, 0.9122222], [0.3669460266828537, 0.8705556]]"
      ]
     },
     "execution_count": 117,
     "metadata": {},
     "output_type": "execute_result"
    }
   ],
   "source": [
    "myresults\n",
    "\n",
    "# print(\"Loss: \", results[0], \"\\nAccuracy: \", results[1])"
   ]
  }
 ],
 "metadata": {
  "kernelspec": {
   "display_name": "Python 3",
   "language": "python",
   "name": "python3"
  },
  "language_info": {
   "codemirror_mode": {
    "name": "ipython",
    "version": 3
   },
   "file_extension": ".py",
   "mimetype": "text/x-python",
   "name": "python",
   "nbconvert_exporter": "python",
   "pygments_lexer": "ipython3",
   "version": "3.7.3"
  }
 },
 "nbformat": 4,
 "nbformat_minor": 2
}
