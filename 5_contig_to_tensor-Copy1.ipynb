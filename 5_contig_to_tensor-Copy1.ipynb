{
 "cells": [
  {
   "cell_type": "code",
   "execution_count": 70,
   "metadata": {},
   "outputs": [
    {
     "name": "stdout",
     "output_type": "stream",
     "text": [
      "2.0.0\n"
     ]
    }
   ],
   "source": [
    "from __future__ import absolute_import, division, print_function, unicode_literals\n",
    "\n",
    "import tensorflow as tf\n",
    "from tensorflow.keras.layers import Dense, Flatten, Conv2D\n",
    "from tensorflow.keras import Model\n",
    "\n",
    "import matplotlib.pyplot as plot\n",
    "import numpy as np\n",
    "from numpy import genfromtxt\n",
    "import csv\n",
    "import sys, os, re\n",
    "import pathlib\n",
    "\n",
    "print(tf.__version__)"
   ]
  },
  {
   "cell_type": "code",
   "execution_count": 71,
   "metadata": {},
   "outputs": [],
   "source": [
    "# The CANlab/WAVi Pain Study is Pre-Formatted to resemble BIDS neuroimaging formatting\n",
    "# If your study does not abide to the following structure, please revisit previous scripts\n",
    "# .../StudyRepo\n",
    "# -------------> /raw\n",
    "# -------------------> /*.art\n",
    "# -------------------> /*.eeg\n",
    "# -------------------> /*.evt\n",
    "# -------------> /contigs\n",
    "# -------------------> /train          2:1 train:test\n",
    "# -------------------> /test"
   ]
  },
  {
   "cell_type": "code",
   "execution_count": 60,
   "metadata": {},
   "outputs": [],
   "source": [
    "if \"contigs\" not in os.getcwd():\n",
    "    try:\n",
    "        os.chdir(\"CANlabStudy/contigs\")\n",
    "        directory=os.getcwd()\n",
    "    except:\n",
    "        print(\"I couldn't find the contigs folder.\\n\")\n",
    "        directory = input(\"Please give the full path of the contigs folder: \")\n",
    "        os.chdir(directory)"
   ]
  },
  {
   "cell_type": "code",
   "execution_count": 61,
   "metadata": {},
   "outputs": [],
   "source": [
    "#train_path = pathlib.Path('train/p300/')\n",
    "train_path = pathlib.Path('train/chronic/')\n",
    "#train_path = pathlib.Path('train/')\n",
    "\n",
    "# test_path = pathlib.Path('test/p300/')\n",
    "test_path = pathlib.Path('test/chronic/')\n",
    "#test_path = pathlib.Path('test/')"
   ]
  },
  {
   "cell_type": "code",
   "execution_count": 62,
   "metadata": {},
   "outputs": [
    {
     "name": "stdout",
     "output_type": "stream",
     "text": [
      "You have 2580 training images.\n",
      "You have 515 testing images.\n"
     ]
    }
   ],
   "source": [
    "# load in image paths for training set\n",
    "\n",
    "import random\n",
    "\n",
    "train_image_paths = os.listdir(train_path)\n",
    "#train_image_paths = list(train_path.glob('*/*'))\n",
    "train_image_paths = [str(path) for path in train_image_paths]\n",
    "random.shuffle(train_image_paths)\n",
    "\n",
    "train_count = len(train_image_paths)\n",
    "print(\"You have\", train_count, \"training images.\")\n",
    "\n",
    "# load in image paths for testing set?\n",
    "\n",
    "test_image_paths = os.listdir(test_path)\n",
    "#test_image_paths = list(test_path.glob('*/*'))\n",
    "test_image_paths = [str(path) for path in test_image_paths if \"ctrl\" in path]\n",
    "random.shuffle(test_image_paths)\n",
    "\n",
    "test_count = len(test_image_paths)\n",
    "print(\"You have\", test_count, \"testing images.\")"
   ]
  },
  {
   "cell_type": "code",
   "execution_count": 63,
   "metadata": {},
   "outputs": [
    {
     "name": "stdout",
     "output_type": "stream",
     "text": [
      "Labels discovered: ['ctrl', 'pain']\n"
     ]
    }
   ],
   "source": [
    "#list the available labels\n",
    "label_names = ['ctrl', 'pain']\n",
    "#label_names = sorted(item.name for item in train_path.glob('*/') if item.is_dir())\n",
    "print(\"Labels discovered:\", label_names)"
   ]
  },
  {
   "cell_type": "code",
   "execution_count": 64,
   "metadata": {},
   "outputs": [
    {
     "name": "stdout",
     "output_type": "stream",
     "text": [
      "Label indices: {'ctrl': 0, 'pain': 1}\n"
     ]
    }
   ],
   "source": [
    "#assign an index to each label\n",
    "label_to_index = dict((name, index) for index, name in enumerate(label_names))\n",
    "print(\"Label indices:\", label_to_index)"
   ]
  },
  {
   "cell_type": "code",
   "execution_count": 145,
   "metadata": {},
   "outputs": [],
   "source": [
    "#create a list of every file and its index label\n",
    "\n",
    "train_image_labels = [label_to_index[path[:4]] for path in train_image_paths]\n",
    "#train_image_labels = [label_to_index[pathlib.Path(path).parent.name]\n",
    " #                   for path in train_image_paths]\n",
    "# force list of strings to numpy array\n",
    "train_image_labels = np.array(train_image_labels)\n",
    "    \n",
    "    \n",
    "test_image_labels = [label_to_index[path[:4]] for path in test_image_paths]    \n",
    "#test_image_labels = [label_to_index[pathlib.Path(path).parent.name]\n",
    " #                   for path in test_image_paths]\n",
    "# force list of strings to numpy array\n",
    "test_image_labels = np.array(test_image_labels)"
   ]
  },
  {
   "cell_type": "code",
   "execution_count": 179,
   "metadata": {},
   "outputs": [],
   "source": [
    "def norm_array(array):\n",
    "    return((array - np.min(array)) / np.ptp(array))"
   ]
  },
  {
   "cell_type": "code",
   "execution_count": 184,
   "metadata": {},
   "outputs": [],
   "source": [
    "def load_numpy_stack(lead, paths):\n",
    "    numpy_stack = []\n",
    "    for path in paths:\n",
    "        path = lead+path\n",
    "        array = genfromtxt(path, delimiter=\",\")\n",
    "        #row_sums = array.sum(axis=0, keepdims=True)\n",
    "        #norm_array = array / row_sums\n",
    "        #array = norm_array(array)\n",
    "        array = array.reshape(array.shape +(1,))\n",
    "        numpy_stack.append(array)\n",
    "    numpy_dataset = np.rollaxis(np.block(numpy_stack), 2, 0)\n",
    "    numpy_dataset = numpy_dataset.reshape(numpy_dataset.shape+(1,))\n",
    "    return(numpy_dataset)"
   ]
  },
  {
   "cell_type": "code",
   "execution_count": 185,
   "metadata": {},
   "outputs": [],
   "source": [
    "train_arrays = load_numpy_stack('train/chronic/', train_image_paths)\n",
    "#train_arrays = load_numpy_stack('', train_image_paths)\n",
    "\n",
    "test_arrays = load_numpy_stack('test/chronic/', test_image_paths)\n",
    "#test_arrays = load_numpy_stack('', test_image_paths)"
   ]
  },
  {
   "cell_type": "code",
   "execution_count": 220,
   "metadata": {},
   "outputs": [],
   "source": [
    "def createModel(learn, num_epochs):\n",
    "    # Introduce sequential Set\n",
    "    model = tf.keras.models.Sequential()\n",
    "    \n",
    "    # Create a convolutional base\n",
    "    model.add(tf.keras.layers.Conv2D(5, kernel_size=6, strides=6, padding='same', activation='relu', data_format='channels_last', use_bias=False))    \n",
    "    model.add(tf.keras.layers.Conv2D(5, kernel_size=6, strides=6, padding='same', activation='relu', data_format='channels_last', use_bias=False))\n",
    "    model.add(tf.keras.layers.MaxPooling2D(pool_size=(2,2), strides=None, padding='same', data_format=None))\n",
    "    model.add(tf.keras.layers.Dropout(0.2))\n",
    "    \n",
    "    model.add(tf.keras.layers.Conv2D(5, kernel_size=6, strides=6, padding='same', activation='relu', data_format='channels_last', use_bias=False))\n",
    "    model.add(tf.keras.layers.Conv2D(5, kernel_size=6, strides=6, padding='same', activation='relu', data_format='channels_last', use_bias=False))\n",
    "    #model.add(tf.keras.layers.Conv2D(5, kernel_size=5, strides=5, padding='same', activation='relu', data_format='channels_last', use_bias=False))\n",
    "    model.add(tf.keras.layers.BatchNormalization(axis=-1, momentum=0.99, epsilon=0.001, center=True, scale=True, beta_initializer='zeros', gamma_initializer='ones', moving_mean_initializer='zeros', moving_variance_initializer='ones', beta_regularizer=None, gamma_regularizer=None, beta_constraint=None, gamma_constraint=None))\n",
    "    \n",
    "    # Layers\n",
    "    #model.add(tf.keras.layers.Dropout(0.5))\n",
    "    model.add(tf.keras.layers.MaxPooling2D(pool_size=(2,2), strides=None, padding='same', data_format=None))\n",
    "    model.add(tf.keras.layers.Flatten(data_format=\"channels_last\"))   \n",
    "    \n",
    "    # Hidden layers\n",
    "    model.add(tf.keras.layers.Dense(2, activation='softmax'))\n",
    "    \n",
    "    model.build(train_arrays.shape)\n",
    "    model.summary()\n",
    "    \n",
    "    # Model compilation\n",
    "    model.compile(optimizer=tf.keras.optimizers.Adam(learning_rate=learn),\n",
    "                 loss='sparse_categorical_crossentropy',\n",
    "                 metrics=['accuracy'])\n",
    "    \n",
    "    history = model.fit(train_arrays, train_image_labels, epochs=num_epochs,\n",
    "                       validation_data=(test_arrays, test_image_labels))\n",
    "    \n",
    "    return(history)"
   ]
  },
  {
   "cell_type": "code",
   "execution_count": 221,
   "metadata": {
    "scrolled": false
   },
   "outputs": [
    {
     "name": "stdout",
     "output_type": "stream",
     "text": [
      "What's my learning rate? 0.001\n",
      "How many epochs? 100\n",
      "Model: \"sequential_38\"\n",
      "_________________________________________________________________\n",
      "Layer (type)                 Output Shape              Param #   \n",
      "=================================================================\n",
      "conv2d_133 (Conv2D)          multiple                  180       \n",
      "_________________________________________________________________\n",
      "conv2d_134 (Conv2D)          multiple                  900       \n",
      "_________________________________________________________________\n",
      "max_pooling2d_26 (MaxPooling multiple                  0         \n",
      "_________________________________________________________________\n",
      "dropout_35 (Dropout)         multiple                  0         \n",
      "_________________________________________________________________\n",
      "conv2d_135 (Conv2D)          multiple                  900       \n",
      "_________________________________________________________________\n",
      "conv2d_136 (Conv2D)          multiple                  900       \n",
      "_________________________________________________________________\n",
      "batch_normalization_1 (Batch multiple                  20        \n",
      "_________________________________________________________________\n",
      "max_pooling2d_27 (MaxPooling multiple                  0         \n",
      "_________________________________________________________________\n",
      "flatten_37 (Flatten)         multiple                  0         \n",
      "_________________________________________________________________\n",
      "dense_37 (Dense)             multiple                  12        \n",
      "=================================================================\n",
      "Total params: 2,912\n",
      "Trainable params: 2,902\n",
      "Non-trainable params: 10\n",
      "_________________________________________________________________\n",
      "Train on 2580 samples, validate on 515 samples\n",
      "Epoch 1/100\n",
      "2580/2580 [==============================] - 2s 786us/sample - loss: 0.7365 - accuracy: 0.5516 - val_loss: 0.8764 - val_accuracy: 0.0000e+00\n",
      "Epoch 2/100\n",
      "2580/2580 [==============================] - 1s 457us/sample - loss: 0.6799 - accuracy: 0.5903 - val_loss: 0.9127 - val_accuracy: 0.0000e+00\n",
      "Epoch 3/100\n",
      "2580/2580 [==============================] - 1s 462us/sample - loss: 0.6726 - accuracy: 0.6016 - val_loss: 0.9330 - val_accuracy: 0.0175\n",
      "Epoch 4/100\n",
      "2580/2580 [==============================] - 1s 464us/sample - loss: 0.6717 - accuracy: 0.6062 - val_loss: 0.9198 - val_accuracy: 0.0291\n",
      "Epoch 5/100\n",
      "2580/2580 [==============================] - 1s 468us/sample - loss: 0.6741 - accuracy: 0.5953 - val_loss: 0.8402 - val_accuracy: 0.1942\n",
      "Epoch 6/100\n",
      "2580/2580 [==============================] - 1s 476us/sample - loss: 0.6565 - accuracy: 0.6240 - val_loss: 0.9132 - val_accuracy: 0.1184\n",
      "Epoch 7/100\n",
      "2580/2580 [==============================] - 1s 454us/sample - loss: 0.6504 - accuracy: 0.6256 - val_loss: 0.8952 - val_accuracy: 0.1883\n",
      "Epoch 8/100\n",
      "2580/2580 [==============================] - 1s 473us/sample - loss: 0.6466 - accuracy: 0.6310 - val_loss: 1.0537 - val_accuracy: 0.0718\n",
      "Epoch 9/100\n",
      "2580/2580 [==============================] - 1s 458us/sample - loss: 0.6467 - accuracy: 0.6306 - val_loss: 0.8245 - val_accuracy: 0.3029\n",
      "Epoch 10/100\n",
      "2580/2580 [==============================] - 1s 469us/sample - loss: 0.6353 - accuracy: 0.6446 - val_loss: 0.8607 - val_accuracy: 0.2796\n",
      "Epoch 11/100\n",
      "2580/2580 [==============================] - 1s 466us/sample - loss: 0.6309 - accuracy: 0.6512 - val_loss: 0.9409 - val_accuracy: 0.1903\n",
      "Epoch 12/100\n",
      "2580/2580 [==============================] - 1s 485us/sample - loss: 0.6294 - accuracy: 0.6550 - val_loss: 0.8936 - val_accuracy: 0.2505\n",
      "Epoch 13/100\n",
      "2580/2580 [==============================] - 1s 468us/sample - loss: 0.6230 - accuracy: 0.6574 - val_loss: 0.9149 - val_accuracy: 0.2466\n",
      "Epoch 14/100\n",
      "2580/2580 [==============================] - 1s 465us/sample - loss: 0.6134 - accuracy: 0.6771 - val_loss: 0.9190 - val_accuracy: 0.2447\n",
      "Epoch 15/100\n",
      "2580/2580 [==============================] - 1s 474us/sample - loss: 0.6186 - accuracy: 0.6581 - val_loss: 0.9605 - val_accuracy: 0.2194\n",
      "Epoch 16/100\n",
      "2580/2580 [==============================] - 1s 475us/sample - loss: 0.6111 - accuracy: 0.6771 - val_loss: 0.8062 - val_accuracy: 0.3942\n",
      "Epoch 17/100\n",
      "2580/2580 [==============================] - 1s 465us/sample - loss: 0.6008 - accuracy: 0.6853 - val_loss: 0.8141 - val_accuracy: 0.3806\n",
      "Epoch 18/100\n",
      "2580/2580 [==============================] - 1s 480us/sample - loss: 0.6019 - accuracy: 0.6760 - val_loss: 0.8769 - val_accuracy: 0.3437\n",
      "Epoch 19/100\n",
      "2580/2580 [==============================] - 1s 468us/sample - loss: 0.5926 - accuracy: 0.6907 - val_loss: 0.9200 - val_accuracy: 0.2893\n",
      "Epoch 20/100\n",
      "2580/2580 [==============================] - 1s 473us/sample - loss: 0.5815 - accuracy: 0.6922 - val_loss: 0.9674 - val_accuracy: 0.3146\n",
      "Epoch 21/100\n",
      "2580/2580 [==============================] - 1s 472us/sample - loss: 0.5774 - accuracy: 0.7023 - val_loss: 0.9175 - val_accuracy: 0.2874\n",
      "Epoch 22/100\n",
      "2580/2580 [==============================] - 1s 482us/sample - loss: 0.5600 - accuracy: 0.7159 - val_loss: 0.9818 - val_accuracy: 0.3087\n",
      "Epoch 23/100\n",
      "2580/2580 [==============================] - 1s 476us/sample - loss: 0.5435 - accuracy: 0.7194 - val_loss: 0.8093 - val_accuracy: 0.3981\n",
      "Epoch 24/100\n",
      "2580/2580 [==============================] - 1s 493us/sample - loss: 0.5289 - accuracy: 0.7295 - val_loss: 0.7602 - val_accuracy: 0.5029\n",
      "Epoch 25/100\n",
      "2580/2580 [==============================] - 1s 473us/sample - loss: 0.5357 - accuracy: 0.7159 - val_loss: 0.8078 - val_accuracy: 0.4660\n",
      "Epoch 26/100\n",
      "2580/2580 [==============================] - 1s 468us/sample - loss: 0.5101 - accuracy: 0.7527 - val_loss: 0.9064 - val_accuracy: 0.4097\n",
      "Epoch 27/100\n",
      "2580/2580 [==============================] - 1s 467us/sample - loss: 0.5068 - accuracy: 0.7426 - val_loss: 0.7614 - val_accuracy: 0.5282\n",
      "Epoch 28/100\n",
      "2580/2580 [==============================] - 1s 462us/sample - loss: 0.5017 - accuracy: 0.7554 - val_loss: 0.8105 - val_accuracy: 0.4874\n",
      "Epoch 29/100\n",
      "2580/2580 [==============================] - 1s 475us/sample - loss: 0.4905 - accuracy: 0.7605 - val_loss: 0.7564 - val_accuracy: 0.5165\n",
      "Epoch 30/100\n",
      "2580/2580 [==============================] - 1s 464us/sample - loss: 0.4794 - accuracy: 0.7612 - val_loss: 0.8003 - val_accuracy: 0.5146\n",
      "Epoch 31/100\n",
      "2580/2580 [==============================] - 1s 474us/sample - loss: 0.4803 - accuracy: 0.7605 - val_loss: 0.9232 - val_accuracy: 0.4563\n",
      "Epoch 32/100\n",
      "2580/2580 [==============================] - 1s 483us/sample - loss: 0.4798 - accuracy: 0.7624 - val_loss: 0.8389 - val_accuracy: 0.5184\n",
      "Epoch 33/100\n",
      "2580/2580 [==============================] - 1s 468us/sample - loss: 0.4722 - accuracy: 0.7643 - val_loss: 1.0549 - val_accuracy: 0.4155\n",
      "Epoch 34/100\n",
      "2580/2580 [==============================] - 1s 483us/sample - loss: 0.4586 - accuracy: 0.7705 - val_loss: 0.9959 - val_accuracy: 0.4388\n",
      "Epoch 35/100\n",
      "2580/2580 [==============================] - 1s 478us/sample - loss: 0.4474 - accuracy: 0.7833 - val_loss: 0.8666 - val_accuracy: 0.5146\n",
      "Epoch 36/100\n",
      "2580/2580 [==============================] - 1s 482us/sample - loss: 0.4357 - accuracy: 0.7950 - val_loss: 1.1210 - val_accuracy: 0.4155\n",
      "Epoch 37/100\n",
      "2580/2580 [==============================] - 1s 480us/sample - loss: 0.4359 - accuracy: 0.7884 - val_loss: 0.5983 - val_accuracy: 0.6680\n",
      "Epoch 38/100\n",
      "2580/2580 [==============================] - 1s 471us/sample - loss: 0.4453 - accuracy: 0.7806 - val_loss: 1.0140 - val_accuracy: 0.4117\n",
      "Epoch 39/100\n",
      "2580/2580 [==============================] - 1s 475us/sample - loss: 0.4362 - accuracy: 0.7849 - val_loss: 0.5649 - val_accuracy: 0.6874\n",
      "Epoch 40/100\n",
      "2580/2580 [==============================] - 1s 476us/sample - loss: 0.4273 - accuracy: 0.7872 - val_loss: 0.6830 - val_accuracy: 0.6350\n",
      "Epoch 41/100\n",
      "2580/2580 [==============================] - 1s 488us/sample - loss: 0.4241 - accuracy: 0.7988 - val_loss: 0.8031 - val_accuracy: 0.5476\n",
      "Epoch 42/100\n",
      "2580/2580 [==============================] - 1s 466us/sample - loss: 0.4162 - accuracy: 0.8136 - val_loss: 0.6593 - val_accuracy: 0.6311\n",
      "Epoch 43/100\n",
      "2580/2580 [==============================] - 1s 480us/sample - loss: 0.4069 - accuracy: 0.8078 - val_loss: 0.8220 - val_accuracy: 0.5495\n"
     ]
    },
    {
     "name": "stdout",
     "output_type": "stream",
     "text": [
      "Epoch 44/100\n",
      "2580/2580 [==============================] - 1s 464us/sample - loss: 0.3893 - accuracy: 0.8112 - val_loss: 0.7606 - val_accuracy: 0.5883\n",
      "Epoch 45/100\n",
      "2580/2580 [==============================] - 1s 465us/sample - loss: 0.3924 - accuracy: 0.8194 - val_loss: 0.8352 - val_accuracy: 0.5379\n",
      "Epoch 46/100\n",
      "2580/2580 [==============================] - 1s 440us/sample - loss: 0.4071 - accuracy: 0.8140 - val_loss: 0.6066 - val_accuracy: 0.6835\n",
      "Epoch 47/100\n",
      "2580/2580 [==============================] - 1s 447us/sample - loss: 0.3960 - accuracy: 0.8194 - val_loss: 0.6174 - val_accuracy: 0.6854\n",
      "Epoch 48/100\n",
      "2580/2580 [==============================] - 1s 459us/sample - loss: 0.3945 - accuracy: 0.8217 - val_loss: 0.6495 - val_accuracy: 0.6466\n",
      "Epoch 49/100\n",
      "2580/2580 [==============================] - 1s 454us/sample - loss: 0.3777 - accuracy: 0.8271 - val_loss: 0.6632 - val_accuracy: 0.6718\n",
      "Epoch 50/100\n",
      "2580/2580 [==============================] - 1s 455us/sample - loss: 0.3810 - accuracy: 0.8279 - val_loss: 0.8545 - val_accuracy: 0.5573\n",
      "Epoch 51/100\n",
      "2580/2580 [==============================] - 1s 452us/sample - loss: 0.3789 - accuracy: 0.8298 - val_loss: 0.6765 - val_accuracy: 0.6466\n",
      "Epoch 52/100\n",
      "2580/2580 [==============================] - 1s 461us/sample - loss: 0.3842 - accuracy: 0.8163 - val_loss: 0.5842 - val_accuracy: 0.7282\n",
      "Epoch 53/100\n",
      "2580/2580 [==============================] - 1s 467us/sample - loss: 0.3735 - accuracy: 0.8217 - val_loss: 0.5817 - val_accuracy: 0.7126\n",
      "Epoch 54/100\n",
      "2580/2580 [==============================] - 1s 458us/sample - loss: 0.3716 - accuracy: 0.8256 - val_loss: 0.7287 - val_accuracy: 0.6291\n",
      "Epoch 55/100\n",
      "2580/2580 [==============================] - 1s 464us/sample - loss: 0.3742 - accuracy: 0.8287 - val_loss: 0.8285 - val_accuracy: 0.5825\n",
      "Epoch 56/100\n",
      "2580/2580 [==============================] - 1s 473us/sample - loss: 0.3751 - accuracy: 0.8209 - val_loss: 0.6083 - val_accuracy: 0.7010\n",
      "Epoch 57/100\n",
      "2580/2580 [==============================] - 1s 459us/sample - loss: 0.3595 - accuracy: 0.8298 - val_loss: 0.8020 - val_accuracy: 0.6078\n",
      "Epoch 58/100\n",
      "2580/2580 [==============================] - 1s 477us/sample - loss: 0.3452 - accuracy: 0.8481 - val_loss: 0.9926 - val_accuracy: 0.4893\n",
      "Epoch 59/100\n",
      "2580/2580 [==============================] - 1s 501us/sample - loss: 0.3620 - accuracy: 0.8302 - val_loss: 0.6295 - val_accuracy: 0.6835\n",
      "Epoch 60/100\n",
      "2580/2580 [==============================] - 1s 493us/sample - loss: 0.3377 - accuracy: 0.8477 - val_loss: 0.6683 - val_accuracy: 0.6641\n",
      "Epoch 61/100\n",
      "2580/2580 [==============================] - 1s 526us/sample - loss: 0.3348 - accuracy: 0.8481 - val_loss: 0.6435 - val_accuracy: 0.6777\n",
      "Epoch 62/100\n",
      "2580/2580 [==============================] - 1s 482us/sample - loss: 0.3405 - accuracy: 0.8523 - val_loss: 0.9678 - val_accuracy: 0.5262\n",
      "Epoch 63/100\n",
      "2580/2580 [==============================] - 1s 476us/sample - loss: 0.3471 - accuracy: 0.8407 - val_loss: 0.8218 - val_accuracy: 0.5922\n",
      "Epoch 64/100\n",
      "2580/2580 [==============================] - 1s 456us/sample - loss: 0.3414 - accuracy: 0.8469 - val_loss: 0.6277 - val_accuracy: 0.7068\n",
      "Epoch 65/100\n",
      "2580/2580 [==============================] - 1s 473us/sample - loss: 0.3509 - accuracy: 0.8391 - val_loss: 1.1553 - val_accuracy: 0.4990\n",
      "Epoch 66/100\n",
      "2580/2580 [==============================] - 1s 465us/sample - loss: 0.3562 - accuracy: 0.8388 - val_loss: 0.8383 - val_accuracy: 0.5981\n",
      "Epoch 67/100\n",
      "2580/2580 [==============================] - 1s 467us/sample - loss: 0.3239 - accuracy: 0.8523 - val_loss: 0.6349 - val_accuracy: 0.6932\n",
      "Epoch 68/100\n",
      "2580/2580 [==============================] - 1s 482us/sample - loss: 0.3251 - accuracy: 0.8547 - val_loss: 0.6361 - val_accuracy: 0.6951\n",
      "Epoch 69/100\n",
      "2580/2580 [==============================] - 1s 471us/sample - loss: 0.3357 - accuracy: 0.8481 - val_loss: 0.5615 - val_accuracy: 0.7534\n",
      "Epoch 70/100\n",
      "2580/2580 [==============================] - 1s 485us/sample - loss: 0.3436 - accuracy: 0.8442 - val_loss: 0.7734 - val_accuracy: 0.6233\n",
      "Epoch 71/100\n",
      "2580/2580 [==============================] - 1s 479us/sample - loss: 0.3317 - accuracy: 0.8481 - val_loss: 0.6218 - val_accuracy: 0.6971\n",
      "Epoch 72/100\n",
      "2580/2580 [==============================] - 1s 486us/sample - loss: 0.3165 - accuracy: 0.8570 - val_loss: 0.8631 - val_accuracy: 0.5728\n",
      "Epoch 73/100\n",
      "2580/2580 [==============================] - 1s 480us/sample - loss: 0.3182 - accuracy: 0.8601 - val_loss: 0.7806 - val_accuracy: 0.6194\n",
      "Epoch 74/100\n",
      "2580/2580 [==============================] - 1s 462us/sample - loss: 0.3357 - accuracy: 0.8484 - val_loss: 0.7715 - val_accuracy: 0.6505\n",
      "Epoch 75/100\n",
      "2580/2580 [==============================] - 1s 475us/sample - loss: 0.3310 - accuracy: 0.8446 - val_loss: 0.8082 - val_accuracy: 0.6291\n",
      "Epoch 76/100\n",
      "2580/2580 [==============================] - 1s 465us/sample - loss: 0.3386 - accuracy: 0.8465 - val_loss: 0.6571 - val_accuracy: 0.6796\n",
      "Epoch 77/100\n",
      "2580/2580 [==============================] - 1s 486us/sample - loss: 0.3215 - accuracy: 0.8547 - val_loss: 0.9313 - val_accuracy: 0.5903\n",
      "Epoch 78/100\n",
      "2580/2580 [==============================] - 1s 460us/sample - loss: 0.3267 - accuracy: 0.8535 - val_loss: 0.5523 - val_accuracy: 0.7359\n",
      "Epoch 79/100\n",
      "2580/2580 [==============================] - 1s 482us/sample - loss: 0.3198 - accuracy: 0.8570 - val_loss: 0.7412 - val_accuracy: 0.6602\n",
      "Epoch 80/100\n",
      "2580/2580 [==============================] - 1s 471us/sample - loss: 0.3198 - accuracy: 0.8636 - val_loss: 0.7036 - val_accuracy: 0.6854\n",
      "Epoch 81/100\n",
      "2580/2580 [==============================] - 1s 480us/sample - loss: 0.3153 - accuracy: 0.8620 - val_loss: 0.6276 - val_accuracy: 0.6854\n",
      "Epoch 82/100\n",
      "2580/2580 [==============================] - 1s 482us/sample - loss: 0.3119 - accuracy: 0.8585 - val_loss: 0.6478 - val_accuracy: 0.6680\n",
      "Epoch 83/100\n",
      "2580/2580 [==============================] - 1s 475us/sample - loss: 0.3180 - accuracy: 0.8581 - val_loss: 0.7318 - val_accuracy: 0.6544\n",
      "Epoch 84/100\n",
      "2580/2580 [==============================] - 1s 468us/sample - loss: 0.3087 - accuracy: 0.8578 - val_loss: 0.9293 - val_accuracy: 0.5417\n",
      "Epoch 85/100\n",
      "2580/2580 [==============================] - 1s 470us/sample - loss: 0.3104 - accuracy: 0.8593 - val_loss: 0.5352 - val_accuracy: 0.7553\n",
      "Epoch 86/100\n",
      "2580/2580 [==============================] - 1s 482us/sample - loss: 0.3331 - accuracy: 0.8539 - val_loss: 0.9529 - val_accuracy: 0.5515\n",
      "Epoch 87/100\n",
      "2580/2580 [==============================] - 1s 479us/sample - loss: 0.3062 - accuracy: 0.8609 - val_loss: 0.8533 - val_accuracy: 0.6136\n",
      "Epoch 88/100\n",
      "2580/2580 [==============================] - 1s 496us/sample - loss: 0.3111 - accuracy: 0.8624 - val_loss: 0.9133 - val_accuracy: 0.5689\n",
      "Epoch 89/100\n",
      "2580/2580 [==============================] - 1s 484us/sample - loss: 0.3251 - accuracy: 0.8523 - val_loss: 0.8610 - val_accuracy: 0.5922\n",
      "Epoch 90/100\n",
      "2580/2580 [==============================] - 1s 481us/sample - loss: 0.3114 - accuracy: 0.8593 - val_loss: 0.6972 - val_accuracy: 0.6718\n",
      "Epoch 91/100\n",
      "2580/2580 [==============================] - 1s 487us/sample - loss: 0.3002 - accuracy: 0.8678 - val_loss: 0.5985 - val_accuracy: 0.7146\n",
      "Epoch 92/100\n",
      "2580/2580 [==============================] - 1s 485us/sample - loss: 0.3052 - accuracy: 0.8709 - val_loss: 0.6933 - val_accuracy: 0.6738\n",
      "Epoch 93/100\n",
      "2580/2580 [==============================] - 1s 543us/sample - loss: 0.3042 - accuracy: 0.8671 - val_loss: 0.7789 - val_accuracy: 0.6330\n",
      "Epoch 94/100\n",
      "2580/2580 [==============================] - 1s 545us/sample - loss: 0.3104 - accuracy: 0.8674 - val_loss: 0.9871 - val_accuracy: 0.5495\n",
      "Epoch 95/100\n",
      "2580/2580 [==============================] - 2s 678us/sample - loss: 0.2901 - accuracy: 0.8694 - val_loss: 0.8118 - val_accuracy: 0.6272\n",
      "Epoch 96/100\n",
      "2580/2580 [==============================] - 2s 612us/sample - loss: 0.3117 - accuracy: 0.8636 - val_loss: 0.5819 - val_accuracy: 0.7359\n",
      "Epoch 97/100\n",
      "2580/2580 [==============================] - 2s 834us/sample - loss: 0.3061 - accuracy: 0.8643 - val_loss: 0.7934 - val_accuracy: 0.6311\n",
      "Epoch 98/100\n"
     ]
    },
    {
     "name": "stdout",
     "output_type": "stream",
     "text": [
      "2580/2580 [==============================] - 2s 927us/sample - loss: 0.3013 - accuracy: 0.8628 - val_loss: 0.6412 - val_accuracy: 0.7126\n",
      "Epoch 99/100\n",
      "2580/2580 [==============================] - 2s 806us/sample - loss: 0.2966 - accuracy: 0.8674 - val_loss: 1.0530 - val_accuracy: 0.5320\n",
      "Epoch 100/100\n",
      "2580/2580 [==============================] - 2s 902us/sample - loss: 0.3085 - accuracy: 0.8636 - val_loss: 0.7574 - val_accuracy: 0.6621\n"
     ]
    },
    {
     "data": {
      "image/png": "[encoded data removed]",
      "text/plain": [
       "<Figure size 432x288 with 1 Axes>"
      ]
     },
     "metadata": {
      "needs_background": "light"
     },
     "output_type": "display_data"
    }
   ],
   "source": [
    "rates = np.arange(0.01, 0.1, 0.01)\n",
    "beta1s = np.arange(0.9, 0.99, 0.01)\n",
    "beta2s = np.arange(0.99, 0.999, 0.001)\n",
    "\n",
    "rate = float(input(\"What's my learning rate? \"))\n",
    "epochs = int(input(\"How many epochs? \"))\n",
    "\n",
    "# compiled = kerasModel(rate)\n",
    "# fitted = fitModel(compiled, epochs)\n",
    "fitted = createModel(rate, epochs)\n",
    "\n",
    "import matplotlib.pyplot as plt\n",
    "\n",
    "# Plot training & validation accuracy values\n",
    "plt.plot(fitted.history['accuracy'])\n",
    "plt.plot(fitted.history['val_accuracy'])\n",
    "plt.title('Model_accuracy')\n",
    "plt.ylabel('Accuracy')\n",
    "plt.xlabel('Epoch')\n",
    "plt.legend(['Train', 'Test'], loc='upper left')\n",
    "plt.show()\n",
    "\n",
    "#results = testModel(fitted)\n",
    "#myresults.append(results)"
   ]
  },
  {
   "cell_type": "code",
   "execution_count": 117,
   "metadata": {},
   "outputs": [
    {
     "data": {
      "text/plain": [
       "[[0.22637348339475435, 0.9122222], [0.3669460266828537, 0.8705556]]"
      ]
     },
     "execution_count": 117,
     "metadata": {},
     "output_type": "execute_result"
    }
   ],
   "source": [
    "myresults\n",
    "\n",
    "# print(\"Loss: \", results[0], \"\\nAccuracy: \", results[1])"
   ]
  }
 ],
 "metadata": {
  "kernelspec": {
   "display_name": "Python 3",
   "language": "python",
   "name": "python3"
  },
  "language_info": {
   "codemirror_mode": {
    "name": "ipython",
    "version": 3
   },
   "file_extension": ".py",
   "mimetype": "text/x-python",
   "name": "python",
   "nbconvert_exporter": "python",
   "pygments_lexer": "ipython3",
   "version": "3.7.3"
  }
 },
 "nbformat": 4,
 "nbformat_minor": 2
}
