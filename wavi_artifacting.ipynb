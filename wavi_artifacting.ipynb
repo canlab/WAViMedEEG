{
 "cells": [
  {
   "cell_type": "code",
   "execution_count": null,
   "metadata": {},
   "outputs": [],
   "source": [
    "import numpy.ma as ma\n",
    "\n",
    "def artifactEEG(df):\n",
    "    for sub in df.index.values:\n",
    "        for task in df.columns[1:]:\n",
    "            if(df.loc[sub][task]!=\"none\"):\n",
    "                mx = ma.masked_array(df.loc[sub][task][0][1], mask=df.loc[sub][task][1][1])\n",
    "                df.loc[sub][task][0][1] = mx\n",
    "    return(df)\n",
    "\n",
    "# def artifactEEG(df):\n",
    "#     for sub in df.index.values:\n",
    "#         for task in df.columns[1:]:\n",
    "#             df.loc[sub][task][0][1][df.loc[sub][task][1][1]==0] = np.nan\n",
    "#     return(df)\n",
    "            \n",
    "print(\"Would you like to use WAVi Artifacting to mask your invalid data? y or n\")\n",
    "shouldArtifact = input()\n",
    "if(shouldArtifact == \"y\"):\n",
    "    EEG = artifactEEG(EEG)"
   ]
  }
 ],
 "metadata": {
  "kernelspec": {
   "display_name": "Python 3",
   "language": "python",
   "name": "python3"
  },
  "language_info": {
   "codemirror_mode": {
    "name": "ipython",
    "version": 3
   },
   "file_extension": ".py",
   "mimetype": "text/x-python",
   "name": "python",
   "nbconvert_exporter": "python",
   "pygments_lexer": "ipython3",
   "version": "3.7.3"
  }
 },
 "nbformat": 4,
 "nbformat_minor": 2
}
