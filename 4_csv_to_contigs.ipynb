{
 "cells": [
  {
   "cell_type": "code",
   "execution_count": 1,
   "metadata": {},
   "outputs": [],
   "source": [
    "import os\n",
    "import numpy as np\n",
    "from numpy import array, ma, genfromtxt\n",
    "import pandas as pd"
   ]
  },
  {
   "cell_type": "code",
   "execution_count": 2,
   "metadata": {},
   "outputs": [],
   "source": [
    "# The CANlab/WAVi Pain Study is Pre-Formatted to resemble BIDS neuroimaging formatting\n",
    "# If your study does not abide to the following structure, please revisit previous scripts\n",
    "# .../StudyRepo\n",
    "# -------------> /raw\n",
    "# -------------------> /*.art\n",
    "# -------------------> /*.eeg\n",
    "# -------------------> /*.evt\n",
    "# -------------> /task1\n",
    "# -------------------> /group1\n",
    "# ------------------------> /sub1_ftype1.csv\n",
    "# ------------------------> /sub1_ftype2.csv\n",
    "# ------------------------> /...\n",
    "# ------------------------> /subn_ftypen.csv\n",
    "# -------------------> /...\n",
    "# -------------------> /groupn\n",
    "# -------------> /...\n",
    "# -------------> /taskn"
   ]
  },
  {
   "cell_type": "code",
   "execution_count": 3,
   "metadata": {},
   "outputs": [],
   "source": [
    "# Before running this script, you should already have \n",
    "# converted your raw data into CSV formats as shown above"
   ]
  },
  {
   "cell_type": "code",
   "execution_count": 4,
   "metadata": {},
   "outputs": [],
   "source": [
    "try:\n",
    "    os.chdir(\"CANlabStudy\")\n",
    "    directory=os.getcwd()\n",
    "except:\n",
    "    print(\"I couldn't find the study directory.\\n\")\n",
    "    print(\"Please enter the full path of the study repository:\")\n",
    "    directory = input()\n",
    "\n",
    "while(not os.path.exists(directory)):\n",
    "    print(\"\\n\")\n",
    "    print(\"The directory you supplied could not be found.\")\n",
    "    print(\"Please enter the full path of the study directory containing EEG, ART, EVT files:\")\n",
    "    directory = input()\n",
    "    \n",
    "os.chdir(directory)"
   ]
  },
  {
   "cell_type": "code",
   "execution_count": 5,
   "metadata": {},
   "outputs": [],
   "source": [
    "# print(\"Which task would you like to load? \\n p300? \\n flanker? \\n chronic? \\n rest?\")\n",
    "# task = \"\"\n",
    "# while(task == \"\"):\n",
    "#     task = input() \n",
    "# os.chdir(task)"
   ]
  },
  {
   "cell_type": "code",
   "execution_count": 6,
   "metadata": {},
   "outputs": [],
   "source": [
    "def go_to_task(task):\n",
    "    if(os.getcwd() != (directory+\"/\"+task)):\n",
    "        os.chdir(directory+\"/\"+task)\n",
    "\n",
    "class taskInfo():\n",
    "    def __init__(self):\n",
    "        self.pain_fnames = os.listdir(\"1\")\n",
    "        self.ctrl_fnames = os.listdir(\"2\")\n",
    "        self.pain_subs = []\n",
    "        self.ctrl_subs = []\n",
    "        for fname in self.pain_fnames:\n",
    "            if(fname[:3] not in self.pain_subs):\n",
    "                self.pain_subs.append(fname[:3])\n",
    "        for fname in self.ctrl_fnames:\n",
    "            if(fname[:3] not in self.ctrl_subs):\n",
    "                self.ctrl_subs.append(fname[:3])\n",
    "    \n",
    "def load_csv(sub):\n",
    "    eeg = genfromtxt(sub+\"_eeg.csv\", delimiter=\",\")\n",
    "    art = genfromtxt(sub+\"_art.csv\", delimiter=\",\")\n",
    "    return(eeg, art)\n",
    "\n",
    "def apply_art_mask_nan(data, artifact):\n",
    "    mx = ma.masked_array(data, mask=artifact)\n",
    "    mx = ma.filled(mx.astype(float), np.nan)\n",
    "    return(mx)\n",
    "\n",
    "def apply_art_mask_zero(data, artifact):\n",
    "    mx = ma.masked_array(data, mask=artifact)\n",
    "    mx = ma.filled(mx.astype(float), 0)\n",
    "    return(mx)\n",
    "\n",
    "#provide length as num of cycles, 250 Hz freq\n",
    "def find_contigs(min_length):\n",
    "    return(null)\n",
    "    \n",
    "def load_p300():\n",
    "    go_to_task(\"p300\")\n",
    "    p300_pain = []\n",
    "    p300_ctrl = []\n",
    "    info = taskInfo()\n",
    "    os.chdir(\"1\")\n",
    "    for sub in info.pain_subs:\n",
    "        eeg, art = load_csv(sub)\n",
    "        p300_pain.append(apply_art_mask_zero(eeg, art))\n",
    "    os.chdir(\"..\")\n",
    "    os.chdir(\"2\")\n",
    "    for sub in info.ctrl_subs:\n",
    "        eeg, art = load_csv(sub)\n",
    "        p300_ctrl.append(apply_art_mask_zero(eeg, art))\n",
    "    os.chdir(\"..\")\n",
    "    return(p300_pain, p300_ctrl)\n",
    "\n",
    "def load_flanker():\n",
    "    go_to_task(\"flanker\")\n",
    "    flanker_pain = []\n",
    "    flanker_ctrl = []\n",
    "    info = taskInfo()\n",
    "    os.chdir(\"1\")\n",
    "    for sub in info.pain_subs:\n",
    "        eeg, art = load_csv(sub)\n",
    "        flanker_pain.append(apply_art_mask_zero(eeg, art))\n",
    "    os.chdir(\"..\")\n",
    "    os.chdir(\"2\")\n",
    "    for sub in info.ctrl_subs:\n",
    "        eeg, art = load_csv(sub)\n",
    "        flanker_ctrl.append(apply_art_mask_zero(eeg, art))\n",
    "    os.chdir(\"..\")\n",
    "    return(flanker_pain, flanker_ctrl)\n",
    "    \n",
    "def load_chronic():\n",
    "    go_to_task(\"chronic\")\n",
    "    chronic_pain = []\n",
    "    chronic_ctrl = []\n",
    "    info = taskInfo()\n",
    "    os.chdir(\"1\")\n",
    "    for sub in info.pain_subs:\n",
    "        eeg, art = load_csv(sub)\n",
    "        chronic_pain.append(apply_art_mask_zero(eeg, art))\n",
    "    os.chdir(\"..\")\n",
    "    os.chdir(\"2\")\n",
    "    for sub in info.ctrl_subs:\n",
    "        eeg, art = load_csv(sub)\n",
    "        chronic_ctrl.append(apply_art_mask_zero(eeg, art))\n",
    "    os.chdir(\"..\")\n",
    "    return(chronic_pain, chronic_ctrl)\n",
    "    \n",
    "def load_rest():\n",
    "    go_to_task(\"rest\")\n",
    "    rest_pain = []\n",
    "    rest_ctrl = []\n",
    "    info = taskInfo()\n",
    "    os.chdir(\"1\")\n",
    "    for sub in info.pain_subs:\n",
    "        eeg, art = load_csv(sub)\n",
    "        rest_pain.append(apply_art_mask_zero(eeg, art))\n",
    "    os.chdir(\"..\")\n",
    "    os.chdir(\"2\")\n",
    "    for sub in info.ctrl_subs:\n",
    "        eeg, art = load_csv(sub)\n",
    "        rest_ctrl.append(apply_art_mask_zero(eeg, art))\n",
    "    os.chdir(\"..\")\n",
    "    return(rest_pain, rest_ctrl)\n",
    "    \n",
    "p300_pain, p300_control = load_p300()\n",
    "chronic_pain, chronic_control = load_chronic()"
   ]
  },
  {
   "cell_type": "code",
   "execution_count": 7,
   "metadata": {},
   "outputs": [
    {
     "name": "stdout",
     "output_type": "stream",
     "text": [
      "Number of patients: 11\n",
      "Number of controls: 8\n",
      "Total N: 19\n",
      " \n",
      "That's not a lot! Let's get more by arranging the data into contigs of some desired length.\n"
     ]
    }
   ],
   "source": [
    "print(\"Number of patients: \" + str(len(p300_pain)))\n",
    "print(\"Number of controls: \" + str(len(p300_control)))\n",
    "print(\"Total N: \" + str(len(p300_pain)+len(p300_control)))\n",
    "print(\" \\nThat's not a lot! Let's get more by arranging the data into contigs of some desired length.\")"
   ]
  },
  {
   "cell_type": "code",
   "execution_count": 8,
   "metadata": {},
   "outputs": [],
   "source": [
    "def sec_to_cyc(seconds):\n",
    "    return(seconds * 250)\n",
    "        \n",
    "def generate_sparse_contigs(run, length):\n",
    "    i = 0\n",
    "    contigs = []\n",
    "    startindexes = []\n",
    "    while i < run.shape[0]-length:\n",
    "        stk = run[i:(i+length),:]\n",
    "        if not np.any(np.isnan(stk)):\n",
    "            contigs.append(stk)\n",
    "            startindexes.append(i)\n",
    "            i+=length\n",
    "        else:\n",
    "            i+=1\n",
    "    return contigs, startindexes\n",
    "\n",
    "def generate_all_contigs(run, length):\n",
    "    i = 0\n",
    "    contigs = []\n",
    "    startindexes = []\n",
    "    while i < run.shape[0]-length:\n",
    "        stk = run[i:(i+length),:]\n",
    "        contigs.append(stk)\n",
    "        startindexes.append(i)\n",
    "        i+=length\n",
    "    return contigs, startindexes"
   ]
  },
  {
   "cell_type": "code",
   "execution_count": 9,
   "metadata": {},
   "outputs": [],
   "source": [
    "def get_contigs_from_trials(trials):\n",
    "    all_contigs = []\n",
    "    print(\"How many seconds long should each contig be?\")\n",
    "    cycles = sec_to_cyc(int(input()))\n",
    "    for run in trials:\n",
    "        all_contigs.append(generate_all_contigs(run, cycles))\n",
    "    return(all_contigs)"
   ]
  },
  {
   "cell_type": "code",
   "execution_count": null,
   "metadata": {},
   "outputs": [
    {
     "name": "stdout",
     "output_type": "stream",
     "text": [
      "How many seconds long should each contig be?\n"
     ]
    }
   ],
   "source": [
    "p300_pain_contigs = get_contigs_from_trials(p300_pain)\n",
    "p300_ctrl_contigs = get_contigs_from_trials(p300_control)\n",
    "\n",
    "chronic_pain_contigs = get_contigs_from_trials(chronic_pain)\n",
    "chronic_ctrl_contigs = get_contigs_from_trials(chronic_control) "
   ]
  },
  {
   "cell_type": "code",
   "execution_count": null,
   "metadata": {},
   "outputs": [],
   "source": [
    "# def load_per_task(task):\n",
    "#     switcher = {\n",
    "#         p300: load_p300,\n",
    "#         flanker: load_flanker,\n",
    "#         chronic: load_chronic,\n",
    "#         rest: load_rest\n",
    "#     }\n",
    "#     func = switcher.get(argument, lambda: \"Invalid task\")"
   ]
  },
  {
   "cell_type": "code",
   "execution_count": null,
   "metadata": {},
   "outputs": [],
   "source": [
    "os.chdir(directory+\"/contigs\")"
   ]
  },
  {
   "cell_type": "code",
   "execution_count": null,
   "metadata": {},
   "outputs": [],
   "source": [
    "def contigs_to_csv(group):\n",
    "    where = input(\"Where should I write these contigs?\")\n",
    "    prefix = input(\"What should I prefix the files with?\")\n",
    "    i = 0\n",
    "    for sub in group:      \n",
    "        if (len(sub[0])>0):\n",
    "            for contig in sub[0]:\n",
    "                np.savetxt(where+\"/\"+prefix+\"_\"+str(i)+\".csv\", contig, delimiter=\",\", fmt=\"%2.0f\")\n",
    "                i+=1\n",
    "                \n",
    "def contigs_to_csv_split(group, task, prefix):\n",
    "    if(\"train\" not in os.listdir()):\n",
    "        os.mkdir(\"train\")\n",
    "        os.mkdir(\"test\")\n",
    "    if(task not in os.listdir(\"train\")):\n",
    "        os.chdir(\"train\")\n",
    "        os.mkdir(task)\n",
    "        os.chdir(\"../test\")\n",
    "        os.mkdir(task)\n",
    "        os.chdir(\"..\")\n",
    "    i = 0\n",
    "    for sub in group:\n",
    "        if(len(sub[0])>0):\n",
    "            for contig in sub[0]:\n",
    "                if(i%3==0):\n",
    "                    np.savetxt(directory+\"/contigs/test/\"+task+\"/\"+prefix+\"_\"+str(i)+\".csv\", contig, delimiter=\",\", fmt=\"%2.0f\")\n",
    "                else:\n",
    "                    np.savetxt(directory+\"/contigs/train/\"+task+\"/\"+prefix+\"_\"+str(i)+\".csv\", contig, delimiter=\",\", fmt=\"%2.0f\")\n",
    "                i+=1"
   ]
  },
  {
   "cell_type": "code",
   "execution_count": null,
   "metadata": {},
   "outputs": [],
   "source": [
    "contigs_to_csv_split(p300_pain_contigs, \"p300\", \"pain\")\n",
    "contigs_to_csv_split(p300_ctrl_contigs, \"p300\", \"ctrl\")\n",
    "contigs_to_csv_split(chronic_pain_contigs, \"chronic\", \"pain\")\n",
    "contigs_to_csv_split(chronic_ctrl_contigs, \"chronic\", \"ctrl\")"
   ]
  },
  {
   "cell_type": "code",
   "execution_count": null,
   "metadata": {},
   "outputs": [],
   "source": []
  }
 ],
 "metadata": {
  "kernelspec": {
   "display_name": "Python 3",
   "language": "python",
   "name": "python3"
  },
  "language_info": {
   "codemirror_mode": {
    "name": "ipython",
    "version": 3
   },
   "file_extension": ".py",
   "mimetype": "text/x-python",
   "name": "python",
   "nbconvert_exporter": "python",
   "pygments_lexer": "ipython3",
   "version": "3.7.3"
  }
 },
 "nbformat": 4,
 "nbformat_minor": 2
}
