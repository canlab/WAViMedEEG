{
 "cells": [
  {
   "cell_type": "code",
   "execution_count": 10,
   "metadata": {},
   "outputs": [],
   "source": [
    "import os\n",
    "import shutil"
   ]
  },
  {
   "cell_type": "code",
   "execution_count": 11,
   "metadata": {},
   "outputs": [
    {
     "name": "stdout",
     "output_type": "stream",
     "text": [
      "Please give the full directory of the contigs folder: /home/clayton/science/CANlab/WAViMedEEG/CANlabStudy/contigs\n"
     ]
    }
   ],
   "source": [
    "path = input(\"Please give the full directory of the contigs folder: \")\n",
    "os.chdir(path)"
   ]
  },
  {
   "cell_type": "code",
   "execution_count": 14,
   "metadata": {},
   "outputs": [],
   "source": [
    "def rearrange():\n",
    "    task = input(\"Which task should I sort?\")\n",
    "    i=0\n",
    "    os.chdir(task)\n",
    "    for file in os.listdir():\n",
    "        if i%3==0:\n",
    "            shutil.move(file, \"../test/\"+task)\n",
    "        else:\n",
    "            shutil.move(file, \"../train/\"+task)\n",
    "        i+=1\n",
    "    os.chdir(\"..\")"
   ]
  },
  {
   "cell_type": "code",
   "execution_count": null,
   "metadata": {},
   "outputs": [],
   "source": [
    "rearrange()"
   ]
  }
 ],
 "metadata": {
  "kernelspec": {
   "display_name": "Python 3",
   "language": "python",
   "name": "python3"
  },
  "language_info": {
   "codemirror_mode": {
    "name": "ipython",
    "version": 3
   },
   "file_extension": ".py",
   "mimetype": "text/x-python",
   "name": "python",
   "nbconvert_exporter": "python",
   "pygments_lexer": "ipython3",
   "version": "3.7.3"
  }
 },
 "nbformat": 4,
 "nbformat_minor": 2
}
