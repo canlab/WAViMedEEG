{
 "cells": [
  {
   "cell_type": "code",
   "execution_count": 27,
   "metadata": {},
   "outputs": [
    {
     "name": "stdout",
     "output_type": "stream",
     "text": [
      "2.0.0-beta1\n"
     ]
    }
   ],
   "source": [
    "from __future__ import absolute_import, division, print_function, unicode_literals\n",
    "\n",
    "import tensorflow as tf\n",
    "from tensorflow import keras\n",
    "import matplotlib.pyplot as plot\n",
    "import numpy as np\n",
    "import csv\n",
    "import sys, os, re\n",
    "import pathlib\n",
    "\n",
    "print(tf.__version__)"
   ]
  },
  {
   "cell_type": "code",
   "execution_count": 28,
   "metadata": {},
   "outputs": [],
   "source": [
    "# The CANlab/WAVi Pain Study is Pre-Formatted to resemble BIDS neuroimaging formatting\n",
    "# If your study does not abide to the following structure, please revisit previous scripts\n",
    "# .../StudyRepo\n",
    "# -------------> /raw\n",
    "# -------------------> /*.art\n",
    "# -------------------> /*.eeg\n",
    "# -------------------> /*.evt\n",
    "# -------------> /contigs\n",
    "# -------------------> /train          2:1 train:test\n",
    "# -------------------> /test"
   ]
  },
  {
   "cell_type": "code",
   "execution_count": 6,
   "metadata": {},
   "outputs": [
    {
     "name": "stdout",
     "output_type": "stream",
     "text": [
      "Please give the full path of the contigs folder: /home/clayton/science/CANlab/WAViMedEEG/CANlabStudy/contigs\n"
     ]
    }
   ],
   "source": [
    "directory = input(\"Please give the full path of the contigs folder: \")\n",
    "os.chdir(directory)"
   ]
  },
  {
   "cell_type": "code",
   "execution_count": 9,
   "metadata": {},
   "outputs": [],
   "source": [
    "train_path = pathlib.Path('train/')\n",
    "test_path = pathlib.Path('test/')"
   ]
  },
  {
   "cell_type": "code",
   "execution_count": 16,
   "metadata": {},
   "outputs": [
    {
     "name": "stdout",
     "output_type": "stream",
     "text": [
      "You have 114 training images.\n",
      "You have 57 testing images.\n"
     ]
    }
   ],
   "source": [
    "# load in image paths for training set\n",
    "\n",
    "import random\n",
    "train_image_paths = list(train_path.glob('*/*'))\n",
    "train_image_paths = [str(path) for path in train_image_paths]\n",
    "random.shuffle(train_image_paths)\n",
    "\n",
    "train_count = len(train_image_paths)\n",
    "print(\"You have\", train_count, \"training images.\")\n",
    "\n",
    "# load in image paths for testing set?\n",
    "\n",
    "test_image_paths = list(test_path.glob('*/*'))\n",
    "test_image_paths = [str(path) for path in test_image_paths]\n",
    "random.shuffle(test_image_paths)\n",
    "\n",
    "test_count = len(test_image_paths)\n",
    "print(\"You have\", test_count, \"testing images.\")"
   ]
  },
  {
   "cell_type": "code",
   "execution_count": 24,
   "metadata": {},
   "outputs": [
    {
     "name": "stdout",
     "output_type": "stream",
     "text": [
      "Labels discovered: ['chronic', 'p300']\n"
     ]
    }
   ],
   "source": [
    "#list the available labels\n",
    "label_names = sorted(item.name for item in train_path.glob('*/') if item.is_dir())\n",
    "print(\"Labels discovered:\", label_names)"
   ]
  },
  {
   "cell_type": "code",
   "execution_count": 25,
   "metadata": {},
   "outputs": [
    {
     "name": "stdout",
     "output_type": "stream",
     "text": [
      "Label indices: {'chronic': 0, 'p300': 1}\n"
     ]
    }
   ],
   "source": [
    "#assign an index to each label\n",
    "label_to_index = dict((name, index) for index, name in enumerate(label_names))\n",
    "print(\"Label indices:\", label_to_index)"
   ]
  },
  {
   "cell_type": "code",
   "execution_count": 26,
   "metadata": {},
   "outputs": [
    {
     "name": "stdout",
     "output_type": "stream",
     "text": [
      "First 10 labels indices: [0, 0, 0, 1, 0, 1, 1, 1, 1, 0]\n"
     ]
    }
   ],
   "source": [
    "#create a list of every file and its index label\n",
    "train_image_labels = [label_to_index[pathlib.Path(path).parent.name]\n",
    "                     for path in train_image_paths]\n",
    "\n",
    "print(\"First 10 labels indices:\", train_image_labels[:10])"
   ]
  },
  {
   "cell_type": "code",
   "execution_count": null,
   "metadata": {},
   "outputs": [],
   "source": []
  }
 ],
 "metadata": {
  "kernelspec": {
   "display_name": "Python 3",
   "language": "python",
   "name": "python3"
  },
  "language_info": {
   "codemirror_mode": {
    "name": "ipython",
    "version": 3
   },
   "file_extension": ".py",
   "mimetype": "text/x-python",
   "name": "python",
   "nbconvert_exporter": "python",
   "pygments_lexer": "ipython3",
   "version": "3.7.3"
  }
 },
 "nbformat": 4,
 "nbformat_minor": 2
}
