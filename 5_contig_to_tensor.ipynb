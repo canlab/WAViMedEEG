{
 "cells": [
  {
   "cell_type": "code",
   "execution_count": 1,
   "metadata": {},
   "outputs": [
    {
     "name": "stdout",
     "output_type": "stream",
     "text": [
      "2.0.0\n"
     ]
    }
   ],
   "source": [
    "from __future__ import absolute_import, division, print_function, unicode_literals\n",
    "\n",
    "import tensorflow as tf\n",
    "from tensorflow import keras\n",
    "import matplotlib.pyplot as plot\n",
    "import numpy as np\n",
    "from numpy import genfromtxt\n",
    "import csv\n",
    "import sys, os, re\n",
    "import pathlib\n",
    "\n",
    "print(tf.__version__)"
   ]
  },
  {
   "cell_type": "code",
   "execution_count": 2,
   "metadata": {},
   "outputs": [],
   "source": [
    "# The CANlab/WAVi Pain Study is Pre-Formatted to resemble BIDS neuroimaging formatting\n",
    "# If your study does not abide to the following structure, please revisit previous scripts\n",
    "# .../StudyRepo\n",
    "# -------------> /raw\n",
    "# -------------------> /*.art\n",
    "# -------------------> /*.eeg\n",
    "# -------------------> /*.evt\n",
    "# -------------> /contigs\n",
    "# -------------------> /train          2:1 train:test\n",
    "# -------------------> /test"
   ]
  },
  {
   "cell_type": "code",
   "execution_count": 3,
   "metadata": {},
   "outputs": [
    {
     "name": "stdout",
     "output_type": "stream",
     "text": [
      "Please give the full path of the contigs folder: /home/clayton/science/CANlab/WAViMedEEG/CANlabStudy/contigs\n"
     ]
    }
   ],
   "source": [
    "directory = input(\"Please give the full path of the contigs folder: \")\n",
    "os.chdir(directory)"
   ]
  },
  {
   "cell_type": "code",
   "execution_count": 4,
   "metadata": {},
   "outputs": [],
   "source": [
    "train_path = pathlib.Path('train/')\n",
    "test_path = pathlib.Path('test/')"
   ]
  },
  {
   "cell_type": "code",
   "execution_count": 5,
   "metadata": {},
   "outputs": [
    {
     "name": "stdout",
     "output_type": "stream",
     "text": [
      "You have 879 training images.\n",
      "You have 440 testing images.\n"
     ]
    }
   ],
   "source": [
    "# load in image paths for training set\n",
    "\n",
    "import random\n",
    "train_image_paths = list(train_path.glob('*/*'))\n",
    "train_image_paths = [str(path) for path in train_image_paths]\n",
    "random.shuffle(train_image_paths)\n",
    "\n",
    "train_count = len(train_image_paths)\n",
    "print(\"You have\", train_count, \"training images.\")\n",
    "\n",
    "# load in image paths for testing set?\n",
    "\n",
    "test_image_paths = list(test_path.glob('*/*'))\n",
    "test_image_paths = [str(path) for path in test_image_paths]\n",
    "random.shuffle(test_image_paths)\n",
    "\n",
    "test_count = len(test_image_paths)\n",
    "print(\"You have\", test_count, \"testing images.\")"
   ]
  },
  {
   "cell_type": "code",
   "execution_count": 6,
   "metadata": {},
   "outputs": [
    {
     "name": "stdout",
     "output_type": "stream",
     "text": [
      "Labels discovered: ['chronic', 'p300']\n"
     ]
    }
   ],
   "source": [
    "#list the available labels\n",
    "label_names = sorted(item.name for item in train_path.glob('*/') if item.is_dir())\n",
    "print(\"Labels discovered:\", label_names)"
   ]
  },
  {
   "cell_type": "code",
   "execution_count": 7,
   "metadata": {},
   "outputs": [
    {
     "name": "stdout",
     "output_type": "stream",
     "text": [
      "Label indices: {'chronic': 0, 'p300': 1}\n"
     ]
    }
   ],
   "source": [
    "#assign an index to each label\n",
    "label_to_index = dict((name, index) for index, name in enumerate(label_names))\n",
    "print(\"Label indices:\", label_to_index)"
   ]
  },
  {
   "cell_type": "code",
   "execution_count": 8,
   "metadata": {},
   "outputs": [],
   "source": [
    "#create a list of every file and its index label\n",
    "train_image_labels = [label_to_index[pathlib.Path(path).parent.name]\n",
    "                     for path in train_image_paths]\n",
    "\n",
    "test_image_labels = [label_to_index[pathlib.Path(path).parent.name]\n",
    "                    for path in test_image_paths]"
   ]
  },
  {
   "cell_type": "code",
   "execution_count": 9,
   "metadata": {},
   "outputs": [],
   "source": [
    "def load_numpy_stack(paths):\n",
    "    numpy_stack = []\n",
    "    for path in paths:\n",
    "        numpy_stack.append(genfromtxt(path, delimiter=\",\"))\n",
    "    return(numpy_stack)"
   ]
  },
  {
   "cell_type": "code",
   "execution_count": 10,
   "metadata": {},
   "outputs": [],
   "source": [
    "train_arrays = load_numpy_stack(train_image_paths)\n",
    "test_arrays = load_numpy_stack(test_image_paths)"
   ]
  },
  {
   "cell_type": "code",
   "execution_count": 11,
   "metadata": {},
   "outputs": [],
   "source": [
    "train_dataset = tf.data.Dataset.from_tensor_slices((train_arrays, train_image_labels))\n",
    "test_dataset = tf.data.Dataset.from_tensor_slices((test_arrays, test_image_labels))"
   ]
  },
  {
   "cell_type": "code",
   "execution_count": 12,
   "metadata": {},
   "outputs": [],
   "source": [
    "BATCH_SIZE = 64\n",
    "SHUFFLE_BUFFER_SIZE = 100\n",
    "\n",
    "train_dataset = train_dataset.shuffle(SHUFFLE_BUFFER_SIZE).batch(BATCH_SIZE)\n",
    "test_dataset = test_dataset.batch(BATCH_SIZE)"
   ]
  },
  {
   "cell_type": "code",
   "execution_count": 25,
   "metadata": {},
   "outputs": [],
   "source": [
    "def kerasModel(learn, beta1, beta2):\n",
    "    model = tf.keras.Sequential([\n",
    "        tf.keras.layers.Flatten(input_shape=(250, 19)),\n",
    "        tf.keras.layers.Dense(128, activation='relu'),\n",
    "        tf.keras.layers.Dense(10, activation='softmax')\n",
    "    ])\n",
    "\n",
    "    model.compile(optimizer=tf.keras.optimizers.Adam(learning_rate=learn, beta_1=beta1, beta_2=beta2),\n",
    "                 loss = tf.keras.losses.SparseCategoricalCrossentropy(),\n",
    "                 metrics = [tf.keras.metrics.SparseCategoricalAccuracy()])\n",
    "    return(model)"
   ]
  },
  {
   "cell_type": "code",
   "execution_count": 26,
   "metadata": {},
   "outputs": [],
   "source": [
    "def fitModel(model):\n",
    "    model.fit(train_dataset, epochs=10)\n",
    "    return(model)"
   ]
  },
  {
   "cell_type": "code",
   "execution_count": 27,
   "metadata": {},
   "outputs": [],
   "source": [
    "def testModel(model):\n",
    "    metrics = model.evaluate(test_dataset)\n",
    "    return(metrics)"
   ]
  },
  {
   "cell_type": "code",
   "execution_count": 33,
   "metadata": {},
   "outputs": [
    {
     "name": "stdout",
     "output_type": "stream",
     "text": [
      "What's my learning rate? 0.01\n",
      "What's my beta1? 0.92\n",
      "What's my beta2? 0\n",
      "Epoch 1/10\n",
      "14/14 [==============================] - 0s 27ms/step - loss: 138.1442 - sparse_categorical_accuracy: 0.4778\n",
      "Epoch 2/10\n",
      "14/14 [==============================] - 0s 9ms/step - loss: 51.7644 - sparse_categorical_accuracy: 0.6780\n",
      "Epoch 3/10\n",
      "14/14 [==============================] - 0s 8ms/step - loss: 19.0331 - sparse_categorical_accuracy: 0.7110\n",
      "Epoch 4/10\n",
      "14/14 [==============================] - 0s 8ms/step - loss: 9.9090 - sparse_categorical_accuracy: 0.8237\n",
      "Epoch 5/10\n",
      "14/14 [==============================] - 0s 8ms/step - loss: 9.9859 - sparse_categorical_accuracy: 0.7964\n",
      "Epoch 6/10\n",
      "14/14 [==============================] - 0s 8ms/step - loss: 9.8897 - sparse_categorical_accuracy: 0.8339\n",
      "Epoch 7/10\n",
      "14/14 [==============================] - 0s 8ms/step - loss: 7.2072 - sparse_categorical_accuracy: 0.8578\n",
      "Epoch 8/10\n",
      "14/14 [==============================] - 0s 9ms/step - loss: 7.5607 - sparse_categorical_accuracy: 0.8487\n",
      "Epoch 9/10\n",
      "14/14 [==============================] - 0s 8ms/step - loss: 6.1915 - sparse_categorical_accuracy: 0.8896\n",
      "Epoch 10/10\n",
      "14/14 [==============================] - 0s 8ms/step - loss: 5.6317 - sparse_categorical_accuracy: 0.8862\n",
      "7/7 [==============================] - 0s 15ms/step - loss: 33.3875 - sparse_categorical_accuracy: 0.5909\n",
      "Epoch 1/10\n",
      "14/14 [==============================] - 1s 37ms/step - loss: 125.8449 - sparse_categorical_accuracy: 0.4323\n",
      "Epoch 2/10\n",
      "14/14 [==============================] - 0s 9ms/step - loss: 53.2731 - sparse_categorical_accuracy: 0.6917\n",
      "Epoch 3/10\n",
      "14/14 [==============================] - 0s 9ms/step - loss: 21.2802 - sparse_categorical_accuracy: 0.7395\n",
      "Epoch 4/10\n",
      "14/14 [==============================] - 0s 8ms/step - loss: 15.7844 - sparse_categorical_accuracy: 0.8032\n",
      "Epoch 5/10\n",
      "14/14 [==============================] - 0s 9ms/step - loss: 20.0383 - sparse_categorical_accuracy: 0.7918\n",
      "Epoch 6/10\n",
      "14/14 [==============================] - 0s 8ms/step - loss: 11.6731 - sparse_categorical_accuracy: 0.8430\n",
      "Epoch 7/10\n",
      "14/14 [==============================] - 0s 8ms/step - loss: 11.8829 - sparse_categorical_accuracy: 0.8476\n",
      "Epoch 8/10\n",
      "14/14 [==============================] - 0s 9ms/step - loss: 7.7543 - sparse_categorical_accuracy: 0.8805\n",
      "Epoch 9/10\n",
      "14/14 [==============================] - 0s 9ms/step - loss: 8.9013 - sparse_categorical_accuracy: 0.8714\n",
      "Epoch 10/10\n",
      "14/14 [==============================] - 0s 8ms/step - loss: 16.3297 - sparse_categorical_accuracy: 0.8316\n",
      "7/7 [==============================] - 0s 15ms/step - loss: 64.1877 - sparse_categorical_accuracy: 0.6136\n",
      "Epoch 1/10\n",
      "14/14 [==============================] - 0s 28ms/step - loss: 113.9036 - sparse_categorical_accuracy: 0.4460\n",
      "Epoch 2/10\n",
      "14/14 [==============================] - 0s 9ms/step - loss: 58.2015 - sparse_categorical_accuracy: 0.6712\n",
      "Epoch 3/10\n",
      "14/14 [==============================] - 0s 9ms/step - loss: 30.9076 - sparse_categorical_accuracy: 0.7281\n",
      "Epoch 4/10\n",
      "14/14 [==============================] - 0s 8ms/step - loss: 11.1769 - sparse_categorical_accuracy: 0.8271\n",
      "Epoch 5/10\n",
      "14/14 [==============================] - 0s 8ms/step - loss: 5.8853 - sparse_categorical_accuracy: 0.8874\n",
      "Epoch 6/10\n",
      "14/14 [==============================] - 0s 8ms/step - loss: 5.1803 - sparse_categorical_accuracy: 0.8817\n",
      "Epoch 7/10\n",
      "14/14 [==============================] - 0s 9ms/step - loss: 3.2106 - sparse_categorical_accuracy: 0.9226\n",
      "Epoch 8/10\n",
      "14/14 [==============================] - 0s 8ms/step - loss: 4.0786 - sparse_categorical_accuracy: 0.9204\n",
      "Epoch 9/10\n",
      "14/14 [==============================] - 0s 8ms/step - loss: 2.7059 - sparse_categorical_accuracy: 0.9511\n",
      "Epoch 10/10\n",
      "14/14 [==============================] - 0s 9ms/step - loss: 2.5764 - sparse_categorical_accuracy: 0.9386\n",
      "7/7 [==============================] - 0s 15ms/step - loss: 33.0902 - sparse_categorical_accuracy: 0.6295\n",
      "Epoch 1/10\n",
      "14/14 [==============================] - 0s 28ms/step - loss: 137.4572 - sparse_categorical_accuracy: 0.4755\n",
      "Epoch 2/10\n",
      "14/14 [==============================] - 0s 9ms/step - loss: 47.7745 - sparse_categorical_accuracy: 0.6553\n",
      "Epoch 3/10\n",
      "14/14 [==============================] - 0s 9ms/step - loss: 18.2871 - sparse_categorical_accuracy: 0.7088\n",
      "Epoch 4/10\n",
      "14/14 [==============================] - 0s 8ms/step - loss: 16.2303 - sparse_categorical_accuracy: 0.7520\n",
      "Epoch 5/10\n",
      "14/14 [==============================] - 0s 8ms/step - loss: 18.4428 - sparse_categorical_accuracy: 0.7440\n",
      "Epoch 6/10\n",
      "14/14 [==============================] - 0s 8ms/step - loss: 5.3340 - sparse_categorical_accuracy: 0.8601\n",
      "Epoch 7/10\n",
      "14/14 [==============================] - 0s 8ms/step - loss: 4.4464 - sparse_categorical_accuracy: 0.8498\n",
      "Epoch 8/10\n",
      "14/14 [==============================] - 0s 8ms/step - loss: 2.3656 - sparse_categorical_accuracy: 0.9124\n",
      "Epoch 9/10\n",
      "14/14 [==============================] - 0s 8ms/step - loss: 2.0618 - sparse_categorical_accuracy: 0.9226\n",
      "Epoch 10/10\n",
      "14/14 [==============================] - 0s 9ms/step - loss: 1.0998 - sparse_categorical_accuracy: 0.9477\n",
      "7/7 [==============================] - 0s 15ms/step - loss: 23.3405 - sparse_categorical_accuracy: 0.6409\n",
      "Epoch 1/10\n",
      "14/14 [==============================] - 1s 38ms/step - loss: 112.3610 - sparse_categorical_accuracy: 0.4926\n",
      "Epoch 2/10\n",
      "14/14 [==============================] - 0s 9ms/step - loss: 70.4959 - sparse_categorical_accuracy: 0.6348\n",
      "Epoch 3/10\n",
      "14/14 [==============================] - 0s 9ms/step - loss: 24.1781 - sparse_categorical_accuracy: 0.7315\n",
      "Epoch 4/10\n",
      "14/14 [==============================] - 0s 8ms/step - loss: 19.1349 - sparse_categorical_accuracy: 0.7634\n",
      "Epoch 5/10\n",
      "14/14 [==============================] - 0s 9ms/step - loss: 19.5152 - sparse_categorical_accuracy: 0.7736\n",
      "Epoch 6/10\n",
      "14/14 [==============================] - 0s 8ms/step - loss: 8.3248 - sparse_categorical_accuracy: 0.8487\n",
      "Epoch 7/10\n",
      "14/14 [==============================] - 0s 8ms/step - loss: 5.7428 - sparse_categorical_accuracy: 0.8669\n",
      "Epoch 8/10\n",
      "14/14 [==============================] - 0s 8ms/step - loss: 8.2031 - sparse_categorical_accuracy: 0.8578\n",
      "Epoch 9/10\n",
      "14/14 [==============================] - 0s 8ms/step - loss: 8.8553 - sparse_categorical_accuracy: 0.8601\n",
      "Epoch 10/10\n",
      "14/14 [==============================] - 0s 9ms/step - loss: 10.4228 - sparse_categorical_accuracy: 0.8680\n",
      "7/7 [==============================] - 0s 16ms/step - loss: 39.4687 - sparse_categorical_accuracy: 0.6341\n",
      "Epoch 1/10\n",
      "14/14 [==============================] - 0s 28ms/step - loss: 110.2982 - sparse_categorical_accuracy: 0.4573\n",
      "Epoch 2/10\n",
      "14/14 [==============================] - 0s 9ms/step - loss: 47.1386 - sparse_categorical_accuracy: 0.6735\n",
      "Epoch 3/10\n",
      "14/14 [==============================] - 0s 9ms/step - loss: 35.0102 - sparse_categorical_accuracy: 0.7224\n",
      "Epoch 4/10\n",
      "14/14 [==============================] - 0s 8ms/step - loss: 18.0671 - sparse_categorical_accuracy: 0.7793\n",
      "Epoch 5/10\n",
      "14/14 [==============================] - 0s 9ms/step - loss: 6.5723 - sparse_categorical_accuracy: 0.8567\n",
      "Epoch 6/10\n",
      "14/14 [==============================] - 0s 9ms/step - loss: 15.4289 - sparse_categorical_accuracy: 0.8009\n",
      "Epoch 7/10\n",
      "14/14 [==============================] - 0s 9ms/step - loss: 15.4237 - sparse_categorical_accuracy: 0.8020\n",
      "Epoch 8/10\n",
      "14/14 [==============================] - 0s 9ms/step - loss: 9.2227 - sparse_categorical_accuracy: 0.8396\n",
      "Epoch 9/10\n",
      "14/14 [==============================] - 0s 8ms/step - loss: 8.0431 - sparse_categorical_accuracy: 0.8612\n",
      "Epoch 10/10\n",
      "14/14 [==============================] - 0s 8ms/step - loss: 6.0123 - sparse_categorical_accuracy: 0.8931\n",
      "7/7 [==============================] - 0s 15ms/step - loss: 32.8612 - sparse_categorical_accuracy: 0.6068\n",
      "Epoch 1/10\n",
      "14/14 [==============================] - 0s 27ms/step - loss: 119.4333 - sparse_categorical_accuracy: 0.4937\n",
      "Epoch 2/10\n",
      "14/14 [==============================] - 0s 9ms/step - loss: 46.1621 - sparse_categorical_accuracy: 0.6325\n",
      "Epoch 3/10\n",
      "14/14 [==============================] - 0s 9ms/step - loss: 17.7345 - sparse_categorical_accuracy: 0.6826: 0s - loss: 20.1769 - sparse_categorical_accuracy: 0.67\n",
      "Epoch 4/10\n"
     ]
    },
    {
     "name": "stdout",
     "output_type": "stream",
     "text": [
      "14/14 [==============================] - 0s 9ms/step - loss: 19.2573 - sparse_categorical_accuracy: 0.7440\n",
      "Epoch 5/10\n",
      "14/14 [==============================] - 0s 8ms/step - loss: 9.7759 - sparse_categorical_accuracy: 0.7986\n",
      "Epoch 6/10\n",
      "14/14 [==============================] - 0s 8ms/step - loss: 3.8949 - sparse_categorical_accuracy: 0.8760\n",
      "Epoch 7/10\n",
      "14/14 [==============================] - 0s 8ms/step - loss: 6.1171 - sparse_categorical_accuracy: 0.8294\n",
      "Epoch 8/10\n",
      "14/14 [==============================] - 0s 8ms/step - loss: 6.3467 - sparse_categorical_accuracy: 0.8464\n",
      "Epoch 9/10\n",
      "14/14 [==============================] - 0s 8ms/step - loss: 8.8350 - sparse_categorical_accuracy: 0.8294\n",
      "Epoch 10/10\n",
      "14/14 [==============================] - 0s 8ms/step - loss: 7.3033 - sparse_categorical_accuracy: 0.8726\n",
      "7/7 [==============================] - 0s 14ms/step - loss: 41.1365 - sparse_categorical_accuracy: 0.6159\n",
      "Epoch 1/10\n",
      "14/14 [==============================] - 1s 37ms/step - loss: 93.6045 - sparse_categorical_accuracy: 0.4903\n",
      "Epoch 2/10\n",
      "14/14 [==============================] - 0s 9ms/step - loss: 71.4109 - sparse_categorical_accuracy: 0.6030\n",
      "Epoch 3/10\n",
      "14/14 [==============================] - 0s 9ms/step - loss: 45.2953 - sparse_categorical_accuracy: 0.6667\n",
      "Epoch 4/10\n",
      "14/14 [==============================] - 0s 8ms/step - loss: 16.3895 - sparse_categorical_accuracy: 0.7736\n",
      "Epoch 5/10\n",
      "14/14 [==============================] - 0s 8ms/step - loss: 14.3546 - sparse_categorical_accuracy: 0.7986\n",
      "Epoch 6/10\n",
      "14/14 [==============================] - 0s 8ms/step - loss: 9.0837 - sparse_categorical_accuracy: 0.8157\n",
      "Epoch 7/10\n",
      "14/14 [==============================] - 0s 8ms/step - loss: 11.7973 - sparse_categorical_accuracy: 0.8134\n",
      "Epoch 8/10\n",
      "14/14 [==============================] - 0s 9ms/step - loss: 6.5725 - sparse_categorical_accuracy: 0.8487\n",
      "Epoch 9/10\n",
      "14/14 [==============================] - 0s 9ms/step - loss: 4.7697 - sparse_categorical_accuracy: 0.8908\n",
      "Epoch 10/10\n",
      "14/14 [==============================] - 0s 8ms/step - loss: 2.5923 - sparse_categorical_accuracy: 0.9147\n",
      "7/7 [==============================] - 0s 15ms/step - loss: 27.1332 - sparse_categorical_accuracy: 0.6136\n",
      "Epoch 1/10\n",
      "14/14 [==============================] - 0s 27ms/step - loss: 129.4523 - sparse_categorical_accuracy: 0.4596\n",
      "Epoch 2/10\n",
      "14/14 [==============================] - 0s 8ms/step - loss: 49.9005 - sparse_categorical_accuracy: 0.6587\n",
      "Epoch 3/10\n",
      "14/14 [==============================] - 0s 9ms/step - loss: 25.7032 - sparse_categorical_accuracy: 0.6951\n",
      "Epoch 4/10\n",
      "14/14 [==============================] - 0s 8ms/step - loss: 18.3141 - sparse_categorical_accuracy: 0.7634\n",
      "Epoch 5/10\n",
      "14/14 [==============================] - 0s 8ms/step - loss: 9.4429 - sparse_categorical_accuracy: 0.8430\n",
      "Epoch 6/10\n",
      "14/14 [==============================] - 0s 8ms/step - loss: 7.4666 - sparse_categorical_accuracy: 0.8510\n",
      "Epoch 7/10\n",
      "14/14 [==============================] - 0s 8ms/step - loss: 8.3555 - sparse_categorical_accuracy: 0.8544\n",
      "Epoch 8/10\n",
      "14/14 [==============================] - 0s 8ms/step - loss: 4.8941 - sparse_categorical_accuracy: 0.8896\n",
      "Epoch 9/10\n",
      "14/14 [==============================] - 0s 8ms/step - loss: 2.5423 - sparse_categorical_accuracy: 0.9101\n",
      "Epoch 10/10\n",
      "14/14 [==============================] - 0s 8ms/step - loss: 3.9383 - sparse_categorical_accuracy: 0.9044\n",
      "7/7 [==============================] - 0s 15ms/step - loss: 34.2234 - sparse_categorical_accuracy: 0.6068\n",
      "Epoch 1/10\n",
      "14/14 [==============================] - 0s 27ms/step - loss: 123.3667 - sparse_categorical_accuracy: 0.4516\n",
      "Epoch 2/10\n",
      "14/14 [==============================] - 0s 9ms/step - loss: 56.8533 - sparse_categorical_accuracy: 0.6655\n",
      "Epoch 3/10\n",
      "14/14 [==============================] - 0s 8ms/step - loss: 20.7110 - sparse_categorical_accuracy: 0.7281\n",
      "Epoch 4/10\n",
      "14/14 [==============================] - 0s 8ms/step - loss: 8.1103 - sparse_categorical_accuracy: 0.8259\n",
      "Epoch 5/10\n",
      "14/14 [==============================] - 0s 8ms/step - loss: 7.0811 - sparse_categorical_accuracy: 0.8385\n",
      "Epoch 6/10\n",
      "14/14 [==============================] - 0s 8ms/step - loss: 4.5574 - sparse_categorical_accuracy: 0.8828\n",
      "Epoch 7/10\n",
      "14/14 [==============================] - 0s 8ms/step - loss: 4.3263 - sparse_categorical_accuracy: 0.8896\n",
      "Epoch 8/10\n",
      "14/14 [==============================] - 0s 8ms/step - loss: 5.8606 - sparse_categorical_accuracy: 0.8828\n",
      "Epoch 9/10\n",
      "14/14 [==============================] - 0s 8ms/step - loss: 6.0305 - sparse_categorical_accuracy: 0.9033\n",
      "Epoch 10/10\n",
      "14/14 [==============================] - 0s 9ms/step - loss: 7.7060 - sparse_categorical_accuracy: 0.8805\n",
      "7/7 [==============================] - 0s 14ms/step - loss: 54.0100 - sparse_categorical_accuracy: 0.5864\n"
     ]
    }
   ],
   "source": [
    "rates = np.arange(0.01, 0.1, 0.01)\n",
    "beta1s = np.arange(0.9, 0.99, 0.01)\n",
    "beta2s = np.arange(0.99, 0.999, 0.001)\n",
    "\n",
    "# doing well with default learning rate 0.01 or 0.02\n",
    "# beta1 does well around 0.91 and 0.92\n",
    "\n",
    "rate = float(input(\"What's my learning rate? \"))\n",
    "beta1 = float(input(\"What's my beta1? \"))\n",
    "beta2 = float(input(\"What's my beta2? \"))\n",
    "\n",
    "myresults=[]\n",
    "\n",
    "for beta2 in beta2s:\n",
    "    compiled = kerasModel(rate, beta1, beta2)\n",
    "    fitted = fitModel(compiled)\n",
    "    results = testModel(fitted)\n",
    "    myresults.append(results)"
   ]
  },
  {
   "cell_type": "code",
   "execution_count": 17,
   "metadata": {},
   "outputs": [
    {
     "name": "stdout",
     "output_type": "stream",
     "text": [
      "Loss:  0.7553441183907645 \n",
      "Accuracy:  0.53636366\n"
     ]
    }
   ],
   "source": [
    "print(\"Loss: \", results[0], \"\\nAccuracy: \", results[1])"
   ]
  },
  {
   "cell_type": "code",
   "execution_count": 34,
   "metadata": {},
   "outputs": [
    {
     "data": {
      "text/plain": [
       "[[33.38752801077707, 0.59090906],\n",
       " [64.18767765590123, 0.6136364],\n",
       " [33.090170179094585, 0.62954545],\n",
       " [23.340478352137975, 0.6409091],\n",
       " [39.468702043805806, 0.6340909],\n",
       " [32.86117826189314, 0.6068182],\n",
       " [41.13649232046945, 0.6159091],\n",
       " [27.13319287981306, 0.6136364],\n",
       " [34.223393304007395, 0.6068182],\n",
       " [54.0100473676409, 0.5863636]]"
      ]
     },
     "execution_count": 34,
     "metadata": {},
     "output_type": "execute_result"
    }
   ],
   "source": [
    "myresults"
   ]
  },
  {
   "cell_type": "code",
   "execution_count": 30,
   "metadata": {},
   "outputs": [
    {
     "data": {
      "text/plain": [
       "array([0.9 , 0.91, 0.92, 0.93, 0.94, 0.95, 0.96, 0.97, 0.98])"
      ]
     },
     "execution_count": 30,
     "metadata": {},
     "output_type": "execute_result"
    }
   ],
   "source": [
    "beta1s"
   ]
  },
  {
   "cell_type": "code",
   "execution_count": null,
   "metadata": {},
   "outputs": [],
   "source": []
  }
 ],
 "metadata": {
  "kernelspec": {
   "display_name": "Python 3",
   "language": "python",
   "name": "python3"
  },
  "language_info": {
   "codemirror_mode": {
    "name": "ipython",
    "version": 3
   },
   "file_extension": ".py",
   "mimetype": "text/x-python",
   "name": "python",
   "nbconvert_exporter": "python",
   "pygments_lexer": "ipython3",
   "version": "3.7.3"
  }
 },
 "nbformat": 4,
 "nbformat_minor": 2
}
