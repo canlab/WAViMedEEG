{
 "cells": [
  {
   "cell_type": "code",
   "execution_count": 1,
   "metadata": {},
   "outputs": [
    {
     "name": "stdout",
     "output_type": "stream",
     "text": [
      "2.0.0\n"
     ]
    }
   ],
   "source": [
    "from __future__ import absolute_import, division, print_function, unicode_literals\n",
    "\n",
    "import tensorflow as tf\n",
    "from tensorflow import keras\n",
    "import matplotlib.pyplot as plot\n",
    "import numpy as np\n",
    "from numpy import genfromtxt\n",
    "import csv\n",
    "import sys, os, re\n",
    "import pathlib\n",
    "\n",
    "print(tf.__version__)"
   ]
  },
  {
   "cell_type": "code",
   "execution_count": 2,
   "metadata": {},
   "outputs": [],
   "source": [
    "# The CANlab/WAVi Pain Study is Pre-Formatted to resemble BIDS neuroimaging formatting\n",
    "# If your study does not abide to the following structure, please revisit previous scripts\n",
    "# .../StudyRepo\n",
    "# -------------> /raw\n",
    "# -------------------> /*.art\n",
    "# -------------------> /*.eeg\n",
    "# -------------------> /*.evt\n",
    "# -------------> /contigs\n",
    "# -------------------> /train          2:1 train:test\n",
    "# -------------------> /test"
   ]
  },
  {
   "cell_type": "code",
   "execution_count": 3,
   "metadata": {},
   "outputs": [
    {
     "data": {
      "text/plain": [
       "'/home/claytonjschneider/science/WAViMedEEG'"
      ]
     },
     "execution_count": 3,
     "metadata": {},
     "output_type": "execute_result"
    }
   ],
   "source": [
    "os.getcwd()"
   ]
  },
  {
   "cell_type": "code",
   "execution_count": 4,
   "metadata": {},
   "outputs": [],
   "source": [
    "try:\n",
    "    os.chdir(\"CANlabStudy/contigs\")\n",
    "    directory=os.getcwd()\n",
    "except:\n",
    "    print(\"I couldn't find the contigs folder.\\n\")\n",
    "    directory = input(\"Please give the full path of the contigs folder: \")\n",
    "    os.chdir(directory)"
   ]
  },
  {
   "cell_type": "code",
   "execution_count": 5,
   "metadata": {},
   "outputs": [],
   "source": [
    "train_path = pathlib.Path('train/')\n",
    "test_path = pathlib.Path('test/')"
   ]
  },
  {
   "cell_type": "code",
   "execution_count": 6,
   "metadata": {},
   "outputs": [
    {
     "name": "stdout",
     "output_type": "stream",
     "text": [
      "You have 1683 training images.\n",
      "You have 843 testing images.\n"
     ]
    }
   ],
   "source": [
    "# load in image paths for training set\n",
    "\n",
    "import random\n",
    "train_image_paths = list(train_path.glob('*/*'))\n",
    "train_image_paths = [str(path) for path in train_image_paths]\n",
    "random.shuffle(train_image_paths)\n",
    "\n",
    "train_count = len(train_image_paths)\n",
    "print(\"You have\", train_count, \"training images.\")\n",
    "\n",
    "# load in image paths for testing set?\n",
    "\n",
    "test_image_paths = list(test_path.glob('*/*'))\n",
    "test_image_paths = [str(path) for path in test_image_paths]\n",
    "random.shuffle(test_image_paths)\n",
    "\n",
    "test_count = len(test_image_paths)\n",
    "print(\"You have\", test_count, \"testing images.\")"
   ]
  },
  {
   "cell_type": "code",
   "execution_count": 7,
   "metadata": {},
   "outputs": [
    {
     "name": "stdout",
     "output_type": "stream",
     "text": [
      "Labels discovered: ['chronic', 'p300']\n"
     ]
    }
   ],
   "source": [
    "#list the available labels\n",
    "label_names = sorted(item.name for item in train_path.glob('*/') if item.is_dir())\n",
    "print(\"Labels discovered:\", label_names)"
   ]
  },
  {
   "cell_type": "code",
   "execution_count": 8,
   "metadata": {},
   "outputs": [
    {
     "name": "stdout",
     "output_type": "stream",
     "text": [
      "Label indices: {'chronic': 0, 'p300': 1}\n"
     ]
    }
   ],
   "source": [
    "#assign an index to each label\n",
    "label_to_index = dict((name, index) for index, name in enumerate(label_names))\n",
    "print(\"Label indices:\", label_to_index)"
   ]
  },
  {
   "cell_type": "code",
   "execution_count": 9,
   "metadata": {},
   "outputs": [],
   "source": [
    "#create a list of every file and its index label\n",
    "train_image_labels = [label_to_index[pathlib.Path(path).parent.name]\n",
    "                     for path in train_image_paths]\n",
    "\n",
    "test_image_labels = [label_to_index[pathlib.Path(path).parent.name]\n",
    "                    for path in test_image_paths]"
   ]
  },
  {
   "cell_type": "code",
   "execution_count": 10,
   "metadata": {},
   "outputs": [],
   "source": [
    "def load_numpy_stack(paths):\n",
    "    numpy_stack = []\n",
    "    for path in paths:\n",
    "        numpy_stack.append(genfromtxt(path, delimiter=\",\"))\n",
    "    return(numpy_stack)"
   ]
  },
  {
   "cell_type": "code",
   "execution_count": 11,
   "metadata": {},
   "outputs": [],
   "source": [
    "train_arrays = load_numpy_stack(train_image_paths)\n",
    "test_arrays = load_numpy_stack(test_image_paths)"
   ]
  },
  {
   "cell_type": "code",
   "execution_count": 12,
   "metadata": {},
   "outputs": [],
   "source": [
    "train_dataset = tf.data.Dataset.from_tensor_slices((train_arrays, train_image_labels))\n",
    "test_dataset = tf.data.Dataset.from_tensor_slices((test_arrays, test_image_labels))"
   ]
  },
  {
   "cell_type": "code",
   "execution_count": 13,
   "metadata": {},
   "outputs": [],
   "source": [
    "BATCH_SIZE = 64\n",
    "SHUFFLE_BUFFER_SIZE = 100\n",
    "\n",
    "train_dataset = train_dataset.shuffle(SHUFFLE_BUFFER_SIZE).batch(BATCH_SIZE)\n",
    "test_dataset = test_dataset.batch(BATCH_SIZE)"
   ]
  },
  {
   "cell_type": "code",
   "execution_count": 14,
   "metadata": {},
   "outputs": [],
   "source": [
    "def kerasModel(learn, beta1, beta2):\n",
    "    model = tf.keras.Sequential([\n",
    "        tf.keras.layers.Flatten(input_shape=(1250, 19)),\n",
    "        tf.keras.layers.Dense(128, activation='relu'),\n",
    "        tf.keras.layers.Dense(10, activation='softmax')\n",
    "    ])\n",
    "\n",
    "    model.compile(optimizer=tf.keras.optimizers.Adam(learning_rate=learn, beta_1=beta1, beta_2=beta2),\n",
    "                 loss = tf.keras.losses.SparseCategoricalCrossentropy(),\n",
    "                 metrics = [tf.keras.metrics.SparseCategoricalAccuracy()])\n",
    "    return(model)"
   ]
  },
  {
   "cell_type": "code",
   "execution_count": 19,
   "metadata": {},
   "outputs": [],
   "source": [
    "def fitModel(model):\n",
    "    model.fit(train_dataset, epochs=10)\n",
    "    return(model)"
   ]
  },
  {
   "cell_type": "code",
   "execution_count": 20,
   "metadata": {},
   "outputs": [],
   "source": [
    "def testModel(model):\n",
    "    metrics = model.evaluate(test_dataset)\n",
    "    return(metrics)"
   ]
  },
  {
   "cell_type": "code",
   "execution_count": 21,
   "metadata": {},
   "outputs": [
    {
     "name": "stdout",
     "output_type": "stream",
     "text": [
      "What's my learning rate? 0.09\n",
      "What's my beta1? 0.9\n",
      "What's my beta2? 0.99\n",
      "Epoch 1/10\n",
      "27/27 [==============================] - 2s 57ms/step - loss: 3571.6277 - sparse_categorical_accuracy: 0.5668\n",
      "Epoch 2/10\n",
      "27/27 [==============================] - 1s 43ms/step - loss: 2619.2733 - sparse_categorical_accuracy: 0.7296\n",
      "Epoch 3/10\n",
      "27/27 [==============================] - 1s 42ms/step - loss: 4610.3451 - sparse_categorical_accuracy: 0.7748\n",
      "Epoch 4/10\n",
      "27/27 [==============================] - 1s 45ms/step - loss: 6931.3407 - sparse_categorical_accuracy: 0.8283\n",
      "Epoch 5/10\n",
      "27/27 [==============================] - 1s 42ms/step - loss: 3575.2889 - sparse_categorical_accuracy: 0.8948\n",
      "Epoch 6/10\n",
      "27/27 [==============================] - 1s 43ms/step - loss: 2346.7024 - sparse_categorical_accuracy: 0.9245\n",
      "Epoch 7/10\n",
      "27/27 [==============================] - 1s 42ms/step - loss: 2026.9624 - sparse_categorical_accuracy: 0.9352\n",
      "Epoch 8/10\n",
      "27/27 [==============================] - 1s 46ms/step - loss: 3941.1953 - sparse_categorical_accuracy: 0.9329\n",
      "Epoch 9/10\n",
      "27/27 [==============================] - 1s 43ms/step - loss: 3188.5794 - sparse_categorical_accuracy: 0.9537\n",
      "Epoch 10/10\n",
      "27/27 [==============================] - 1s 42ms/step - loss: 1805.1228 - sparse_categorical_accuracy: 0.9679\n",
      "14/14 [==============================] - 0s 25ms/step - loss: 34708.9439 - sparse_categorical_accuracy: 0.7699\n"
     ]
    }
   ],
   "source": [
    "rates = np.arange(0.01, 0.1, 0.01)\n",
    "beta1s = np.arange(0.9, 0.99, 0.01)\n",
    "beta2s = np.arange(0.99, 0.999, 0.001)\n",
    "\n",
    "# learning rate does well around 0.01 or 0.02\n",
    "# beta1 does well around 0.91\n",
    "# beta2 does well around 0.997\n",
    "\n",
    "rate = float(input(\"What's my learning rate? \"))\n",
    "beta1 = float(input(\"What's my beta1? \"))\n",
    "beta2 = float(input(\"What's my beta2? \"))\n",
    "\n",
    "myresults=[]\n",
    "\n",
    "compiled = kerasModel(rate, beta1, beta2)\n",
    "fitted = fitModel(compiled)\n",
    "results = testModel(fitted)"
   ]
  },
  {
   "cell_type": "code",
   "execution_count": 22,
   "metadata": {},
   "outputs": [
    {
     "name": "stdout",
     "output_type": "stream",
     "text": [
      "Loss:  34708.94391741072 \n",
      "Accuracy:  0.7698695\n"
     ]
    }
   ],
   "source": [
    "print(\"Loss: \", results[0], \"\\nAccuracy: \", results[1])"
   ]
  },
  {
   "cell_type": "code",
   "execution_count": 34,
   "metadata": {},
   "outputs": [
    {
     "data": {
      "text/plain": [
       "array([0.9 , 0.91, 0.92, 0.93, 0.94, 0.95, 0.96, 0.97, 0.98])"
      ]
     },
     "execution_count": 34,
     "metadata": {},
     "output_type": "execute_result"
    }
   ],
   "source": [
    "beta1s"
   ]
  }
 ],
 "metadata": {
  "kernelspec": {
   "display_name": "Python 3",
   "language": "python",
   "name": "python3"
  },
  "language_info": {
   "codemirror_mode": {
    "name": "ipython",
    "version": 3
   },
   "file_extension": ".py",
   "mimetype": "text/x-python",
   "name": "python",
   "nbconvert_exporter": "python",
   "pygments_lexer": "ipython3",
   "version": "3.7.3"
  }
 },
 "nbformat": 4,
 "nbformat_minor": 2
}
