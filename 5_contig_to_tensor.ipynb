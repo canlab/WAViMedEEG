{
 "cells": [
  {
   "cell_type": "code",
   "execution_count": 189,
   "metadata": {},
   "outputs": [
    {
     "name": "stdout",
     "output_type": "stream",
     "text": [
      "2.0.0\n"
     ]
    }
   ],
   "source": [
    "from __future__ import absolute_import, division, print_function, unicode_literals\n",
    "\n",
    "import tensorflow as tf\n",
    "from tensorflow import keras\n",
    "import matplotlib.pyplot as plot\n",
    "import numpy as np\n",
    "from numpy import genfromtxt\n",
    "import csv\n",
    "import sys, os, re\n",
    "import pathlib\n",
    "\n",
    "print(tf.__version__)"
   ]
  },
  {
   "cell_type": "code",
   "execution_count": 190,
   "metadata": {},
   "outputs": [],
   "source": [
    "# The CANlab/WAVi Pain Study is Pre-Formatted to resemble BIDS neuroimaging formatting\n",
    "# If your study does not abide to the following structure, please revisit previous scripts\n",
    "# .../StudyRepo\n",
    "# -------------> /raw\n",
    "# -------------------> /*.art\n",
    "# -------------------> /*.eeg\n",
    "# -------------------> /*.evt\n",
    "# -------------> /contigs\n",
    "# -------------------> /train          2:1 train:test\n",
    "# -------------------> /test"
   ]
  },
  {
   "cell_type": "code",
   "execution_count": 191,
   "metadata": {},
   "outputs": [],
   "source": [
    "if \"contigs\" not in os.getcwd():\n",
    "    try:\n",
    "        os.chdir(\"CANlabStudy/contigs\")\n",
    "        directory=os.getcwd()\n",
    "    except:\n",
    "        print(\"I couldn't find the contigs folder.\\n\")\n",
    "        directory = input(\"Please give the full path of the contigs folder: \")\n",
    "        os.chdir(directory)"
   ]
  },
  {
   "cell_type": "code",
   "execution_count": 192,
   "metadata": {},
   "outputs": [],
   "source": [
    "#train_path = pathlib.Path('train/p300/')\n",
    "train_path = pathlib.Path('train/chronic/')\n",
    "#train_path = pathlib.Path('train/')\n",
    "\n",
    "# test_path = pathlib.Path('test/p300/')\n",
    "test_path = pathlib.Path('test/chronic/')\n",
    "#test_path = pathlib.Path('test/')"
   ]
  },
  {
   "cell_type": "code",
   "execution_count": 208,
   "metadata": {},
   "outputs": [
    {
     "name": "stdout",
     "output_type": "stream",
     "text": [
      "You have 2580 training images.\n",
      "You have 515 testing images.\n"
     ]
    }
   ],
   "source": [
    "# load in image paths for training set\n",
    "\n",
    "import random\n",
    "\n",
    "train_image_paths = os.listdir(train_path)\n",
    "#train_image_paths = list(train_path.glob('*/*'))\n",
    "train_image_paths = [str(path) for path in train_image_paths]\n",
    "random.shuffle(train_image_paths)\n",
    "\n",
    "train_count = len(train_image_paths)\n",
    "print(\"You have\", train_count, \"training images.\")\n",
    "\n",
    "# load in image paths for testing set?\n",
    "\n",
    "test_image_paths = os.listdir(test_path)\n",
    "#test_image_paths = list(test_path.glob('*/*'))\n",
    "test_image_paths = [str(path) for path in test_image_paths if \"ctrl\" in path]\n",
    "random.shuffle(test_image_paths)\n",
    "\n",
    "test_count = len(test_image_paths)\n",
    "print(\"You have\", test_count, \"testing images.\")"
   ]
  },
  {
   "cell_type": "code",
   "execution_count": 209,
   "metadata": {},
   "outputs": [
    {
     "name": "stdout",
     "output_type": "stream",
     "text": [
      "Labels discovered: ['ctrl', 'pain']\n"
     ]
    }
   ],
   "source": [
    "#list the available labels\n",
    "label_names = ['ctrl', 'pain']\n",
    "#label_names = sorted(item.name for item in train_path.glob('*/') if item.is_dir())\n",
    "print(\"Labels discovered:\", label_names)"
   ]
  },
  {
   "cell_type": "code",
   "execution_count": 210,
   "metadata": {},
   "outputs": [
    {
     "name": "stdout",
     "output_type": "stream",
     "text": [
      "Label indices: {'ctrl': 0, 'pain': 1}\n"
     ]
    }
   ],
   "source": [
    "#assign an index to each label\n",
    "label_to_index = dict((name, index) for index, name in enumerate(label_names))\n",
    "print(\"Label indices:\", label_to_index)"
   ]
  },
  {
   "cell_type": "code",
   "execution_count": 211,
   "metadata": {},
   "outputs": [],
   "source": [
    "#create a list of every file and its index label\n",
    "\n",
    "train_image_labels = [label_to_index[path[:4]] for path in train_image_paths]\n",
    "#train_image_labels = [label_to_index[pathlib.Path(path).parent.name]\n",
    " #                   for path in train_image_paths]\n",
    "\n",
    "test_image_labels = [label_to_index[path[:4]] for path in test_image_paths]    \n",
    "#test_image_labels = [label_to_index[pathlib.Path(path).parent.name]\n",
    " #                   for path in test_image_paths]"
   ]
  },
  {
   "cell_type": "code",
   "execution_count": 212,
   "metadata": {},
   "outputs": [],
   "source": [
    "def load_numpy_stack(lead, paths):\n",
    "    numpy_stack = []\n",
    "    for path in paths:\n",
    "        path = lead+path\n",
    "        array = genfromtxt(path, delimiter=\",\")\n",
    "        array = array.reshape(array.shape +(1,))\n",
    "        numpy_stack.append(array)\n",
    "    return(numpy_stack)"
   ]
  },
  {
   "cell_type": "code",
   "execution_count": 213,
   "metadata": {},
   "outputs": [],
   "source": [
    "train_arrays = load_numpy_stack('train/chronic/', train_image_paths)\n",
    "#train_arrays = load_numpy_stack('', train_image_paths)\n",
    "\n",
    "test_arrays = load_numpy_stack('test/chronic/', test_image_paths)\n",
    "#test_arrays = load_numpy_stack('', test_image_paths)"
   ]
  },
  {
   "cell_type": "code",
   "execution_count": 214,
   "metadata": {},
   "outputs": [],
   "source": [
    "train_dataset = tf.data.Dataset.from_tensor_slices((train_arrays, train_image_labels))\n",
    "test_dataset = tf.data.Dataset.from_tensor_slices((test_arrays, test_image_labels))"
   ]
  },
  {
   "cell_type": "code",
   "execution_count": 215,
   "metadata": {},
   "outputs": [],
   "source": [
    "BATCH_SIZE = 64\n",
    "SHUFFLE_BUFFER_SIZE = 100\n",
    "\n",
    "train_dataset = train_dataset.shuffle(SHUFFLE_BUFFER_SIZE).batch(BATCH_SIZE)\n",
    "test_dataset = test_dataset.batch(BATCH_SIZE)"
   ]
  },
  {
   "cell_type": "code",
   "execution_count": 216,
   "metadata": {},
   "outputs": [],
   "source": [
    "def kerasModel(learn):\n",
    "    model = tf.keras.Sequential([\n",
    "        tf.keras.layers.Convolution2D(5, kernel_size=5, strides=5, padding=\"same\", dilation_rate=1, activation=\"relu\", data_format=\"channels_last\", use_bias=False),\n",
    "        tf.keras.layers.Convolution2D(5, kernel_size=5, strides=5, padding=\"same\", dilation_rate=1, activation=\"relu\", data_format=\"channels_last\", use_bias=False),\n",
    "        tf.keras.layers.Convolution2D(5, kernel_size=5, strides=5, padding=\"same\", dilation_rate=1, activation=\"relu\", data_format=\"channels_last\", use_bias=False),\n",
    "        #tf.keras.layers.Convolution2D(5, kernel_size=5, strides=5, padding=\"same\", dilation_rate=1, activation=\"relu\", data_format=\"channels_last\", use_bias=False),\n",
    "        tf.keras.layers.Dropout(0.5),\n",
    "        keras.layers.MaxPooling2D(pool_size=(2, 2), strides=None, padding='same', data_format=None),\n",
    "        tf.keras.layers.Flatten(data_format=\"channels_last\"),\n",
    "        tf.keras.layers.Dense(2, activation='softmax')\n",
    "    ])\n",
    "\n",
    "    model.compile(optimizer=tf.keras.optimizers.Adam(learning_rate=learn),\n",
    "                 loss = tf.keras.losses.SparseCategoricalCrossentropy(),\n",
    "                 metrics = [tf.keras.metrics.SparseCategoricalAccuracy()])\n",
    "    return(model)"
   ]
  },
  {
   "cell_type": "code",
   "execution_count": 217,
   "metadata": {},
   "outputs": [],
   "source": [
    "def fitModel(model, epoch):\n",
    "    model.fit(train_dataset, epochs=epoch)\n",
    "    return(model)"
   ]
  },
  {
   "cell_type": "code",
   "execution_count": 218,
   "metadata": {},
   "outputs": [],
   "source": [
    "def testModel(model):\n",
    "    metrics = model.evaluate(test_dataset)\n",
    "    return(metrics)"
   ]
  },
  {
   "cell_type": "code",
   "execution_count": 219,
   "metadata": {},
   "outputs": [],
   "source": [
    "myresults = []"
   ]
  },
  {
   "cell_type": "code",
   "execution_count": 220,
   "metadata": {
    "scrolled": false
   },
   "outputs": [
    {
     "name": "stdout",
     "output_type": "stream",
     "text": [
      "How many epochs? 100\n",
      "What's my learning rate? 0.001\n",
      "WARNING:tensorflow:Layer sequential_40 is casting an input tensor from dtype float64 to the layer's dtype of float32, which is new behavior in TensorFlow 2.  The layer has dtype float32 because it's dtype defaults to floatx.\n",
      "\n",
      "If you intended to run this layer in float32, you can safely ignore this warning. If in doubt, this warning is likely only an issue if you are porting a TensorFlow 1.X model to TensorFlow 2.\n",
      "\n",
      "To change all layers to have dtype float64 by default, call `tf.keras.backend.set_floatx('float64')`. To change just this layer, pass dtype='float64' to the layer constructor. If you are the author of this layer, you can disable autocasting by passing autocast=False to the base Layer constructor.\n",
      "\n",
      "Epoch 1/100\n",
      "41/41 [==============================] - 1s 26ms/step - loss: 0.7284 - sparse_categorical_accuracy: 0.5698\n",
      "Epoch 2/100\n",
      "41/41 [==============================] - 1s 17ms/step - loss: 0.6754 - sparse_categorical_accuracy: 0.5775\n",
      "Epoch 3/100\n",
      "41/41 [==============================] - 1s 16ms/step - loss: 0.6709 - sparse_categorical_accuracy: 0.5984\n",
      "Epoch 4/100\n",
      "41/41 [==============================] - 1s 16ms/step - loss: 0.6687 - sparse_categorical_accuracy: 0.5922\n",
      "Epoch 5/100\n",
      "41/41 [==============================] - 1s 17ms/step - loss: 0.6629 - sparse_categorical_accuracy: 0.5961\n",
      "Epoch 6/100\n",
      "41/41 [==============================] - 1s 16ms/step - loss: 0.6601 - sparse_categorical_accuracy: 0.5938\n",
      "Epoch 7/100\n",
      "41/41 [==============================] - 1s 17ms/step - loss: 0.6524 - sparse_categorical_accuracy: 0.6054\n",
      "Epoch 8/100\n",
      "41/41 [==============================] - 1s 16ms/step - loss: 0.6503 - sparse_categorical_accuracy: 0.6058\n",
      "Epoch 9/100\n",
      "41/41 [==============================] - 1s 16ms/step - loss: 0.6472 - sparse_categorical_accuracy: 0.6066\n",
      "Epoch 10/100\n",
      "41/41 [==============================] - 1s 16ms/step - loss: 0.6438 - sparse_categorical_accuracy: 0.6035\n",
      "Epoch 11/100\n",
      "41/41 [==============================] - 1s 16ms/step - loss: 0.6351 - sparse_categorical_accuracy: 0.6190\n",
      "Epoch 12/100\n",
      "41/41 [==============================] - 1s 17ms/step - loss: 0.6200 - sparse_categorical_accuracy: 0.6198\n",
      "Epoch 13/100\n",
      "41/41 [==============================] - 1s 16ms/step - loss: 0.6217 - sparse_categorical_accuracy: 0.6322\n",
      "Epoch 14/100\n",
      "41/41 [==============================] - 1s 16ms/step - loss: 0.6131 - sparse_categorical_accuracy: 0.6422\n",
      "Epoch 15/100\n",
      "41/41 [==============================] - 1s 16ms/step - loss: 0.6111 - sparse_categorical_accuracy: 0.6465\n",
      "Epoch 16/100\n",
      "41/41 [==============================] - 1s 16ms/step - loss: 0.5943 - sparse_categorical_accuracy: 0.6671\n",
      "Epoch 17/100\n",
      "41/41 [==============================] - 1s 16ms/step - loss: 0.5853 - sparse_categorical_accuracy: 0.6647\n",
      "Epoch 18/100\n",
      "41/41 [==============================] - 1s 16ms/step - loss: 0.5791 - sparse_categorical_accuracy: 0.6787\n",
      "Epoch 19/100\n",
      "41/41 [==============================] - 1s 16ms/step - loss: 0.5681 - sparse_categorical_accuracy: 0.6818\n",
      "Epoch 20/100\n",
      "41/41 [==============================] - 1s 16ms/step - loss: 0.5598 - sparse_categorical_accuracy: 0.6942\n",
      "Epoch 21/100\n",
      "41/41 [==============================] - 1s 17ms/step - loss: 0.5439 - sparse_categorical_accuracy: 0.7062\n",
      "Epoch 22/100\n",
      "41/41 [==============================] - 1s 16ms/step - loss: 0.5255 - sparse_categorical_accuracy: 0.7291\n",
      "Epoch 23/100\n",
      "41/41 [==============================] - 1s 16ms/step - loss: 0.5329 - sparse_categorical_accuracy: 0.7174\n",
      "Epoch 24/100\n",
      "41/41 [==============================] - 1s 16ms/step - loss: 0.5175 - sparse_categorical_accuracy: 0.7345\n",
      "Epoch 25/100\n",
      "41/41 [==============================] - 1s 16ms/step - loss: 0.4985 - sparse_categorical_accuracy: 0.7465\n",
      "Epoch 26/100\n",
      "41/41 [==============================] - 1s 17ms/step - loss: 0.5043 - sparse_categorical_accuracy: 0.7419\n",
      "Epoch 27/100\n",
      "41/41 [==============================] - 1s 17ms/step - loss: 0.5001 - sparse_categorical_accuracy: 0.7450\n",
      "Epoch 28/100\n",
      "41/41 [==============================] - 1s 16ms/step - loss: 0.4865 - sparse_categorical_accuracy: 0.7585\n",
      "Epoch 29/100\n",
      "41/41 [==============================] - 1s 16ms/step - loss: 0.4878 - sparse_categorical_accuracy: 0.7570\n",
      "Epoch 30/100\n",
      "41/41 [==============================] - 1s 16ms/step - loss: 0.4785 - sparse_categorical_accuracy: 0.7535\n",
      "Epoch 31/100\n",
      "41/41 [==============================] - 1s 16ms/step - loss: 0.4821 - sparse_categorical_accuracy: 0.7616\n",
      "Epoch 32/100\n",
      "41/41 [==============================] - 1s 16ms/step - loss: 0.4730 - sparse_categorical_accuracy: 0.7690\n",
      "Epoch 33/100\n",
      "41/41 [==============================] - 1s 18ms/step - loss: 0.4735 - sparse_categorical_accuracy: 0.7694\n",
      "Epoch 34/100\n",
      "41/41 [==============================] - 1s 17ms/step - loss: 0.4619 - sparse_categorical_accuracy: 0.7810\n",
      "Epoch 35/100\n",
      "41/41 [==============================] - 1s 17ms/step - loss: 0.4556 - sparse_categorical_accuracy: 0.7798\n",
      "Epoch 36/100\n",
      "41/41 [==============================] - 1s 16ms/step - loss: 0.4584 - sparse_categorical_accuracy: 0.7841\n",
      "Epoch 37/100\n",
      "41/41 [==============================] - 1s 18ms/step - loss: 0.4479 - sparse_categorical_accuracy: 0.7849\n",
      "Epoch 38/100\n",
      "41/41 [==============================] - 1s 19ms/step - loss: 0.4475 - sparse_categorical_accuracy: 0.7911\n",
      "Epoch 39/100\n",
      "41/41 [==============================] - 1s 16ms/step - loss: 0.4483 - sparse_categorical_accuracy: 0.7818\n",
      "Epoch 40/100\n",
      "41/41 [==============================] - 1s 17ms/step - loss: 0.4415 - sparse_categorical_accuracy: 0.7837\n",
      "Epoch 41/100\n",
      "41/41 [==============================] - 1s 16ms/step - loss: 0.4326 - sparse_categorical_accuracy: 0.7853\n",
      "Epoch 42/100\n",
      "41/41 [==============================] - 1s 16ms/step - loss: 0.4238 - sparse_categorical_accuracy: 0.8008\n",
      "Epoch 43/100\n",
      "41/41 [==============================] - 1s 16ms/step - loss: 0.4329 - sparse_categorical_accuracy: 0.7942\n",
      "Epoch 44/100\n",
      "41/41 [==============================] - 1s 16ms/step - loss: 0.4304 - sparse_categorical_accuracy: 0.7981\n",
      "Epoch 45/100\n",
      "41/41 [==============================] - 1s 16ms/step - loss: 0.4216 - sparse_categorical_accuracy: 0.8066\n",
      "Epoch 46/100\n",
      "41/41 [==============================] - 1s 16ms/step - loss: 0.4226 - sparse_categorical_accuracy: 0.8039\n",
      "Epoch 47/100\n",
      "41/41 [==============================] - 1s 16ms/step - loss: 0.4121 - sparse_categorical_accuracy: 0.8043\n",
      "Epoch 48/100\n",
      "41/41 [==============================] - 1s 16ms/step - loss: 0.4105 - sparse_categorical_accuracy: 0.8074\n",
      "Epoch 49/100\n",
      "41/41 [==============================] - 1s 16ms/step - loss: 0.4034 - sparse_categorical_accuracy: 0.8151\n",
      "Epoch 50/100\n",
      "41/41 [==============================] - 1s 16ms/step - loss: 0.4078 - sparse_categorical_accuracy: 0.8043\n",
      "Epoch 51/100\n",
      "41/41 [==============================] - 1s 16ms/step - loss: 0.4132 - sparse_categorical_accuracy: 0.8050\n",
      "Epoch 52/100\n",
      "41/41 [==============================] - 1s 18ms/step - loss: 0.4008 - sparse_categorical_accuracy: 0.8050\n",
      "Epoch 53/100\n",
      "41/41 [==============================] - 1s 16ms/step - loss: 0.3924 - sparse_categorical_accuracy: 0.8163\n",
      "Epoch 54/100\n",
      "41/41 [==============================] - 1s 16ms/step - loss: 0.3834 - sparse_categorical_accuracy: 0.8302\n",
      "Epoch 55/100\n",
      "41/41 [==============================] - 1s 16ms/step - loss: 0.3979 - sparse_categorical_accuracy: 0.8136\n",
      "Epoch 56/100\n",
      "41/41 [==============================] - 1s 16ms/step - loss: 0.3835 - sparse_categorical_accuracy: 0.8198\n",
      "Epoch 57/100\n",
      "41/41 [==============================] - 1s 16ms/step - loss: 0.3873 - sparse_categorical_accuracy: 0.8287\n",
      "Epoch 58/100\n",
      "41/41 [==============================] - 1s 17ms/step - loss: 0.3892 - sparse_categorical_accuracy: 0.8236\n",
      "Epoch 59/100\n",
      "41/41 [==============================] - 1s 17ms/step - loss: 0.3870 - sparse_categorical_accuracy: 0.8279\n",
      "Epoch 60/100\n",
      "41/41 [==============================] - 1s 17ms/step - loss: 0.3812 - sparse_categorical_accuracy: 0.8256\n",
      "Epoch 61/100\n",
      "41/41 [==============================] - 1s 16ms/step - loss: 0.3727 - sparse_categorical_accuracy: 0.8287\n",
      "Epoch 62/100\n"
     ]
    },
    {
     "name": "stdout",
     "output_type": "stream",
     "text": [
      "41/41 [==============================] - 1s 16ms/step - loss: 0.3711 - sparse_categorical_accuracy: 0.8314\n",
      "Epoch 63/100\n",
      "41/41 [==============================] - 1s 16ms/step - loss: 0.3636 - sparse_categorical_accuracy: 0.8411\n",
      "Epoch 64/100\n",
      "41/41 [==============================] - 1s 18ms/step - loss: 0.3724 - sparse_categorical_accuracy: 0.8306\n",
      "Epoch 65/100\n",
      "41/41 [==============================] - 1s 16ms/step - loss: 0.3716 - sparse_categorical_accuracy: 0.8322\n",
      "Epoch 66/100\n",
      "41/41 [==============================] - 1s 17ms/step - loss: 0.3592 - sparse_categorical_accuracy: 0.8322\n",
      "Epoch 67/100\n",
      "41/41 [==============================] - 1s 16ms/step - loss: 0.3685 - sparse_categorical_accuracy: 0.8364\n",
      "Epoch 68/100\n",
      "41/41 [==============================] - 1s 16ms/step - loss: 0.3714 - sparse_categorical_accuracy: 0.8372\n",
      "Epoch 69/100\n",
      "41/41 [==============================] - 1s 16ms/step - loss: 0.3705 - sparse_categorical_accuracy: 0.8380\n",
      "Epoch 70/100\n",
      "41/41 [==============================] - 1s 16ms/step - loss: 0.3640 - sparse_categorical_accuracy: 0.8357\n",
      "Epoch 71/100\n",
      "41/41 [==============================] - 1s 16ms/step - loss: 0.3561 - sparse_categorical_accuracy: 0.8395\n",
      "Epoch 72/100\n",
      "41/41 [==============================] - 1s 16ms/step - loss: 0.3404 - sparse_categorical_accuracy: 0.8496\n",
      "Epoch 73/100\n",
      "41/41 [==============================] - 1s 16ms/step - loss: 0.3490 - sparse_categorical_accuracy: 0.8457\n",
      "Epoch 74/100\n",
      "41/41 [==============================] - 1s 16ms/step - loss: 0.3508 - sparse_categorical_accuracy: 0.8500\n",
      "Epoch 75/100\n",
      "41/41 [==============================] - 1s 16ms/step - loss: 0.3501 - sparse_categorical_accuracy: 0.8422\n",
      "Epoch 76/100\n",
      "41/41 [==============================] - 1s 17ms/step - loss: 0.3421 - sparse_categorical_accuracy: 0.8519\n",
      "Epoch 77/100\n",
      "41/41 [==============================] - 1s 18ms/step - loss: 0.3570 - sparse_categorical_accuracy: 0.8457\n",
      "Epoch 78/100\n",
      "41/41 [==============================] - 1s 17ms/step - loss: 0.3440 - sparse_categorical_accuracy: 0.8523\n",
      "Epoch 79/100\n",
      "41/41 [==============================] - 1s 17ms/step - loss: 0.3298 - sparse_categorical_accuracy: 0.8566\n",
      "Epoch 80/100\n",
      "41/41 [==============================] - 1s 16ms/step - loss: 0.3367 - sparse_categorical_accuracy: 0.8558\n",
      "Epoch 81/100\n",
      "41/41 [==============================] - 1s 17ms/step - loss: 0.3318 - sparse_categorical_accuracy: 0.8539\n",
      "Epoch 82/100\n",
      "41/41 [==============================] - 1s 17ms/step - loss: 0.3264 - sparse_categorical_accuracy: 0.8547\n",
      "Epoch 83/100\n",
      "41/41 [==============================] - 1s 16ms/step - loss: 0.3537 - sparse_categorical_accuracy: 0.8422\n",
      "Epoch 84/100\n",
      "41/41 [==============================] - 1s 17ms/step - loss: 0.3347 - sparse_categorical_accuracy: 0.8562\n",
      "Epoch 85/100\n",
      "41/41 [==============================] - 1s 16ms/step - loss: 0.3351 - sparse_categorical_accuracy: 0.8527\n",
      "Epoch 86/100\n",
      "41/41 [==============================] - 1s 17ms/step - loss: 0.3388 - sparse_categorical_accuracy: 0.8523\n",
      "Epoch 87/100\n",
      "41/41 [==============================] - 1s 16ms/step - loss: 0.3314 - sparse_categorical_accuracy: 0.8562\n",
      "Epoch 88/100\n",
      "41/41 [==============================] - 1s 16ms/step - loss: 0.3311 - sparse_categorical_accuracy: 0.8508\n",
      "Epoch 89/100\n",
      "41/41 [==============================] - 1s 16ms/step - loss: 0.3255 - sparse_categorical_accuracy: 0.8531\n",
      "Epoch 90/100\n",
      "41/41 [==============================] - 1s 16ms/step - loss: 0.3312 - sparse_categorical_accuracy: 0.8523\n",
      "Epoch 91/100\n",
      "41/41 [==============================] - 1s 18ms/step - loss: 0.3291 - sparse_categorical_accuracy: 0.8624\n",
      "Epoch 92/100\n",
      "41/41 [==============================] - 1s 16ms/step - loss: 0.3375 - sparse_categorical_accuracy: 0.8601\n",
      "Epoch 93/100\n",
      "41/41 [==============================] - 1s 17ms/step - loss: 0.3192 - sparse_categorical_accuracy: 0.8578\n",
      "Epoch 94/100\n",
      "41/41 [==============================] - 1s 17ms/step - loss: 0.3179 - sparse_categorical_accuracy: 0.8643\n",
      "Epoch 95/100\n",
      "41/41 [==============================] - 1s 16ms/step - loss: 0.3290 - sparse_categorical_accuracy: 0.8516\n",
      "Epoch 96/100\n",
      "41/41 [==============================] - 1s 18ms/step - loss: 0.3087 - sparse_categorical_accuracy: 0.8616\n",
      "Epoch 97/100\n",
      "41/41 [==============================] - 1s 17ms/step - loss: 0.3163 - sparse_categorical_accuracy: 0.8663\n",
      "Epoch 98/100\n",
      "41/41 [==============================] - 1s 17ms/step - loss: 0.3155 - sparse_categorical_accuracy: 0.8651\n",
      "Epoch 99/100\n",
      "41/41 [==============================] - 1s 17ms/step - loss: 0.3242 - sparse_categorical_accuracy: 0.8500\n",
      "Epoch 100/100\n",
      "41/41 [==============================] - 1s 17ms/step - loss: 0.3227 - sparse_categorical_accuracy: 0.8636\n",
      "9/9 [==============================] - 0s 36ms/step - loss: 0.5194 - sparse_categorical_accuracy: 0.7864\n"
     ]
    }
   ],
   "source": [
    "rates = np.arange(0.01, 0.1, 0.01)\n",
    "beta1s = np.arange(0.9, 0.99, 0.01)\n",
    "beta2s = np.arange(0.99, 0.999, 0.001)\n",
    "\n",
    "epochs = int(input(\"How many epochs? \"))\n",
    "rate = float(input(\"What's my learning rate? \"))\n",
    "\n",
    "compiled = kerasModel(rate)\n",
    "fitted = fitModel(compiled, epochs)\n",
    "results = testModel(fitted)\n",
    "myresults.append(results)"
   ]
  },
  {
   "cell_type": "code",
   "execution_count": 117,
   "metadata": {},
   "outputs": [
    {
     "data": {
      "text/plain": [
       "[[0.22637348339475435, 0.9122222], [0.3669460266828537, 0.8705556]]"
      ]
     },
     "execution_count": 117,
     "metadata": {},
     "output_type": "execute_result"
    }
   ],
   "source": [
    "myresults\n",
    "\n",
    "# print(\"Loss: \", results[0], \"\\nAccuracy: \", results[1])"
   ]
  },
  {
   "cell_type": "code",
   "execution_count": null,
   "metadata": {},
   "outputs": [],
   "source": []
  }
 ],
 "metadata": {
  "kernelspec": {
   "display_name": "Python 3",
   "language": "python",
   "name": "python3"
  },
  "language_info": {
   "codemirror_mode": {
    "name": "ipython",
    "version": 3
   },
   "file_extension": ".py",
   "mimetype": "text/x-python",
   "name": "python",
   "nbconvert_exporter": "python",
   "pygments_lexer": "ipython3",
   "version": "3.7.4"
  }
 },
 "nbformat": 4,
 "nbformat_minor": 2
}
