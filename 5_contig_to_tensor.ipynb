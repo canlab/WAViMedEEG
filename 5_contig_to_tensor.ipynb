{
 "cells": [
  {
   "cell_type": "code",
   "execution_count": 44,
   "metadata": {},
   "outputs": [
    {
     "name": "stdout",
     "output_type": "stream",
     "text": [
      "2.0.0\n"
     ]
    }
   ],
   "source": [
    "from __future__ import absolute_import, division, print_function, unicode_literals\n",
    "\n",
    "import tensorflow as tf\n",
    "from tensorflow import keras\n",
    "import matplotlib.pyplot as plot\n",
    "import numpy as np\n",
    "from numpy import genfromtxt\n",
    "import csv\n",
    "import sys, os, re\n",
    "import pathlib\n",
    "\n",
    "print(tf.__version__)"
   ]
  },
  {
   "cell_type": "code",
   "execution_count": 45,
   "metadata": {},
   "outputs": [],
   "source": [
    "# The CANlab/WAVi Pain Study is Pre-Formatted to resemble BIDS neuroimaging formatting\n",
    "# If your study does not abide to the following structure, please revisit previous scripts\n",
    "# .../StudyRepo\n",
    "# -------------> /raw\n",
    "# -------------------> /*.art\n",
    "# -------------------> /*.eeg\n",
    "# -------------------> /*.evt\n",
    "# -------------> /contigs\n",
    "# -------------------> /train          2:1 train:test\n",
    "# -------------------> /test"
   ]
  },
  {
   "cell_type": "code",
   "execution_count": 46,
   "metadata": {},
   "outputs": [
    {
     "name": "stdout",
     "output_type": "stream",
     "text": [
      "Please give the full path of the contigs folder: /home/clayton/science/CANlab/WAViMedEEG/CANlabStudy/contigs\n"
     ]
    }
   ],
   "source": [
    "directory = input(\"Please give the full path of the contigs folder: \")\n",
    "os.chdir(directory)"
   ]
  },
  {
   "cell_type": "code",
   "execution_count": 47,
   "metadata": {},
   "outputs": [],
   "source": [
    "train_path = pathlib.Path('train/')\n",
    "test_path = pathlib.Path('test/')"
   ]
  },
  {
   "cell_type": "code",
   "execution_count": 48,
   "metadata": {},
   "outputs": [
    {
     "name": "stdout",
     "output_type": "stream",
     "text": [
      "You have 879 training images.\n",
      "You have 440 testing images.\n"
     ]
    }
   ],
   "source": [
    "# load in image paths for training set\n",
    "\n",
    "import random\n",
    "train_image_paths = list(train_path.glob('*/*'))\n",
    "train_image_paths = [str(path) for path in train_image_paths]\n",
    "random.shuffle(train_image_paths)\n",
    "\n",
    "train_count = len(train_image_paths)\n",
    "print(\"You have\", train_count, \"training images.\")\n",
    "\n",
    "# load in image paths for testing set?\n",
    "\n",
    "test_image_paths = list(test_path.glob('*/*'))\n",
    "test_image_paths = [str(path) for path in test_image_paths]\n",
    "random.shuffle(test_image_paths)\n",
    "\n",
    "test_count = len(test_image_paths)\n",
    "print(\"You have\", test_count, \"testing images.\")"
   ]
  },
  {
   "cell_type": "code",
   "execution_count": 49,
   "metadata": {},
   "outputs": [
    {
     "name": "stdout",
     "output_type": "stream",
     "text": [
      "Labels discovered: ['chronic', 'p300']\n"
     ]
    }
   ],
   "source": [
    "#list the available labels\n",
    "label_names = sorted(item.name for item in train_path.glob('*/') if item.is_dir())\n",
    "print(\"Labels discovered:\", label_names)"
   ]
  },
  {
   "cell_type": "code",
   "execution_count": 50,
   "metadata": {},
   "outputs": [
    {
     "name": "stdout",
     "output_type": "stream",
     "text": [
      "Label indices: {'chronic': 0, 'p300': 1}\n"
     ]
    }
   ],
   "source": [
    "#assign an index to each label\n",
    "label_to_index = dict((name, index) for index, name in enumerate(label_names))\n",
    "print(\"Label indices:\", label_to_index)"
   ]
  },
  {
   "cell_type": "code",
   "execution_count": 51,
   "metadata": {},
   "outputs": [],
   "source": [
    "#create a list of every file and its index label\n",
    "train_image_labels = [label_to_index[pathlib.Path(path).parent.name]\n",
    "                     for path in train_image_paths]\n",
    "\n",
    "test_image_labels = [label_to_index[pathlib.Path(path).parent.name]\n",
    "                    for path in test_image_paths]"
   ]
  },
  {
   "cell_type": "code",
   "execution_count": 52,
   "metadata": {},
   "outputs": [],
   "source": [
    "def load_numpy_stack(paths):\n",
    "    numpy_stack = []\n",
    "    for path in paths:\n",
    "        numpy_stack.append(genfromtxt(path, delimiter=\",\"))\n",
    "    return(numpy_stack)"
   ]
  },
  {
   "cell_type": "code",
   "execution_count": 53,
   "metadata": {},
   "outputs": [],
   "source": [
    "train_arrays = load_numpy_stack(train_image_paths)\n",
    "test_arrays = load_numpy_stack(test_image_paths)"
   ]
  },
  {
   "cell_type": "code",
   "execution_count": 54,
   "metadata": {},
   "outputs": [],
   "source": [
    "train_dataset = tf.data.Dataset.from_tensor_slices((train_arrays, train_image_labels))\n",
    "test_dataset = tf.data.Dataset.from_tensor_slices((test_arrays, test_image_labels))"
   ]
  },
  {
   "cell_type": "code",
   "execution_count": 55,
   "metadata": {},
   "outputs": [],
   "source": [
    "BATCH_SIZE = 64\n",
    "SHUFFLE_BUFFER_SIZE = 100\n",
    "\n",
    "train_dataset = train_dataset.shuffle(SHUFFLE_BUFFER_SIZE).batch(BATCH_SIZE)\n",
    "test_dataset = test_dataset.batch(BATCH_SIZE)"
   ]
  },
  {
   "cell_type": "code",
   "execution_count": 60,
   "metadata": {},
   "outputs": [],
   "source": [
    "def kerasModel(learn):\n",
    "    model = tf.keras.Sequential([\n",
    "        tf.keras.layers.Flatten(input_shape=(250, 19)),\n",
    "        tf.keras.layers.Dense(128, activation='relu'),\n",
    "        tf.keras.layers.Dense(10, activation='softmax')\n",
    "    ])\n",
    "\n",
    "    model.compile(optimizer=tf.keras.optimizers.Adam(learning_rate=learn),\n",
    "                 loss = tf.keras.losses.SparseCategoricalCrossentropy(),\n",
    "                 metrics = [tf.keras.metrics.SparseCategoricalAccuracy()])\n",
    "    return(model)"
   ]
  },
  {
   "cell_type": "code",
   "execution_count": 61,
   "metadata": {},
   "outputs": [],
   "source": [
    "def fitModel(model):\n",
    "    model.fit(train_dataset, epochs=10)\n",
    "    return(model)"
   ]
  },
  {
   "cell_type": "code",
   "execution_count": 62,
   "metadata": {},
   "outputs": [],
   "source": [
    "def testModel(model):\n",
    "    metrics = model.evaluate(test_dataset)\n",
    "    return(metrics)"
   ]
  },
  {
   "cell_type": "code",
   "execution_count": 74,
   "metadata": {},
   "outputs": [
    {
     "name": "stdout",
     "output_type": "stream",
     "text": [
      "What's my learning rate? 0.01\n",
      "Epoch 1/10\n",
      "14/14 [==============================] - 1s 38ms/step - loss: 88.0877 - sparse_categorical_accuracy: 0.4755\n",
      "Epoch 2/10\n",
      "14/14 [==============================] - 0s 9ms/step - loss: 41.4135 - sparse_categorical_accuracy: 0.6997\n",
      "Epoch 3/10\n",
      "14/14 [==============================] - 0s 9ms/step - loss: 17.1064 - sparse_categorical_accuracy: 0.7429\n",
      "Epoch 4/10\n",
      "14/14 [==============================] - 0s 9ms/step - loss: 9.3843 - sparse_categorical_accuracy: 0.8214\n",
      "Epoch 5/10\n",
      "14/14 [==============================] - 0s 8ms/step - loss: 5.5851 - sparse_categorical_accuracy: 0.8578\n",
      "Epoch 6/10\n",
      "14/14 [==============================] - 0s 9ms/step - loss: 3.2579 - sparse_categorical_accuracy: 0.8987\n",
      "Epoch 7/10\n",
      "14/14 [==============================] - 0s 8ms/step - loss: 4.5548 - sparse_categorical_accuracy: 0.8919\n",
      "Epoch 8/10\n",
      "14/14 [==============================] - 0s 9ms/step - loss: 2.0626 - sparse_categorical_accuracy: 0.9340\n",
      "Epoch 9/10\n",
      "14/14 [==============================] - 0s 9ms/step - loss: 2.1854 - sparse_categorical_accuracy: 0.9283\n",
      "Epoch 10/10\n",
      "14/14 [==============================] - 0s 8ms/step - loss: 1.7693 - sparse_categorical_accuracy: 0.9477\n",
      "7/7 [==============================] - 0s 15ms/step - loss: 24.9746 - sparse_categorical_accuracy: 0.6091\n"
     ]
    }
   ],
   "source": [
    "# doing well with default 0.01\n",
    "rate = float(input(\"What's my learning rate? \"))\n",
    "\n",
    "compiled = kerasModel(rate)\n",
    "fitted = fitModel(compiled)\n",
    "results = testModel(fitted)"
   ]
  },
  {
   "cell_type": "code",
   "execution_count": 77,
   "metadata": {},
   "outputs": [
    {
     "name": "stdout",
     "output_type": "stream",
     "text": [
      "Loss:  24.97460147312709 \n",
      "Accuracy:  0.6090909\n"
     ]
    }
   ],
   "source": [
    "print(\"Loss: \", results[0], \"\\nAccuracy: \", results[1])"
   ]
  },
  {
   "cell_type": "code",
   "execution_count": 69,
   "metadata": {},
   "outputs": [
    {
     "data": {
      "text/plain": [
       "array([0.01, 0.02, 0.03, 0.04, 0.05, 0.06, 0.07, 0.08, 0.09, 0.1 ])"
      ]
     },
     "execution_count": 69,
     "metadata": {},
     "output_type": "execute_result"
    }
   ],
   "source": [
    "rates"
   ]
  },
  {
   "cell_type": "code",
   "execution_count": null,
   "metadata": {},
   "outputs": [],
   "source": []
  }
 ],
 "metadata": {
  "kernelspec": {
   "display_name": "Python 3",
   "language": "python",
   "name": "python3"
  },
  "language_info": {
   "codemirror_mode": {
    "name": "ipython",
    "version": 3
   },
   "file_extension": ".py",
   "mimetype": "text/x-python",
   "name": "python",
   "nbconvert_exporter": "python",
   "pygments_lexer": "ipython3",
   "version": "3.7.3"
  }
 },
 "nbformat": 4,
 "nbformat_minor": 2
}
