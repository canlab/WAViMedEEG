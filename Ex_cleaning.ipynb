{
 "cells": [
  {
   "cell_type": "code",
   "execution_count": 1,
   "metadata": {},
   "outputs": [],
   "source": [
    "import os\n",
    "import Prep\n",
    "import config\n",
    "import shutil"
   ]
  },
  {
   "cell_type": "code",
   "execution_count": 2,
   "metadata": {},
   "outputs": [],
   "source": [
    "mystudy = \"/wavi/EEGstudies/CANlab\""
   ]
  },
  {
   "cell_type": "code",
   "execution_count": 3,
   "metadata": {},
   "outputs": [
    {
     "name": "stdout",
     "output_type": "stream",
     "text": [
      "\n",
      "Initializing New Study Directory at: /wavi/EEGstudies/CANlab\n"
     ]
    }
   ],
   "source": [
    "mystudyfolder = Prep.StudyFolder(mystudy)"
   ]
  },
  {
   "cell_type": "code",
   "execution_count": 4,
   "metadata": {},
   "outputs": [
    {
     "name": "stdout",
     "output_type": "stream",
     "text": [
      "Making new task folder:  P300\n",
      "Making new task folder:  FLNK\n",
      "Making new task folder:  FLNK\n",
      "Making new task folder:  CLSD\n",
      "Making new task folder:  CLSD\n",
      "Making new task folder:  OPEN\n",
      "Making new task folder:  REST\n",
      "Making new task folder:  REST\n",
      "Making new task folder:  CRNC\n",
      "Making new task folder:  CRNC\n",
      "Making new task folder:  SOMA\n"
     ]
    }
   ],
   "source": [
    "for task in config.tasks:\n",
    "    for irregular in config.tasks[task]:\n",
    "        mystudyfolder.standardize(irregular, task)\n",
    "        mystudyfolder.anon(task)\n",
    "        mystudyfolder.no_filter_rename(task)"
   ]
  },
  {
   "cell_type": "code",
   "execution_count": null,
   "metadata": {},
   "outputs": [],
   "source": [
    "# i.e. mystudyfolder.autoclean()"
   ]
  }
 ],
 "metadata": {
  "kernelspec": {
   "display_name": "Python 3",
   "language": "python",
   "name": "python3"
  },
  "language_info": {
   "codemirror_mode": {
    "name": "ipython",
    "version": 3
   },
   "file_extension": ".py",
   "mimetype": "text/x-python",
   "name": "python",
   "nbconvert_exporter": "python",
   "pygments_lexer": "ipython3",
   "version": "3.8.5"
  }
 },
 "nbformat": 4,
 "nbformat_minor": 4
}
