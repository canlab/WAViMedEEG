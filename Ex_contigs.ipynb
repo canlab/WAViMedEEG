{
 "cells": [
  {
   "cell_type": "markdown",
   "metadata": {},
   "source": [
    "<h1> Example Contig Generation </h1>\n",
    "<p> First, we'll import the 'Prep' module, to use its 'Trials' class, os\n",
    "\n",
    "</p>\n",
    "<p> and TQDM, which is a handy pip-installable package that gives us nice loading bars. </p>"
   ]
  },
  {
   "cell_type": "code",
   "execution_count": 1,
   "metadata": {},
   "outputs": [],
   "source": [
    "import Prep, os\n",
    "from tqdm import tqdm"
   ]
  },
  {
   "cell_type": "markdown",
   "metadata": {},
   "source": [
    "<h2> Set your paths! </h2>\n",
    "<p> 'parentpath' points to a directory where your study folders are stored, and we'll generate new contigs for a trial if it's found in any of these folders </p>"
   ]
  },
  {
   "cell_type": "code",
   "execution_count": 2,
   "metadata": {},
   "outputs": [],
   "source": [
    "parentpath = \"/wavi/EEGstudies\""
   ]
  },
  {
   "cell_type": "markdown",
   "metadata": {},
   "source": [
    "<h3> Set your task! </h3>\n",
    "<p> 'taskname' is one of the tasks supported via config.py </p>"
   ]
  },
  {
   "cell_type": "code",
   "execution_count": 3,
   "metadata": {},
   "outputs": [],
   "source": [
    "taskname = \"P300\""
   ]
  },
  {
   "cell_type": "markdown",
   "metadata": {},
   "source": [
    "<h3> Instantiate a 'Trials' Object </h3>\n",
    "<p> 'Trials' takes one positional argument, the path of the task folder to be loaded in and processed </p>\n",
    "<p> We'll instantiate this object for each of our study folders that contains this task, and operate on it to create contigs, and spectra. </p>\n",
    "<h4> gen_contigs() </h4>\n",
    "<p> Takes one positional argument: the length of the contig in samples, @ 250 Hz\n",
    "<br> and has the following optional arguments: \n",
    "<br> - network_channels: (string) binary list of channels in order found in config.py, helper function Prep.BinarizeChannels() can provide string\n",
    "<br> - artDegree: (int) corresponds to degree of artifact applied, from that found in wavi-output .art files, default 2=none\n",
    "    \n",
    "<h4> write_contigs() </h4>\n",
    "<p> Writes contigs to files </p>\n",
    "    \n",
    "<h4> gen_spectra() </h4>\n",
    "<p> Takes the same positional argument, and same optional arguments </p>\n",
    "\n",
    "<h4> write_spectra() </h4>\n",
    "<p> Writes spectra to files </p>"
   ]
  },
  {
   "cell_type": "code",
   "execution_count": 13,
   "metadata": {},
   "outputs": [
    {
     "name": "stderr",
     "output_type": "stream",
     "text": [
      "  0%|          | 0/20 [00:00<?, ?it/s]"
     ]
    },
    {
     "name": "stdout",
     "output_type": "stream",
     "text": [
      "Contigifying Data:\n",
      "====================\n"
     ]
    },
    {
     "name": "stderr",
     "output_type": "stream",
     "text": [
      "100%|██████████| 20/20 [00:21<00:00,  1.10s/it]\n",
      "  9%|▉         | 78/827 [00:00<00:00, 771.27it/s]"
     ]
    },
    {
     "name": "stdout",
     "output_type": "stream",
     "text": [
      "Writing Contigs:\n",
      "====================\n"
     ]
    },
    {
     "name": "stderr",
     "output_type": "stream",
     "text": [
      "100%|██████████| 827/827 [00:01<00:00, 756.80it/s]\n",
      "  3%|▎         | 25/827 [00:00<00:03, 246.95it/s]"
     ]
    },
    {
     "name": "stdout",
     "output_type": "stream",
     "text": [
      "Fourier Transforming Data:\n",
      "====================\n"
     ]
    },
    {
     "name": "stderr",
     "output_type": "stream",
     "text": [
      "100%|██████████| 827/827 [00:03<00:00, 252.52it/s]\n",
      " 15%|█▌        | 127/827 [00:00<00:00, 1263.69it/s]"
     ]
    },
    {
     "name": "stdout",
     "output_type": "stream",
     "text": [
      "Writing Spectra:\n",
      "====================\n"
     ]
    },
    {
     "name": "stderr",
     "output_type": "stream",
     "text": [
      "100%|██████████| 827/827 [00:00<00:00, 1265.87it/s]\n"
     ]
    }
   ],
   "source": [
    "studyfolders = [folder for folder in os.listdir(parentpath) if \"CANlab\" in folder]\n",
    "for studyfolder in studyfolders:\n",
    "    myp300 = Prep.Trials(parentpath+\"/\"+studyfolder+\"/\"+taskname)\n",
    "    myp300.gen_contigs(250, artDegree=0)\n",
    "    myp300.write_contigs()\n",
    "    myp300.gen_spectra(250, artDegree=0)\n",
    "    myp300.write_spectra()"
   ]
  },
  {
   "cell_type": "code",
   "execution_count": null,
   "metadata": {},
   "outputs": [],
   "source": []
  }
 ],
 "metadata": {
  "kernelspec": {
   "display_name": "Python 3",
   "language": "python",
   "name": "python3"
  },
  "language_info": {
   "codemirror_mode": {
    "name": "ipython",
    "version": 3
   },
   "file_extension": ".py",
   "mimetype": "text/x-python",
   "name": "python",
   "nbconvert_exporter": "python",
   "pygments_lexer": "ipython3",
   "version": "3.8.2"
  }
 },
 "nbformat": 4,
 "nbformat_minor": 4
}
