{
 "cells": [
  {
   "cell_type": "markdown",
   "metadata": {},
   "source": [
    "<h1> Example Contig Generation </h1>\n",
    "<p> First, we'll import the 'Prep' module, to use its 'Trials' class, os\n",
    "\n",
    "</p>\n",
    "<p> and TQDM, which is a handy pip-installable package that gives us nice loading bars. </p>"
   ]
  },
  {
   "cell_type": "code",
   "execution_count": 1,
   "metadata": {},
   "outputs": [],
   "source": [
    "import Prep, os\n",
    "from tqdm import tqdm"
   ]
  },
  {
   "cell_type": "markdown",
   "metadata": {},
   "source": [
    "<h2> Set your paths! </h2>\n",
    "<p> 'parentpath' points to a directory where your study folders are stored, and we'll generate new contigs for a trial if it's found in any of these folders </p>"
   ]
  },
  {
   "cell_type": "code",
   "execution_count": 2,
   "metadata": {},
   "outputs": [],
   "source": [
    "parentpath = \"/wavi/EEGstudies\"\n",
    "studyFolder = \"CANlab\""
   ]
  },
  {
   "cell_type": "markdown",
   "metadata": {},
   "source": [
    "<h3> Set your task! </h3>\n",
    "<p> 'taskname' is one of the tasks supported via config.py </p>"
   ]
  },
  {
   "cell_type": "code",
   "execution_count": 3,
   "metadata": {},
   "outputs": [],
   "source": [
    "taskname = \"P300\""
   ]
  },
  {
   "cell_type": "markdown",
   "metadata": {},
   "source": [
    "<h3> Instantiate a 'Trials' Object </h3>\n",
    "<p> 'Trials' takes one positional argument, the path of the task folder to be loaded in and processed </p>\n",
    "<p> We'll instantiate this object for each of our study folders that contains this task, and operate on it to create contigs, and spectra. </p>\n",
    "<h4> gen_contigs() </h4>\n",
    "<p> Takes one positional argument: the length of the contig in samples, @ 250 Hz\n",
    "<br> and has the following optional arguments: \n",
    "<br> - network_channels: (string) binary list of channels in order found in config.py, helper function Prep.BinarizeChannels() can provide string\n",
    "<br> - artDegree: (int) corresponds to degree of artifact applied, from that found in wavi-output .art files, default 2=none\n",
    "    \n",
    "<h4> write_contigs() </h4>\n",
    "<p> Writes contigs to files </p>\n",
    "    \n",
    "<h4> gen_spectra() </h4>\n",
    "<p> Takes the same positional argument, and same optional arguments </p>\n",
    "\n",
    "<h4> write_spectra() </h4>\n",
    "<p> Writes spectra to files </p>"
   ]
  },
  {
   "cell_type": "code",
   "execution_count": 4,
   "metadata": {},
   "outputs": [
    {
     "name": "stderr",
     "output_type": "stream",
     "text": [
      "  0%|          | 0/44 [00:00<?, ?it/s]"
     ]
    },
    {
     "name": "stdout",
     "output_type": "stream",
     "text": [
      "Processing: ref 81+\n",
      "Couldn't create the specified contigs folder.\n",
      "\n",
      "Contigifying Data:\n",
      "====================\n"
     ]
    },
    {
     "name": "stderr",
     "output_type": "stream",
     "text": [
      "100%|██████████| 44/44 [00:52<00:00,  1.20s/it]\n",
      "  3%|▎         | 17/657 [00:00<00:03, 161.65it/s]"
     ]
    },
    {
     "name": "stdout",
     "output_type": "stream",
     "text": [
      "Writing Contigs:\n",
      "====================\n"
     ]
    },
    {
     "name": "stderr",
     "output_type": "stream",
     "text": [
      "100%|██████████| 657/657 [00:03<00:00, 182.62it/s]\n",
      "  2%|▏         | 11/657 [00:00<00:06, 100.63it/s]"
     ]
    },
    {
     "name": "stdout",
     "output_type": "stream",
     "text": [
      "Couldn't create the specified spectra folder.\n",
      "\n",
      "Fourier Transforming Data:\n",
      "====================\n"
     ]
    },
    {
     "name": "stderr",
     "output_type": "stream",
     "text": [
      "100%|██████████| 657/657 [00:06<00:00, 102.03it/s]\n",
      "  5%|▌         | 33/657 [00:00<00:01, 324.39it/s]"
     ]
    },
    {
     "name": "stdout",
     "output_type": "stream",
     "text": [
      "Writing Spectra:\n",
      "====================\n"
     ]
    },
    {
     "name": "stderr",
     "output_type": "stream",
     "text": [
      "100%|██████████| 657/657 [00:01<00:00, 333.54it/s]\n",
      "  0%|          | 0/367 [00:00<?, ?it/s]"
     ]
    },
    {
     "name": "stdout",
     "output_type": "stream",
     "text": [
      "Processing: ref 41-50\n",
      "Couldn't create the specified contigs folder.\n",
      "\n",
      "Contigifying Data:\n",
      "====================\n"
     ]
    },
    {
     "name": "stderr",
     "output_type": "stream",
     "text": [
      " 43%|████▎     | 158/367 [02:53<03:15,  1.07it/s]/wavi/wavimedical/wavimedical/Prep.py:205: UserWarning: genfromtxt: Empty input file: \"/wavi/EEGstudies/ref 41-50/P300/1314_P300.art\"\n",
      "  artifact = np.genfromtxt(\n"
     ]
    },
    {
     "name": "stdout",
     "output_type": "stream",
     "text": [
      "Most likely an empty text file was encountered.                    Skipping: 1314_P300.art\n"
     ]
    },
    {
     "name": "stderr",
     "output_type": "stream",
     "text": [
      " 47%|████▋     | 171/367 [03:06<03:42,  1.13s/it]/wavi/wavimedical/wavimedical/Prep.py:205: UserWarning: genfromtxt: Empty input file: \"/wavi/EEGstudies/ref 41-50/P300/1190_P300.art\"\n",
      "  artifact = np.genfromtxt(\n"
     ]
    },
    {
     "name": "stdout",
     "output_type": "stream",
     "text": [
      "Most likely an empty text file was encountered.                    Skipping: 1190_P300.art\n"
     ]
    },
    {
     "name": "stderr",
     "output_type": "stream",
     "text": [
      " 59%|█████▊    | 215/367 [03:54<03:05,  1.22s/it]/wavi/wavimedical/wavimedical/Prep.py:205: UserWarning: genfromtxt: Empty input file: \"/wavi/EEGstudies/ref 41-50/P300/1056_P300.art\"\n",
      "  artifact = np.genfromtxt(\n"
     ]
    },
    {
     "name": "stdout",
     "output_type": "stream",
     "text": [
      "Most likely an empty text file was encountered.                    Skipping: 1056_P300.art\n"
     ]
    },
    {
     "name": "stderr",
     "output_type": "stream",
     "text": [
      " 80%|███████▉  | 293/367 [05:21<01:29,  1.21s/it]/wavi/wavimedical/wavimedical/Prep.py:205: UserWarning: genfromtxt: Empty input file: \"/wavi/EEGstudies/ref 41-50/P300/1192_P300.art\"\n",
      "  artifact = np.genfromtxt(\n"
     ]
    },
    {
     "name": "stdout",
     "output_type": "stream",
     "text": [
      "Most likely an empty text file was encountered.                    Skipping: 1192_P300.art\n"
     ]
    },
    {
     "name": "stderr",
     "output_type": "stream",
     "text": [
      "100%|██████████| 367/367 [06:46<00:00,  1.11s/it]\n",
      "  0%|          | 15/6999 [00:00<00:48, 145.14it/s]"
     ]
    },
    {
     "name": "stdout",
     "output_type": "stream",
     "text": [
      "Writing Contigs:\n",
      "====================\n"
     ]
    },
    {
     "name": "stderr",
     "output_type": "stream",
     "text": [
      "100%|██████████| 6999/6999 [00:39<00:00, 178.52it/s]\n",
      "  0%|          | 10/6999 [00:00<01:10, 98.77it/s]"
     ]
    },
    {
     "name": "stdout",
     "output_type": "stream",
     "text": [
      "Couldn't create the specified spectra folder.\n",
      "\n",
      "Fourier Transforming Data:\n",
      "====================\n"
     ]
    },
    {
     "name": "stderr",
     "output_type": "stream",
     "text": [
      "100%|██████████| 6999/6999 [01:10<00:00, 99.73it/s] \n",
      "  0%|          | 29/6999 [00:00<00:24, 284.93it/s]"
     ]
    },
    {
     "name": "stdout",
     "output_type": "stream",
     "text": [
      "Writing Spectra:\n",
      "====================\n"
     ]
    },
    {
     "name": "stderr",
     "output_type": "stream",
     "text": [
      "100%|██████████| 6999/6999 [00:22<00:00, 311.31it/s]\n",
      "  0%|          | 0/198 [00:00<?, ?it/s]"
     ]
    },
    {
     "name": "stdout",
     "output_type": "stream",
     "text": [
      "Processing: ref 31-40\n",
      "Couldn't create the specified contigs folder.\n",
      "\n",
      "Contigifying Data:\n",
      "====================\n"
     ]
    },
    {
     "name": "stderr",
     "output_type": "stream",
     "text": [
      " 46%|████▋     | 92/198 [01:41<01:56,  1.10s/it]/wavi/wavimedical/wavimedical/Prep.py:205: UserWarning: genfromtxt: Empty input file: \"/wavi/EEGstudies/ref 31-40/P300/1057_P300.art\"\n",
      "  artifact = np.genfromtxt(\n"
     ]
    },
    {
     "name": "stdout",
     "output_type": "stream",
     "text": [
      "Most likely an empty text file was encountered.                    Skipping: 1057_P300.art\n"
     ]
    },
    {
     "name": "stderr",
     "output_type": "stream",
     "text": [
      " 93%|█████████▎| 184/198 [03:24<00:17,  1.22s/it]/wavi/wavimedical/wavimedical/Prep.py:205: UserWarning: genfromtxt: Empty input file: \"/wavi/EEGstudies/ref 31-40/P300/1170_P300.art\"\n",
      "  artifact = np.genfromtxt(\n"
     ]
    },
    {
     "name": "stdout",
     "output_type": "stream",
     "text": [
      "Most likely an empty text file was encountered.                    Skipping: 1170_P300.art\n"
     ]
    },
    {
     "name": "stderr",
     "output_type": "stream",
     "text": [
      "100%|██████████| 198/198 [03:38<00:00,  1.10s/it]\n",
      "  0%|          | 16/3955 [00:00<00:24, 158.87it/s]"
     ]
    },
    {
     "name": "stdout",
     "output_type": "stream",
     "text": [
      "Writing Contigs:\n",
      "====================\n"
     ]
    },
    {
     "name": "stderr",
     "output_type": "stream",
     "text": [
      "100%|██████████| 3955/3955 [00:22<00:00, 175.48it/s]\n",
      "  0%|          | 11/3955 [00:00<00:38, 101.84it/s]"
     ]
    },
    {
     "name": "stdout",
     "output_type": "stream",
     "text": [
      "Couldn't create the specified spectra folder.\n",
      "\n",
      "Fourier Transforming Data:\n",
      "====================\n"
     ]
    },
    {
     "name": "stderr",
     "output_type": "stream",
     "text": [
      "100%|██████████| 3955/3955 [00:38<00:00, 101.80it/s]\n",
      "  1%|          | 29/3955 [00:00<00:13, 285.11it/s]"
     ]
    },
    {
     "name": "stdout",
     "output_type": "stream",
     "text": [
      "Writing Spectra:\n",
      "====================\n"
     ]
    },
    {
     "name": "stderr",
     "output_type": "stream",
     "text": [
      "100%|██████████| 3955/3955 [00:12<00:00, 304.86it/s]\n",
      "  0%|          | 0/225 [00:00<?, ?it/s]"
     ]
    },
    {
     "name": "stdout",
     "output_type": "stream",
     "text": [
      "Processing: ref 61-70\n",
      "Couldn't create the specified contigs folder.\n",
      "\n",
      "Contigifying Data:\n",
      "====================\n"
     ]
    },
    {
     "name": "stderr",
     "output_type": "stream",
     "text": [
      "100%|██████████| 225/225 [04:18<00:00,  1.15s/it]\n",
      "  0%|          | 18/4115 [00:00<00:23, 174.25it/s]"
     ]
    },
    {
     "name": "stdout",
     "output_type": "stream",
     "text": [
      "Writing Contigs:\n",
      "====================\n"
     ]
    },
    {
     "name": "stderr",
     "output_type": "stream",
     "text": [
      "100%|██████████| 4115/4115 [00:23<00:00, 171.64it/s]\n",
      "  0%|          | 10/4115 [00:00<00:42, 96.23it/s]"
     ]
    },
    {
     "name": "stdout",
     "output_type": "stream",
     "text": [
      "Couldn't create the specified spectra folder.\n",
      "\n",
      "Fourier Transforming Data:\n",
      "====================\n"
     ]
    },
    {
     "name": "stderr",
     "output_type": "stream",
     "text": [
      "100%|██████████| 4115/4115 [00:41<00:00, 99.41it/s] \n",
      "  1%|          | 29/4115 [00:00<00:14, 287.26it/s]"
     ]
    },
    {
     "name": "stdout",
     "output_type": "stream",
     "text": [
      "Writing Spectra:\n",
      "====================\n"
     ]
    },
    {
     "name": "stderr",
     "output_type": "stream",
     "text": [
      "100%|██████████| 4115/4115 [00:13<00:00, 302.89it/s]\n",
      "  0%|          | 0/275 [00:00<?, ?it/s]"
     ]
    },
    {
     "name": "stdout",
     "output_type": "stream",
     "text": [
      "Processing: ref 24-30\n",
      "Couldn't create the specified contigs folder.\n",
      "\n",
      "Contigifying Data:\n",
      "====================\n"
     ]
    },
    {
     "name": "stderr",
     "output_type": "stream",
     "text": [
      " 36%|███▋      | 100/275 [01:47<03:18,  1.14s/it]/wavi/wavimedical/wavimedical/Prep.py:205: UserWarning: genfromtxt: Empty input file: \"/wavi/EEGstudies/ref 24-30/P300/1064_P300.art\"\n",
      "  artifact = np.genfromtxt(\n"
     ]
    },
    {
     "name": "stdout",
     "output_type": "stream",
     "text": [
      "Most likely an empty text file was encountered.                    Skipping: 1064_P300.art\n"
     ]
    },
    {
     "name": "stderr",
     "output_type": "stream",
     "text": [
      "100%|██████████| 275/275 [04:56<00:00,  1.08s/it]\n",
      "  0%|          | 16/5644 [00:00<00:37, 151.19it/s]"
     ]
    },
    {
     "name": "stdout",
     "output_type": "stream",
     "text": [
      "Writing Contigs:\n",
      "====================\n"
     ]
    },
    {
     "name": "stderr",
     "output_type": "stream",
     "text": [
      "100%|██████████| 5644/5644 [00:33<00:00, 170.63it/s]\n",
      "  0%|          | 10/5644 [00:00<00:58, 97.03it/s]"
     ]
    },
    {
     "name": "stdout",
     "output_type": "stream",
     "text": [
      "Couldn't create the specified spectra folder.\n",
      "\n",
      "Fourier Transforming Data:\n",
      "====================\n"
     ]
    },
    {
     "name": "stderr",
     "output_type": "stream",
     "text": [
      "100%|██████████| 5644/5644 [00:57<00:00, 97.80it/s] \n",
      "  0%|          | 26/5644 [00:00<00:21, 255.44it/s]"
     ]
    },
    {
     "name": "stdout",
     "output_type": "stream",
     "text": [
      "Writing Spectra:\n",
      "====================\n"
     ]
    },
    {
     "name": "stderr",
     "output_type": "stream",
     "text": [
      "100%|██████████| 5644/5644 [00:18<00:00, 300.46it/s]\n",
      "  0%|          | 0/479 [00:00<?, ?it/s]"
     ]
    },
    {
     "name": "stdout",
     "output_type": "stream",
     "text": [
      "Processing: ref 51-60\n",
      "Couldn't create the specified contigs folder.\n",
      "\n",
      "Contigifying Data:\n",
      "====================\n"
     ]
    },
    {
     "name": "stderr",
     "output_type": "stream",
     "text": [
      "100%|██████████| 479/479 [08:57<00:00,  1.12s/it]\n",
      "  0%|          | 18/11200 [00:00<01:04, 172.87it/s]"
     ]
    },
    {
     "name": "stdout",
     "output_type": "stream",
     "text": [
      "Writing Contigs:\n",
      "====================\n"
     ]
    },
    {
     "name": "stderr",
     "output_type": "stream",
     "text": [
      "100%|██████████| 11200/11200 [01:05<00:00, 171.71it/s]\n",
      "  0%|          | 10/11200 [00:00<02:00, 92.83it/s]"
     ]
    },
    {
     "name": "stdout",
     "output_type": "stream",
     "text": [
      "Couldn't create the specified spectra folder.\n",
      "\n",
      "Fourier Transforming Data:\n",
      "====================\n"
     ]
    },
    {
     "name": "stderr",
     "output_type": "stream",
     "text": [
      "100%|██████████| 11200/11200 [01:53<00:00, 99.05it/s] \n",
      "  0%|          | 30/11200 [00:00<00:37, 297.97it/s]"
     ]
    },
    {
     "name": "stdout",
     "output_type": "stream",
     "text": [
      "Writing Spectra:\n",
      "====================\n"
     ]
    },
    {
     "name": "stderr",
     "output_type": "stream",
     "text": [
      "100%|██████████| 11200/11200 [00:36<00:00, 307.28it/s]\n",
      "  0%|          | 0/89 [00:00<?, ?it/s]"
     ]
    },
    {
     "name": "stdout",
     "output_type": "stream",
     "text": [
      "Processing: ref 71-80\n",
      "Couldn't create the specified contigs folder.\n",
      "\n",
      "Contigifying Data:\n",
      "====================\n"
     ]
    },
    {
     "name": "stderr",
     "output_type": "stream",
     "text": [
      "100%|██████████| 89/89 [01:44<00:00,  1.17s/it]\n",
      "  1%|          | 16/1518 [00:00<00:09, 152.08it/s]"
     ]
    },
    {
     "name": "stdout",
     "output_type": "stream",
     "text": [
      "Writing Contigs:\n",
      "====================\n"
     ]
    },
    {
     "name": "stderr",
     "output_type": "stream",
     "text": [
      "100%|██████████| 1518/1518 [00:09<00:00, 167.68it/s]\n",
      "  1%|          | 10/1518 [00:00<00:16, 93.43it/s]"
     ]
    },
    {
     "name": "stdout",
     "output_type": "stream",
     "text": [
      "Couldn't create the specified spectra folder.\n",
      "\n",
      "Fourier Transforming Data:\n",
      "====================\n"
     ]
    },
    {
     "name": "stderr",
     "output_type": "stream",
     "text": [
      "100%|██████████| 1518/1518 [00:15<00:00, 96.73it/s]\n",
      "  2%|▏         | 30/1518 [00:00<00:05, 292.93it/s]"
     ]
    },
    {
     "name": "stdout",
     "output_type": "stream",
     "text": [
      "Writing Spectra:\n",
      "====================\n"
     ]
    },
    {
     "name": "stderr",
     "output_type": "stream",
     "text": [
      "100%|██████████| 1518/1518 [00:05<00:00, 300.35it/s]\n",
      "  0%|          | 0/25 [00:00<?, ?it/s]"
     ]
    },
    {
     "name": "stdout",
     "output_type": "stream",
     "text": [
      "Processing: CANlab\n",
      "Couldn't create the specified contigs folder.\n",
      "\n",
      "Contigifying Data:\n",
      "====================\n"
     ]
    },
    {
     "name": "stderr",
     "output_type": "stream",
     "text": [
      "100%|██████████| 25/25 [00:27<00:00,  1.11s/it]\n",
      "  4%|▍         | 18/459 [00:00<00:02, 174.79it/s]"
     ]
    },
    {
     "name": "stdout",
     "output_type": "stream",
     "text": [
      "Writing Contigs:\n",
      "====================\n"
     ]
    },
    {
     "name": "stderr",
     "output_type": "stream",
     "text": [
      "100%|██████████| 459/459 [00:02<00:00, 186.09it/s]\n",
      "  2%|▏         | 11/459 [00:00<00:04, 102.08it/s]"
     ]
    },
    {
     "name": "stdout",
     "output_type": "stream",
     "text": [
      "Couldn't create the specified spectra folder.\n",
      "\n",
      "Fourier Transforming Data:\n",
      "====================\n"
     ]
    },
    {
     "name": "stderr",
     "output_type": "stream",
     "text": [
      "100%|██████████| 459/459 [00:04<00:00, 103.98it/s]\n",
      "  7%|▋         | 30/459 [00:00<00:01, 299.83it/s]"
     ]
    },
    {
     "name": "stdout",
     "output_type": "stream",
     "text": [
      "Writing Spectra:\n",
      "====================\n"
     ]
    },
    {
     "name": "stderr",
     "output_type": "stream",
     "text": [
      "100%|██████████| 459/459 [00:01<00:00, 323.50it/s]\n",
      "  0%|          | 0/358 [00:00<?, ?it/s]"
     ]
    },
    {
     "name": "stdout",
     "output_type": "stream",
     "text": [
      "Processing: ref pain\n",
      "Couldn't create the specified contigs folder.\n",
      "\n",
      "Contigifying Data:\n",
      "====================\n"
     ]
    },
    {
     "name": "stderr",
     "output_type": "stream",
     "text": [
      "100%|██████████| 358/358 [07:22<00:00,  1.24s/it]\n",
      "  0%|          | 15/4007 [00:00<00:27, 143.12it/s]"
     ]
    },
    {
     "name": "stdout",
     "output_type": "stream",
     "text": [
      "Writing Contigs:\n",
      "====================\n"
     ]
    },
    {
     "name": "stderr",
     "output_type": "stream",
     "text": [
      "100%|██████████| 4007/4007 [00:24<00:00, 164.75it/s]\n",
      "  0%|          | 10/4007 [00:00<00:42, 94.62it/s]"
     ]
    },
    {
     "name": "stdout",
     "output_type": "stream",
     "text": [
      "Couldn't create the specified spectra folder.\n",
      "\n",
      "Fourier Transforming Data:\n",
      "====================\n"
     ]
    },
    {
     "name": "stderr",
     "output_type": "stream",
     "text": [
      "100%|██████████| 4007/4007 [00:41<00:00, 96.85it/s]\n",
      "  1%|          | 30/4007 [00:00<00:13, 292.41it/s]"
     ]
    },
    {
     "name": "stdout",
     "output_type": "stream",
     "text": [
      "Writing Spectra:\n",
      "====================\n"
     ]
    },
    {
     "name": "stderr",
     "output_type": "stream",
     "text": [
      "100%|██████████| 4007/4007 [00:13<00:00, 298.63it/s]\n"
     ]
    }
   ],
   "source": [
    "studyfolders = [folder for folder in os.listdir(parentpath)]\n",
    "for studyfolder in studyfolders:\n",
    "    print(\"Processing:\", studyfolder)\n",
    "    myp300 = Prep.TaskData(parentpath+\"/\"+studyfolder+\"/\"+taskname)\n",
    "    myp300.gen_contigs(1250, artDegree=1, erp=False, filter_band=\"noalpha\")\n",
    "    myp300.write_contigs()\n",
    "    myp300.gen_spectra(1250, artDegree=1, erp=False, filter_band=\"noalpha\")\n",
    "    myp300.write_spectra()"
   ]
  },
  {
   "cell_type": "code",
   "execution_count": null,
   "metadata": {},
   "outputs": [],
   "source": []
  }
 ],
 "metadata": {
  "kernelspec": {
   "display_name": "Python 3",
   "language": "python",
   "name": "python3"
  },
  "language_info": {
   "codemirror_mode": {
    "name": "ipython",
    "version": 3
   },
   "file_extension": ".py",
   "mimetype": "text/x-python",
   "name": "python",
   "nbconvert_exporter": "python",
   "pygments_lexer": "ipython3",
   "version": "3.8.5"
  }
 },
 "nbformat": 4,
 "nbformat_minor": 4
}
