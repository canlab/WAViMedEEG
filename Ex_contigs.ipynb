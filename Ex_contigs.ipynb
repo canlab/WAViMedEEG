{
 "cells": [
  {
   "cell_type": "markdown",
   "metadata": {},
   "source": [
    "<h1> Example Contig Generation </h1>\n",
    "<p> First, we'll import the 'Prep' module, to use its 'Trials' class, os\n",
    "\n",
    "</p>\n",
    "<p> and TQDM, which is a handy pip-installable package that gives us nice loading bars. </p>"
   ]
  },
  {
   "cell_type": "code",
   "execution_count": 1,
   "metadata": {},
   "outputs": [],
   "source": [
    "import Prep, os\n",
    "from tqdm import tqdm"
   ]
  },
  {
   "cell_type": "markdown",
   "metadata": {},
   "source": [
    "<h2> Set your paths! </h2>\n",
    "<p> 'parentpath' points to a directory where your study folders are stored, and we'll generate new contigs for a trial if it's found in any of these folders </p>"
   ]
  },
  {
   "cell_type": "code",
   "execution_count": 2,
   "metadata": {},
   "outputs": [],
   "source": [
    "parentpath = \"/wavi/EEGstudies\"\n",
    "studyFolder = \"CANlab\""
   ]
  },
  {
   "cell_type": "markdown",
   "metadata": {},
   "source": [
    "<h3> Set your task! </h3>\n",
    "<p> 'taskname' is one of the tasks supported via config.py </p>"
   ]
  },
  {
   "cell_type": "code",
   "execution_count": 3,
   "metadata": {},
   "outputs": [],
   "source": [
    "taskname = \"P300\""
   ]
  },
  {
   "cell_type": "markdown",
   "metadata": {},
   "source": [
    "<h3> Instantiate a 'Trials' Object </h3>\n",
    "<p> 'Trials' takes one positional argument, the path of the task folder to be loaded in and processed </p>\n",
    "<p> We'll instantiate this object for each of our study folders that contains this task, and operate on it to create contigs, and spectra. </p>\n",
    "<h4> gen_contigs() </h4>\n",
    "<p> Takes one positional argument: the length of the contig in samples, @ 250 Hz\n",
    "<br> and has the following optional arguments: \n",
    "<br> - network_channels: (string) binary list of channels in order found in config.py, helper function Prep.BinarizeChannels() can provide string\n",
    "<br> - artDegree: (int) corresponds to degree of artifact applied, from that found in wavi-output .art files, default 2=none\n",
    "    \n",
    "<h4> write_contigs() </h4>\n",
    "<p> Writes contigs to files </p>\n",
    "    \n",
    "<h4> gen_spectra() </h4>\n",
    "<p> Takes the same positional argument, and same optional arguments </p>\n",
    "\n",
    "<h4> write_spectra() </h4>\n",
    "<p> Writes spectra to files </p>"
   ]
  },
  {
   "cell_type": "code",
   "execution_count": 4,
   "metadata": {},
   "outputs": [
    {
     "name": "stderr",
     "output_type": "stream",
     "text": [
      "  0%|          | 0/44 [00:00<?, ?it/s]"
     ]
    },
    {
     "name": "stdout",
     "output_type": "stream",
     "text": [
      "Contigifying Data:\n",
      "====================\n"
     ]
    },
    {
     "name": "stderr",
     "output_type": "stream",
     "text": [
      "100%|██████████| 44/44 [00:43<00:00,  1.01it/s]\n",
      "  2%|▏         | 77/4615 [00:00<00:05, 762.90it/s]"
     ]
    },
    {
     "name": "stdout",
     "output_type": "stream",
     "text": [
      "Writing Contigs:\n",
      "====================\n"
     ]
    },
    {
     "name": "stderr",
     "output_type": "stream",
     "text": [
      "100%|██████████| 4615/4615 [00:06<00:00, 762.58it/s]\n",
      "  0%|          | 0/367 [00:00<?, ?it/s]"
     ]
    },
    {
     "name": "stdout",
     "output_type": "stream",
     "text": [
      "Contigifying Data:\n",
      "====================\n"
     ]
    },
    {
     "name": "stderr",
     "output_type": "stream",
     "text": [
      "  3%|▎         | 11/367 [00:10<05:56,  1.00s/it]/wavi/wavimedical/wavimedical/Prep.py:352: UserWarning: genfromtxt: Empty input file: \"/wavi/EEGstudies/ref 41-50/P300/1190_P300_nofilter.art\"\n",
      "  artifact = np.genfromtxt(\n",
      "/wavi/wavimedical/wavimedical/Prep.py:357: UserWarning: genfromtxt: Empty input file: \"/wavi/EEGstudies/ref 41-50/P300/1190_P300_nofilter.evt\"\n",
      "  events = np.genfromtxt(\n"
     ]
    },
    {
     "name": "stdout",
     "output_type": "stream",
     "text": [
      "Most likely an empty text file was                         encountered. Skipping: 1190_P300_nofilter.evt\n"
     ]
    },
    {
     "name": "stderr",
     "output_type": "stream",
     "text": [
      " 59%|█████▊    | 215/367 [03:28<02:19,  1.09it/s]/wavi/wavimedical/wavimedical/Prep.py:352: UserWarning: genfromtxt: Empty input file: \"/wavi/EEGstudies/ref 41-50/P300/1314_P300_nofilter.art\"\n",
      "  artifact = np.genfromtxt(\n",
      "/wavi/wavimedical/wavimedical/Prep.py:357: UserWarning: genfromtxt: Empty input file: \"/wavi/EEGstudies/ref 41-50/P300/1314_P300_nofilter.evt\"\n",
      "  events = np.genfromtxt(\n"
     ]
    },
    {
     "name": "stdout",
     "output_type": "stream",
     "text": [
      "Most likely an empty text file was                         encountered. Skipping: 1314_P300_nofilter.evt\n"
     ]
    },
    {
     "name": "stderr",
     "output_type": "stream",
     "text": [
      " 70%|██████▉   | 256/367 [04:06<01:42,  1.08it/s]/wavi/wavimedical/wavimedical/Prep.py:352: UserWarning: genfromtxt: Empty input file: \"/wavi/EEGstudies/ref 41-50/P300/1192_P300_nofilter.art\"\n",
      "  artifact = np.genfromtxt(\n",
      "/wavi/wavimedical/wavimedical/Prep.py:357: UserWarning: genfromtxt: Empty input file: \"/wavi/EEGstudies/ref 41-50/P300/1192_P300_nofilter.evt\"\n",
      "  events = np.genfromtxt(\n"
     ]
    },
    {
     "name": "stdout",
     "output_type": "stream",
     "text": [
      "Most likely an empty text file was                         encountered. Skipping: 1192_P300_nofilter.evt\n"
     ]
    },
    {
     "name": "stderr",
     "output_type": "stream",
     "text": [
      " 83%|████████▎ | 305/367 [04:51<01:01,  1.00it/s]/wavi/wavimedical/wavimedical/Prep.py:352: UserWarning: genfromtxt: Empty input file: \"/wavi/EEGstudies/ref 41-50/P300/1056_P300_nofilter.art\"\n",
      "  artifact = np.genfromtxt(\n",
      "/wavi/wavimedical/wavimedical/Prep.py:357: UserWarning: genfromtxt: Empty input file: \"/wavi/EEGstudies/ref 41-50/P300/1056_P300_nofilter.evt\"\n",
      "  events = np.genfromtxt(\n"
     ]
    },
    {
     "name": "stdout",
     "output_type": "stream",
     "text": [
      "Most likely an empty text file was                         encountered. Skipping: 1056_P300_nofilter.evt\n"
     ]
    },
    {
     "name": "stderr",
     "output_type": "stream",
     "text": [
      "100%|██████████| 367/367 [05:50<00:00,  1.05it/s]\n",
      "  0%|          | 78/94527 [00:00<02:01, 774.37it/s]"
     ]
    },
    {
     "name": "stdout",
     "output_type": "stream",
     "text": [
      "Writing Contigs:\n",
      "====================\n"
     ]
    },
    {
     "name": "stderr",
     "output_type": "stream",
     "text": [
      "100%|██████████| 94527/94527 [02:02<00:00, 770.99it/s]\n",
      "  0%|          | 0/198 [00:00<?, ?it/s]"
     ]
    },
    {
     "name": "stdout",
     "output_type": "stream",
     "text": [
      "Contigifying Data:\n",
      "====================\n"
     ]
    },
    {
     "name": "stderr",
     "output_type": "stream",
     "text": [
      " 22%|██▏       | 44/198 [00:42<02:26,  1.05it/s]/wavi/wavimedical/wavimedical/Prep.py:352: UserWarning: genfromtxt: Empty input file: \"/wavi/EEGstudies/ref 31-40/P300/1170_P300_nofilter.art\"\n",
      "  artifact = np.genfromtxt(\n",
      "/wavi/wavimedical/wavimedical/Prep.py:357: UserWarning: genfromtxt: Empty input file: \"/wavi/EEGstudies/ref 31-40/P300/1170_P300_nofilter.evt\"\n",
      "  events = np.genfromtxt(\n"
     ]
    },
    {
     "name": "stdout",
     "output_type": "stream",
     "text": [
      "Most likely an empty text file was                         encountered. Skipping: 1170_P300_nofilter.evt\n"
     ]
    },
    {
     "name": "stderr",
     "output_type": "stream",
     "text": [
      " 89%|████████▉ | 176/198 [02:45<00:20,  1.05it/s]/wavi/wavimedical/wavimedical/Prep.py:352: UserWarning: genfromtxt: Empty input file: \"/wavi/EEGstudies/ref 31-40/P300/1057_P300_nofilter.art\"\n",
      "  artifact = np.genfromtxt(\n",
      "/wavi/wavimedical/wavimedical/Prep.py:357: UserWarning: genfromtxt: Empty input file: \"/wavi/EEGstudies/ref 31-40/P300/1057_P300_nofilter.evt\"\n",
      "  events = np.genfromtxt(\n"
     ]
    },
    {
     "name": "stdout",
     "output_type": "stream",
     "text": [
      "Most likely an empty text file was                         encountered. Skipping: 1057_P300_nofilter.evt\n"
     ]
    },
    {
     "name": "stderr",
     "output_type": "stream",
     "text": [
      "100%|██████████| 198/198 [03:05<00:00,  1.07it/s]\n",
      "  0%|          | 77/26645 [00:00<00:34, 763.31it/s]"
     ]
    },
    {
     "name": "stdout",
     "output_type": "stream",
     "text": [
      "Writing Contigs:\n",
      "====================\n"
     ]
    },
    {
     "name": "stderr",
     "output_type": "stream",
     "text": [
      "100%|██████████| 26645/26645 [00:35<00:00, 756.89it/s]\n",
      "  0%|          | 0/225 [00:00<?, ?it/s]"
     ]
    },
    {
     "name": "stdout",
     "output_type": "stream",
     "text": [
      "Contigifying Data:\n",
      "====================\n"
     ]
    },
    {
     "name": "stderr",
     "output_type": "stream",
     "text": [
      "100%|██████████| 225/225 [03:37<00:00,  1.03it/s]\n",
      "  0%|          | 78/28528 [00:00<00:36, 777.12it/s]"
     ]
    },
    {
     "name": "stdout",
     "output_type": "stream",
     "text": [
      "Writing Contigs:\n",
      "====================\n"
     ]
    },
    {
     "name": "stderr",
     "output_type": "stream",
     "text": [
      "100%|██████████| 28528/28528 [00:37<00:00, 770.16it/s]\n",
      "  0%|          | 0/275 [00:00<?, ?it/s]"
     ]
    },
    {
     "name": "stdout",
     "output_type": "stream",
     "text": [
      "Contigifying Data:\n",
      "====================\n"
     ]
    },
    {
     "name": "stderr",
     "output_type": "stream",
     "text": [
      " 85%|████████▌ | 235/275 [03:34<00:36,  1.09it/s]/wavi/wavimedical/wavimedical/Prep.py:352: UserWarning: genfromtxt: Empty input file: \"/wavi/EEGstudies/ref 24-30/P300/1064_P300_nofilter.art\"\n",
      "  artifact = np.genfromtxt(\n",
      "/wavi/wavimedical/wavimedical/Prep.py:357: UserWarning: genfromtxt: Empty input file: \"/wavi/EEGstudies/ref 24-30/P300/1064_P300_nofilter.evt\"\n",
      "  events = np.genfromtxt(\n"
     ]
    },
    {
     "name": "stdout",
     "output_type": "stream",
     "text": [
      "Most likely an empty text file was                         encountered. Skipping: 1064_P300_nofilter.evt\n"
     ]
    },
    {
     "name": "stderr",
     "output_type": "stream",
     "text": [
      "100%|██████████| 275/275 [04:12<00:00,  1.09it/s]\n",
      "  0%|          | 79/43072 [00:00<00:54, 786.40it/s]"
     ]
    },
    {
     "name": "stdout",
     "output_type": "stream",
     "text": [
      "Writing Contigs:\n",
      "====================\n"
     ]
    },
    {
     "name": "stderr",
     "output_type": "stream",
     "text": [
      "100%|██████████| 43072/43072 [00:55<00:00, 771.27it/s]\n",
      "  0%|          | 0/479 [00:00<?, ?it/s]"
     ]
    },
    {
     "name": "stdout",
     "output_type": "stream",
     "text": [
      "Contigifying Data:\n",
      "====================\n"
     ]
    },
    {
     "name": "stderr",
     "output_type": "stream",
     "text": [
      "100%|██████████| 479/479 [07:35<00:00,  1.05it/s]\n",
      "  0%|          | 78/70756 [00:00<01:30, 778.40it/s]"
     ]
    },
    {
     "name": "stdout",
     "output_type": "stream",
     "text": [
      "Writing Contigs:\n",
      "====================\n"
     ]
    },
    {
     "name": "stderr",
     "output_type": "stream",
     "text": [
      "100%|██████████| 70756/70756 [01:29<00:00, 792.92it/s]\n",
      "  0%|          | 0/89 [00:00<?, ?it/s]"
     ]
    },
    {
     "name": "stdout",
     "output_type": "stream",
     "text": [
      "Contigifying Data:\n",
      "====================\n"
     ]
    },
    {
     "name": "stderr",
     "output_type": "stream",
     "text": [
      "100%|██████████| 89/89 [01:25<00:00,  1.04it/s]\n",
      "  1%|          | 75/10496 [00:00<00:13, 749.24it/s]"
     ]
    },
    {
     "name": "stdout",
     "output_type": "stream",
     "text": [
      "Writing Contigs:\n",
      "====================\n"
     ]
    },
    {
     "name": "stderr",
     "output_type": "stream",
     "text": [
      "100%|██████████| 10496/10496 [00:13<00:00, 778.05it/s]\n",
      "  0%|          | 0/358 [00:00<?, ?it/s]"
     ]
    },
    {
     "name": "stdout",
     "output_type": "stream",
     "text": [
      "Contigifying Data:\n",
      "====================\n"
     ]
    },
    {
     "name": "stderr",
     "output_type": "stream",
     "text": [
      "100%|██████████| 358/358 [05:36<00:00,  1.06it/s]\n",
      "  0%|          | 80/31791 [00:00<00:40, 791.53it/s]"
     ]
    },
    {
     "name": "stdout",
     "output_type": "stream",
     "text": [
      "Writing Contigs:\n",
      "====================\n"
     ]
    },
    {
     "name": "stderr",
     "output_type": "stream",
     "text": [
      "100%|██████████| 31791/31791 [00:40<00:00, 778.50it/s]\n"
     ]
    }
   ],
   "source": [
    "studyfolders = [folder for folder in os.listdir(parentpath)]\n",
    "for studyfolder in studyfolders:\n",
    "    myp300 = Prep.Trials(parentpath+\"/\"+studyfolder+\"/\"+taskname)\n",
    "    myp300.gen_contigs(250, artDegree=1, ERP=True)\n",
    "    myp300.write_contigs()\n",
    "#     myp300.gen_spectra(250, artDegree=0)\n",
    "#     myp300.write_spectra()"
   ]
  },
  {
   "cell_type": "code",
   "execution_count": 5,
   "metadata": {},
   "outputs": [],
   "source": [
    "# myp300 = Prep.Trials(parentpath+\"/\"+studyFolder+\"/\"+taskname)\n",
    "\n",
    "# # myp300.no_filter_rename()\n",
    "\n",
    "# myp300.gen_contigs(100, artDegree=2, ERP=True)\n",
    "# myp300.write_contigs()\n",
    "\n",
    "# # myp300.gen_spectra(100, artDegree=2)\n",
    "# # myp300.write_spectra()"
   ]
  },
  {
   "cell_type": "code",
   "execution_count": null,
   "metadata": {},
   "outputs": [],
   "source": []
  }
 ],
 "metadata": {
  "kernelspec": {
   "display_name": "Python 3",
   "language": "python",
   "name": "python3"
  },
  "language_info": {
   "codemirror_mode": {
    "name": "ipython",
    "version": 3
   },
   "file_extension": ".py",
   "mimetype": "text/x-python",
   "name": "python",
   "nbconvert_exporter": "python",
   "pygments_lexer": "ipython3",
   "version": "3.8.5"
  }
 },
 "nbformat": 4,
 "nbformat_minor": 4
}
