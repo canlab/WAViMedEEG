{
 "cells": [
  {
   "cell_type": "code",
   "execution_count": 52,
   "metadata": {},
   "outputs": [],
   "source": [
    "import os\n",
    "import numpy as np\n",
    "from numpy import array, ma, genfromtxt\n",
    "import pandas as pd"
   ]
  },
  {
   "cell_type": "code",
   "execution_count": 10,
   "metadata": {},
   "outputs": [],
   "source": [
    "#The CANlab/WAVi Pain Study is Pre-Formatted to resemble BIDS neuroimaging formatting\n",
    "#If your study does not abide to the following structure, please reformat your study files before continuing\n",
    "# .../StudyRepo\n",
    "# ------------------> /raw\n",
    "# ------------------------> /*.art\n",
    "# ------------------------> /*.eeg\n",
    "# ------------------------> /*.evt"
   ]
  },
  {
   "cell_type": "code",
   "execution_count": 11,
   "metadata": {},
   "outputs": [
    {
     "name": "stdout",
     "output_type": "stream",
     "text": [
      "Please enter the full path of the study repository:\n",
      "/home/clayton/science/CANlab/WAViMedEEG/CANlabStudy\n"
     ]
    }
   ],
   "source": [
    "print(\"Please enter the full path of the study repository:\")\n",
    "directory = input()\n",
    "\n",
    "while(not os.path.exists(directory)):\n",
    "    print(\"\\n\")\n",
    "    print(\"The directory you supplied could not be found.\")\n",
    "    print(\"Please enter the full path of the study directory containing EEG, ART, EVT files:\")\n",
    "    directory = input()\n",
    "    \n",
    "os.chdir(directory)"
   ]
  },
  {
   "cell_type": "code",
   "execution_count": 12,
   "metadata": {},
   "outputs": [
    {
     "name": "stdout",
     "output_type": "stream",
     "text": [
      "Which task would you like to load? \n",
      " p300? \n",
      " flanker? \n",
      " chronic? \n",
      " rest?\n",
      "p300\n"
     ]
    }
   ],
   "source": [
    "print(\"Which task would you like to load? \\n p300? \\n flanker? \\n chronic? \\n rest?\")\n",
    "task = \"\"\n",
    "while(task == \"\"):\n",
    "    task = input() "
   ]
  },
  {
   "cell_type": "code",
   "execution_count": 58,
   "metadata": {},
   "outputs": [
    {
     "ename": "FileNotFoundError",
     "evalue": "[Errno 2] No such file or directory: '1'",
     "output_type": "error",
     "traceback": [
      "\u001b[0;31m---------------------------------------------------------------------------\u001b[0m",
      "\u001b[0;31mFileNotFoundError\u001b[0m                         Traceback (most recent call last)",
      "\u001b[0;32m<ipython-input-58-dcb7a4b04124>\u001b[0m in \u001b[0;36m<module>\u001b[0;34m\u001b[0m\n\u001b[0;32m----> 1\u001b[0;31m \u001b[0;32mclass\u001b[0m \u001b[0mtaskInfo\u001b[0m\u001b[0;34m:\u001b[0m\u001b[0;34m\u001b[0m\u001b[0;34m\u001b[0m\u001b[0m\n\u001b[0m\u001b[1;32m      2\u001b[0m     \u001b[0mpain_fnames\u001b[0m \u001b[0;34m=\u001b[0m \u001b[0mos\u001b[0m\u001b[0;34m.\u001b[0m\u001b[0mlistdir\u001b[0m\u001b[0;34m(\u001b[0m\u001b[0;34m\"1\"\u001b[0m\u001b[0;34m)\u001b[0m\u001b[0;34m\u001b[0m\u001b[0;34m\u001b[0m\u001b[0m\n\u001b[1;32m      3\u001b[0m     \u001b[0mctrl_fnames\u001b[0m \u001b[0;34m=\u001b[0m \u001b[0mos\u001b[0m\u001b[0;34m.\u001b[0m\u001b[0mlistdir\u001b[0m\u001b[0;34m(\u001b[0m\u001b[0;34m\"2\"\u001b[0m\u001b[0;34m)\u001b[0m\u001b[0;34m\u001b[0m\u001b[0;34m\u001b[0m\u001b[0m\n\u001b[1;32m      4\u001b[0m     \u001b[0mpain_subs\u001b[0m \u001b[0;34m=\u001b[0m \u001b[0;34m[\u001b[0m\u001b[0;34m]\u001b[0m\u001b[0;34m\u001b[0m\u001b[0;34m\u001b[0m\u001b[0m\n\u001b[1;32m      5\u001b[0m     \u001b[0mctrl_subs\u001b[0m \u001b[0;34m=\u001b[0m \u001b[0;34m[\u001b[0m\u001b[0;34m]\u001b[0m\u001b[0;34m\u001b[0m\u001b[0;34m\u001b[0m\u001b[0m\n",
      "\u001b[0;32m<ipython-input-58-dcb7a4b04124>\u001b[0m in \u001b[0;36mtaskInfo\u001b[0;34m()\u001b[0m\n\u001b[1;32m      1\u001b[0m \u001b[0;32mclass\u001b[0m \u001b[0mtaskInfo\u001b[0m\u001b[0;34m:\u001b[0m\u001b[0;34m\u001b[0m\u001b[0;34m\u001b[0m\u001b[0m\n\u001b[0;32m----> 2\u001b[0;31m     \u001b[0mpain_fnames\u001b[0m \u001b[0;34m=\u001b[0m \u001b[0mos\u001b[0m\u001b[0;34m.\u001b[0m\u001b[0mlistdir\u001b[0m\u001b[0;34m(\u001b[0m\u001b[0;34m\"1\"\u001b[0m\u001b[0;34m)\u001b[0m\u001b[0;34m\u001b[0m\u001b[0;34m\u001b[0m\u001b[0m\n\u001b[0m\u001b[1;32m      3\u001b[0m     \u001b[0mctrl_fnames\u001b[0m \u001b[0;34m=\u001b[0m \u001b[0mos\u001b[0m\u001b[0;34m.\u001b[0m\u001b[0mlistdir\u001b[0m\u001b[0;34m(\u001b[0m\u001b[0;34m\"2\"\u001b[0m\u001b[0;34m)\u001b[0m\u001b[0;34m\u001b[0m\u001b[0;34m\u001b[0m\u001b[0m\n\u001b[1;32m      4\u001b[0m     \u001b[0mpain_subs\u001b[0m \u001b[0;34m=\u001b[0m \u001b[0;34m[\u001b[0m\u001b[0;34m]\u001b[0m\u001b[0;34m\u001b[0m\u001b[0;34m\u001b[0m\u001b[0m\n\u001b[1;32m      5\u001b[0m     \u001b[0mctrl_subs\u001b[0m \u001b[0;34m=\u001b[0m \u001b[0;34m[\u001b[0m\u001b[0;34m]\u001b[0m\u001b[0;34m\u001b[0m\u001b[0;34m\u001b[0m\u001b[0m\n",
      "\u001b[0;31mFileNotFoundError\u001b[0m: [Errno 2] No such file or directory: '1'"
     ]
    }
   ],
   "source": [
    "class taskInfo():\n",
    "    pain_fnames = os.listdir(\"1\")\n",
    "    ctrl_fnames = os.listdir(\"2\")\n",
    "    pain_subs = []\n",
    "    ctrl_subs = []\n",
    "    for fname in pain_fnames:\n",
    "        if(fname[:3] not in pain_subs):\n",
    "            pain_subs.append(fname[:3])\n",
    "    for fname in ctrl_fnames:\n",
    "        if(fname[:3] not in ctrl_subs):\n",
    "            ctrl_subs.append(fname[:3])\n",
    "    \n",
    "def load_csv(sub):\n",
    "    eeg = genfromtxt(sub+\"_eeg.csv\", delimiter=\",\")\n",
    "    art = genfromtxt(sub+\"_art.csv\", delimiter=\",\")\n",
    "    return(eeg, art)\n",
    "\n",
    "def apply_art_mask(data):\n",
    "    mx = ma.masked_array(data[0], mask=data[1])\n",
    "    return(mx)\n",
    "\n",
    "#provide length as num of cycles, 250 Hz freq\n",
    "def find_contigs(min_length):\n",
    "    return(null)\n",
    "    \n",
    "# def load_p300():\n",
    "#     if(os.getcwd() is not (directory+\"/p300\")):\n",
    "#         os.chdir(directory+\"/p300\")\n",
    "#     info = taskInfo()\n",
    "#     os.chdir(\"1\")\n",
    "#     for sub in info.pain_subs:\n",
    "#         load_csv(sub)\n",
    "#     os.chdir(\"..\")\n",
    "#     os.chdir(\"2\")\n",
    "#     for sub in info.ctrl_subs:\n",
    "#         load_csv(sub)\n",
    "#     os.chdir(\"..\")\n",
    "    \n",
    "# load_p300()\n",
    "os.getcwd()"
   ]
  },
  {
   "cell_type": "code",
   "execution_count": null,
   "metadata": {},
   "outputs": [],
   "source": [
    "def load_per_task(task):\n",
    "    swithcer = {\n",
    "        p300: load_p300,\n",
    "        flanker: load_flanker,\n",
    "        chronic: load_chronic,\n",
    "        rest: load_rest\n",
    "    }"
   ]
  },
  {
   "cell_type": "code",
   "execution_count": null,
   "metadata": {},
   "outputs": [],
   "source": []
  },
  {
   "cell_type": "code",
   "execution_count": null,
   "metadata": {},
   "outputs": [],
   "source": [
    "import numpy.ma as ma\n",
    "\n",
    "def artifactEEG(data):\n",
    "    mx = ma.masked_array(data.eeg, mask=data.art)\n",
    "    clean = mx\n",
    "    return(clean)\n",
    "\n",
    "# def artifactEEG(df):\n",
    "#     for sub in df.index.values:\n",
    "#         for task in df.columns[1:]:\n",
    "#             df.loc[sub][task][0][1][df.loc[sub][task][1][1]==0] = np.nan\n",
    "#     return(df)\n",
    "            \n",
    "print(\"Would you like to use WAVi Artifacting to mask your invalid data? y or n\")\n",
    "shouldArtifact = input()\n",
    "if(shouldArtifact == \"y\"):\n",
    "    EEG = artifactEEG(EEG)"
   ]
  }
 ],
 "metadata": {
  "kernelspec": {
   "display_name": "Python 3",
   "language": "python",
   "name": "python3"
  },
  "language_info": {
   "codemirror_mode": {
    "name": "ipython",
    "version": 3
   },
   "file_extension": ".py",
   "mimetype": "text/x-python",
   "name": "python",
   "nbconvert_exporter": "python",
   "pygments_lexer": "ipython3",
   "version": "3.7.3"
  }
 },
 "nbformat": 4,
 "nbformat_minor": 2
}
